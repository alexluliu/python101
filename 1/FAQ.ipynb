{
 "cells": [
  {
   "cell_type": "markdown",
   "metadata": {},
   "source": [
    "# 1 命令行如何打开\n",
    "\n",
    "<1>打开命令行应用\n",
    "\n",
    "### Windows:\n",
    "\n",
    "按下键盘window键，type cmd或者powershell，cmd是简单版，powershell功能复杂很多\n",
    "\n",
    "<img src=\"files/subdir/image.png\">,\n",
    "\n",
    "hold shift + 右键，右键菜单会有open command line here\n",
    "\n",
    "指南\n",
    "\n",
    "https://www.zybuluo.com/yangfch3/note/173158 \n",
    "\n",
    "\n",
    "### linux:\n",
    "\n",
    "terminal app\n",
    "\n",
    "open terminal here加入右键菜单\n",
    "\n",
    "https://askubuntu.com/questions/207442/how-to-add-open-terminal-here-to-nautilus-context-menu\n",
    "\n",
    "### OS X\n",
    "\n",
    "terminal app\n",
    "\n",
    "指南\n",
    "\n",
    "https://www.renfei.org/blog/mac-os-x-terminal-101.html"
   ]
  },
  {
   "cell_type": "markdown",
   "metadata": {},
   "source": [
    "# 2 Anaconda安装问题"
   ]
  },
  {
   "cell_type": "markdown",
   "metadata": {},
   "source": [
    "### window linux macos下载installer双击安装\n",
    "如果不成功，卸了重新安装，可以考虑勾选让Anaconda改Path环境变量\n",
    "\n",
    "实在不成功，装在虚拟机装干净的Ubuntu，在虚拟机运行"
   ]
  },
  {
   "cell_type": "markdown",
   "metadata": {},
   "source": [
    "# 3 编程基础问题"
   ]
  },
  {
   "cell_type": "markdown",
   "metadata": {},
   "source": [
    "### 数据类型\n",
    "\n",
    "整数 int 整数\n",
    "\n",
    "浮点数 float 小数，科学计数\n",
    "\n",
    "布尔值 boolean 真和假，0和1\n",
    "\n",
    "\n",
    "### 代码块\n",
    "\n",
    "如果 i > 0，开始代码块1\n",
    "\n",
    "    打印正值\n",
    "    \n",
    "    打印i\n",
    "    \n",
    "此外如果 i == 0, 开始代码块2\n",
    "\n",
    "    打印零值\n",
    "    \n",
    "    打印i\n",
    "    \n",
    "此外,开始代码块3\n",
    "\n",
    "    打印负值\n",
    "    \n",
    "    打印i\n",
    "    \n",
    "大部分语言用{}包住代码块(C, Perl, R)，或者用end表示代码块的结尾 (Matlab)，python用缩进"
   ]
  },
  {
   "cell_type": "code",
   "execution_count": 1,
   "metadata": {
    "collapsed": false
   },
   "outputs": [
    {
     "name": "stdout",
     "output_type": "stream",
     "text": [
      "zero\n",
      "0\n"
     ]
    }
   ],
   "source": [
    "i = 0\n",
    "if i > 0: # 代码块1\n",
    "    print 'positive'\n",
    "    print i\n",
    "    if i>10:\n",
    "        print 'greater than 10'\n",
    "        print 'so big number'\n",
    "elif i == 0: # 代码块2\n",
    "    print 'zero'\n",
    "    print i\n",
    "else: # 代码块3\n",
    "    print 'negative'\n",
    "    print i"
   ]
  },
  {
   "cell_type": "code",
   "execution_count": 2,
   "metadata": {
    "collapsed": false
   },
   "outputs": [
    {
     "ename": "SyntaxError",
     "evalue": "invalid syntax (<ipython-input-2-ff493dbf9dbc>, line 2)",
     "output_type": "error",
     "traceback": [
      "\u001b[1;36m  File \u001b[1;32m\"<ipython-input-2-ff493dbf9dbc>\"\u001b[1;36m, line \u001b[1;32m2\u001b[0m\n\u001b[1;33m    $i = 0\u001b[0m\n\u001b[1;37m    ^\u001b[0m\n\u001b[1;31mSyntaxError\u001b[0m\u001b[1;31m:\u001b[0m invalid syntax\n"
     ]
    }
   ],
   "source": [
    "# PERL, 大括号代码块\n",
    "$i = 0\n",
    "if $i > 0 # 代码块1\n",
    "{\n",
    "    print 'positive'\n",
    "    print $i\n",
    "}\n",
    "elsif $i == 0 # 代码块2\n",
    "{\n",
    "    print 'zero'\n",
    "    print $i\n",
    "}\n",
    "else # 代码块3\n",
    "{\n",
    "    print 'negative'\n",
    "    print $i\n",
    "}"
   ]
  },
  {
   "cell_type": "markdown",
   "metadata": {},
   "source": [
    "空格表示基本分割\n",
    "\n",
    "ab  名字ab\n",
    "a1  名字a1\n",
    "a b 名字a 名字b 一般python可以解释但是无法运行\n",
    "a + b 和 a+b 一样\n",
    "a +    b 和a+b一样\n",
    "\n",
    "这里必须要有空格或者tab来表示缩进\n",
    "if i>0:\n",
    "    print 'positive' "
   ]
  },
  {
   "cell_type": "code",
   "execution_count": 9,
   "metadata": {
    "collapsed": false
   },
   "outputs": [
    {
     "name": "stdout",
     "output_type": "stream",
     "text": [
      "1\n",
      "2\n"
     ]
    }
   ],
   "source": [
    "a = [1,2]\n",
    "for i in a:\n",
    "    print i"
   ]
  },
  {
   "cell_type": "raw",
   "metadata": {},
   "source": [
    "{}: dict 字典\n",
    "\n",
    "[]: list 列表\n",
    "\n",
    "(): func1(arg1, arg2, arg3)\n",
    "    不可变长度的list -> tuple\n",
    "    运算延长\n",
    "    多于一行的代码"
   ]
  }
 ],
 "metadata": {
  "kernelspec": {
   "display_name": "Python 2",
   "language": "python",
   "name": "python2"
  },
  "language_info": {
   "codemirror_mode": {
    "name": "ipython",
    "version": 2
   },
   "file_extension": ".py",
   "mimetype": "text/x-python",
   "name": "python",
   "nbconvert_exporter": "python",
   "pygments_lexer": "ipython2",
   "version": "2.7.13"
  }
 },
 "nbformat": 4,
 "nbformat_minor": 2
}
