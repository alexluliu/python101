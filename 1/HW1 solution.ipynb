{
 "cells": [
  {
   "cell_type": "markdown",
   "metadata": {},
   "source": [
    "# 1. TwoSum\n",
    "Given an array of integers, return indices of the two numbers such that they add up to a specific target.\n",
    "\n",
    "You may assume that each input would have exactly one solution, and you may not use the same element twice.\n",
    "\n",
    "题意：找出数组numbers中的两个数，它们的和为给定的一个数target，并返回这两个数的索引，注意这里的索引不是数组下标，而是数组下标加1。比如numbers={2,7,11,17}; target=9。那么返回一个元组(1,2)。这道题不需要去重，对于每一个target输入，只有一组解，索引要按照大小顺序排列\n",
    "\n",
    "http://www.orangecube.net/articles/leetcode-python-solution-no-1-two-sum.html"
   ]
  },
  {
   "cell_type": "code",
   "execution_count": null,
   "metadata": {
    "collapsed": true
   },
   "outputs": [],
   "source": [
    "#跟据input nums and target, 返回index i and j使得nums[i] + nums[j]\n",
    "def twosum(nums, target):\n",
    "    # 求nums这个list的长度\n",
    "    lenofnums = len(nums)\n",
    "    # 遍历第一个数num[i]\n",
    "    for i in range(lenofnums):\n",
    "        # 从i+1 循环到末尾\n",
    "        for j in range(i+1, lenofnums):\n",
    "            # 检测当前的i&j是否能让num[i]+num[j]==target\n",
    "            # 如果满足上面的条件，就返回，终止函数，否则继续检测\n",
    "            if nums[i] + nums[j] == target:\n",
    "                return [i, j]"
   ]
  },
  {
   "cell_type": "code",
   "execution_count": null,
   "metadata": {},
   "outputs": [],
   "source": [
    "twosum([1,3,4,7,11], 10)"
   ]
  },
  {
   "cell_type": "code",
   "execution_count": null,
   "metadata": {},
   "outputs": [],
   "source": [
    "twosum([2,3,4,7], 5)"
   ]
  },
  {
   "cell_type": "markdown",
   "metadata": {},
   "source": [
    "# 2. 字符变换\n",
    "有一个很长的string，都是数字用空格隔开，不够七位的请补足7位，去掉超过7位的，然后每个数字段左右加上中括号，用逗号隔开\n",
    "\n",
    "输入：\n",
    "\n",
    "\"0115267 1113588 8765309 8881112 8777772 458 11123 9956776 1163333331\"\n",
    "\n",
    "输出\n",
    "\n",
    "\"[0115267],[1113588],[8765309],[8881112],[8777772],[0000458],[0011123],[9956776]\""
   ]
  },
  {
   "cell_type": "code",
   "execution_count": null,
   "metadata": {
    "collapsed": true
   },
   "outputs": [],
   "source": [
    "# 定义一个func去完成这个功能\n",
    "def converstring(inputstring, sep=' ', targetlen=7):\n",
    "    # 第一节课学习的split操作，把字符串分解，放到list里面去\n",
    "    stringchunks = inputstring.split(sep)\n",
    "    # 建立一个空字符\n",
    "    result = ''\n",
    "    # 遍历split生成的列表\n",
    "    for item in stringchunks:\n",
    "        # 求item长度\n",
    "        itemlen = len(item)\n",
    "        # 只有长度小于等于targetlen才考虑\n",
    "        if itemlen <= targetlen:\n",
    "            # 不足7为补充 零\n",
    "            cleanitem = '0' * (targetlen - itemlen) + item\n",
    "            result = result + cleanitem + ','\n",
    "    # 去掉最后一个逗号，前后加个双引号\n",
    "    return '\"' + result[:-1] + '\"'"
   ]
  },
  {
   "cell_type": "code",
   "execution_count": null,
   "metadata": {},
   "outputs": [],
   "source": [
    "inputstring1 = \"0115267 1113588 8765309 8881112 8777772 458 11123 9956776 1163333331\"\n",
    "print converstring(inputstring1)"
   ]
  },
  {
   "cell_type": "markdown",
   "metadata": {},
   "source": [
    "# 3 阶乘运算\n",
    "一个正整数的阶乘（factorial）是所有小于及等于该数的正整数的积，并且0的阶乘为1。自然数n的阶乘写作n!。1808年，基斯顿·卡曼引进这个表示法。\n",
    "亦即n!=1×2×3×...×n。阶乘亦可以递归方式定义：0!=1，n!=(n-1)!×n。"
   ]
  },
  {
   "cell_type": "code",
   "execution_count": null,
   "metadata": {
    "collapsed": true
   },
   "outputs": [],
   "source": [
    "# 定义一个函数，去计算阶乘\n",
    "def factorial(n):\n",
    "    # for n<0 factorial is not defined\n",
    "    if n<0:\n",
    "        print 'factorial of negative number is not defined here'\n",
    "        return None\n",
    "    # n = 0, 返回1\n",
    "    if n == 0:\n",
    "        return 1\n",
    "    # 正整数的阶乘计算 1*2*3*...*n\n",
    "    product = 1\n",
    "    for i in range(1, n+1):\n",
    "        product = product * i\n",
    "    return product"
   ]
  },
  {
   "cell_type": "code",
   "execution_count": null,
   "metadata": {},
   "outputs": [],
   "source": [
    "# 验证计算结果\n",
    "m = 20\n",
    "print \"你定义的factorial function的结果是factorial(%d) = %d\" %(m, factorial(m))\n",
    "import math\n",
    "print \"math包的函数math.factorial结果是math.factorial(%d) = %d\" %(m, math.factorial(m))"
   ]
  },
  {
   "cell_type": "code",
   "execution_count": null,
   "metadata": {},
   "outputs": [],
   "source": [
    "# 测速\n",
    "%timeit factorial(45)"
   ]
  },
  {
   "cell_type": "code",
   "execution_count": null,
   "metadata": {},
   "outputs": [],
   "source": [
    "# 测速\n",
    "%timeit math.factorial(45)"
   ]
  },
  {
   "cell_type": "markdown",
   "metadata": {},
   "source": [
    "###### math包里的是快一些, 还想更快？请参考testfactorial.py，涉及并行计算"
   ]
  },
  {
   "cell_type": "raw",
   "metadata": {},
   "source": [
    "进入命令行，运行如下命令，计算100000的阶乘\n",
    "python testfactorial.py 100000\n",
    "这是我的命令行输入\n",
    "C:\\scriptwb\\1>python testfactorial.py 100000"
   ]
  },
  {
   "cell_type": "raw",
   "metadata": {},
   "source": [
    "这是我的命令行输出，可以看到我们对大的数确实可以做到比math包更快\n",
    "method1 product using for loop, consumed time\n",
    "3.56599998474\n",
    "method2 break calculation into 2 parts, consumed time\n",
    "1.76999998093\n",
    "method3 break calculation into 2 parts with 2cpu, consumed time\n",
    "1.02099990845\n",
    "method0 use math.factorial, for reference, consumed time\n",
    "3.45799994469\n",
    "True True True if all True, the results are consistent, refer to the time above to compare algorithm\n"
   ]
  },
  {
   "cell_type": "code",
   "execution_count": null,
   "metadata": {
    "collapsed": true
   },
   "outputs": [],
   "source": []
  }
 ],
 "metadata": {
  "kernelspec": {
   "display_name": "Python 2",
   "language": "python",
   "name": "python2"
  },
  "language_info": {
   "codemirror_mode": {
    "name": "ipython",
    "version": 2
   },
   "file_extension": ".py",
   "mimetype": "text/x-python",
   "name": "python",
   "nbconvert_exporter": "python",
   "pygments_lexer": "ipython2",
   "version": "2.7.14"
  }
 },
 "nbformat": 4,
 "nbformat_minor": 2
}
