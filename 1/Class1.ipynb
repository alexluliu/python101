{
 "cells": [
  {
   "cell_type": "markdown",
   "metadata": {},
   "source": [
    "# 1. Python ABC\n",
    "\n",
    "# 基本规范\n",
    "一行一语句\n",
    "\n",
    "分号Semicolon允许作为一行多语句的分割，但是不推荐 not pythonic\n",
    "\n",
    "大括号bracket不作为代码块分割，缩进identation是确定逻辑结构的\n",
    "\n",
    "一般用2-4空格做缩进，tab也可以但not pythonic。一般编辑器在python模式下会自动把tab换成四个空格\n",
    "\n",
    "括号稍后会讨论\n",
    "\n",
    "注释comment用#，一般编辑器支持选中行注释，快捷键一般为ctrl+/\n",
    "\n",
    "参考pep8或者google python styple规范自己的代码风格\n",
    "\n",
    "Python 数数从零开始，0:n means 0,1,2...n-1，不包含n\n",
    "\n",
    "# Ipython and Jupyter\n",
    "\n",
    "练习编程的非常好的平台\n",
    "\n",
    "IPython is an interactive shell for python command line 交互命令行. \n",
    "\n",
    "Jupyter notebook expand ipython and execute per cell and interactive coding using browser as interface \n",
    "\n",
    "Jupyter notebook 可以集代码，运行，可视化，报告于一体。\n",
    "\n",
    "任何函数，类后面接问号是寻求帮助\n",
    "\n",
    "基本操作\n",
    "\n",
    "shift enter -> run current cell\n",
    "\n",
    "Insert -> Insert Cell Above, short cut ESC-> a\n",
    "\n",
    "Insert -> Insert Cell Below, short cut ESC-> b\n",
    "\n",
    "Edit -> Delete Cell, short cut ESC-> dd"
   ]
  },
  {
   "cell_type": "code",
   "execution_count": 30,
   "metadata": {
    "collapsed": false
   },
   "outputs": [
    {
     "name": "stdout",
     "output_type": "stream",
     "text": [
      "hello\n",
      "2\n"
     ]
    }
   ],
   "source": [
    "print 'hello'\n",
    "print 1+1"
   ]
  },
  {
   "cell_type": "code",
   "execution_count": 31,
   "metadata": {
    "collapsed": false
   },
   "outputs": [
    {
     "name": "stdout",
     "output_type": "stream",
     "text": [
      "hello\n",
      "2\n"
     ]
    }
   ],
   "source": [
    "print 'hello'; print 1+1"
   ]
  },
  {
   "cell_type": "code",
   "execution_count": 34,
   "metadata": {
    "collapsed": false
   },
   "outputs": [
    {
     "data": {
      "text/plain": [
       "5"
      ]
     },
     "execution_count": 34,
     "metadata": {},
     "output_type": "execute_result"
    }
   ],
   "source": [
    "def sum(x,y):\n",
    "    return x+y # 缩进表示这是一个逻辑代码块 【这里是函数定义】\n",
    "sum(4, 1)"
   ]
  },
  {
   "cell_type": "markdown",
   "metadata": {},
   "source": [
    "# 2. Data Type And Operators 数据结构与算符"
   ]
  },
  {
   "cell_type": "markdown",
   "metadata": {},
   "source": [
    "## 2a. number (int, long, float, complex) and Boolean (True, False)"
   ]
  },
  {
   "cell_type": "code",
   "execution_count": 9,
   "metadata": {
    "collapsed": false
   },
   "outputs": [
    {
     "data": {
      "text/plain": [
       "(int, long, float, complex)"
      ]
     },
     "execution_count": 9,
     "metadata": {},
     "output_type": "execute_result"
    }
   ],
   "source": [
    "i1 = 10\n",
    "i2 = 10L\n",
    "i3 = 10.\n",
    "i4 = 1 + 10j\n",
    "type(i1), type(i2), type(i3), type(i4)"
   ]
  },
  {
   "cell_type": "code",
   "execution_count": 211,
   "metadata": {
    "collapsed": false
   },
   "outputs": [
    {
     "data": {
      "text/plain": [
       "True"
      ]
     },
     "execution_count": 211,
     "metadata": {},
     "output_type": "execute_result"
    }
   ],
   "source": [
    "1 == 1"
   ]
  },
  {
   "cell_type": "code",
   "execution_count": 212,
   "metadata": {
    "collapsed": false
   },
   "outputs": [
    {
     "data": {
      "text/plain": [
       "False"
      ]
     },
     "execution_count": 212,
     "metadata": {},
     "output_type": "execute_result"
    }
   ],
   "source": [
    "1 > 2"
   ]
  },
  {
   "cell_type": "code",
   "execution_count": 213,
   "metadata": {
    "collapsed": false
   },
   "outputs": [
    {
     "data": {
      "text/plain": [
       "False"
      ]
     },
     "execution_count": 213,
     "metadata": {},
     "output_type": "execute_result"
    }
   ],
   "source": [
    "True == False"
   ]
  },
  {
   "cell_type": "code",
   "execution_count": 217,
   "metadata": {
    "collapsed": false
   },
   "outputs": [
    {
     "data": {
      "text/plain": [
       "True"
      ]
     },
     "execution_count": 217,
     "metadata": {},
     "output_type": "execute_result"
    }
   ],
   "source": [
    "True == 1"
   ]
  },
  {
   "cell_type": "code",
   "execution_count": 216,
   "metadata": {
    "collapsed": false
   },
   "outputs": [
    {
     "data": {
      "text/plain": [
       "False"
      ]
     },
     "execution_count": 216,
     "metadata": {},
     "output_type": "execute_result"
    }
   ],
   "source": [
    "True is 1"
   ]
  },
  {
   "cell_type": "markdown",
   "metadata": {},
   "source": [
    "## 2b. string"
   ]
  },
  {
   "cell_type": "markdown",
   "metadata": {},
   "source": [
    "### single double triple quote， 引号的问题"
   ]
  },
  {
   "cell_type": "code",
   "execution_count": 28,
   "metadata": {
    "collapsed": false
   },
   "outputs": [
    {
     "data": {
      "text/plain": [
       "'good morning'"
      ]
     },
     "execution_count": 28,
     "metadata": {},
     "output_type": "execute_result"
    }
   ],
   "source": [
    "mystr1 = 'good morning'\n",
    "mystr1"
   ]
  },
  {
   "cell_type": "code",
   "execution_count": 29,
   "metadata": {
    "collapsed": false
   },
   "outputs": [
    {
     "data": {
      "text/plain": [
       "'good morning'"
      ]
     },
     "execution_count": 29,
     "metadata": {},
     "output_type": "execute_result"
    }
   ],
   "source": [
    "mystr2 = \"good morning\" # equivalent to single quote\n",
    "mystr2"
   ]
  },
  {
   "cell_type": "code",
   "execution_count": 38,
   "metadata": {
    "collapsed": false
   },
   "outputs": [
    {
     "name": "stdout",
     "output_type": "stream",
     "text": [
      "Tom says \"Hello\"\n",
      "Tom says 'Hello'\n"
     ]
    }
   ],
   "source": [
    "mystr3 = 'Tom says \"Hello\"'\n",
    "print mystr3\n",
    "mystr4 = \"Tom says 'Hello'\"\n",
    "print mystr4"
   ]
  },
  {
   "cell_type": "code",
   "execution_count": 41,
   "metadata": {
    "collapsed": false
   },
   "outputs": [
    {
     "name": "stdout",
     "output_type": "stream",
     "text": [
      "We live in 'dark' but\n",
      "serve the \"light\"\n",
      "\n",
      "We live in 'dark' but\n",
      "serve the \"light\"\n",
      "\n"
     ]
    }
   ],
   "source": [
    "# 三引号： 允许多行的字符串，允许单引号双引号在其中\n",
    "mystr5 = '''We live in 'dark' but\n",
    "serve the \"light\"\n",
    "'''\n",
    "mystr6 = \"\"\"We live in 'dark' but\n",
    "serve the \"light\"\n",
    "\"\"\"\n",
    "print mystr5\n",
    "print mystr6\n"
   ]
  },
  {
   "cell_type": "markdown",
   "metadata": {},
   "source": [
    "### Escape转义字符"
   ]
  },
  {
   "cell_type": "markdown",
   "metadata": {},
   "source": [
    "转义字符\t描述\n",
    "\n",
    "\\(在行尾时)\t续行符\n",
    "\n",
    "\\\\\t反斜杠符号\n",
    "\n",
    "\\'\t单引号\n",
    "\n",
    "\\\"\t双引号\n",
    "\n",
    "\\a\t响铃\n",
    "\n",
    "\\b\t退格(Backspace)\n",
    "\n",
    "\\e\t转义\n",
    "\n",
    "\\000\t空\n",
    "\n",
    "\\n\t换行\n",
    "\n",
    "\\v\t纵向制表符\n",
    "\n",
    "\\t\t横向制表符\n",
    "\n",
    "\\r\t回车\n",
    "\n",
    "\\f\t换页\n",
    "\n",
    "\\oyy\t八进制数yy代表的字符，例如：\\o12代表换行\n",
    "\n",
    "\\xyy\t十进制数yy代表的字符，例如：\\x0a代表换行\n",
    "\n",
    "\\other\t其它的字符以普通格式输出"
   ]
  },
  {
   "cell_type": "code",
   "execution_count": 303,
   "metadata": {
    "collapsed": false
   },
   "outputs": [
    {
     "name": "stdout",
     "output_type": "stream",
     "text": [
      "field1\tfield2\n",
      "1\t2\n"
     ]
    }
   ],
   "source": [
    "print 'field1\\tfield2\\n1\\t2'"
   ]
  },
  {
   "cell_type": "code",
   "execution_count": 44,
   "metadata": {
    "collapsed": false
   },
   "outputs": [
    {
     "name": "stdout",
     "output_type": "stream",
     "text": [
      "field1\\tfield2\\n1\\t2\n"
     ]
    }
   ],
   "source": [
    "print r'field1\\tfield2\\n1\\t2'"
   ]
  },
  {
   "cell_type": "code",
   "execution_count": 49,
   "metadata": {
    "collapsed": false
   },
   "outputs": [
    {
     "name": "stdout",
     "output_type": "stream",
     "text": [
      "脚本\n"
     ]
    }
   ],
   "source": [
    "print '脚本'"
   ]
  },
  {
   "cell_type": "markdown",
   "metadata": {},
   "source": [
    "### Index and Slice 索引与切片\n",
    "字符串string是字符character的一种数据集合，操作类似于list，slice语法基本python内通用"
   ]
  },
  {
   "cell_type": "code",
   "execution_count": 54,
   "metadata": {
    "collapsed": false
   },
   "outputs": [],
   "source": [
    "mystr7 = 'good morning'"
   ]
  },
  {
   "cell_type": "code",
   "execution_count": 55,
   "metadata": {
    "collapsed": false
   },
   "outputs": [
    {
     "data": {
      "text/plain": [
       "'g'"
      ]
     },
     "execution_count": 55,
     "metadata": {},
     "output_type": "execute_result"
    }
   ],
   "source": [
    "mystr7[0]"
   ]
  },
  {
   "cell_type": "code",
   "execution_count": 57,
   "metadata": {
    "collapsed": false
   },
   "outputs": [
    {
     "data": {
      "text/plain": [
       "('good mor', 'good mor', 'n', 'ing')"
      ]
     },
     "execution_count": 57,
     "metadata": {},
     "output_type": "execute_result"
    }
   ],
   "source": [
    "mystr7[0:8], mystr7[:8], mystr7[8:9], mystr7[9:]"
   ]
  },
  {
   "cell_type": "code",
   "execution_count": 59,
   "metadata": {
    "collapsed": false
   },
   "outputs": [
    {
     "data": {
      "text/plain": [
       "('g', 'in', 'ing', '')"
      ]
     },
     "execution_count": 59,
     "metadata": {},
     "output_type": "execute_result"
    }
   ],
   "source": [
    "mystr7[-1], mystr7[-3:-1], mystr7[-3:], mystr7[-1:0]"
   ]
  },
  {
   "cell_type": "code",
   "execution_count": 71,
   "metadata": {
    "collapsed": false
   },
   "outputs": [
    {
     "data": {
      "text/plain": [
       "('go onn', 'gninrom doog')"
      ]
     },
     "execution_count": 71,
     "metadata": {},
     "output_type": "execute_result"
    }
   ],
   "source": [
    "mystr7[0::2], mystr7[::-1]"
   ]
  },
  {
   "cell_type": "code",
   "execution_count": 75,
   "metadata": {
    "collapsed": false
   },
   "outputs": [
    {
     "data": {
      "text/plain": [
       "'go o'"
      ]
     },
     "execution_count": 75,
     "metadata": {},
     "output_type": "execute_result"
    }
   ],
   "source": [
    "# slice(start, stop, step)\n",
    "mystr7[slice(0,7,2)]"
   ]
  },
  {
   "cell_type": "code",
   "execution_count": 56,
   "metadata": {
    "collapsed": false
   },
   "outputs": [
    {
     "data": {
      "text/plain": [
       "12"
      ]
     },
     "execution_count": 56,
     "metadata": {},
     "output_type": "execute_result"
    }
   ],
   "source": [
    "# build in 函数 len， 求个数\n",
    "len(mystr7)"
   ]
  },
  {
   "cell_type": "markdown",
   "metadata": {},
   "source": [
    "### 其他常用的字符串method"
   ]
  },
  {
   "cell_type": "code",
   "execution_count": 77,
   "metadata": {
    "collapsed": false
   },
   "outputs": [
    {
     "data": {
      "text/plain": [
       "True"
      ]
     },
     "execution_count": 77,
     "metadata": {},
     "output_type": "execute_result"
    }
   ],
   "source": [
    "'oo' in 'good morning'"
   ]
  },
  {
   "cell_type": "code",
   "execution_count": 79,
   "metadata": {
    "collapsed": false
   },
   "outputs": [
    {
     "data": {
      "text/plain": [
       "(True, True)"
      ]
     },
     "execution_count": 79,
     "metadata": {},
     "output_type": "execute_result"
    }
   ],
   "source": [
    "'good morning'.startswith('g'), 'good morning'.endswith('g')"
   ]
  },
  {
   "cell_type": "code",
   "execution_count": 82,
   "metadata": {
    "collapsed": false
   },
   "outputs": [
    {
     "name": "stdout",
     "output_type": "stream",
     "text": [
      "whatever however\n"
     ]
    }
   ],
   "source": [
    "a = 'whatever'\n",
    "b = a.replace('what', 'how')\n",
    "print a,b #replace方法并不改变原有的字符串"
   ]
  },
  {
   "cell_type": "code",
   "execution_count": 83,
   "metadata": {
    "collapsed": false
   },
   "outputs": [
    {
     "data": {
      "text/plain": [
       "4"
      ]
     },
     "execution_count": 83,
     "metadata": {},
     "output_type": "execute_result"
    }
   ],
   "source": [
    "a.index('e')"
   ]
  },
  {
   "cell_type": "code",
   "execution_count": 84,
   "metadata": {
    "collapsed": false
   },
   "outputs": [
    {
     "data": {
      "text/plain": [
       "'whatever'"
      ]
     },
     "execution_count": 84,
     "metadata": {},
     "output_type": "execute_result"
    }
   ],
   "source": [
    "'what' + 'ever'"
   ]
  },
  {
   "cell_type": "code",
   "execution_count": 305,
   "metadata": {
    "collapsed": false
   },
   "outputs": [
    {
     "name": "stdout",
     "output_type": "stream",
     "text": [
      "a\ta\ta\ta\ta\ta\ta\ta\ta\ta\t\n",
      "b\tb\tb\tb\tb\tb\tb\tb\tb\tb\t\n"
     ]
    }
   ],
   "source": [
    "print 'a\\t' * 10 + '\\n' + 'b\\t' * 10"
   ]
  },
  {
   "cell_type": "code",
   "execution_count": 88,
   "metadata": {
    "collapsed": false
   },
   "outputs": [
    {
     "data": {
      "text/plain": [
       "('UUU9', 'sg')"
      ]
     },
     "execution_count": 88,
     "metadata": {},
     "output_type": "execute_result"
    }
   ],
   "source": [
    "'uUu9'.upper(), 'Sg'.lower()"
   ]
  },
  {
   "cell_type": "code",
   "execution_count": 89,
   "metadata": {
    "collapsed": false
   },
   "outputs": [
    {
     "data": {
      "text/plain": [
       "'good morning'"
      ]
     },
     "execution_count": 89,
     "metadata": {},
     "output_type": "execute_result"
    }
   ],
   "source": [
    "' good morning    '.strip()"
   ]
  },
  {
   "cell_type": "code",
   "execution_count": 90,
   "metadata": {
    "collapsed": false
   },
   "outputs": [
    {
     "data": {
      "text/plain": [
       "(['data', 'csv'], 'data')"
      ]
     },
     "execution_count": 90,
     "metadata": {},
     "output_type": "execute_result"
    }
   ],
   "source": [
    "filename1 = 'data.csv'\n",
    "filename1.split('.'), filename1.split('.')[0]"
   ]
  },
  {
   "cell_type": "markdown",
   "metadata": {},
   "source": [
    "### 替换与格式化 % 与 format()"
   ]
  },
  {
   "cell_type": "code",
   "execution_count": 111,
   "metadata": {
    "collapsed": false
   },
   "outputs": [
    {
     "name": "stdout",
     "output_type": "stream",
     "text": [
      "I attended a class named Advanced Math with 3 credit. My grade is 3.90\n",
      "I attended a class named Advanced Math with 3 credit. My grade is 3.90\n",
      "My grade is 3.90. I attended a class named Advanced Math with 3 credit. \n",
      "My grade is 3.90. I attended a class named Advanced Math with 3 credit. \n"
     ]
    }
   ],
   "source": [
    "classname = 'Advanced Math'\n",
    "credit = 3\n",
    "grade = 3.9\n",
    "print 'I attended a class named %s with %d credit. My grade is %.2f' %(classname, credit, grade)\n",
    "print 'I attended a class named {0} with {1:d} credit. My grade is {2:.2f}' .format(classname, credit, grade)\n",
    "print 'My grade is {2:.2f}. I attended a class named {0} with {1:d} credit. ' .format(classname, credit, grade)\n",
    "print 'My grade is {grade:.2f}. I attended a class named {classname} with {credit:d} credit. ' .format(\n",
    "    classname=classname, credit=credit, grade=grade)"
   ]
  },
  {
   "cell_type": "markdown",
   "metadata": {},
   "source": [
    "### 进阶regular expression"
   ]
  },
  {
   "cell_type": "markdown",
   "metadata": {},
   "source": [
    "## 2c. LIst"
   ]
  },
  {
   "cell_type": "code",
   "execution_count": 121,
   "metadata": {
    "collapsed": true
   },
   "outputs": [],
   "source": [
    "carbrands_us = ['Ford', 'GMC', 'Jeep']"
   ]
  },
  {
   "cell_type": "markdown",
   "metadata": {},
   "source": [
    "### List索引类似于之前的字符串，可以index单个元素或者slice取子集"
   ]
  },
  {
   "cell_type": "code",
   "execution_count": 122,
   "metadata": {
    "collapsed": false
   },
   "outputs": [
    {
     "data": {
      "text/plain": [
       "'GM'"
      ]
     },
     "execution_count": 122,
     "metadata": {},
     "output_type": "execute_result"
    }
   ],
   "source": [
    "carbrands[2]"
   ]
  },
  {
   "cell_type": "code",
   "execution_count": 123,
   "metadata": {
    "collapsed": false
   },
   "outputs": [
    {
     "data": {
      "text/plain": [
       "['Ford', 'Toyota']"
      ]
     },
     "execution_count": 123,
     "metadata": {},
     "output_type": "execute_result"
    }
   ],
   "source": [
    "carbrands[:2]"
   ]
  },
  {
   "cell_type": "markdown",
   "metadata": {},
   "source": [
    "### + 取合集"
   ]
  },
  {
   "cell_type": "code",
   "execution_count": 127,
   "metadata": {
    "collapsed": false
   },
   "outputs": [
    {
     "data": {
      "text/plain": [
       "['Lexus', 'Acura', 'Infinity', 'Ford', 'GMC', 'Jeep']"
      ]
     },
     "execution_count": 127,
     "metadata": {},
     "output_type": "execute_result"
    }
   ],
   "source": [
    "carbrands_jp = ['Lexus', 'Acura', 'Infinity']\n",
    "carbrands_jp + carbrands_us"
   ]
  },
  {
   "cell_type": "markdown",
   "metadata": {},
   "source": [
    "### apend 追加元素"
   ]
  },
  {
   "cell_type": "code",
   "execution_count": 131,
   "metadata": {
    "collapsed": false
   },
   "outputs": [
    {
     "name": "stdout",
     "output_type": "stream",
     "text": [
      "['Ford', 'Toyota', 'GM', 'FIAT']\n"
     ]
    }
   ],
   "source": [
    "# 追加会对源List进行修改\n",
    "carbrands_jp.append('Toyota')\n",
    "print carbrands"
   ]
  },
  {
   "cell_type": "markdown",
   "metadata": {},
   "source": [
    "### 浅层copy，深层copy, 注意坑。如果不deepcopy，list名就是一个对list的reference，=operator只会让另一个名字指向同一个list。谨记，很多bug都是由不小心shallow copy导致的. "
   ]
  },
  {
   "cell_type": "code",
   "execution_count": 142,
   "metadata": {
    "collapsed": false
   },
   "outputs": [
    {
     "name": "stdout",
     "output_type": "stream",
     "text": [
      "['Ford', 'GMC', 'Jeep']\n",
      "carbrands_na =  ['Ford', 'GMC', 'Jeep', 'MCI']\n",
      "carbrands_us =  ['Ford', 'GMC', 'Jeep', 'MCI']\n",
      "65047496 65047496\n"
     ]
    }
   ],
   "source": [
    "carbrands_us = ['Ford', 'GMC', 'Jeep']\n",
    "print carbrands_us\n",
    "carbrands_na = carbrands_us\n",
    "carbrands_na.append('MCI')\n",
    "print 'carbrands_na = ',carbrands_na\n",
    "print 'carbrands_us = ',carbrands_us # wtf!!\n",
    "print id(carbrands_us), id(carbrands_na)"
   ]
  },
  {
   "cell_type": "code",
   "execution_count": 143,
   "metadata": {
    "collapsed": false
   },
   "outputs": [
    {
     "name": "stdout",
     "output_type": "stream",
     "text": [
      "['Ford', 'GMC', 'Jeep']\n",
      "carbrands_na =  ['Ford', 'GMC', 'Jeep', 'MCI']\n",
      "carbrands_us =  ['Ford', 'GMC', 'Jeep']\n",
      "65268296 65195464\n"
     ]
    }
   ],
   "source": [
    "import copy\n",
    "carbrands_us = ['Ford', 'GMC', 'Jeep']\n",
    "print carbrands_us\n",
    "carbrands_na = copy.deepcopy(carbrands_us)\n",
    "carbrands_na.append('MCI')\n",
    "print 'carbrands_na = ', carbrands_na\n",
    "print 'carbrands_us = ', carbrands_us # wtf!!b\n",
    "print id(carbrands_us), id(carbrands_na)"
   ]
  },
  {
   "cell_type": "code",
   "execution_count": 145,
   "metadata": {
    "collapsed": false
   },
   "outputs": [
    {
     "data": {
      "text/plain": [
       "[1, 'abc']"
      ]
     },
     "execution_count": 145,
     "metadata": {},
     "output_type": "execute_result"
    }
   ],
   "source": [
    "#混合被允许\n",
    "[1, 'abc']"
   ]
  },
  {
   "cell_type": "code",
   "execution_count": 150,
   "metadata": {
    "collapsed": false
   },
   "outputs": [
    {
     "name": "stdout",
     "output_type": "stream",
     "text": [
      "['GMC', 'Jeep']\n"
     ]
    }
   ],
   "source": [
    "# inplace删除元素\n",
    "carbrands_us = ['Ford', 'GMC', 'Jeep']\n",
    "carbrands_us.remove('Ford')\n",
    "print carbrands_us"
   ]
  },
  {
   "cell_type": "markdown",
   "metadata": {},
   "source": [
    "### Other useful methods"
   ]
  },
  {
   "cell_type": "code",
   "execution_count": 152,
   "metadata": {
    "collapsed": false
   },
   "outputs": [
    {
     "data": {
      "text/plain": [
       "3"
      ]
     },
     "execution_count": 152,
     "metadata": {},
     "output_type": "execute_result"
    }
   ],
   "source": [
    "carbrands_us = ['Ford', 'GMC', 'Jeep']\n",
    "len(carbrands_us)"
   ]
  },
  {
   "cell_type": "code",
   "execution_count": 181,
   "metadata": {
    "collapsed": false
   },
   "outputs": [
    {
     "name": "stdout",
     "output_type": "stream",
     "text": [
      "True\n",
      "False\n"
     ]
    }
   ],
   "source": [
    "print 'Ford' in carbrands_us\n",
    "print 'Ford' not in carbrands_us"
   ]
  },
  {
   "cell_type": "code",
   "execution_count": 151,
   "metadata": {
    "collapsed": false
   },
   "outputs": [
    {
     "data": {
      "text/plain": [
       "[0, 1, 2, 3, 4]"
      ]
     },
     "execution_count": 151,
     "metadata": {},
     "output_type": "execute_result"
    }
   ],
   "source": [
    "range(5)"
   ]
  },
  {
   "cell_type": "code",
   "execution_count": 154,
   "metadata": {
    "collapsed": false
   },
   "outputs": [
    {
     "data": {
      "text/plain": [
       "[3, 5, 7, 9, 11, 13]"
      ]
     },
     "execution_count": 154,
     "metadata": {},
     "output_type": "execute_result"
    }
   ],
   "source": [
    "range(3, 15,2)"
   ]
  },
  {
   "cell_type": "code",
   "execution_count": 161,
   "metadata": {
    "collapsed": false
   },
   "outputs": [
    {
     "data": {
      "text/plain": [
       "['cd', 'hi', 'xa', 'az']"
      ]
     },
     "execution_count": 161,
     "metadata": {},
     "output_type": "execute_result"
    }
   ],
   "source": [
    "a = ['cd', 'xa', 'az']\n",
    "a.insert(1, 'hi')\n",
    "a"
   ]
  },
  {
   "cell_type": "code",
   "execution_count": 158,
   "metadata": {
    "collapsed": false
   },
   "outputs": [
    {
     "data": {
      "text/plain": [
       "['az', 'cd', 'xa']"
      ]
     },
     "execution_count": 158,
     "metadata": {},
     "output_type": "execute_result"
    }
   ],
   "source": [
    "a = ['cd', 'xa', 'az']\n",
    "a.sort()\n",
    "a"
   ]
  },
  {
   "cell_type": "markdown",
   "metadata": {},
   "source": [
    "## 2d. Dictionary"
   ]
  },
  {
   "cell_type": "markdown",
   "metadata": {},
   "source": [
    "### hash 哈希\n",
    "https://zh.wikipedia.org/wiki/%E5%93%88%E5%B8%8C%E8%A1%A8"
   ]
  },
  {
   "cell_type": "markdown",
   "metadata": {},
   "source": [
    "### JSON\n",
    "https://en.wikipedia.org/wiki/JSON"
   ]
  },
  {
   "cell_type": "markdown",
   "metadata": {},
   "source": [
    "### python data structure dictionary. {key: value} 无序集合"
   ]
  },
  {
   "cell_type": "code",
   "execution_count": 204,
   "metadata": {
    "collapsed": true
   },
   "outputs": [],
   "source": [
    "continentdict = {'China': 'AS', 'Korea': 'AS', 'Canada': 'NA', 'France': 'EU', 'BRAZIL': 'SA', 'Russia': 'EU'}"
   ]
  },
  {
   "cell_type": "code",
   "execution_count": 167,
   "metadata": {
    "collapsed": false
   },
   "outputs": [
    {
     "data": {
      "text/plain": [
       "5"
      ]
     },
     "execution_count": 167,
     "metadata": {},
     "output_type": "execute_result"
    }
   ],
   "source": [
    "len(continentdict)"
   ]
  },
  {
   "cell_type": "code",
   "execution_count": 168,
   "metadata": {
    "collapsed": false
   },
   "outputs": [
    {
     "data": {
      "text/plain": [
       "'NA'"
      ]
     },
     "execution_count": 168,
     "metadata": {},
     "output_type": "execute_result"
    }
   ],
   "source": [
    "continentdict['Canada']"
   ]
  },
  {
   "cell_type": "code",
   "execution_count": 169,
   "metadata": {
    "collapsed": false
   },
   "outputs": [
    {
     "ename": "KeyError",
     "evalue": "'Russia'",
     "output_type": "error",
     "traceback": [
      "\u001b[1;31m---------------------------------------------------------------------------\u001b[0m",
      "\u001b[1;31mKeyError\u001b[0m                                  Traceback (most recent call last)",
      "\u001b[1;32m<ipython-input-169-082bb46b0838>\u001b[0m in \u001b[0;36m<module>\u001b[1;34m()\u001b[0m\n\u001b[1;32m----> 1\u001b[1;33m \u001b[0mcontinentdict\u001b[0m\u001b[1;33m[\u001b[0m\u001b[1;34m'Russia'\u001b[0m\u001b[1;33m]\u001b[0m\u001b[1;33m\u001b[0m\u001b[0m\n\u001b[0m",
      "\u001b[1;31mKeyError\u001b[0m: 'Russia'"
     ]
    }
   ],
   "source": [
    "continentdict['Soviet Union']"
   ]
  },
  {
   "cell_type": "code",
   "execution_count": 175,
   "metadata": {
    "collapsed": false
   },
   "outputs": [
    {
     "data": {
      "text/plain": [
       "'non-exist'"
      ]
     },
     "execution_count": 175,
     "metadata": {},
     "output_type": "execute_result"
    }
   ],
   "source": [
    "continentdict.get('Soviet Union', 'non-exist')"
   ]
  },
  {
   "cell_type": "code",
   "execution_count": 180,
   "metadata": {
    "collapsed": false
   },
   "outputs": [
    {
     "name": "stdout",
     "output_type": "stream",
     "text": [
      "['Canada', 'BRAZIL', 'Korea', 'France', 'China', 'Russia']\n",
      "['NA', 'SA', 'AS', 'EU', 'AS', 'EU']\n",
      "[('Canada', 'NA'), ('BRAZIL', 'SA'), ('Korea', 'AS'), ('France', 'EU'), ('China', 'AS'), ('Russia', 'EU')]\n"
     ]
    }
   ],
   "source": [
    "print continentdict.keys()\n",
    "print continentdict.values()\n",
    "print continentdict.items()"
   ]
  },
  {
   "cell_type": "code",
   "execution_count": 182,
   "metadata": {
    "collapsed": false
   },
   "outputs": [
    {
     "data": {
      "text/plain": [
       "True"
      ]
     },
     "execution_count": 182,
     "metadata": {},
     "output_type": "execute_result"
    }
   ],
   "source": [
    "'Russia' in continentdict"
   ]
  },
  {
   "cell_type": "code",
   "execution_count": 183,
   "metadata": {
    "collapsed": false
   },
   "outputs": [
    {
     "data": {
      "text/plain": [
       "False"
      ]
     },
     "execution_count": 183,
     "metadata": {},
     "output_type": "execute_result"
    }
   ],
   "source": [
    "'France' not in continentdict"
   ]
  },
  {
   "cell_type": "code",
   "execution_count": 190,
   "metadata": {
    "collapsed": false
   },
   "outputs": [
    {
     "name": "stdout",
     "output_type": "stream",
     "text": [
      "{'Canada': 'NA', 'BRAZIL': 'SA', 'Korea': 'AS', 'China': 'AS', 'Russia': 'EU', 'France': 'EU'}\n",
      "{'Canada': 'NA', 'BRAZIL': 'SA', 'China': 'AS', 'Russia': 'EU', 'France': 'EU'}\n"
     ]
    }
   ],
   "source": [
    "continentdict2 = continentdict.copy()\n",
    "print continentdict2\n",
    "del continentdict2['Korea'] # inplace delete\n",
    "print continentdict2"
   ]
  },
  {
   "cell_type": "code",
   "execution_count": 205,
   "metadata": {
    "collapsed": false
   },
   "outputs": [
    {
     "name": "stdout",
     "output_type": "stream",
     "text": [
      "{'Canada': 'NA', 'BRAZIL': 'SA', 'Korea': 'AS', 'France': 'EU', 'China': 'AS', 'Russia': 'EU'}\n",
      "{'Canada': 'NA', 'BRAZIL': 'SA', 'Korea': 'AS', 'India': 'AS', 'France': 'EU', 'China': 'AS', 'Russia': 'EU'}\n"
     ]
    }
   ],
   "source": [
    "# 添加新key\n",
    "print continentdict\n",
    "continentdict['India'] = 'AS'\n",
    "print continentdict\n",
    "# 无序"
   ]
  },
  {
   "cell_type": "code",
   "execution_count": 206,
   "metadata": {
    "collapsed": false
   },
   "outputs": [
    {
     "name": "stdout",
     "output_type": "stream",
     "text": [
      "{'Canada': 'NA', 'BRAZIL': 'SA', 'Korea': 'AS', 'China': 'AS', 'India': 'AS', 'Russia': 'EU', 'France': 'EU'}\n",
      "{'Canada': 'NA', 'BRAZIL': 'SA', 'Korea': 'AS', 'China': 'AS', 'India': 'NA', 'Russia': 'EU', 'France': 'EU'}\n"
     ]
    }
   ],
   "source": [
    "# 如果已经存在，就更新\n",
    "continentdict3 = continentdict.copy()\n",
    "print continentdict3\n",
    "continentdict3['India'] = 'NA'\n",
    "print continentdict3"
   ]
  },
  {
   "cell_type": "code",
   "execution_count": 210,
   "metadata": {
    "collapsed": false
   },
   "outputs": [
    {
     "name": "stdout",
     "output_type": "stream",
     "text": [
      "{'Canada': 'NA', 'BRAZIL': 'SA', 'Korea': 'AS', 'Italy': 'EU', 'India': 'NA', 'France': 'EU', 'China': 'AS', 'Russia': 'EU'}\n",
      "{'Canada': 'NA', 'BRAZIL': 'SA', 'Korea': 'AS', 'Italy': 'EU', 'India': 'NA', 'France': 'EU', 'China': 'AS', 'Russia': 'EU'}\n"
     ]
    }
   ],
   "source": [
    "# update method 群体更新\n",
    "continentdict4 = continentdict\n",
    "print continentdict4\n",
    "newcontent = {'India': 'NA', 'Italy': 'EU'}\n",
    "continentdict4.update(newcontent)\n",
    "print continentdict4 # 添加Italy, 更新India"
   ]
  },
  {
   "cell_type": "markdown",
   "metadata": {},
   "source": [
    "## operator + - * /"
   ]
  },
  {
   "cell_type": "code",
   "execution_count": 14,
   "metadata": {
    "collapsed": false
   },
   "outputs": [
    {
     "name": "stdout",
     "output_type": "stream",
     "text": [
      "2.7.13 |Anaconda 2.4.1 (64-bit)| (default, May 11 2017, 13:17:26) [MSC v.1500 64 bit (AMD64)]\n",
      "1 1 1.33333333333\n"
     ]
    }
   ],
   "source": [
    "# need attention on /, int/int is actually floor division in python2. Python 3 changed this routine, 2/3=0.666666\n",
    "import sys\n",
    "print(sys.version)\n",
    "print 4L/3L, 4/3L, 4/3."
   ]
  },
  {
   "cell_type": "markdown",
   "metadata": {},
   "source": [
    "## operator // ** % divmod abs"
   ]
  },
  {
   "cell_type": "code",
   "execution_count": 18,
   "metadata": {
    "collapsed": false
   },
   "outputs": [
    {
     "data": {
      "text/plain": [
       "(2, 2.0)"
      ]
     },
     "execution_count": 18,
     "metadata": {},
     "output_type": "execute_result"
    }
   ],
   "source": [
    "5//2, 5.//2.1 # floor division"
   ]
  },
  {
   "cell_type": "code",
   "execution_count": 227,
   "metadata": {
    "collapsed": false
   },
   "outputs": [
    {
     "data": {
      "text/plain": [
       "(32, 0.5, 1.4142135623730951)"
      ]
     },
     "execution_count": 227,
     "metadata": {},
     "output_type": "execute_result"
    }
   ],
   "source": [
    "2**5, 2**-1, 2**(1./2)# power"
   ]
  },
  {
   "cell_type": "code",
   "execution_count": 24,
   "metadata": {
    "collapsed": false
   },
   "outputs": [
    {
     "data": {
      "text/plain": [
       "(1, 1.0)"
      ]
     },
     "execution_count": 24,
     "metadata": {},
     "output_type": "execute_result"
    }
   ],
   "source": [
    "31%10, 31.%10 # modulo"
   ]
  },
  {
   "cell_type": "code",
   "execution_count": 25,
   "metadata": {
    "collapsed": false
   },
   "outputs": [
    {
     "data": {
      "text/plain": [
       "((3, 1), (3.0, 1.0))"
      ]
     },
     "execution_count": 25,
     "metadata": {},
     "output_type": "execute_result"
    }
   ],
   "source": [
    "divmod(31, 10), divmod(31, 10.) # floor div and modulo"
   ]
  },
  {
   "cell_type": "code",
   "execution_count": 26,
   "metadata": {
    "collapsed": false
   },
   "outputs": [
    {
     "data": {
      "text/plain": [
       "(100.0, 100)"
      ]
     },
     "execution_count": 26,
     "metadata": {},
     "output_type": "execute_result"
    }
   ],
   "source": [
    "abs(-100.), abs(-100) # absolute value"
   ]
  },
  {
   "cell_type": "markdown",
   "metadata": {},
   "source": [
    "### 其他算数函数，numpy scipy package"
   ]
  },
  {
   "cell_type": "code",
   "execution_count": 229,
   "metadata": {
    "collapsed": false
   },
   "outputs": [
    {
     "name": "stdout",
     "output_type": "stream",
     "text": [
      "1.0\n",
      "2.0\n"
     ]
    }
   ],
   "source": [
    "import numpy\n",
    "print numpy.sin(numpy.pi/2)\n",
    "print numpy.log10(100)"
   ]
  },
  {
   "cell_type": "markdown",
   "metadata": {},
   "source": [
    "## == is > < != and or not"
   ]
  },
  {
   "cell_type": "code",
   "execution_count": 220,
   "metadata": {
    "collapsed": false
   },
   "outputs": [
    {
     "data": {
      "text/plain": [
       "True"
      ]
     },
     "execution_count": 220,
     "metadata": {},
     "output_type": "execute_result"
    }
   ],
   "source": [
    "1 > 0 and 2 > 1"
   ]
  },
  {
   "cell_type": "code",
   "execution_count": 221,
   "metadata": {
    "collapsed": false
   },
   "outputs": [
    {
     "data": {
      "text/plain": [
       "True"
      ]
     },
     "execution_count": 221,
     "metadata": {},
     "output_type": "execute_result"
    }
   ],
   "source": [
    "1 > 0 and 2 > 1 or 1 < 3"
   ]
  },
  {
   "cell_type": "code",
   "execution_count": 222,
   "metadata": {
    "collapsed": false
   },
   "outputs": [
    {
     "data": {
      "text/plain": [
       "False"
      ]
     },
     "execution_count": 222,
     "metadata": {},
     "output_type": "execute_result"
    }
   ],
   "source": [
    "1!=1"
   ]
  },
  {
   "cell_type": "markdown",
   "metadata": {},
   "source": [
    "### bitwise logic"
   ]
  },
  {
   "cell_type": "markdown",
   "metadata": {},
   "source": [
    "0x 十六进制\n",
    "0b 二进制\n",
    "\n",
    "x << y\n",
    "\n",
    "Returns x with the bits shifted to the left by y places (and new bits on the right-hand-side are zeros). This is the same as multiplying x by 2**y.\n",
    "\n",
    "x >> y\n",
    "\n",
    "Returns x with the bits shifted to the right by y places. This is the same as //'ing x by 2**y.\n",
    "\n",
    "x & y\n",
    "\n",
    "Does a \"bitwise and\". Each bit of the output is 1 if the corresponding bit of x AND of y is 1, otherwise it's 0.\n",
    "\n",
    "x | y\n",
    "\n",
    "Does a \"bitwise or\". Each bit of the output is 0 if the corresponding bit of x AND of y is 0, otherwise it's 1.\n",
    "\n",
    "~ x\n",
    "\n",
    "Returns the complement of x - the number you get by switching each 1 for a 0 and each 0 for a 1. This is the same as -x - 1.\n",
    "\n",
    "x ^ y\n",
    "\n",
    "Does a \"bitwise exclusive or\". Each bit of the output is the same as the corresponding bit in x if that bit in y is 0, and it's the complement of the bit in x if that bit in y is 1."
   ]
  },
  {
   "cell_type": "code",
   "execution_count": 235,
   "metadata": {
    "collapsed": false
   },
   "outputs": [
    {
     "data": {
      "text/plain": [
       "10"
      ]
     },
     "execution_count": 235,
     "metadata": {},
     "output_type": "execute_result"
    }
   ],
   "source": [
    "0xa"
   ]
  },
  {
   "cell_type": "code",
   "execution_count": 236,
   "metadata": {
    "collapsed": false
   },
   "outputs": [
    {
     "data": {
      "text/plain": [
       "2"
      ]
     },
     "execution_count": 236,
     "metadata": {},
     "output_type": "execute_result"
    }
   ],
   "source": [
    "0b10"
   ]
  },
  {
   "cell_type": "code",
   "execution_count": 237,
   "metadata": {
    "collapsed": false
   },
   "outputs": [
    {
     "data": {
      "text/plain": [
       "(4, 1)"
      ]
     },
     "execution_count": 237,
     "metadata": {},
     "output_type": "execute_result"
    }
   ],
   "source": [
    "0b10<<1, 0b10>>1"
   ]
  },
  {
   "cell_type": "code",
   "execution_count": 238,
   "metadata": {
    "collapsed": false
   },
   "outputs": [
    {
     "data": {
      "text/plain": [
       "-3"
      ]
     },
     "execution_count": 238,
     "metadata": {},
     "output_type": "execute_result"
    }
   ],
   "source": [
    "~0b10"
   ]
  },
  {
   "cell_type": "code",
   "execution_count": 241,
   "metadata": {
    "collapsed": false,
    "scrolled": true
   },
   "outputs": [
    {
     "data": {
      "text/plain": [
       "'0b1010'"
      ]
     },
     "execution_count": 241,
     "metadata": {},
     "output_type": "execute_result"
    }
   ],
   "source": [
    "bin(10)"
   ]
  },
  {
   "cell_type": "code",
   "execution_count": 242,
   "metadata": {
    "collapsed": false
   },
   "outputs": [
    {
     "data": {
      "text/plain": [
       "'0xb'"
      ]
     },
     "execution_count": 242,
     "metadata": {},
     "output_type": "execute_result"
    }
   ],
   "source": [
    "hex(11)"
   ]
  },
  {
   "cell_type": "markdown",
   "metadata": {},
   "source": [
    "# 3. Flow Control 循环逻辑控制"
   ]
  },
  {
   "cell_type": "markdown",
   "metadata": {},
   "source": [
    "## 3.1. if {elif} {else} 条件判断，elif|else是optional的"
   ]
  },
  {
   "cell_type": "code",
   "execution_count": 250,
   "metadata": {
    "collapsed": false
   },
   "outputs": [
    {
     "name": "stdout",
     "output_type": "stream",
     "text": [
      "Please enter an integer: xx\n",
      "your input is not valid - not a number, please retry\n"
     ]
    }
   ],
   "source": [
    "x = raw_input(\"Please enter an integer: \")\n",
    "if x.isdigit():\n",
    "    if x > 0:\n",
    "        print 'your input is postive'\n",
    "    elif x==0:\n",
    "        print 'your input is zero'\n",
    "    else:\n",
    "        print 'your input is negative'\n",
    "else:\n",
    "    print 'your input is not valid - not a number, please retry'"
   ]
  },
  {
   "cell_type": "markdown",
   "metadata": {},
   "source": [
    "## 3.2. while {else} 循环, else是optional的"
   ]
  },
  {
   "cell_type": "code",
   "execution_count": 275,
   "metadata": {
    "collapsed": false
   },
   "outputs": [
    {
     "name": "stdout",
     "output_type": "stream",
     "text": [
      "Please enter an integer: , enter STOP if you want to stop the loopSTOP\n",
      "loop stopped\n"
     ]
    }
   ],
   "source": [
    "continueloop = True\n",
    "while continueloop:\n",
    "    x = raw_input(\"Please enter an integer: , enter STOP if you want to stop the loop\")\n",
    "    if x.isdigit():\n",
    "        if x > 0:\n",
    "            print 'your input is postive'\n",
    "        elif x == 0:\n",
    "            print 'your input is zero'\n",
    "        else:\n",
    "            print 'your input is negative'\n",
    "    elif x == 'STOP':\n",
    "        continueloop = False\n",
    "    else:\n",
    "        print 'your input is not valid - not a number, please retry'\n",
    "else:\n",
    "    print 'loop stopped'"
   ]
  },
  {
   "cell_type": "markdown",
   "metadata": {},
   "source": [
    "## 3.3. for 循环\n",
    "遍历iterable的变量，什么是iterable的呢？ string, list, dictionary, iterator, file...\n",
    "\n",
    "optional else自学\n",
    "http://book.pythontips.com/en/latest/for_-_else.html"
   ]
  },
  {
   "cell_type": "code",
   "execution_count": 257,
   "metadata": {
    "collapsed": false
   },
   "outputs": [
    {
     "name": "stdout",
     "output_type": "stream",
     "text": [
      "Canada is in NA continent\n",
      "BRAZIL is in SA continent\n",
      "Korea is in AS continent\n",
      "France is in EU continent\n",
      "China is in AS continent\n",
      "Russia is in EU continent\n"
     ]
    }
   ],
   "source": [
    "continentdict = {'China': 'AS', 'Korea': 'AS', 'Canada': 'NA', 'France': 'EU', 'BRAZIL': 'SA', 'Russia': 'EU'}\n",
    "for key in continentdict:\n",
    "    print '{} is in {} continent'.format(key, continentdict[key])"
   ]
  },
  {
   "cell_type": "code",
   "execution_count": 263,
   "metadata": {
    "collapsed": false
   },
   "outputs": [],
   "source": [
    "xlist = range(1, 100, 2)"
   ]
  },
  {
   "cell_type": "code",
   "execution_count": 265,
   "metadata": {
    "collapsed": false
   },
   "outputs": [
    {
     "name": "stdout",
     "output_type": "stream",
     "text": [
      "[7, 21, 35, 49, 63, 77, 91]\n"
     ]
    }
   ],
   "source": [
    "xlist7 = []\n",
    "for x in xlist:\n",
    "    if x % 7 == 0:\n",
    "        xlist7.append(x)\n",
    "print xlist7"
   ]
  },
  {
   "cell_type": "markdown",
   "metadata": {},
   "source": [
    "### enumerate, 同时循环index和元变量"
   ]
  },
  {
   "cell_type": "code",
   "execution_count": 266,
   "metadata": {
    "collapsed": false
   },
   "outputs": [
    {
     "name": "stdout",
     "output_type": "stream",
     "text": [
      "[1, 15, 29, 43, 57, 71, 85, 99]\n",
      "[0, 7, 14, 21, 28, 35, 42, 49]\n"
     ]
    }
   ],
   "source": [
    "xlist7 = []\n",
    "ilist7 = []\n",
    "for (i,x) in enumerate(xlist):\n",
    "    if i % 7 == 0:\n",
    "        xlist7.append(x)\n",
    "        ilist7.append(i)\n",
    "print xlist7\n",
    "print ilist7"
   ]
  },
  {
   "cell_type": "code",
   "execution_count": 273,
   "metadata": {
    "collapsed": false
   },
   "outputs": [
    {
     "data": {
      "text/plain": [
       "[(0, 1), (7, 15), (14, 29), (21, 43), (28, 57), (35, 71), (42, 85), (49, 99)]"
      ]
     },
     "execution_count": 273,
     "metadata": {},
     "output_type": "execute_result"
    }
   ],
   "source": [
    "# zip function\n",
    "zip(ilist7, xlist7)"
   ]
  },
  {
   "cell_type": "code",
   "execution_count": 267,
   "metadata": {
    "collapsed": false
   },
   "outputs": [
    {
     "name": "stdout",
     "output_type": "stream",
     "text": [
      "the 1 th element is 0\n",
      "the 15 th element is 7\n",
      "the 29 th element is 14\n",
      "the 43 th element is 21\n",
      "the 57 th element is 28\n",
      "the 71 th element is 35\n",
      "the 85 th element is 42\n",
      "the 99 th element is 49\n"
     ]
    }
   ],
   "source": [
    "for (i,x) in zip(xlist7, ilist7):\n",
    "    print 'the %d th element is %d' %(i, x)"
   ]
  },
  {
   "cell_type": "code",
   "execution_count": 272,
   "metadata": {
    "collapsed": false
   },
   "outputs": [
    {
     "name": "stdout",
     "output_type": "stream",
     "text": [
      "the 0 th element is 1\n",
      "the 7 th element is 15\n",
      "the 14 th element is 29\n",
      "the 21 th element is 43\n",
      "the 28 th element is 57\n",
      "the 35 th element is 71\n",
      "the 42 th element is 85\n",
      "the 49 th element is 99\n"
     ]
    }
   ],
   "source": [
    "# 避免这种写法 non-pythonic code\n",
    "for j in range(len(ilist7)):\n",
    "    print 'the %d th element is %d' %(ilist7[j], xlist7[j])"
   ]
  },
  {
   "cell_type": "markdown",
   "metadata": {},
   "source": [
    "### break 和 continue，对while和for循环是一样的\n",
    "break: 跳出整个循环代码块，并不触发else\n",
    "\n",
    "continue: 跳出当前的循环次数继续下个循环"
   ]
  },
  {
   "cell_type": "code",
   "execution_count": 278,
   "metadata": {
    "collapsed": false
   },
   "outputs": [
    {
     "name": "stdout",
     "output_type": "stream",
     "text": [
      "Please enter an integer: , enter STOP if you want to stop the loopx\n",
      "your input is not valid - not a number, please retry\n",
      "Please enter an integer: , enter STOP if you want to stop the loopx\n",
      "your input is not valid - not a number, please retry\n",
      "Please enter an integer: , enter STOP if you want to stop the loopx\n",
      "your input is not valid - not a number, please retry\n",
      "Please enter an integer: , enter STOP if you want to stop the loopx\n",
      "your input is not valid - not a number, please retry\n",
      "Please enter an integer: , enter STOP if you want to stop the loopx\n",
      "your input is not valid - not a number, please retry\n",
      "loop stopped\n"
     ]
    }
   ],
   "source": [
    "for i in range(5):\n",
    "    x = raw_input(\"Please enter an integer: , enter STOP if you want to stop the loop\")\n",
    "    if x.isdigit():\n",
    "        if x > 0:\n",
    "            print 'your input is postive'\n",
    "        elif x == 0:\n",
    "            print 'your input is zero'\n",
    "        else:\n",
    "            print 'your input is negative'\n",
    "    elif x == 'STOP':\n",
    "        break\n",
    "    else:\n",
    "        print 'your input is not valid - not a number, please retry'\n",
    "        continue\n",
    "else: # 只有自然停止，循环了5次才会到else\n",
    "    print 'loop stopped'"
   ]
  },
  {
   "cell_type": "markdown",
   "metadata": {},
   "source": [
    "# 4 Function函数方法"
   ]
  },
  {
   "cell_type": "markdown",
   "metadata": {},
   "source": [
    "### 4.1 代码片段，根据输入的参数Arguments，完成计算或者操作，{返回一个数据}\n",
    "一般用作可以反复使用完成特定功能的函数或者流程\n",
    "\n",
    "def func (argu1, argu2...):"
   ]
  },
  {
   "cell_type": "code",
   "execution_count": 285,
   "metadata": {
    "collapsed": false
   },
   "outputs": [],
   "source": [
    "# note this is a trivial naive prime demo, you should seek for some easy optimization for practical isprime\n",
    "def isprime(x):\n",
    "    if x == 1 or x <= 0:\n",
    "        return False\n",
    "    if x == 2:\n",
    "        return True\n",
    "    for i in range(2, x):\n",
    "        if x % i == 0:\n",
    "            return False\n",
    "    return True"
   ]
  },
  {
   "cell_type": "code",
   "execution_count": 283,
   "metadata": {
    "collapsed": false
   },
   "outputs": [
    {
     "name": "stdout",
     "output_type": "stream",
     "text": [
      "[2, 3, 5, 7, 11, 13, 17, 19, 23, 29, 31, 37, 41, 43, 47, 53, 59, 61, 67, 71, 73, 79, 83, 89, 97]\n"
     ]
    }
   ],
   "source": [
    "primenumbers = []\n",
    "for x in range(100):\n",
    "    if isprime(x):\n",
    "        primenumbers.append(x)\n",
    "print primenumbers"
   ]
  },
  {
   "cell_type": "markdown",
   "metadata": {},
   "source": [
    "### Default argument\n",
    "\n",
    "function应该放多少个参数，hardcode多少变量？这取决于简易度和自由度的取舍。\n",
    "\n",
    "我想照顾普通用户，让他们能不用关注太多细节和了解太多就得到想要的功能。又要照顾高级用户，让他们能够定制一些特征。怎么办呢？默认参数！！！"
   ]
  },
  {
   "cell_type": "code",
   "execution_count": 308,
   "metadata": {
    "collapsed": true
   },
   "outputs": [],
   "source": [
    "def printline(line, indent=0, allcap=False):\n",
    "    if allcap:\n",
    "        line = line.upper()\n",
    "    print ' ' * indent, line"
   ]
  },
  {
   "cell_type": "code",
   "execution_count": 315,
   "metadata": {
    "collapsed": false
   },
   "outputs": [
    {
     "name": "stdout",
     "output_type": "stream",
     "text": [
      " section 1 Python Data Type\n",
      "     section 1 Python Data Type\n",
      "     SECTION 1 PYTHON DATA TYPE\n"
     ]
    }
   ],
   "source": [
    "printline('section 1 Python Data Type') # 省略后两个\n",
    "printline('section 1 Python Data Type', 4) # 省略后一个\n",
    "printline('section 1 Python Data Type', 4, True) # 不省略"
   ]
  },
  {
   "cell_type": "markdown",
   "metadata": {},
   "source": [
    "如果我想要全大写，但不关注indent怎么办？\n",
    "\n",
    "如果是位置参数，必须严格按照 def func(arg0, arg1...)， 只能省略最后的n个"
   ]
  },
  {
   "cell_type": "markdown",
   "metadata": {},
   "source": [
    "### Keyword argument不再依赖于位置，可以设置一系列默认参数，然后自由根据需要跳过赋值"
   ]
  },
  {
   "cell_type": "code",
   "execution_count": 306,
   "metadata": {
    "collapsed": false
   },
   "outputs": [
    {
     "name": "stdout",
     "output_type": "stream",
     "text": [
      " SECTION 1 PYTHON DATA TYPE\n",
      "   section 1.1 Number\n",
      "   section 1.2 String\n"
     ]
    }
   ],
   "source": [
    "printline('section 1 Python Data Type', allcap=True)\n",
    "printline('section 1.1 Number', indent=2)\n",
    "printline('section 1.2 String', indent=2)"
   ]
  },
  {
   "cell_type": "markdown",
   "metadata": {},
   "source": [
    "### *nargs and **kwargs\n",
    "\n",
    "Flexable argument handling\n",
    "\n",
    "Please selfstudy if you are interested. It is sometime useful. But be careful. http://thepythonguru.com/python-args-and-kwargs/"
   ]
  },
  {
   "cell_type": "code",
   "execution_count": 325,
   "metadata": {
    "collapsed": false
   },
   "outputs": [
    {
     "data": {
      "application/javascript": [
       "/* Put everything inside the global mpl namespace */\n",
       "window.mpl = {};\n",
       "\n",
       "mpl.get_websocket_type = function() {\n",
       "    if (typeof(WebSocket) !== 'undefined') {\n",
       "        return WebSocket;\n",
       "    } else if (typeof(MozWebSocket) !== 'undefined') {\n",
       "        return MozWebSocket;\n",
       "    } else {\n",
       "        alert('Your browser does not have WebSocket support.' +\n",
       "              'Please try Chrome, Safari or Firefox ≥ 6. ' +\n",
       "              'Firefox 4 and 5 are also supported but you ' +\n",
       "              'have to enable WebSockets in about:config.');\n",
       "    };\n",
       "}\n",
       "\n",
       "mpl.figure = function(figure_id, websocket, ondownload, parent_element) {\n",
       "    this.id = figure_id;\n",
       "\n",
       "    this.ws = websocket;\n",
       "\n",
       "    this.supports_binary = (this.ws.binaryType != undefined);\n",
       "\n",
       "    if (!this.supports_binary) {\n",
       "        var warnings = document.getElementById(\"mpl-warnings\");\n",
       "        if (warnings) {\n",
       "            warnings.style.display = 'block';\n",
       "            warnings.textContent = (\n",
       "                \"This browser does not support binary websocket messages. \" +\n",
       "                    \"Performance may be slow.\");\n",
       "        }\n",
       "    }\n",
       "\n",
       "    this.imageObj = new Image();\n",
       "\n",
       "    this.context = undefined;\n",
       "    this.message = undefined;\n",
       "    this.canvas = undefined;\n",
       "    this.rubberband_canvas = undefined;\n",
       "    this.rubberband_context = undefined;\n",
       "    this.format_dropdown = undefined;\n",
       "\n",
       "    this.image_mode = 'full';\n",
       "\n",
       "    this.root = $('<div/>');\n",
       "    this._root_extra_style(this.root)\n",
       "    this.root.attr('style', 'display: inline-block');\n",
       "\n",
       "    $(parent_element).append(this.root);\n",
       "\n",
       "    this._init_header(this);\n",
       "    this._init_canvas(this);\n",
       "    this._init_toolbar(this);\n",
       "\n",
       "    var fig = this;\n",
       "\n",
       "    this.waiting = false;\n",
       "\n",
       "    this.ws.onopen =  function () {\n",
       "            fig.send_message(\"supports_binary\", {value: fig.supports_binary});\n",
       "            fig.send_message(\"send_image_mode\", {});\n",
       "            fig.send_message(\"refresh\", {});\n",
       "        }\n",
       "\n",
       "    this.imageObj.onload = function() {\n",
       "            if (fig.image_mode == 'full') {\n",
       "                // Full images could contain transparency (where diff images\n",
       "                // almost always do), so we need to clear the canvas so that\n",
       "                // there is no ghosting.\n",
       "                fig.context.clearRect(0, 0, fig.canvas.width, fig.canvas.height);\n",
       "            }\n",
       "            fig.context.drawImage(fig.imageObj, 0, 0);\n",
       "        };\n",
       "\n",
       "    this.imageObj.onunload = function() {\n",
       "        this.ws.close();\n",
       "    }\n",
       "\n",
       "    this.ws.onmessage = this._make_on_message_function(this);\n",
       "\n",
       "    this.ondownload = ondownload;\n",
       "}\n",
       "\n",
       "mpl.figure.prototype._init_header = function() {\n",
       "    var titlebar = $(\n",
       "        '<div class=\"ui-dialog-titlebar ui-widget-header ui-corner-all ' +\n",
       "        'ui-helper-clearfix\"/>');\n",
       "    var titletext = $(\n",
       "        '<div class=\"ui-dialog-title\" style=\"width: 100%; ' +\n",
       "        'text-align: center; padding: 3px;\"/>');\n",
       "    titlebar.append(titletext)\n",
       "    this.root.append(titlebar);\n",
       "    this.header = titletext[0];\n",
       "}\n",
       "\n",
       "\n",
       "\n",
       "mpl.figure.prototype._canvas_extra_style = function(canvas_div) {\n",
       "\n",
       "}\n",
       "\n",
       "\n",
       "mpl.figure.prototype._root_extra_style = function(canvas_div) {\n",
       "\n",
       "}\n",
       "\n",
       "mpl.figure.prototype._init_canvas = function() {\n",
       "    var fig = this;\n",
       "\n",
       "    var canvas_div = $('<div/>');\n",
       "\n",
       "    canvas_div.attr('style', 'position: relative; clear: both; outline: 0');\n",
       "\n",
       "    function canvas_keyboard_event(event) {\n",
       "        return fig.key_event(event, event['data']);\n",
       "    }\n",
       "\n",
       "    canvas_div.keydown('key_press', canvas_keyboard_event);\n",
       "    canvas_div.keyup('key_release', canvas_keyboard_event);\n",
       "    this.canvas_div = canvas_div\n",
       "    this._canvas_extra_style(canvas_div)\n",
       "    this.root.append(canvas_div);\n",
       "\n",
       "    var canvas = $('<canvas/>');\n",
       "    canvas.addClass('mpl-canvas');\n",
       "    canvas.attr('style', \"left: 0; top: 0; z-index: 0; outline: 0\")\n",
       "\n",
       "    this.canvas = canvas[0];\n",
       "    this.context = canvas[0].getContext(\"2d\");\n",
       "\n",
       "    var rubberband = $('<canvas/>');\n",
       "    rubberband.attr('style', \"position: absolute; left: 0; top: 0; z-index: 1;\")\n",
       "\n",
       "    var pass_mouse_events = true;\n",
       "\n",
       "    canvas_div.resizable({\n",
       "        start: function(event, ui) {\n",
       "            pass_mouse_events = false;\n",
       "        },\n",
       "        resize: function(event, ui) {\n",
       "            fig.request_resize(ui.size.width, ui.size.height);\n",
       "        },\n",
       "        stop: function(event, ui) {\n",
       "            pass_mouse_events = true;\n",
       "            fig.request_resize(ui.size.width, ui.size.height);\n",
       "        },\n",
       "    });\n",
       "\n",
       "    function mouse_event_fn(event) {\n",
       "        if (pass_mouse_events)\n",
       "            return fig.mouse_event(event, event['data']);\n",
       "    }\n",
       "\n",
       "    rubberband.mousedown('button_press', mouse_event_fn);\n",
       "    rubberband.mouseup('button_release', mouse_event_fn);\n",
       "    // Throttle sequential mouse events to 1 every 20ms.\n",
       "    rubberband.mousemove('motion_notify', mouse_event_fn);\n",
       "\n",
       "    rubberband.mouseenter('figure_enter', mouse_event_fn);\n",
       "    rubberband.mouseleave('figure_leave', mouse_event_fn);\n",
       "\n",
       "    canvas_div.on(\"wheel\", function (event) {\n",
       "        event = event.originalEvent;\n",
       "        event['data'] = 'scroll'\n",
       "        if (event.deltaY < 0) {\n",
       "            event.step = 1;\n",
       "        } else {\n",
       "            event.step = -1;\n",
       "        }\n",
       "        mouse_event_fn(event);\n",
       "    });\n",
       "\n",
       "    canvas_div.append(canvas);\n",
       "    canvas_div.append(rubberband);\n",
       "\n",
       "    this.rubberband = rubberband;\n",
       "    this.rubberband_canvas = rubberband[0];\n",
       "    this.rubberband_context = rubberband[0].getContext(\"2d\");\n",
       "    this.rubberband_context.strokeStyle = \"#000000\";\n",
       "\n",
       "    this._resize_canvas = function(width, height) {\n",
       "        // Keep the size of the canvas, canvas container, and rubber band\n",
       "        // canvas in synch.\n",
       "        canvas_div.css('width', width)\n",
       "        canvas_div.css('height', height)\n",
       "\n",
       "        canvas.attr('width', width);\n",
       "        canvas.attr('height', height);\n",
       "\n",
       "        rubberband.attr('width', width);\n",
       "        rubberband.attr('height', height);\n",
       "    }\n",
       "\n",
       "    // Set the figure to an initial 600x600px, this will subsequently be updated\n",
       "    // upon first draw.\n",
       "    this._resize_canvas(600, 600);\n",
       "\n",
       "    // Disable right mouse context menu.\n",
       "    $(this.rubberband_canvas).bind(\"contextmenu\",function(e){\n",
       "        return false;\n",
       "    });\n",
       "\n",
       "    function set_focus () {\n",
       "        canvas.focus();\n",
       "        canvas_div.focus();\n",
       "    }\n",
       "\n",
       "    window.setTimeout(set_focus, 100);\n",
       "}\n",
       "\n",
       "mpl.figure.prototype._init_toolbar = function() {\n",
       "    var fig = this;\n",
       "\n",
       "    var nav_element = $('<div/>')\n",
       "    nav_element.attr('style', 'width: 100%');\n",
       "    this.root.append(nav_element);\n",
       "\n",
       "    // Define a callback function for later on.\n",
       "    function toolbar_event(event) {\n",
       "        return fig.toolbar_button_onclick(event['data']);\n",
       "    }\n",
       "    function toolbar_mouse_event(event) {\n",
       "        return fig.toolbar_button_onmouseover(event['data']);\n",
       "    }\n",
       "\n",
       "    for(var toolbar_ind in mpl.toolbar_items) {\n",
       "        var name = mpl.toolbar_items[toolbar_ind][0];\n",
       "        var tooltip = mpl.toolbar_items[toolbar_ind][1];\n",
       "        var image = mpl.toolbar_items[toolbar_ind][2];\n",
       "        var method_name = mpl.toolbar_items[toolbar_ind][3];\n",
       "\n",
       "        if (!name) {\n",
       "            // put a spacer in here.\n",
       "            continue;\n",
       "        }\n",
       "        var button = $('<button/>');\n",
       "        button.addClass('ui-button ui-widget ui-state-default ui-corner-all ' +\n",
       "                        'ui-button-icon-only');\n",
       "        button.attr('role', 'button');\n",
       "        button.attr('aria-disabled', 'false');\n",
       "        button.click(method_name, toolbar_event);\n",
       "        button.mouseover(tooltip, toolbar_mouse_event);\n",
       "\n",
       "        var icon_img = $('<span/>');\n",
       "        icon_img.addClass('ui-button-icon-primary ui-icon');\n",
       "        icon_img.addClass(image);\n",
       "        icon_img.addClass('ui-corner-all');\n",
       "\n",
       "        var tooltip_span = $('<span/>');\n",
       "        tooltip_span.addClass('ui-button-text');\n",
       "        tooltip_span.html(tooltip);\n",
       "\n",
       "        button.append(icon_img);\n",
       "        button.append(tooltip_span);\n",
       "\n",
       "        nav_element.append(button);\n",
       "    }\n",
       "\n",
       "    var fmt_picker_span = $('<span/>');\n",
       "\n",
       "    var fmt_picker = $('<select/>');\n",
       "    fmt_picker.addClass('mpl-toolbar-option ui-widget ui-widget-content');\n",
       "    fmt_picker_span.append(fmt_picker);\n",
       "    nav_element.append(fmt_picker_span);\n",
       "    this.format_dropdown = fmt_picker[0];\n",
       "\n",
       "    for (var ind in mpl.extensions) {\n",
       "        var fmt = mpl.extensions[ind];\n",
       "        var option = $(\n",
       "            '<option/>', {selected: fmt === mpl.default_extension}).html(fmt);\n",
       "        fmt_picker.append(option)\n",
       "    }\n",
       "\n",
       "    // Add hover states to the ui-buttons\n",
       "    $( \".ui-button\" ).hover(\n",
       "        function() { $(this).addClass(\"ui-state-hover\");},\n",
       "        function() { $(this).removeClass(\"ui-state-hover\");}\n",
       "    );\n",
       "\n",
       "    var status_bar = $('<span class=\"mpl-message\"/>');\n",
       "    nav_element.append(status_bar);\n",
       "    this.message = status_bar[0];\n",
       "}\n",
       "\n",
       "mpl.figure.prototype.request_resize = function(x_pixels, y_pixels) {\n",
       "    // Request matplotlib to resize the figure. Matplotlib will then trigger a resize in the client,\n",
       "    // which will in turn request a refresh of the image.\n",
       "    this.send_message('resize', {'width': x_pixels, 'height': y_pixels});\n",
       "}\n",
       "\n",
       "mpl.figure.prototype.send_message = function(type, properties) {\n",
       "    properties['type'] = type;\n",
       "    properties['figure_id'] = this.id;\n",
       "    this.ws.send(JSON.stringify(properties));\n",
       "}\n",
       "\n",
       "mpl.figure.prototype.send_draw_message = function() {\n",
       "    if (!this.waiting) {\n",
       "        this.waiting = true;\n",
       "        this.ws.send(JSON.stringify({type: \"draw\", figure_id: this.id}));\n",
       "    }\n",
       "}\n",
       "\n",
       "\n",
       "mpl.figure.prototype.handle_save = function(fig, msg) {\n",
       "    var format_dropdown = fig.format_dropdown;\n",
       "    var format = format_dropdown.options[format_dropdown.selectedIndex].value;\n",
       "    fig.ondownload(fig, format);\n",
       "}\n",
       "\n",
       "\n",
       "mpl.figure.prototype.handle_resize = function(fig, msg) {\n",
       "    var size = msg['size'];\n",
       "    if (size[0] != fig.canvas.width || size[1] != fig.canvas.height) {\n",
       "        fig._resize_canvas(size[0], size[1]);\n",
       "        fig.send_message(\"refresh\", {});\n",
       "    };\n",
       "}\n",
       "\n",
       "mpl.figure.prototype.handle_rubberband = function(fig, msg) {\n",
       "    var x0 = msg['x0'];\n",
       "    var y0 = fig.canvas.height - msg['y0'];\n",
       "    var x1 = msg['x1'];\n",
       "    var y1 = fig.canvas.height - msg['y1'];\n",
       "    x0 = Math.floor(x0) + 0.5;\n",
       "    y0 = Math.floor(y0) + 0.5;\n",
       "    x1 = Math.floor(x1) + 0.5;\n",
       "    y1 = Math.floor(y1) + 0.5;\n",
       "    var min_x = Math.min(x0, x1);\n",
       "    var min_y = Math.min(y0, y1);\n",
       "    var width = Math.abs(x1 - x0);\n",
       "    var height = Math.abs(y1 - y0);\n",
       "\n",
       "    fig.rubberband_context.clearRect(\n",
       "        0, 0, fig.canvas.width, fig.canvas.height);\n",
       "\n",
       "    fig.rubberband_context.strokeRect(min_x, min_y, width, height);\n",
       "}\n",
       "\n",
       "mpl.figure.prototype.handle_figure_label = function(fig, msg) {\n",
       "    // Updates the figure title.\n",
       "    fig.header.textContent = msg['label'];\n",
       "}\n",
       "\n",
       "mpl.figure.prototype.handle_cursor = function(fig, msg) {\n",
       "    var cursor = msg['cursor'];\n",
       "    switch(cursor)\n",
       "    {\n",
       "    case 0:\n",
       "        cursor = 'pointer';\n",
       "        break;\n",
       "    case 1:\n",
       "        cursor = 'default';\n",
       "        break;\n",
       "    case 2:\n",
       "        cursor = 'crosshair';\n",
       "        break;\n",
       "    case 3:\n",
       "        cursor = 'move';\n",
       "        break;\n",
       "    }\n",
       "    fig.rubberband_canvas.style.cursor = cursor;\n",
       "}\n",
       "\n",
       "mpl.figure.prototype.handle_message = function(fig, msg) {\n",
       "    fig.message.textContent = msg['message'];\n",
       "}\n",
       "\n",
       "mpl.figure.prototype.handle_draw = function(fig, msg) {\n",
       "    // Request the server to send over a new figure.\n",
       "    fig.send_draw_message();\n",
       "}\n",
       "\n",
       "mpl.figure.prototype.handle_image_mode = function(fig, msg) {\n",
       "    fig.image_mode = msg['mode'];\n",
       "}\n",
       "\n",
       "mpl.figure.prototype.updated_canvas_event = function() {\n",
       "    // Called whenever the canvas gets updated.\n",
       "    this.send_message(\"ack\", {});\n",
       "}\n",
       "\n",
       "// A function to construct a web socket function for onmessage handling.\n",
       "// Called in the figure constructor.\n",
       "mpl.figure.prototype._make_on_message_function = function(fig) {\n",
       "    return function socket_on_message(evt) {\n",
       "        if (evt.data instanceof Blob) {\n",
       "            /* FIXME: We get \"Resource interpreted as Image but\n",
       "             * transferred with MIME type text/plain:\" errors on\n",
       "             * Chrome.  But how to set the MIME type?  It doesn't seem\n",
       "             * to be part of the websocket stream */\n",
       "            evt.data.type = \"image/png\";\n",
       "\n",
       "            /* Free the memory for the previous frames */\n",
       "            if (fig.imageObj.src) {\n",
       "                (window.URL || window.webkitURL).revokeObjectURL(\n",
       "                    fig.imageObj.src);\n",
       "            }\n",
       "\n",
       "            fig.imageObj.src = (window.URL || window.webkitURL).createObjectURL(\n",
       "                evt.data);\n",
       "            fig.updated_canvas_event();\n",
       "            fig.waiting = false;\n",
       "            return;\n",
       "        }\n",
       "        else if (typeof evt.data === 'string' && evt.data.slice(0, 21) == \"data:image/png;base64\") {\n",
       "            fig.imageObj.src = evt.data;\n",
       "            fig.updated_canvas_event();\n",
       "            fig.waiting = false;\n",
       "            return;\n",
       "        }\n",
       "\n",
       "        var msg = JSON.parse(evt.data);\n",
       "        var msg_type = msg['type'];\n",
       "\n",
       "        // Call the  \"handle_{type}\" callback, which takes\n",
       "        // the figure and JSON message as its only arguments.\n",
       "        try {\n",
       "            var callback = fig[\"handle_\" + msg_type];\n",
       "        } catch (e) {\n",
       "            console.log(\"No handler for the '\" + msg_type + \"' message type: \", msg);\n",
       "            return;\n",
       "        }\n",
       "\n",
       "        if (callback) {\n",
       "            try {\n",
       "                // console.log(\"Handling '\" + msg_type + \"' message: \", msg);\n",
       "                callback(fig, msg);\n",
       "            } catch (e) {\n",
       "                console.log(\"Exception inside the 'handler_\" + msg_type + \"' callback:\", e, e.stack, msg);\n",
       "            }\n",
       "        }\n",
       "    };\n",
       "}\n",
       "\n",
       "// from http://stackoverflow.com/questions/1114465/getting-mouse-location-in-canvas\n",
       "mpl.findpos = function(e) {\n",
       "    //this section is from http://www.quirksmode.org/js/events_properties.html\n",
       "    var targ;\n",
       "    if (!e)\n",
       "        e = window.event;\n",
       "    if (e.target)\n",
       "        targ = e.target;\n",
       "    else if (e.srcElement)\n",
       "        targ = e.srcElement;\n",
       "    if (targ.nodeType == 3) // defeat Safari bug\n",
       "        targ = targ.parentNode;\n",
       "\n",
       "    // jQuery normalizes the pageX and pageY\n",
       "    // pageX,Y are the mouse positions relative to the document\n",
       "    // offset() returns the position of the element relative to the document\n",
       "    var x = e.pageX - $(targ).offset().left;\n",
       "    var y = e.pageY - $(targ).offset().top;\n",
       "\n",
       "    return {\"x\": x, \"y\": y};\n",
       "};\n",
       "\n",
       "/*\n",
       " * return a copy of an object with only non-object keys\n",
       " * we need this to avoid circular references\n",
       " * http://stackoverflow.com/a/24161582/3208463\n",
       " */\n",
       "function simpleKeys (original) {\n",
       "  return Object.keys(original).reduce(function (obj, key) {\n",
       "    if (typeof original[key] !== 'object')\n",
       "        obj[key] = original[key]\n",
       "    return obj;\n",
       "  }, {});\n",
       "}\n",
       "\n",
       "mpl.figure.prototype.mouse_event = function(event, name) {\n",
       "    var canvas_pos = mpl.findpos(event)\n",
       "\n",
       "    if (name === 'button_press')\n",
       "    {\n",
       "        this.canvas.focus();\n",
       "        this.canvas_div.focus();\n",
       "    }\n",
       "\n",
       "    var x = canvas_pos.x;\n",
       "    var y = canvas_pos.y;\n",
       "\n",
       "    this.send_message(name, {x: x, y: y, button: event.button,\n",
       "                             step: event.step,\n",
       "                             guiEvent: simpleKeys(event)});\n",
       "\n",
       "    /* This prevents the web browser from automatically changing to\n",
       "     * the text insertion cursor when the button is pressed.  We want\n",
       "     * to control all of the cursor setting manually through the\n",
       "     * 'cursor' event from matplotlib */\n",
       "    event.preventDefault();\n",
       "    return false;\n",
       "}\n",
       "\n",
       "mpl.figure.prototype._key_event_extra = function(event, name) {\n",
       "    // Handle any extra behaviour associated with a key event\n",
       "}\n",
       "\n",
       "mpl.figure.prototype.key_event = function(event, name) {\n",
       "\n",
       "    // Prevent repeat events\n",
       "    if (name == 'key_press')\n",
       "    {\n",
       "        if (event.which === this._key)\n",
       "            return;\n",
       "        else\n",
       "            this._key = event.which;\n",
       "    }\n",
       "    if (name == 'key_release')\n",
       "        this._key = null;\n",
       "\n",
       "    var value = '';\n",
       "    if (event.ctrlKey && event.which != 17)\n",
       "        value += \"ctrl+\";\n",
       "    if (event.altKey && event.which != 18)\n",
       "        value += \"alt+\";\n",
       "    if (event.shiftKey && event.which != 16)\n",
       "        value += \"shift+\";\n",
       "\n",
       "    value += 'k';\n",
       "    value += event.which.toString();\n",
       "\n",
       "    this._key_event_extra(event, name);\n",
       "\n",
       "    this.send_message(name, {key: value,\n",
       "                             guiEvent: simpleKeys(event)});\n",
       "    return false;\n",
       "}\n",
       "\n",
       "mpl.figure.prototype.toolbar_button_onclick = function(name) {\n",
       "    if (name == 'download') {\n",
       "        this.handle_save(this, null);\n",
       "    } else {\n",
       "        this.send_message(\"toolbar_button\", {name: name});\n",
       "    }\n",
       "};\n",
       "\n",
       "mpl.figure.prototype.toolbar_button_onmouseover = function(tooltip) {\n",
       "    this.message.textContent = tooltip;\n",
       "};\n",
       "mpl.toolbar_items = [[\"Home\", \"Reset original view\", \"fa fa-home icon-home\", \"home\"], [\"Back\", \"Back to  previous view\", \"fa fa-arrow-left icon-arrow-left\", \"back\"], [\"Forward\", \"Forward to next view\", \"fa fa-arrow-right icon-arrow-right\", \"forward\"], [\"\", \"\", \"\", \"\"], [\"Pan\", \"Pan axes with left mouse, zoom with right\", \"fa fa-arrows icon-move\", \"pan\"], [\"Zoom\", \"Zoom to rectangle\", \"fa fa-square-o icon-check-empty\", \"zoom\"], [\"\", \"\", \"\", \"\"], [\"Download\", \"Download plot\", \"fa fa-floppy-o icon-save\", \"download\"]];\n",
       "\n",
       "mpl.extensions = [\"eps\", \"jpeg\", \"pdf\", \"png\", \"ps\", \"raw\", \"svg\", \"tif\"];\n",
       "\n",
       "mpl.default_extension = \"png\";var comm_websocket_adapter = function(comm) {\n",
       "    // Create a \"websocket\"-like object which calls the given IPython comm\n",
       "    // object with the appropriate methods. Currently this is a non binary\n",
       "    // socket, so there is still some room for performance tuning.\n",
       "    var ws = {};\n",
       "\n",
       "    ws.close = function() {\n",
       "        comm.close()\n",
       "    };\n",
       "    ws.send = function(m) {\n",
       "        //console.log('sending', m);\n",
       "        comm.send(m);\n",
       "    };\n",
       "    // Register the callback with on_msg.\n",
       "    comm.on_msg(function(msg) {\n",
       "        //console.log('receiving', msg['content']['data'], msg);\n",
       "        // Pass the mpl event to the overriden (by mpl) onmessage function.\n",
       "        ws.onmessage(msg['content']['data'])\n",
       "    });\n",
       "    return ws;\n",
       "}\n",
       "\n",
       "mpl.mpl_figure_comm = function(comm, msg) {\n",
       "    // This is the function which gets called when the mpl process\n",
       "    // starts-up an IPython Comm through the \"matplotlib\" channel.\n",
       "\n",
       "    var id = msg.content.data.id;\n",
       "    // Get hold of the div created by the display call when the Comm\n",
       "    // socket was opened in Python.\n",
       "    var element = $(\"#\" + id);\n",
       "    var ws_proxy = comm_websocket_adapter(comm)\n",
       "\n",
       "    function ondownload(figure, format) {\n",
       "        window.open(figure.imageObj.src);\n",
       "    }\n",
       "\n",
       "    var fig = new mpl.figure(id, ws_proxy,\n",
       "                           ondownload,\n",
       "                           element.get(0));\n",
       "\n",
       "    // Call onopen now - mpl needs it, as it is assuming we've passed it a real\n",
       "    // web socket which is closed, not our websocket->open comm proxy.\n",
       "    ws_proxy.onopen();\n",
       "\n",
       "    fig.parent_element = element.get(0);\n",
       "    fig.cell_info = mpl.find_output_cell(\"<div id='\" + id + \"'></div>\");\n",
       "    if (!fig.cell_info) {\n",
       "        console.error(\"Failed to find cell for figure\", id, fig);\n",
       "        return;\n",
       "    }\n",
       "\n",
       "    var output_index = fig.cell_info[2]\n",
       "    var cell = fig.cell_info[0];\n",
       "\n",
       "};\n",
       "\n",
       "mpl.figure.prototype.handle_close = function(fig, msg) {\n",
       "    fig.root.unbind('remove')\n",
       "\n",
       "    // Update the output cell to use the data from the current canvas.\n",
       "    fig.push_to_output();\n",
       "    var dataURL = fig.canvas.toDataURL();\n",
       "    // Re-enable the keyboard manager in IPython - without this line, in FF,\n",
       "    // the notebook keyboard shortcuts fail.\n",
       "    IPython.keyboard_manager.enable()\n",
       "    $(fig.parent_element).html('<img src=\"' + dataURL + '\">');\n",
       "    fig.close_ws(fig, msg);\n",
       "}\n",
       "\n",
       "mpl.figure.prototype.close_ws = function(fig, msg){\n",
       "    fig.send_message('closing', msg);\n",
       "    // fig.ws.close()\n",
       "}\n",
       "\n",
       "mpl.figure.prototype.push_to_output = function(remove_interactive) {\n",
       "    // Turn the data on the canvas into data in the output cell.\n",
       "    var dataURL = this.canvas.toDataURL();\n",
       "    this.cell_info[1]['text/html'] = '<img src=\"' + dataURL + '\">';\n",
       "}\n",
       "\n",
       "mpl.figure.prototype.updated_canvas_event = function() {\n",
       "    // Tell IPython that the notebook contents must change.\n",
       "    IPython.notebook.set_dirty(true);\n",
       "    this.send_message(\"ack\", {});\n",
       "    var fig = this;\n",
       "    // Wait a second, then push the new image to the DOM so\n",
       "    // that it is saved nicely (might be nice to debounce this).\n",
       "    setTimeout(function () { fig.push_to_output() }, 1000);\n",
       "}\n",
       "\n",
       "mpl.figure.prototype._init_toolbar = function() {\n",
       "    var fig = this;\n",
       "\n",
       "    var nav_element = $('<div/>')\n",
       "    nav_element.attr('style', 'width: 100%');\n",
       "    this.root.append(nav_element);\n",
       "\n",
       "    // Define a callback function for later on.\n",
       "    function toolbar_event(event) {\n",
       "        return fig.toolbar_button_onclick(event['data']);\n",
       "    }\n",
       "    function toolbar_mouse_event(event) {\n",
       "        return fig.toolbar_button_onmouseover(event['data']);\n",
       "    }\n",
       "\n",
       "    for(var toolbar_ind in mpl.toolbar_items){\n",
       "        var name = mpl.toolbar_items[toolbar_ind][0];\n",
       "        var tooltip = mpl.toolbar_items[toolbar_ind][1];\n",
       "        var image = mpl.toolbar_items[toolbar_ind][2];\n",
       "        var method_name = mpl.toolbar_items[toolbar_ind][3];\n",
       "\n",
       "        if (!name) { continue; };\n",
       "\n",
       "        var button = $('<button class=\"btn btn-default\" href=\"#\" title=\"' + name + '\"><i class=\"fa ' + image + ' fa-lg\"></i></button>');\n",
       "        button.click(method_name, toolbar_event);\n",
       "        button.mouseover(tooltip, toolbar_mouse_event);\n",
       "        nav_element.append(button);\n",
       "    }\n",
       "\n",
       "    // Add the status bar.\n",
       "    var status_bar = $('<span class=\"mpl-message\" style=\"text-align:right; float: right;\"/>');\n",
       "    nav_element.append(status_bar);\n",
       "    this.message = status_bar[0];\n",
       "\n",
       "    // Add the close button to the window.\n",
       "    var buttongrp = $('<div class=\"btn-group inline pull-right\"></div>');\n",
       "    var button = $('<button class=\"btn btn-mini btn-primary\" href=\"#\" title=\"Stop Interaction\"><i class=\"fa fa-power-off icon-remove icon-large\"></i></button>');\n",
       "    button.click(function (evt) { fig.handle_close(fig, {}); } );\n",
       "    button.mouseover('Stop Interaction', toolbar_mouse_event);\n",
       "    buttongrp.append(button);\n",
       "    var titlebar = this.root.find($('.ui-dialog-titlebar'));\n",
       "    titlebar.prepend(buttongrp);\n",
       "}\n",
       "\n",
       "mpl.figure.prototype._root_extra_style = function(el){\n",
       "    var fig = this\n",
       "    el.on(\"remove\", function(){\n",
       "\tfig.close_ws(fig, {});\n",
       "    });\n",
       "}\n",
       "\n",
       "mpl.figure.prototype._canvas_extra_style = function(el){\n",
       "    // this is important to make the div 'focusable\n",
       "    el.attr('tabindex', 0)\n",
       "    // reach out to IPython and tell the keyboard manager to turn it's self\n",
       "    // off when our div gets focus\n",
       "\n",
       "    // location in version 3\n",
       "    if (IPython.notebook.keyboard_manager) {\n",
       "        IPython.notebook.keyboard_manager.register_events(el);\n",
       "    }\n",
       "    else {\n",
       "        // location in version 2\n",
       "        IPython.keyboard_manager.register_events(el);\n",
       "    }\n",
       "\n",
       "}\n",
       "\n",
       "mpl.figure.prototype._key_event_extra = function(event, name) {\n",
       "    var manager = IPython.notebook.keyboard_manager;\n",
       "    if (!manager)\n",
       "        manager = IPython.keyboard_manager;\n",
       "\n",
       "    // Check for shift+enter\n",
       "    if (event.shiftKey && event.which == 13) {\n",
       "        this.canvas_div.blur();\n",
       "        event.shiftKey = false;\n",
       "        // Send a \"J\" for go to next cell\n",
       "        event.which = 74;\n",
       "        event.keyCode = 74;\n",
       "        manager.command_mode();\n",
       "        manager.handle_keydown(event);\n",
       "    }\n",
       "}\n",
       "\n",
       "mpl.figure.prototype.handle_save = function(fig, msg) {\n",
       "    fig.ondownload(fig, null);\n",
       "}\n",
       "\n",
       "\n",
       "mpl.find_output_cell = function(html_output) {\n",
       "    // Return the cell and output element which can be found *uniquely* in the notebook.\n",
       "    // Note - this is a bit hacky, but it is done because the \"notebook_saving.Notebook\"\n",
       "    // IPython event is triggered only after the cells have been serialised, which for\n",
       "    // our purposes (turning an active figure into a static one), is too late.\n",
       "    var cells = IPython.notebook.get_cells();\n",
       "    var ncells = cells.length;\n",
       "    for (var i=0; i<ncells; i++) {\n",
       "        var cell = cells[i];\n",
       "        if (cell.cell_type === 'code'){\n",
       "            for (var j=0; j<cell.output_area.outputs.length; j++) {\n",
       "                var data = cell.output_area.outputs[j];\n",
       "                if (data.data) {\n",
       "                    // IPython >= 3 moved mimebundle to data attribute of output\n",
       "                    data = data.data;\n",
       "                }\n",
       "                if (data['text/html'] == html_output) {\n",
       "                    return [cell, data, j];\n",
       "                }\n",
       "            }\n",
       "        }\n",
       "    }\n",
       "}\n",
       "\n",
       "// Register the function which deals with the matplotlib target/channel.\n",
       "// The kernel may be null if the page has been refreshed.\n",
       "if (IPython.notebook.kernel != null) {\n",
       "    IPython.notebook.kernel.comm_manager.register_target('matplotlib', mpl.mpl_figure_comm);\n",
       "}\n"
      ],
      "text/plain": [
       "<IPython.core.display.Javascript object>"
      ]
     },
     "metadata": {},
     "output_type": "display_data"
    },
    {
     "data": {
      "text/html": [
       "<img src=\"data:image/png;base64,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\">"
      ],
      "text/plain": [
       "<IPython.core.display.HTML object>"
      ]
     },
     "metadata": {},
     "output_type": "display_data"
    },
    {
     "data": {
      "text/plain": [
       "[<matplotlib.lines.Line2D at 0x79ab6d8>]"
      ]
     },
     "execution_count": 325,
     "metadata": {},
     "output_type": "execute_result"
    }
   ],
   "source": [
    "import matplotlib.pyplot as plt\n",
    "import numpy as np\n",
    "%matplotlib notebook\n",
    "\n",
    "x = np.arange(0, 5, 0.1);\n",
    "plt.figure(1)\n",
    "plt.plot(x, np.sin(x))\n",
    "plt.plot(x, np.cos(x)) # all default"
   ]
  },
  {
   "cell_type": "code",
   "execution_count": 329,
   "metadata": {
    "collapsed": false
   },
   "outputs": [
    {
     "data": {
      "application/javascript": [
       "/* Put everything inside the global mpl namespace */\n",
       "window.mpl = {};\n",
       "\n",
       "mpl.get_websocket_type = function() {\n",
       "    if (typeof(WebSocket) !== 'undefined') {\n",
       "        return WebSocket;\n",
       "    } else if (typeof(MozWebSocket) !== 'undefined') {\n",
       "        return MozWebSocket;\n",
       "    } else {\n",
       "        alert('Your browser does not have WebSocket support.' +\n",
       "              'Please try Chrome, Safari or Firefox ≥ 6. ' +\n",
       "              'Firefox 4 and 5 are also supported but you ' +\n",
       "              'have to enable WebSockets in about:config.');\n",
       "    };\n",
       "}\n",
       "\n",
       "mpl.figure = function(figure_id, websocket, ondownload, parent_element) {\n",
       "    this.id = figure_id;\n",
       "\n",
       "    this.ws = websocket;\n",
       "\n",
       "    this.supports_binary = (this.ws.binaryType != undefined);\n",
       "\n",
       "    if (!this.supports_binary) {\n",
       "        var warnings = document.getElementById(\"mpl-warnings\");\n",
       "        if (warnings) {\n",
       "            warnings.style.display = 'block';\n",
       "            warnings.textContent = (\n",
       "                \"This browser does not support binary websocket messages. \" +\n",
       "                    \"Performance may be slow.\");\n",
       "        }\n",
       "    }\n",
       "\n",
       "    this.imageObj = new Image();\n",
       "\n",
       "    this.context = undefined;\n",
       "    this.message = undefined;\n",
       "    this.canvas = undefined;\n",
       "    this.rubberband_canvas = undefined;\n",
       "    this.rubberband_context = undefined;\n",
       "    this.format_dropdown = undefined;\n",
       "\n",
       "    this.image_mode = 'full';\n",
       "\n",
       "    this.root = $('<div/>');\n",
       "    this._root_extra_style(this.root)\n",
       "    this.root.attr('style', 'display: inline-block');\n",
       "\n",
       "    $(parent_element).append(this.root);\n",
       "\n",
       "    this._init_header(this);\n",
       "    this._init_canvas(this);\n",
       "    this._init_toolbar(this);\n",
       "\n",
       "    var fig = this;\n",
       "\n",
       "    this.waiting = false;\n",
       "\n",
       "    this.ws.onopen =  function () {\n",
       "            fig.send_message(\"supports_binary\", {value: fig.supports_binary});\n",
       "            fig.send_message(\"send_image_mode\", {});\n",
       "            fig.send_message(\"refresh\", {});\n",
       "        }\n",
       "\n",
       "    this.imageObj.onload = function() {\n",
       "            if (fig.image_mode == 'full') {\n",
       "                // Full images could contain transparency (where diff images\n",
       "                // almost always do), so we need to clear the canvas so that\n",
       "                // there is no ghosting.\n",
       "                fig.context.clearRect(0, 0, fig.canvas.width, fig.canvas.height);\n",
       "            }\n",
       "            fig.context.drawImage(fig.imageObj, 0, 0);\n",
       "        };\n",
       "\n",
       "    this.imageObj.onunload = function() {\n",
       "        this.ws.close();\n",
       "    }\n",
       "\n",
       "    this.ws.onmessage = this._make_on_message_function(this);\n",
       "\n",
       "    this.ondownload = ondownload;\n",
       "}\n",
       "\n",
       "mpl.figure.prototype._init_header = function() {\n",
       "    var titlebar = $(\n",
       "        '<div class=\"ui-dialog-titlebar ui-widget-header ui-corner-all ' +\n",
       "        'ui-helper-clearfix\"/>');\n",
       "    var titletext = $(\n",
       "        '<div class=\"ui-dialog-title\" style=\"width: 100%; ' +\n",
       "        'text-align: center; padding: 3px;\"/>');\n",
       "    titlebar.append(titletext)\n",
       "    this.root.append(titlebar);\n",
       "    this.header = titletext[0];\n",
       "}\n",
       "\n",
       "\n",
       "\n",
       "mpl.figure.prototype._canvas_extra_style = function(canvas_div) {\n",
       "\n",
       "}\n",
       "\n",
       "\n",
       "mpl.figure.prototype._root_extra_style = function(canvas_div) {\n",
       "\n",
       "}\n",
       "\n",
       "mpl.figure.prototype._init_canvas = function() {\n",
       "    var fig = this;\n",
       "\n",
       "    var canvas_div = $('<div/>');\n",
       "\n",
       "    canvas_div.attr('style', 'position: relative; clear: both; outline: 0');\n",
       "\n",
       "    function canvas_keyboard_event(event) {\n",
       "        return fig.key_event(event, event['data']);\n",
       "    }\n",
       "\n",
       "    canvas_div.keydown('key_press', canvas_keyboard_event);\n",
       "    canvas_div.keyup('key_release', canvas_keyboard_event);\n",
       "    this.canvas_div = canvas_div\n",
       "    this._canvas_extra_style(canvas_div)\n",
       "    this.root.append(canvas_div);\n",
       "\n",
       "    var canvas = $('<canvas/>');\n",
       "    canvas.addClass('mpl-canvas');\n",
       "    canvas.attr('style', \"left: 0; top: 0; z-index: 0; outline: 0\")\n",
       "\n",
       "    this.canvas = canvas[0];\n",
       "    this.context = canvas[0].getContext(\"2d\");\n",
       "\n",
       "    var rubberband = $('<canvas/>');\n",
       "    rubberband.attr('style', \"position: absolute; left: 0; top: 0; z-index: 1;\")\n",
       "\n",
       "    var pass_mouse_events = true;\n",
       "\n",
       "    canvas_div.resizable({\n",
       "        start: function(event, ui) {\n",
       "            pass_mouse_events = false;\n",
       "        },\n",
       "        resize: function(event, ui) {\n",
       "            fig.request_resize(ui.size.width, ui.size.height);\n",
       "        },\n",
       "        stop: function(event, ui) {\n",
       "            pass_mouse_events = true;\n",
       "            fig.request_resize(ui.size.width, ui.size.height);\n",
       "        },\n",
       "    });\n",
       "\n",
       "    function mouse_event_fn(event) {\n",
       "        if (pass_mouse_events)\n",
       "            return fig.mouse_event(event, event['data']);\n",
       "    }\n",
       "\n",
       "    rubberband.mousedown('button_press', mouse_event_fn);\n",
       "    rubberband.mouseup('button_release', mouse_event_fn);\n",
       "    // Throttle sequential mouse events to 1 every 20ms.\n",
       "    rubberband.mousemove('motion_notify', mouse_event_fn);\n",
       "\n",
       "    rubberband.mouseenter('figure_enter', mouse_event_fn);\n",
       "    rubberband.mouseleave('figure_leave', mouse_event_fn);\n",
       "\n",
       "    canvas_div.on(\"wheel\", function (event) {\n",
       "        event = event.originalEvent;\n",
       "        event['data'] = 'scroll'\n",
       "        if (event.deltaY < 0) {\n",
       "            event.step = 1;\n",
       "        } else {\n",
       "            event.step = -1;\n",
       "        }\n",
       "        mouse_event_fn(event);\n",
       "    });\n",
       "\n",
       "    canvas_div.append(canvas);\n",
       "    canvas_div.append(rubberband);\n",
       "\n",
       "    this.rubberband = rubberband;\n",
       "    this.rubberband_canvas = rubberband[0];\n",
       "    this.rubberband_context = rubberband[0].getContext(\"2d\");\n",
       "    this.rubberband_context.strokeStyle = \"#000000\";\n",
       "\n",
       "    this._resize_canvas = function(width, height) {\n",
       "        // Keep the size of the canvas, canvas container, and rubber band\n",
       "        // canvas in synch.\n",
       "        canvas_div.css('width', width)\n",
       "        canvas_div.css('height', height)\n",
       "\n",
       "        canvas.attr('width', width);\n",
       "        canvas.attr('height', height);\n",
       "\n",
       "        rubberband.attr('width', width);\n",
       "        rubberband.attr('height', height);\n",
       "    }\n",
       "\n",
       "    // Set the figure to an initial 600x600px, this will subsequently be updated\n",
       "    // upon first draw.\n",
       "    this._resize_canvas(600, 600);\n",
       "\n",
       "    // Disable right mouse context menu.\n",
       "    $(this.rubberband_canvas).bind(\"contextmenu\",function(e){\n",
       "        return false;\n",
       "    });\n",
       "\n",
       "    function set_focus () {\n",
       "        canvas.focus();\n",
       "        canvas_div.focus();\n",
       "    }\n",
       "\n",
       "    window.setTimeout(set_focus, 100);\n",
       "}\n",
       "\n",
       "mpl.figure.prototype._init_toolbar = function() {\n",
       "    var fig = this;\n",
       "\n",
       "    var nav_element = $('<div/>')\n",
       "    nav_element.attr('style', 'width: 100%');\n",
       "    this.root.append(nav_element);\n",
       "\n",
       "    // Define a callback function for later on.\n",
       "    function toolbar_event(event) {\n",
       "        return fig.toolbar_button_onclick(event['data']);\n",
       "    }\n",
       "    function toolbar_mouse_event(event) {\n",
       "        return fig.toolbar_button_onmouseover(event['data']);\n",
       "    }\n",
       "\n",
       "    for(var toolbar_ind in mpl.toolbar_items) {\n",
       "        var name = mpl.toolbar_items[toolbar_ind][0];\n",
       "        var tooltip = mpl.toolbar_items[toolbar_ind][1];\n",
       "        var image = mpl.toolbar_items[toolbar_ind][2];\n",
       "        var method_name = mpl.toolbar_items[toolbar_ind][3];\n",
       "\n",
       "        if (!name) {\n",
       "            // put a spacer in here.\n",
       "            continue;\n",
       "        }\n",
       "        var button = $('<button/>');\n",
       "        button.addClass('ui-button ui-widget ui-state-default ui-corner-all ' +\n",
       "                        'ui-button-icon-only');\n",
       "        button.attr('role', 'button');\n",
       "        button.attr('aria-disabled', 'false');\n",
       "        button.click(method_name, toolbar_event);\n",
       "        button.mouseover(tooltip, toolbar_mouse_event);\n",
       "\n",
       "        var icon_img = $('<span/>');\n",
       "        icon_img.addClass('ui-button-icon-primary ui-icon');\n",
       "        icon_img.addClass(image);\n",
       "        icon_img.addClass('ui-corner-all');\n",
       "\n",
       "        var tooltip_span = $('<span/>');\n",
       "        tooltip_span.addClass('ui-button-text');\n",
       "        tooltip_span.html(tooltip);\n",
       "\n",
       "        button.append(icon_img);\n",
       "        button.append(tooltip_span);\n",
       "\n",
       "        nav_element.append(button);\n",
       "    }\n",
       "\n",
       "    var fmt_picker_span = $('<span/>');\n",
       "\n",
       "    var fmt_picker = $('<select/>');\n",
       "    fmt_picker.addClass('mpl-toolbar-option ui-widget ui-widget-content');\n",
       "    fmt_picker_span.append(fmt_picker);\n",
       "    nav_element.append(fmt_picker_span);\n",
       "    this.format_dropdown = fmt_picker[0];\n",
       "\n",
       "    for (var ind in mpl.extensions) {\n",
       "        var fmt = mpl.extensions[ind];\n",
       "        var option = $(\n",
       "            '<option/>', {selected: fmt === mpl.default_extension}).html(fmt);\n",
       "        fmt_picker.append(option)\n",
       "    }\n",
       "\n",
       "    // Add hover states to the ui-buttons\n",
       "    $( \".ui-button\" ).hover(\n",
       "        function() { $(this).addClass(\"ui-state-hover\");},\n",
       "        function() { $(this).removeClass(\"ui-state-hover\");}\n",
       "    );\n",
       "\n",
       "    var status_bar = $('<span class=\"mpl-message\"/>');\n",
       "    nav_element.append(status_bar);\n",
       "    this.message = status_bar[0];\n",
       "}\n",
       "\n",
       "mpl.figure.prototype.request_resize = function(x_pixels, y_pixels) {\n",
       "    // Request matplotlib to resize the figure. Matplotlib will then trigger a resize in the client,\n",
       "    // which will in turn request a refresh of the image.\n",
       "    this.send_message('resize', {'width': x_pixels, 'height': y_pixels});\n",
       "}\n",
       "\n",
       "mpl.figure.prototype.send_message = function(type, properties) {\n",
       "    properties['type'] = type;\n",
       "    properties['figure_id'] = this.id;\n",
       "    this.ws.send(JSON.stringify(properties));\n",
       "}\n",
       "\n",
       "mpl.figure.prototype.send_draw_message = function() {\n",
       "    if (!this.waiting) {\n",
       "        this.waiting = true;\n",
       "        this.ws.send(JSON.stringify({type: \"draw\", figure_id: this.id}));\n",
       "    }\n",
       "}\n",
       "\n",
       "\n",
       "mpl.figure.prototype.handle_save = function(fig, msg) {\n",
       "    var format_dropdown = fig.format_dropdown;\n",
       "    var format = format_dropdown.options[format_dropdown.selectedIndex].value;\n",
       "    fig.ondownload(fig, format);\n",
       "}\n",
       "\n",
       "\n",
       "mpl.figure.prototype.handle_resize = function(fig, msg) {\n",
       "    var size = msg['size'];\n",
       "    if (size[0] != fig.canvas.width || size[1] != fig.canvas.height) {\n",
       "        fig._resize_canvas(size[0], size[1]);\n",
       "        fig.send_message(\"refresh\", {});\n",
       "    };\n",
       "}\n",
       "\n",
       "mpl.figure.prototype.handle_rubberband = function(fig, msg) {\n",
       "    var x0 = msg['x0'];\n",
       "    var y0 = fig.canvas.height - msg['y0'];\n",
       "    var x1 = msg['x1'];\n",
       "    var y1 = fig.canvas.height - msg['y1'];\n",
       "    x0 = Math.floor(x0) + 0.5;\n",
       "    y0 = Math.floor(y0) + 0.5;\n",
       "    x1 = Math.floor(x1) + 0.5;\n",
       "    y1 = Math.floor(y1) + 0.5;\n",
       "    var min_x = Math.min(x0, x1);\n",
       "    var min_y = Math.min(y0, y1);\n",
       "    var width = Math.abs(x1 - x0);\n",
       "    var height = Math.abs(y1 - y0);\n",
       "\n",
       "    fig.rubberband_context.clearRect(\n",
       "        0, 0, fig.canvas.width, fig.canvas.height);\n",
       "\n",
       "    fig.rubberband_context.strokeRect(min_x, min_y, width, height);\n",
       "}\n",
       "\n",
       "mpl.figure.prototype.handle_figure_label = function(fig, msg) {\n",
       "    // Updates the figure title.\n",
       "    fig.header.textContent = msg['label'];\n",
       "}\n",
       "\n",
       "mpl.figure.prototype.handle_cursor = function(fig, msg) {\n",
       "    var cursor = msg['cursor'];\n",
       "    switch(cursor)\n",
       "    {\n",
       "    case 0:\n",
       "        cursor = 'pointer';\n",
       "        break;\n",
       "    case 1:\n",
       "        cursor = 'default';\n",
       "        break;\n",
       "    case 2:\n",
       "        cursor = 'crosshair';\n",
       "        break;\n",
       "    case 3:\n",
       "        cursor = 'move';\n",
       "        break;\n",
       "    }\n",
       "    fig.rubberband_canvas.style.cursor = cursor;\n",
       "}\n",
       "\n",
       "mpl.figure.prototype.handle_message = function(fig, msg) {\n",
       "    fig.message.textContent = msg['message'];\n",
       "}\n",
       "\n",
       "mpl.figure.prototype.handle_draw = function(fig, msg) {\n",
       "    // Request the server to send over a new figure.\n",
       "    fig.send_draw_message();\n",
       "}\n",
       "\n",
       "mpl.figure.prototype.handle_image_mode = function(fig, msg) {\n",
       "    fig.image_mode = msg['mode'];\n",
       "}\n",
       "\n",
       "mpl.figure.prototype.updated_canvas_event = function() {\n",
       "    // Called whenever the canvas gets updated.\n",
       "    this.send_message(\"ack\", {});\n",
       "}\n",
       "\n",
       "// A function to construct a web socket function for onmessage handling.\n",
       "// Called in the figure constructor.\n",
       "mpl.figure.prototype._make_on_message_function = function(fig) {\n",
       "    return function socket_on_message(evt) {\n",
       "        if (evt.data instanceof Blob) {\n",
       "            /* FIXME: We get \"Resource interpreted as Image but\n",
       "             * transferred with MIME type text/plain:\" errors on\n",
       "             * Chrome.  But how to set the MIME type?  It doesn't seem\n",
       "             * to be part of the websocket stream */\n",
       "            evt.data.type = \"image/png\";\n",
       "\n",
       "            /* Free the memory for the previous frames */\n",
       "            if (fig.imageObj.src) {\n",
       "                (window.URL || window.webkitURL).revokeObjectURL(\n",
       "                    fig.imageObj.src);\n",
       "            }\n",
       "\n",
       "            fig.imageObj.src = (window.URL || window.webkitURL).createObjectURL(\n",
       "                evt.data);\n",
       "            fig.updated_canvas_event();\n",
       "            fig.waiting = false;\n",
       "            return;\n",
       "        }\n",
       "        else if (typeof evt.data === 'string' && evt.data.slice(0, 21) == \"data:image/png;base64\") {\n",
       "            fig.imageObj.src = evt.data;\n",
       "            fig.updated_canvas_event();\n",
       "            fig.waiting = false;\n",
       "            return;\n",
       "        }\n",
       "\n",
       "        var msg = JSON.parse(evt.data);\n",
       "        var msg_type = msg['type'];\n",
       "\n",
       "        // Call the  \"handle_{type}\" callback, which takes\n",
       "        // the figure and JSON message as its only arguments.\n",
       "        try {\n",
       "            var callback = fig[\"handle_\" + msg_type];\n",
       "        } catch (e) {\n",
       "            console.log(\"No handler for the '\" + msg_type + \"' message type: \", msg);\n",
       "            return;\n",
       "        }\n",
       "\n",
       "        if (callback) {\n",
       "            try {\n",
       "                // console.log(\"Handling '\" + msg_type + \"' message: \", msg);\n",
       "                callback(fig, msg);\n",
       "            } catch (e) {\n",
       "                console.log(\"Exception inside the 'handler_\" + msg_type + \"' callback:\", e, e.stack, msg);\n",
       "            }\n",
       "        }\n",
       "    };\n",
       "}\n",
       "\n",
       "// from http://stackoverflow.com/questions/1114465/getting-mouse-location-in-canvas\n",
       "mpl.findpos = function(e) {\n",
       "    //this section is from http://www.quirksmode.org/js/events_properties.html\n",
       "    var targ;\n",
       "    if (!e)\n",
       "        e = window.event;\n",
       "    if (e.target)\n",
       "        targ = e.target;\n",
       "    else if (e.srcElement)\n",
       "        targ = e.srcElement;\n",
       "    if (targ.nodeType == 3) // defeat Safari bug\n",
       "        targ = targ.parentNode;\n",
       "\n",
       "    // jQuery normalizes the pageX and pageY\n",
       "    // pageX,Y are the mouse positions relative to the document\n",
       "    // offset() returns the position of the element relative to the document\n",
       "    var x = e.pageX - $(targ).offset().left;\n",
       "    var y = e.pageY - $(targ).offset().top;\n",
       "\n",
       "    return {\"x\": x, \"y\": y};\n",
       "};\n",
       "\n",
       "/*\n",
       " * return a copy of an object with only non-object keys\n",
       " * we need this to avoid circular references\n",
       " * http://stackoverflow.com/a/24161582/3208463\n",
       " */\n",
       "function simpleKeys (original) {\n",
       "  return Object.keys(original).reduce(function (obj, key) {\n",
       "    if (typeof original[key] !== 'object')\n",
       "        obj[key] = original[key]\n",
       "    return obj;\n",
       "  }, {});\n",
       "}\n",
       "\n",
       "mpl.figure.prototype.mouse_event = function(event, name) {\n",
       "    var canvas_pos = mpl.findpos(event)\n",
       "\n",
       "    if (name === 'button_press')\n",
       "    {\n",
       "        this.canvas.focus();\n",
       "        this.canvas_div.focus();\n",
       "    }\n",
       "\n",
       "    var x = canvas_pos.x;\n",
       "    var y = canvas_pos.y;\n",
       "\n",
       "    this.send_message(name, {x: x, y: y, button: event.button,\n",
       "                             step: event.step,\n",
       "                             guiEvent: simpleKeys(event)});\n",
       "\n",
       "    /* This prevents the web browser from automatically changing to\n",
       "     * the text insertion cursor when the button is pressed.  We want\n",
       "     * to control all of the cursor setting manually through the\n",
       "     * 'cursor' event from matplotlib */\n",
       "    event.preventDefault();\n",
       "    return false;\n",
       "}\n",
       "\n",
       "mpl.figure.prototype._key_event_extra = function(event, name) {\n",
       "    // Handle any extra behaviour associated with a key event\n",
       "}\n",
       "\n",
       "mpl.figure.prototype.key_event = function(event, name) {\n",
       "\n",
       "    // Prevent repeat events\n",
       "    if (name == 'key_press')\n",
       "    {\n",
       "        if (event.which === this._key)\n",
       "            return;\n",
       "        else\n",
       "            this._key = event.which;\n",
       "    }\n",
       "    if (name == 'key_release')\n",
       "        this._key = null;\n",
       "\n",
       "    var value = '';\n",
       "    if (event.ctrlKey && event.which != 17)\n",
       "        value += \"ctrl+\";\n",
       "    if (event.altKey && event.which != 18)\n",
       "        value += \"alt+\";\n",
       "    if (event.shiftKey && event.which != 16)\n",
       "        value += \"shift+\";\n",
       "\n",
       "    value += 'k';\n",
       "    value += event.which.toString();\n",
       "\n",
       "    this._key_event_extra(event, name);\n",
       "\n",
       "    this.send_message(name, {key: value,\n",
       "                             guiEvent: simpleKeys(event)});\n",
       "    return false;\n",
       "}\n",
       "\n",
       "mpl.figure.prototype.toolbar_button_onclick = function(name) {\n",
       "    if (name == 'download') {\n",
       "        this.handle_save(this, null);\n",
       "    } else {\n",
       "        this.send_message(\"toolbar_button\", {name: name});\n",
       "    }\n",
       "};\n",
       "\n",
       "mpl.figure.prototype.toolbar_button_onmouseover = function(tooltip) {\n",
       "    this.message.textContent = tooltip;\n",
       "};\n",
       "mpl.toolbar_items = [[\"Home\", \"Reset original view\", \"fa fa-home icon-home\", \"home\"], [\"Back\", \"Back to  previous view\", \"fa fa-arrow-left icon-arrow-left\", \"back\"], [\"Forward\", \"Forward to next view\", \"fa fa-arrow-right icon-arrow-right\", \"forward\"], [\"\", \"\", \"\", \"\"], [\"Pan\", \"Pan axes with left mouse, zoom with right\", \"fa fa-arrows icon-move\", \"pan\"], [\"Zoom\", \"Zoom to rectangle\", \"fa fa-square-o icon-check-empty\", \"zoom\"], [\"\", \"\", \"\", \"\"], [\"Download\", \"Download plot\", \"fa fa-floppy-o icon-save\", \"download\"]];\n",
       "\n",
       "mpl.extensions = [\"eps\", \"jpeg\", \"pdf\", \"png\", \"ps\", \"raw\", \"svg\", \"tif\"];\n",
       "\n",
       "mpl.default_extension = \"png\";var comm_websocket_adapter = function(comm) {\n",
       "    // Create a \"websocket\"-like object which calls the given IPython comm\n",
       "    // object with the appropriate methods. Currently this is a non binary\n",
       "    // socket, so there is still some room for performance tuning.\n",
       "    var ws = {};\n",
       "\n",
       "    ws.close = function() {\n",
       "        comm.close()\n",
       "    };\n",
       "    ws.send = function(m) {\n",
       "        //console.log('sending', m);\n",
       "        comm.send(m);\n",
       "    };\n",
       "    // Register the callback with on_msg.\n",
       "    comm.on_msg(function(msg) {\n",
       "        //console.log('receiving', msg['content']['data'], msg);\n",
       "        // Pass the mpl event to the overriden (by mpl) onmessage function.\n",
       "        ws.onmessage(msg['content']['data'])\n",
       "    });\n",
       "    return ws;\n",
       "}\n",
       "\n",
       "mpl.mpl_figure_comm = function(comm, msg) {\n",
       "    // This is the function which gets called when the mpl process\n",
       "    // starts-up an IPython Comm through the \"matplotlib\" channel.\n",
       "\n",
       "    var id = msg.content.data.id;\n",
       "    // Get hold of the div created by the display call when the Comm\n",
       "    // socket was opened in Python.\n",
       "    var element = $(\"#\" + id);\n",
       "    var ws_proxy = comm_websocket_adapter(comm)\n",
       "\n",
       "    function ondownload(figure, format) {\n",
       "        window.open(figure.imageObj.src);\n",
       "    }\n",
       "\n",
       "    var fig = new mpl.figure(id, ws_proxy,\n",
       "                           ondownload,\n",
       "                           element.get(0));\n",
       "\n",
       "    // Call onopen now - mpl needs it, as it is assuming we've passed it a real\n",
       "    // web socket which is closed, not our websocket->open comm proxy.\n",
       "    ws_proxy.onopen();\n",
       "\n",
       "    fig.parent_element = element.get(0);\n",
       "    fig.cell_info = mpl.find_output_cell(\"<div id='\" + id + \"'></div>\");\n",
       "    if (!fig.cell_info) {\n",
       "        console.error(\"Failed to find cell for figure\", id, fig);\n",
       "        return;\n",
       "    }\n",
       "\n",
       "    var output_index = fig.cell_info[2]\n",
       "    var cell = fig.cell_info[0];\n",
       "\n",
       "};\n",
       "\n",
       "mpl.figure.prototype.handle_close = function(fig, msg) {\n",
       "    fig.root.unbind('remove')\n",
       "\n",
       "    // Update the output cell to use the data from the current canvas.\n",
       "    fig.push_to_output();\n",
       "    var dataURL = fig.canvas.toDataURL();\n",
       "    // Re-enable the keyboard manager in IPython - without this line, in FF,\n",
       "    // the notebook keyboard shortcuts fail.\n",
       "    IPython.keyboard_manager.enable()\n",
       "    $(fig.parent_element).html('<img src=\"' + dataURL + '\">');\n",
       "    fig.close_ws(fig, msg);\n",
       "}\n",
       "\n",
       "mpl.figure.prototype.close_ws = function(fig, msg){\n",
       "    fig.send_message('closing', msg);\n",
       "    // fig.ws.close()\n",
       "}\n",
       "\n",
       "mpl.figure.prototype.push_to_output = function(remove_interactive) {\n",
       "    // Turn the data on the canvas into data in the output cell.\n",
       "    var dataURL = this.canvas.toDataURL();\n",
       "    this.cell_info[1]['text/html'] = '<img src=\"' + dataURL + '\">';\n",
       "}\n",
       "\n",
       "mpl.figure.prototype.updated_canvas_event = function() {\n",
       "    // Tell IPython that the notebook contents must change.\n",
       "    IPython.notebook.set_dirty(true);\n",
       "    this.send_message(\"ack\", {});\n",
       "    var fig = this;\n",
       "    // Wait a second, then push the new image to the DOM so\n",
       "    // that it is saved nicely (might be nice to debounce this).\n",
       "    setTimeout(function () { fig.push_to_output() }, 1000);\n",
       "}\n",
       "\n",
       "mpl.figure.prototype._init_toolbar = function() {\n",
       "    var fig = this;\n",
       "\n",
       "    var nav_element = $('<div/>')\n",
       "    nav_element.attr('style', 'width: 100%');\n",
       "    this.root.append(nav_element);\n",
       "\n",
       "    // Define a callback function for later on.\n",
       "    function toolbar_event(event) {\n",
       "        return fig.toolbar_button_onclick(event['data']);\n",
       "    }\n",
       "    function toolbar_mouse_event(event) {\n",
       "        return fig.toolbar_button_onmouseover(event['data']);\n",
       "    }\n",
       "\n",
       "    for(var toolbar_ind in mpl.toolbar_items){\n",
       "        var name = mpl.toolbar_items[toolbar_ind][0];\n",
       "        var tooltip = mpl.toolbar_items[toolbar_ind][1];\n",
       "        var image = mpl.toolbar_items[toolbar_ind][2];\n",
       "        var method_name = mpl.toolbar_items[toolbar_ind][3];\n",
       "\n",
       "        if (!name) { continue; };\n",
       "\n",
       "        var button = $('<button class=\"btn btn-default\" href=\"#\" title=\"' + name + '\"><i class=\"fa ' + image + ' fa-lg\"></i></button>');\n",
       "        button.click(method_name, toolbar_event);\n",
       "        button.mouseover(tooltip, toolbar_mouse_event);\n",
       "        nav_element.append(button);\n",
       "    }\n",
       "\n",
       "    // Add the status bar.\n",
       "    var status_bar = $('<span class=\"mpl-message\" style=\"text-align:right; float: right;\"/>');\n",
       "    nav_element.append(status_bar);\n",
       "    this.message = status_bar[0];\n",
       "\n",
       "    // Add the close button to the window.\n",
       "    var buttongrp = $('<div class=\"btn-group inline pull-right\"></div>');\n",
       "    var button = $('<button class=\"btn btn-mini btn-primary\" href=\"#\" title=\"Stop Interaction\"><i class=\"fa fa-power-off icon-remove icon-large\"></i></button>');\n",
       "    button.click(function (evt) { fig.handle_close(fig, {}); } );\n",
       "    button.mouseover('Stop Interaction', toolbar_mouse_event);\n",
       "    buttongrp.append(button);\n",
       "    var titlebar = this.root.find($('.ui-dialog-titlebar'));\n",
       "    titlebar.prepend(buttongrp);\n",
       "}\n",
       "\n",
       "mpl.figure.prototype._root_extra_style = function(el){\n",
       "    var fig = this\n",
       "    el.on(\"remove\", function(){\n",
       "\tfig.close_ws(fig, {});\n",
       "    });\n",
       "}\n",
       "\n",
       "mpl.figure.prototype._canvas_extra_style = function(el){\n",
       "    // this is important to make the div 'focusable\n",
       "    el.attr('tabindex', 0)\n",
       "    // reach out to IPython and tell the keyboard manager to turn it's self\n",
       "    // off when our div gets focus\n",
       "\n",
       "    // location in version 3\n",
       "    if (IPython.notebook.keyboard_manager) {\n",
       "        IPython.notebook.keyboard_manager.register_events(el);\n",
       "    }\n",
       "    else {\n",
       "        // location in version 2\n",
       "        IPython.keyboard_manager.register_events(el);\n",
       "    }\n",
       "\n",
       "}\n",
       "\n",
       "mpl.figure.prototype._key_event_extra = function(event, name) {\n",
       "    var manager = IPython.notebook.keyboard_manager;\n",
       "    if (!manager)\n",
       "        manager = IPython.keyboard_manager;\n",
       "\n",
       "    // Check for shift+enter\n",
       "    if (event.shiftKey && event.which == 13) {\n",
       "        this.canvas_div.blur();\n",
       "        event.shiftKey = false;\n",
       "        // Send a \"J\" for go to next cell\n",
       "        event.which = 74;\n",
       "        event.keyCode = 74;\n",
       "        manager.command_mode();\n",
       "        manager.handle_keydown(event);\n",
       "    }\n",
       "}\n",
       "\n",
       "mpl.figure.prototype.handle_save = function(fig, msg) {\n",
       "    fig.ondownload(fig, null);\n",
       "}\n",
       "\n",
       "\n",
       "mpl.find_output_cell = function(html_output) {\n",
       "    // Return the cell and output element which can be found *uniquely* in the notebook.\n",
       "    // Note - this is a bit hacky, but it is done because the \"notebook_saving.Notebook\"\n",
       "    // IPython event is triggered only after the cells have been serialised, which for\n",
       "    // our purposes (turning an active figure into a static one), is too late.\n",
       "    var cells = IPython.notebook.get_cells();\n",
       "    var ncells = cells.length;\n",
       "    for (var i=0; i<ncells; i++) {\n",
       "        var cell = cells[i];\n",
       "        if (cell.cell_type === 'code'){\n",
       "            for (var j=0; j<cell.output_area.outputs.length; j++) {\n",
       "                var data = cell.output_area.outputs[j];\n",
       "                if (data.data) {\n",
       "                    // IPython >= 3 moved mimebundle to data attribute of output\n",
       "                    data = data.data;\n",
       "                }\n",
       "                if (data['text/html'] == html_output) {\n",
       "                    return [cell, data, j];\n",
       "                }\n",
       "            }\n",
       "        }\n",
       "    }\n",
       "}\n",
       "\n",
       "// Register the function which deals with the matplotlib target/channel.\n",
       "// The kernel may be null if the page has been refreshed.\n",
       "if (IPython.notebook.kernel != null) {\n",
       "    IPython.notebook.kernel.comm_manager.register_target('matplotlib', mpl.mpl_figure_comm);\n",
       "}\n"
      ],
      "text/plain": [
       "<IPython.core.display.Javascript object>"
      ]
     },
     "metadata": {},
     "output_type": "display_data"
    },
    {
     "data": {
      "text/html": [
       "<img src=\"data:image/png;base64,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\">"
      ],
      "text/plain": [
       "<IPython.core.display.HTML object>"
      ]
     },
     "metadata": {},
     "output_type": "display_data"
    },
    {
     "data": {
      "text/plain": [
       "[<matplotlib.lines.Line2D at 0x9754940>]"
      ]
     },
     "execution_count": 329,
     "metadata": {},
     "output_type": "execute_result"
    }
   ],
   "source": [
    "plt.figure(2)\n",
    "plt.plot(x, np.sin(x), 'r-', linewidth=3)\n",
    "plt.plot(x, np.cos(x), 'bo', linewidth=3) # some custmization"
   ]
  },
  {
   "cell_type": "code",
   "execution_count": null,
   "metadata": {
    "collapsed": true
   },
   "outputs": [],
   "source": []
  }
 ],
 "metadata": {
  "kernelspec": {
   "display_name": "Python 2",
   "language": "python",
   "name": "python2"
  },
  "language_info": {
   "codemirror_mode": {
    "name": "ipython",
    "version": 2
   },
   "file_extension": ".py",
   "mimetype": "text/x-python",
   "name": "python",
   "nbconvert_exporter": "python",
   "pygments_lexer": "ipython2",
   "version": "2.7.13"
  }
 },
 "nbformat": 4,
 "nbformat_minor": 2
}
