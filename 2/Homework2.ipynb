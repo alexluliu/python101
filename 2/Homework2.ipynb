{
 "cells": [
  {
   "cell_type": "markdown",
   "metadata": {},
   "source": [
    "# 1. 字数统计\n",
    "\n",
    "写一个函数function，统计英文文章的词频，返回最高频率的词\n",
    "\n",
    "用essay.txt去测试你的结果"
   ]
  },
  {
   "cell_type": "code",
   "execution_count": null,
   "metadata": {
    "collapsed": true
   },
   "outputs": [],
   "source": [
    "# your solution here"
   ]
  },
  {
   "cell_type": "markdown",
   "metadata": {},
   "source": [
    "# 2 营业额统计"
   ]
  },
  {
   "cell_type": "markdown",
   "metadata": {},
   "source": [
    "读取revnuetable.csv，统计每人的总营业额总时间和平均营业额/小时，输出如下csv, xxx表示你算出来的统计数据\n",
    "\n",
    "Name,totalrevnue,totalhours,revnueperhour\n",
    "\n",
    "Name1,xxx,xxx,xxx\n",
    "\n",
    "Name2,xxx,xxx,xxx"
   ]
  },
  {
   "cell_type": "code",
   "execution_count": 1,
   "metadata": {
    "collapsed": true
   },
   "outputs": [],
   "source": [
    "# your solution here"
   ]
  },
  {
   "cell_type": "code",
   "execution_count": null,
   "metadata": {
    "collapsed": true
   },
   "outputs": [],
   "source": []
  }
 ],
 "metadata": {
  "kernelspec": {
   "display_name": "Python 2",
   "language": "python",
   "name": "python2"
  },
  "language_info": {
   "codemirror_mode": {
    "name": "ipython",
    "version": 2
   },
   "file_extension": ".py",
   "mimetype": "text/x-python",
   "name": "python",
   "nbconvert_exporter": "python",
   "pygments_lexer": "ipython2",
   "version": "2.7.14"
  }
 },
 "nbformat": 4,
 "nbformat_minor": 2
}
