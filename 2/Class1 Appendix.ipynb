{
 "cells": [
  {
   "cell_type": "markdown",
   "metadata": {},
   "source": [
    "# 1 Python 安装"
   ]
  },
  {
   "cell_type": "markdown",
   "metadata": {},
   "source": [
    "请无基础的同学务必安装Anaconda for python2。Python version以及module的管理对初学者不是那么容易，而Anaconda基本解决了双击安装，无需加各种扩展包的问题。\n",
    "\n",
    "如果不想应付PATH环境变量的问题，请勾选让Anaconda把自己加入PATH环境变量. \n",
    "\n",
    "https://www.anaconda.com/downloads\n",
    "\n",
    "如何确定安装成功？\n",
    "\n",
    "cmd or terminal -> python 然后看版本"
   ]
  },
  {
   "cell_type": "markdown",
   "metadata": {},
   "source": [
    "# 2 Jupyter Notebook和Python, 写代码的姿势，其他的开发环境"
   ]
  },
  {
   "cell_type": "markdown",
   "metadata": {},
   "source": [
    "Python代码的后缀名是.py. Python有非常原始的命令行环境. \n",
    "\n",
    "Jupyter可以理解成网页版的一个python的开发环境。允许代码逐块运行，并且共享变量名，以及集成文档可视化的功能. ipynb可以理解为py包了一层网页的外表。"
   ]
  },
  {
   "cell_type": "markdown",
   "metadata": {},
   "source": [
    "这里我们举一个非常简单的开发例子，上节课的作业之一阶乘\n",
    "\n",
    "#### a. 在Jupyter里面写\n",
    "#### b. 在vs code里面写\n",
    "#### c. 在spyder里面写，类似于Matlab和Rstudio\n",
    "#### d. 如何复用我们的代码"
   ]
  },
  {
   "cell_type": "markdown",
   "metadata": {},
   "source": [
    "# 3. 命令行学习"
   ]
  },
  {
   "cell_type": "markdown",
   "metadata": {},
   "source": [
    "命令行并不是本课程的内容， 但学习编程操作系统的命令行cmd/terminal是一个必须过的坎，基本的命令行常识是需要的。在各种平台都必须掌握这几个命令\n",
    "\n",
    "ls, dir\n",
    "\n",
    "cd\n",
    "\n",
    "app 参数1 参数2 ..."
   ]
  },
  {
   "cell_type": "markdown",
   "metadata": {},
   "source": [
    "# 4. 有问题? 请微信提问\n",
    "零编程经验，太基础的问题和困惑，如果你不问，后面会跟不上。我至少会给你找资料帮助你。\n",
    "\n",
    "课程知识点的问题，问答也会让其他同学受益\n",
    "\n",
    "应用层面的问题比如数据处理，算法实现，图像处理，我们一起研究，互相学习\n"
   ]
  },
  {
   "cell_type": "markdown",
   "metadata": {},
   "source": [
    "# 5 作业1的答案详解将于周五上传"
   ]
  },
  {
   "cell_type": "code",
   "execution_count": null,
   "metadata": {
    "collapsed": true
   },
   "outputs": [],
   "source": []
  }
 ],
 "metadata": {
  "kernelspec": {
   "display_name": "Python 2",
   "language": "python",
   "name": "python2"
  },
  "language_info": {
   "codemirror_mode": {
    "name": "ipython",
    "version": 2
   },
   "file_extension": ".py",
   "mimetype": "text/x-python",
   "name": "python",
   "nbconvert_exporter": "python",
   "pygments_lexer": "ipython2",
   "version": "2.7.14"
  }
 },
 "nbformat": 4,
 "nbformat_minor": 2
}
