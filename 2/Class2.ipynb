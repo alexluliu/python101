{
 "cells": [
  {
   "cell_type": "markdown",
   "metadata": {},
   "source": [
    "# Class 2 Python 进阶"
   ]
  },
  {
   "cell_type": "markdown",
   "metadata": {},
   "source": [
    "# 2.1 List/Dictionary Comprehension 列表字典解析"
   ]
  },
  {
   "cell_type": "markdown",
   "metadata": {},
   "source": [
    "## 2.1.1 列表解析\n",
    "\n",
    "列表解析式是将一个列表（实际上适用于任何可迭代对象（iterable））转换成另一个列表的工具。在转换过程中，可以指定元素必须符合一定的条件，才能添加至新的列表中，这样每个元素都可以按需要进行转换。\n",
    "\n",
    "可以理解为一个简化形式的for 循环\n",
    "\n",
    "基本格式：\n",
    "\n",
    "[表达式0 for var in 可遍历的变量 if 表达式2]\n",
    "\n",
    "所有的列表解析都能通过标准的for if 来完成，主要功能是缩短代码和弱化底层的逻辑结构"
   ]
  },
  {
   "cell_type": "markdown",
   "metadata": {},
   "source": [
    "### 例0 构造一个list，里面包含0-9的平方"
   ]
  },
  {
   "cell_type": "code",
   "execution_count": 10,
   "metadata": {
    "collapsed": false
   },
   "outputs": [
    {
     "data": {
      "text/plain": [
       "[0, 1, 4, 9, 16, 25, 36, 49, 64, 81]"
      ]
     },
     "execution_count": 10,
     "metadata": {},
     "output_type": "execute_result"
    }
   ],
   "source": [
    "# 构造一个list，0-19的平方\n",
    "powerlist = []\n",
    "for i in range(10):\n",
    "    powerlist.append(i ** 2)\n",
    "powerlist"
   ]
  },
  {
   "cell_type": "code",
   "execution_count": 12,
   "metadata": {
    "collapsed": false
   },
   "outputs": [
    {
     "data": {
      "text/plain": [
       "[0, 1, 4, 9, 16, 25, 36, 49, 64, 81]"
      ]
     },
     "execution_count": 12,
     "metadata": {},
     "output_type": "execute_result"
    }
   ],
   "source": [
    "# 构造一个list，0-19的平方\n",
    "powerlist = [i ** 2 for i in range(10)]\n",
    "powerlist"
   ]
  },
  {
   "cell_type": "markdown",
   "metadata": {},
   "source": [
    "### 例1. add \"Hello, \" before the string\n",
    "Input: ['Python2.7', 'Cpython', 'Python3.4', 'Perl5.0', 'Lua', 'Python3.6', 'Powershell']"
   ]
  },
  {
   "cell_type": "markdown",
   "metadata": {},
   "source": [
    "#### 普通for 循环"
   ]
  },
  {
   "cell_type": "code",
   "execution_count": 13,
   "metadata": {
    "collapsed": false
   },
   "outputs": [
    {
     "data": {
      "text/plain": [
       "['Hello, Python2.7',\n",
       " 'Hello, Cpython',\n",
       " 'Hello, Python3.4',\n",
       " 'Hello, Perbl5.0',\n",
       " 'Hello, Lua',\n",
       " 'Hello, Python3.6',\n",
       " 'Hello, Powershell']"
      ]
     },
     "execution_count": 13,
     "metadata": {},
     "output_type": "execute_result"
    }
   ],
   "source": [
    "inputstrings =  ['Python2.7', 'Cpython', 'Python3.4', 'Perbl5.0', 'Lua', 'Python3.6', 'Powershell']\n",
    "outputstrings = []\n",
    "for item in inputstrings:\n",
    "    moditem  = \"Hello, \" + item # 在每个元素前面加 'Hello'\n",
    "    outputstrings.append(moditem) # 加入要生成的list\n",
    "outputstrings"
   ]
  },
  {
   "cell_type": "markdown",
   "metadata": {},
   "source": [
    "#### 列表解析"
   ]
  },
  {
   "cell_type": "code",
   "execution_count": 14,
   "metadata": {
    "collapsed": false
   },
   "outputs": [
    {
     "data": {
      "text/plain": [
       "['Hello, Python2.7',\n",
       " 'Hello, Cpython',\n",
       " 'Hello, Python3.4',\n",
       " 'Hello, Perbl5.0',\n",
       " 'Hello, Lua',\n",
       " 'Hello, Python3.6',\n",
       " 'Hello, Powershell']"
      ]
     },
     "execution_count": 14,
     "metadata": {},
     "output_type": "execute_result"
    }
   ],
   "source": [
    "inputstrings =  ['Python2.7', 'Cpython', 'Python3.4', 'Perbl5.0', 'Lua', 'Python3.6', 'Powershell']\n",
    "outputstrings = [\"Hello, \" + item for item in inputstrings]\n",
    "outputstrings"
   ]
  },
  {
   "cell_type": "markdown",
   "metadata": {},
   "source": [
    "#### 在列表解析中加入if\n",
    "only keep python related and add \"Hello, \" before the string"
   ]
  },
  {
   "cell_type": "code",
   "execution_count": 15,
   "metadata": {
    "collapsed": false
   },
   "outputs": [
    {
     "data": {
      "text/plain": [
       "['Hello, Python2.7', 'Hello, Cpython', 'Hello, Python3.4', 'Hello, Python3.6']"
      ]
     },
     "execution_count": 15,
     "metadata": {},
     "output_type": "execute_result"
    }
   ],
   "source": [
    "inputstrings =  ['Python2.7', 'Cpython', 'Python3.4', 'Perbl5.0', 'Lua', 'Python3.6', 'Powershell']\n",
    "outputstrings = [\"Hello, \" + item for item in inputstrings if 'python' in item.lower()]\n",
    "outputstrings"
   ]
  },
  {
   "cell_type": "markdown",
   "metadata": {},
   "source": [
    "### 例2. 求0-99的所有被7整除的数，并且求它们的平方和"
   ]
  },
  {
   "cell_type": "markdown",
   "metadata": {},
   "source": [
    "#### for and if"
   ]
  },
  {
   "cell_type": "code",
   "execution_count": 16,
   "metadata": {
    "collapsed": false
   },
   "outputs": [
    {
     "data": {
      "text/plain": [
       "49735"
      ]
     },
     "execution_count": 16,
     "metadata": {},
     "output_type": "execute_result"
    }
   ],
   "source": [
    "n = 100\n",
    "sqs = []\n",
    "for i in range(n):\n",
    "    if i % 7 == 0:\n",
    "        sqs.append(i ** 2)\n",
    "result = sum(sqs)\n",
    "result"
   ]
  },
  {
   "cell_type": "markdown",
   "metadata": {},
   "source": [
    "#### 列表解析"
   ]
  },
  {
   "cell_type": "code",
   "execution_count": 17,
   "metadata": {
    "collapsed": false
   },
   "outputs": [
    {
     "data": {
      "text/plain": [
       "49735"
      ]
     },
     "execution_count": 17,
     "metadata": {},
     "output_type": "execute_result"
    }
   ],
   "source": [
    "n = 100\n",
    "result = sum([i ** 2 for i in range(n) if i % 7 ==0]) # for if inline with reasonable clear logic\n",
    "result"
   ]
  },
  {
   "cell_type": "code",
   "execution_count": 18,
   "metadata": {
    "collapsed": true
   },
   "outputs": [],
   "source": [
    "def nseven1(n):\n",
    "    sqs = []\n",
    "    for i in range(n):\n",
    "        if i % 7 == 0:\n",
    "            sqs.append(i ** 2)\n",
    "    result = sum(sqs)\n",
    "    return result\n",
    "\n",
    "def nseven2(n):\n",
    "    result = sum([i ** 2 for i in range(n) if i % 7 ==0]) # for if inline with reasonable clear logic\n",
    "    result"
   ]
  },
  {
   "cell_type": "markdown",
   "metadata": {},
   "source": [
    "#### 速度比较\n",
    "快一些，不质变"
   ]
  },
  {
   "cell_type": "code",
   "execution_count": 19,
   "metadata": {
    "collapsed": false
   },
   "outputs": [
    {
     "name": "stdout",
     "output_type": "stream",
     "text": [
      "The slowest run took 15.03 times longer than the fastest. This could mean that an intermediate result is being cached.\n",
      "100 loops, best of 3: 1.16 ms per loop\n"
     ]
    }
   ],
   "source": [
    "%timeit nseven1(10000)"
   ]
  },
  {
   "cell_type": "code",
   "execution_count": 20,
   "metadata": {
    "collapsed": false
   },
   "outputs": [
    {
     "name": "stdout",
     "output_type": "stream",
     "text": [
      "1000 loops, best of 3: 976 µs per loop\n"
     ]
    }
   ],
   "source": [
    "%timeit nseven2(10000)"
   ]
  },
  {
   "cell_type": "markdown",
   "metadata": {},
   "source": [
    "### 例3. 解除list 嵌套\n",
    "Input: [[1,2], [3,4], [6,7], [10,101]]\n",
    "\n",
    "Output: [1,2,3,4,6,7,10,101]"
   ]
  },
  {
   "cell_type": "code",
   "execution_count": 21,
   "metadata": {
    "collapsed": false
   },
   "outputs": [
    {
     "data": {
      "text/plain": [
       "[1, 2, 3, 4, 6, 7, 10, 101]"
      ]
     },
     "execution_count": 21,
     "metadata": {},
     "output_type": "execute_result"
    }
   ],
   "source": [
    "nestedlist =  [[1,2], [3,4], [6,7], [10,101]]\n",
    "unnestedlist = [item for sublist in nestedlist for item in sublist]\n",
    "unnestedlist"
   ]
  },
  {
   "cell_type": "markdown",
   "metadata": {},
   "source": [
    "## 2.1.2 字典解析"
   ]
  },
  {
   "cell_type": "markdown",
   "metadata": {},
   "source": [
    "### 字典解析和列表解析基本一样，表达式要同时表述key和value\n",
    "\n",
    "{表达式0:表达式1 for var in 可遍历的变量 if 表达式2}"
   ]
  },
  {
   "cell_type": "markdown",
   "metadata": {},
   "source": [
    "### 例1. 把列表的key全部变成大写\n",
    "continentdict = {'China': 'AS', 'Korea': 'AS', 'Canada': 'NA', 'France': 'EU', 'BRAZIL': 'SA', 'Russia': 'EU'}"
   ]
  },
  {
   "cell_type": "code",
   "execution_count": 22,
   "metadata": {
    "collapsed": true
   },
   "outputs": [],
   "source": [
    "continentdict = {'China': 'AS', 'Korea': 'AS', 'Canada': 'NA', 'France': 'EU', 'BRAZIL': 'SA', 'Russia': 'EU'}"
   ]
  },
  {
   "cell_type": "code",
   "execution_count": 23,
   "metadata": {
    "collapsed": false
   },
   "outputs": [
    {
     "data": {
      "text/plain": [
       "{'BRAZIL': 'SA',\n",
       " 'CANADA': 'NA',\n",
       " 'CHINA': 'AS',\n",
       " 'FRANCE': 'EU',\n",
       " 'KOREA': 'AS',\n",
       " 'RUSSIA': 'EU'}"
      ]
     },
     "execution_count": 23,
     "metadata": {},
     "output_type": "execute_result"
    }
   ],
   "source": [
    "continentdictallcap = {key.upper():continentdict[key] for key in continentdict}\n",
    "continentdictallcap"
   ]
  },
  {
   "cell_type": "markdown",
   "metadata": {},
   "source": [
    "# 2.2. 文件IO"
   ]
  },
  {
   "cell_type": "markdown",
   "metadata": {},
   "source": [
    "文件是存储在硬盘上的，python提供了读写文件的功能. \n",
    "#### readonly, default\n",
    "f = open(filepath, 'r')\n",
    "f = open(filepath)\n",
    "#### write only\n",
    "f = open(filepath, 'w')"
   ]
  },
  {
   "cell_type": "markdown",
   "metadata": {},
   "source": [
    "## 2.2.1 读文件"
   ]
  },
  {
   "cell_type": "code",
   "execution_count": 25,
   "metadata": {
    "collapsed": false
   },
   "outputs": [
    {
     "name": "stdout",
     "output_type": "stream",
     "text": [
      "Object file1:  <open file 'fileio1.txt', mode 'r' at 0x000000000610D8A0> \n",
      "\n",
      "You're getting ready to start a new company. What language should you choose to build it?\n",
      "Or to phrase the same question a different way: You are looking for a job, which language should you learn?\n",
      "You might guess from the title of this post that I think the right answer is Python. But why?\n",
      "The answer is that Python is powerful. But what does that mean, exactly? What makes for power in a programming language?\n"
     ]
    }
   ],
   "source": [
    "file1 = open('fileio1.txt', 'r') # this file is under the same directory, otherwise, please use full path\n",
    "# file1 = open(r'C:\\scriptwb\\python course\\2\\fileio1.txt')\n",
    "print 'Object file1: ', file1, '\\n' # file handler object\n",
    "\n",
    "print file1.read()\n",
    "file1.close()"
   ]
  },
  {
   "cell_type": "code",
   "execution_count": 26,
   "metadata": {
    "collapsed": false
   },
   "outputs": [
    {
     "name": "stdout",
     "output_type": "stream",
     "text": [
      "[0] You're getting ready to start a new company. What language should you choose to build it?\n",
      "[1] Or to phrase the same question a different way: You are looking for a job, which language should you learn?\n",
      "[2] You might guess from the title of this post that I think the right answer is Python. But why?\n",
      "[3] The answer is that Python is powerful. But what does that mean, exactly? What makes for power in a programming language?\n"
     ]
    }
   ],
   "source": [
    "file1 = open('fileio1.txt', 'r') # this file is under the same directory, otherwise, please use full path\n",
    "for (linenumber, linecontent) in enumerate(file1):\n",
    "    print '[%d] %s' %(linenumber, linecontent.strip())\n",
    "file1.close()"
   ]
  },
  {
   "cell_type": "markdown",
   "metadata": {},
   "source": [
    "#### 当完成读阶段或者写阶段时务必close文件\n",
    "#### 建议使用with语句，自动完成close文件"
   ]
  },
  {
   "cell_type": "code",
   "execution_count": 27,
   "metadata": {
    "collapsed": false
   },
   "outputs": [
    {
     "name": "stdout",
     "output_type": "stream",
     "text": [
      "[0] You're getting ready to start a new company. What language should you choose to build it?\n",
      "[1] Or to phrase the same question a different way: You are looking for a job, which language should you learn?\n",
      "[2] You might guess from the title of this post that I think the right answer is Python. But why?\n",
      "[3] The answer is that Python is powerful. But what does that mean, exactly? What makes for power in a programming language?\n"
     ]
    }
   ],
   "source": [
    "with open('fileio1.txt', 'r') as file1:\n",
    "    for (linenumber, linecontent) in enumerate(file1):\n",
    "        print '[%d] %s' %(linenumber, linecontent.strip())"
   ]
  },
  {
   "cell_type": "markdown",
   "metadata": {},
   "source": [
    "## 2.2.2 写文件"
   ]
  },
  {
   "cell_type": "code",
   "execution_count": 56,
   "metadata": {
    "collapsed": true
   },
   "outputs": [],
   "source": [
    "continentdict = {'China': 'AS', 'Korea': 'AS', 'Canada': 'NA', 'France': 'EU', 'BRAZIL': 'SA', 'Russia': 'EU'}"
   ]
  },
  {
   "cell_type": "markdown",
   "metadata": {},
   "source": [
    "如果需要把这个字典写入文件\n",
    "\n",
    "filehandler.write(string)"
   ]
  },
  {
   "cell_type": "code",
   "execution_count": 28,
   "metadata": {
    "collapsed": false
   },
   "outputs": [
    {
     "name": "stdout",
     "output_type": "stream",
     "text": [
      "{'Canada': 'NA', 'BRAZIL': 'SA', 'Korea': 'AS', 'France': 'EU', 'China': 'AS', 'Russia': 'EU'}\n"
     ]
    }
   ],
   "source": [
    "with open('continentdict.txt', 'w') as g:\n",
    "    g.write(str(continentdict))\n",
    "# readout and print this file\n",
    "with open('continentdict.txt', 'r') as f:\n",
    "    print f.read()"
   ]
  },
  {
   "cell_type": "markdown",
   "metadata": {},
   "source": [
    "如果我们想写成一个csv表格，表头\n",
    "\n",
    "Country,Continent\n",
    "\n",
    "Canada,NA\n",
    "\n",
    "Brazil,SA\n",
    "\n",
    "...,..."
   ]
  },
  {
   "cell_type": "code",
   "execution_count": 29,
   "metadata": {
    "collapsed": false
   },
   "outputs": [
    {
     "name": "stdout",
     "output_type": "stream",
     "text": [
      "Country,Continent\n",
      "Canada,NA\n",
      "BRAZIL,SA\n",
      "Korea,AS\n",
      "France,EU\n",
      "China,AS\n",
      "Russia,EU\n",
      "\n"
     ]
    }
   ],
   "source": [
    "with open('continentdict.csv', 'w') as g:\n",
    "    g.write('Country,Continent\\n')\n",
    "    for country in continentdict:\n",
    "        g.write('%s,%s\\n'%(country, continentdict[country]))\n",
    "# readout and print this file\n",
    "with open('continentdict.csv', 'r') as f:\n",
    "    print f.read()        "
   ]
  },
  {
   "cell_type": "markdown",
   "metadata": {},
   "source": [
    "#### 不像table? csv是一种通用的表格存储形式，任何数据分析软件的基本能读格式。本质是纯文本文件，逗号作为列分割，回车作为行分割\n",
    "\n",
    "我们可以用excel打开试试\n",
    "\n",
    "我们也可以用python pandas包打开看看 【数据分析的基本扩展包之一】"
   ]
  },
  {
   "cell_type": "code",
   "execution_count": 30,
   "metadata": {
    "collapsed": false
   },
   "outputs": [
    {
     "data": {
      "text/html": [
       "<div>\n",
       "<style>\n",
       "    .dataframe thead tr:only-child th {\n",
       "        text-align: right;\n",
       "    }\n",
       "\n",
       "    .dataframe thead th {\n",
       "        text-align: left;\n",
       "    }\n",
       "\n",
       "    .dataframe tbody tr th {\n",
       "        vertical-align: top;\n",
       "    }\n",
       "</style>\n",
       "<table border=\"1\" class=\"dataframe\">\n",
       "  <thead>\n",
       "    <tr style=\"text-align: right;\">\n",
       "      <th></th>\n",
       "      <th>Country</th>\n",
       "      <th>Continent</th>\n",
       "    </tr>\n",
       "  </thead>\n",
       "  <tbody>\n",
       "    <tr>\n",
       "      <th>0</th>\n",
       "      <td>Canada</td>\n",
       "      <td>NA</td>\n",
       "    </tr>\n",
       "    <tr>\n",
       "      <th>1</th>\n",
       "      <td>BRAZIL</td>\n",
       "      <td>SA</td>\n",
       "    </tr>\n",
       "    <tr>\n",
       "      <th>2</th>\n",
       "      <td>Korea</td>\n",
       "      <td>AS</td>\n",
       "    </tr>\n",
       "    <tr>\n",
       "      <th>3</th>\n",
       "      <td>France</td>\n",
       "      <td>EU</td>\n",
       "    </tr>\n",
       "    <tr>\n",
       "      <th>4</th>\n",
       "      <td>China</td>\n",
       "      <td>AS</td>\n",
       "    </tr>\n",
       "    <tr>\n",
       "      <th>5</th>\n",
       "      <td>Russia</td>\n",
       "      <td>EU</td>\n",
       "    </tr>\n",
       "  </tbody>\n",
       "</table>\n",
       "</div>"
      ],
      "text/plain": [
       "  Country Continent\n",
       "0  Canada        NA\n",
       "1  BRAZIL        SA\n",
       "2   Korea        AS\n",
       "3  France        EU\n",
       "4   China        AS\n",
       "5  Russia        EU"
      ]
     },
     "execution_count": 30,
     "metadata": {},
     "output_type": "execute_result"
    }
   ],
   "source": [
    "import pandas\n",
    "df = pandas.read_csv('continentdict.csv', keep_default_na=False)\n",
    "df"
   ]
  },
  {
   "cell_type": "markdown",
   "metadata": {},
   "source": [
    "# 2.3. 与操作系统OS的交互"
   ]
  },
  {
   "cell_type": "markdown",
   "metadata": {},
   "source": [
    "## 2.3.1 文件与文件夹\n",
    "\n",
    "这里仅仅举例说明常见的需求，有更进一步的学习需求请查阅\n",
    "https://docs.python.org/2/library/os.html"
   ]
  },
  {
   "cell_type": "code",
   "execution_count": 31,
   "metadata": {
    "collapsed": true
   },
   "outputs": [],
   "source": [
    "# os的基本操作在os包里，基本的python包，无需任何扩展安装\n",
    "import os"
   ]
  },
  {
   "cell_type": "markdown",
   "metadata": {},
   "source": [
    "### 目录操作"
   ]
  },
  {
   "cell_type": "markdown",
   "metadata": {},
   "source": [
    "#### 当前目录"
   ]
  },
  {
   "cell_type": "code",
   "execution_count": 32,
   "metadata": {
    "collapsed": false
   },
   "outputs": [
    {
     "name": "stdout",
     "output_type": "stream",
     "text": [
      "C:\\scriptwb\\2\n"
     ]
    }
   ],
   "source": [
    "cwd1 = os.getcwd()\n",
    "print cwd1\n",
    "# we store current working directory in cwd1, later we change working directory and use it to change it back"
   ]
  },
  {
   "cell_type": "code",
   "execution_count": 33,
   "metadata": {
    "collapsed": false
   },
   "outputs": [
    {
     "data": {
      "text/plain": [
       "['.ipynb_checkpoints',\n",
       " 'Class1 Appendix.ipynb',\n",
       " 'Class2.ipynb',\n",
       " 'continentdict.csv',\n",
       " 'continentdict.txt',\n",
       " 'essay.txt',\n",
       " 'factorial.ipynb',\n",
       " 'factorial.py',\n",
       " 'factorial.pyc',\n",
       " 'factorial10.py',\n",
       " 'fileio1.txt',\n",
       " 'Homework2.ipynb',\n",
       " 'revnuetable.csv',\n",
       " 'sumxy.py']"
      ]
     },
     "execution_count": 33,
     "metadata": {},
     "output_type": "execute_result"
    }
   ],
   "source": [
    "os.listdir(cwd1)"
   ]
  },
  {
   "cell_type": "markdown",
   "metadata": {},
   "source": [
    "#### 查询上一层dir"
   ]
  },
  {
   "cell_type": "code",
   "execution_count": 34,
   "metadata": {
    "collapsed": false
   },
   "outputs": [
    {
     "data": {
      "text/plain": [
       "'C:\\\\scriptwb'"
      ]
     },
     "execution_count": 34,
     "metadata": {},
     "output_type": "execute_result"
    }
   ],
   "source": [
    "parentwd = os.path.dirname(cwd1)\n",
    "parentwd"
   ]
  },
  {
   "cell_type": "markdown",
   "metadata": {},
   "source": [
    "#### 返回上一层，再返回来"
   ]
  },
  {
   "cell_type": "code",
   "execution_count": 35,
   "metadata": {
    "collapsed": true
   },
   "outputs": [],
   "source": [
    "os.chdir(parentwd) # changed to upper level"
   ]
  },
  {
   "cell_type": "code",
   "execution_count": 36,
   "metadata": {
    "collapsed": false
   },
   "outputs": [
    {
     "data": {
      "text/plain": [
       "'C:\\\\scriptwb'"
      ]
     },
     "execution_count": 36,
     "metadata": {},
     "output_type": "execute_result"
    }
   ],
   "source": [
    "os.getcwd()"
   ]
  },
  {
   "cell_type": "code",
   "execution_count": 37,
   "metadata": {
    "collapsed": false
   },
   "outputs": [
    {
     "data": {
      "text/plain": [
       "'C:\\\\scriptwb\\\\2'"
      ]
     },
     "execution_count": 37,
     "metadata": {},
     "output_type": "execute_result"
    }
   ],
   "source": [
    "os.chdir(cwd1) # changed back\n",
    "os.getcwd()"
   ]
  },
  {
   "cell_type": "markdown",
   "metadata": {},
   "source": [
    "### 文件查询与操作"
   ]
  },
  {
   "cell_type": "markdown",
   "metadata": {},
   "source": [
    "#### 文件 信息"
   ]
  },
  {
   "cell_type": "code",
   "execution_count": 38,
   "metadata": {
    "collapsed": false
   },
   "outputs": [
    {
     "data": {
      "text/plain": [
       "True"
      ]
     },
     "execution_count": 38,
     "metadata": {},
     "output_type": "execute_result"
    }
   ],
   "source": [
    "os.path.isfile('continentdict.csv')"
   ]
  },
  {
   "cell_type": "code",
   "execution_count": 39,
   "metadata": {
    "collapsed": false
   },
   "outputs": [
    {
     "data": {
      "text/plain": [
       "False"
      ]
     },
     "execution_count": 39,
     "metadata": {},
     "output_type": "execute_result"
    }
   ],
   "source": [
    "os.path.isfile('continentdict.tsv')"
   ]
  },
  {
   "cell_type": "code",
   "execution_count": 40,
   "metadata": {
    "collapsed": false
   },
   "outputs": [
    {
     "name": "stdout",
     "output_type": "stream",
     "text": [
      "continentdict.csv is created at 1510108311.7, last modified at 1510128776.89, full path is C:\\scriptwb\\2\\continentdict.csv\n"
     ]
    }
   ],
   "source": [
    "filename = 'continentdict.csv'\n",
    "print '%s is created at %s, last modified at %s, full path is %s' %(\n",
    "    filename, os.path.getctime(filename), os.path.getmtime(filename), os.path.abspath(filename))"
   ]
  },
  {
   "cell_type": "markdown",
   "metadata": {},
   "source": [
    "看起来时间是一种特殊格式，人没法阅读。怎么处理？\n",
    "\n",
    "Let us google \"os.path.filectime convert\"\n",
    "\n",
    "第一个结果是stackoverflow的\n",
    "\n",
    "https://stackoverflow.com/questions/19501711/how-can-i-convert-os-path-getctime"
   ]
  },
  {
   "cell_type": "code",
   "execution_count": 41,
   "metadata": {
    "collapsed": false
   },
   "outputs": [
    {
     "data": {
      "text/plain": [
       "'2013-10-19 06:25:38'"
      ]
     },
     "execution_count": 41,
     "metadata": {},
     "output_type": "execute_result"
    }
   ],
   "source": [
    "from datetime import datetime\n",
    "datetime.fromtimestamp(1382189138.4196026).strftime('%Y-%m-%d %H:%M:%S')"
   ]
  },
  {
   "cell_type": "markdown",
   "metadata": {},
   "source": [
    "基于这个回答，我们可以写一个转化函数，从机器能理解的浮点秒数，转化成人能读懂得日期时间"
   ]
  },
  {
   "cell_type": "code",
   "execution_count": 42,
   "metadata": {
    "collapsed": true
   },
   "outputs": [],
   "source": [
    "def converttimestamp(timestamp):\n",
    "    return datetime.fromtimestamp(timestamp).strftime('%Y-%m-%d %H:%M:%S')"
   ]
  },
  {
   "cell_type": "markdown",
   "metadata": {},
   "source": [
    "现在能够正常显示了"
   ]
  },
  {
   "cell_type": "code",
   "execution_count": 43,
   "metadata": {
    "collapsed": false
   },
   "outputs": [
    {
     "name": "stdout",
     "output_type": "stream",
     "text": [
      "continentdict.csv is created at 2017-11-07 18:31:51, last modified at 2017-11-08 00:12:56, full path is C:\\scriptwb\\2\\continentdict.csv\n"
     ]
    }
   ],
   "source": [
    "filename = 'continentdict.csv'\n",
    "print '%s is created at %s, last modified at %s, full path is %s' %(\n",
    "    filename, converttimestamp(os.path.getctime(filename)), \n",
    "    converttimestamp(os.path.getmtime(filename)), os.path.abspath(filename))"
   ]
  },
  {
   "cell_type": "markdown",
   "metadata": {},
   "source": [
    "#### 拷贝与删除文件"
   ]
  },
  {
   "cell_type": "markdown",
   "metadata": {},
   "source": [
    "Google python copy file\n",
    "\n",
    "We can find this page\n",
    "https://docs.python.org/2/library/shutil.html\n",
    "\n",
    "google python delete file\n",
    "\n",
    "We can find this page\n",
    "https://stackoverflow.com/questions/6996603/how-to-delete-a-file-or-folder "
   ]
  },
  {
   "cell_type": "code",
   "execution_count": 44,
   "metadata": {
    "collapsed": true
   },
   "outputs": [],
   "source": [
    "import shutil\n",
    "shutil.copyfile('continentdict.csv', 'continentdict_copy.csv')"
   ]
  },
  {
   "cell_type": "code",
   "execution_count": 45,
   "metadata": {
    "collapsed": false
   },
   "outputs": [
    {
     "name": "stdout",
     "output_type": "stream",
     "text": [
      "True\n",
      "False\n"
     ]
    }
   ],
   "source": [
    "file2remove = 'continentdict_copy.csv'\n",
    "print os.path.isfile(file2remove)\n",
    "os.remove(file2remove)\n",
    "print os.path.isfile(file2remove)"
   ]
  },
  {
   "cell_type": "markdown",
   "metadata": {},
   "source": [
    "## 2.3.2 OS命令行"
   ]
  },
  {
   "cell_type": "markdown",
   "metadata": {},
   "source": [
    "### 从命令行传递参数，运行python代码"
   ]
  },
  {
   "cell_type": "markdown",
   "metadata": {},
   "source": [
    "命令行基础\n",
    "\n",
    "python code1.py arg1 arg2 arg3 ...\n",
    "\n",
    "python - 操作系统命令\n",
    "\n",
    "code1.py - 操作系统命令 参数0 要运行的代码\n",
    "\n",
    "arg1 代码命令行参数0\n",
    "\n",
    "arg2 代码命令行参数1\n",
    "\n",
    "...\n",
    "\n",
    "####基础模块sys\n",
    "\n",
    "sys.argv是一个list，从操作系统获得[arg0, arg1, arg2...]， arg0通常是python代码名， arg1, arg2...一般是要传给python代码的参数\n",
    "\n",
    "#### 进阶模块 argparse\n",
    "https://docs.python.org/2.7/library/argparse.html"
   ]
  },
  {
   "cell_type": "markdown",
   "metadata": {},
   "source": [
    "#### sumxy from command line\n",
    "命令行demo\n",
    "\n",
    "建立一个sumxy.py文件\n",
    "\n",
    "输入一下内容"
   ]
  },
  {
   "cell_type": "raw",
   "metadata": {},
   "source": [
    "#sumxy.py \n",
    "import sys\n",
    "\n",
    "def sumxy(x, y):\n",
    "    return x + y\n",
    "\n",
    "if __name__ == '__main__':\n",
    "    args = sys.argv[1:]\n",
    "    x = float(args[0])\n",
    "    y = float(args[1])\n",
    "    print sumxy(x, y)"
   ]
  },
  {
   "cell_type": "markdown",
   "metadata": {},
   "source": [
    "打开命令行，输入python sumxy 1 2\n",
    "\n",
    "在jupyter中， ! 开头表示这一行是命令行操作\n",
    "\n",
    "mac 请用ls"
   ]
  },
  {
   "cell_type": "code",
   "execution_count": 47,
   "metadata": {
    "collapsed": false,
    "scrolled": true
   },
   "outputs": [
    {
     "name": "stdout",
     "output_type": "stream",
     "text": [
      " Volume in drive C is Windows\n",
      " Volume Serial Number is EC3A-B103\n",
      "\n",
      " Directory of C:\\scriptwb\\2\n",
      "\n",
      "11/08/2017  01:27 AM    <DIR>          .\n",
      "11/08/2017  01:27 AM    <DIR>          ..\n",
      "11/07/2017  10:40 PM    <DIR>          .ipynb_checkpoints\n",
      "11/08/2017  12:23 AM             3,205 Class1 Appendix.ipynb\n",
      "11/08/2017  01:27 AM            35,573 Class2.ipynb\n",
      "11/08/2017  01:12 AM                83 continentdict.csv\n",
      "11/08/2017  01:10 AM                94 continentdict.txt\n",
      "11/07/2017  11:52 PM             6,081 essay.txt\n",
      "11/08/2017  12:36 AM             1,410 factorial.ipynb\n",
      "11/08/2017  12:39 AM               391 factorial.py\n",
      "11/08/2017  12:40 AM               520 factorial.pyc\n",
      "11/08/2017  12:41 AM                47 factorial10.py\n",
      "11/06/2017  09:59 PM               412 fileio1.txt\n",
      "11/07/2017  11:53 PM             1,635 Homework2.ipynb\n",
      "11/07/2017  10:53 PM               164 revnuetable.csv\n",
      "11/06/2017  09:59 PM               176 sumxy.py\n",
      "              13 File(s)         49,791 bytes\n",
      "               3 Dir(s)  52,021,227,520 bytes free\n",
      "#sumxy.py \n",
      "import sys\n",
      "\n",
      "def sumxy(x, y):\n",
      "    return x + y\n",
      "\n",
      "if __name__ == '__main__':\n",
      "    args = sys.argv[1:]\n",
      "    x = float(args[0])\n",
      "    y = float(args[1])\n",
      "    print sumxy(x, y)\n",
      "3.0\n"
     ]
    }
   ],
   "source": [
    "! dir\n",
    "! type sumxy.py\n",
    "! python sumxy.py 1 2"
   ]
  },
  {
   "cell_type": "markdown",
   "metadata": {},
   "source": [
    "### 从python运行命令行\n",
    "基础\n",
    "\n",
    "os.system(cmd)\n",
    "\n",
    "os.popen(cmd)\n",
    "\n",
    "进阶\n",
    "\n",
    "subprocess module\n",
    "\n",
    "https://docs.python.org/2/library/subprocess.html"
   ]
  },
  {
   "cell_type": "code",
   "execution_count": 122,
   "metadata": {
    "collapsed": false
   },
   "outputs": [
    {
     "name": "stdout",
     "output_type": "stream",
     "text": [
      "3.0\n",
      "\n"
     ]
    }
   ],
   "source": [
    "import os\n",
    "cmdoutput = os.popen('python sumxy.py 1 2').read()\n",
    "print cmdoutput"
   ]
  },
  {
   "cell_type": "markdown",
   "metadata": {},
   "source": [
    "#### 为什么用python运行命令行\n",
    "一个项目的各个部分可能是很多人用不同的语言写的，需要整合在一起. python可以作为胶水语言，写project高层的manamge code，调用python和其他语言写的代码来执行任务。"
   ]
  },
  {
   "cell_type": "markdown",
   "metadata": {},
   "source": [
    "<font size=\"5\" color=\"red\">以下的内容掌握需要较长时间的理解和磨练。往往Python开发工程师也并不需要完全精通这些高级功能。\n",
    "作为一门基础课，有必要给大家科普这些内容。在这里大家的学习目标是了解概念功能，能大概看懂最基础的代码，不必苛求理解细节。\n",
    "</font>\n",
    "<font size=\"5\" color=\"Blue\">\n",
    "很多功能你不懂细节，记不住代码长什么样，但是并不妨碍你使用它</font>"
   ]
  },
  {
   "cell_type": "markdown",
   "metadata": {},
   "source": [
    "# 2.4 字符串进阶"
   ]
  },
  {
   "cell_type": "markdown",
   "metadata": {},
   "source": [
    "## 2.4.1 正则表达式"
   ]
  },
  {
   "cell_type": "markdown",
   "metadata": {},
   "source": [
    "#### 正则表达式是一套通用的文本检索提取规则，各种编程语言都有正则表达式的模块。学习正则表达式需要大概2-3小时的学习达到运用程度，精通则需要较长时间的练习。\n",
    "\n",
    "正则表达式，又称正规表示式、正規表示法、正規運算式、規則運算式、常規表示法（英语：Regular Expression，在代码中常简写为regex、regexp或RE），是计算机科学的一个概念。正则表达式使用单个字符串来描述、匹配一系列符合某个句法规则的字符串。在很多文本编辑器裡，正則表达式通常被用来检索、替换那些符合某个模式的文本。\n",
    "\n",
    "cheatsheet\n",
    "https://www.debuggex.com/cheatsheet/regex/python\n",
    "\n",
    "Pattern怎么写是个不小的问题，这里不要求大家掌握，参考cheatsheet和google"
   ]
  },
  {
   "cell_type": "code",
   "execution_count": 101,
   "metadata": {
    "collapsed": false
   },
   "outputs": [
    {
     "name": "stdout",
     "output_type": "stream",
     "text": [
      "c330\n"
     ]
    }
   ],
   "source": [
    "import re\n",
    "pattern = '[a-z][0-5]+'\n",
    "res = re.match(pattern, 'c330')\n",
    "if res:\n",
    "    print res.group()\n",
    "else:\n",
    "    print 'not matching'"
   ]
  },
  {
   "cell_type": "markdown",
   "metadata": {},
   "source": [
    "#### 表头变换\n",
    "metrics是一个数据表的表头，我们这里把它放入了一个list。每个column名看起来每一个代表某组测量数据，ID0和ID1表示组号，去掉组号其他字符表示这个数据的名称。我们希望变换"
   ]
  },
  {
   "cell_type": "code",
   "execution_count": 145,
   "metadata": {
    "collapsed": true
   },
   "outputs": [],
   "source": [
    "metrics = ['LENGTH_ID0_FINAL', 'LENGTH_ID1_FINAL', 'WIDTH_ID0', 'WIDTH_ID1', 'ID2_WEIGHT', 'ID3_WEIGHT']"
   ]
  },
  {
   "cell_type": "markdown",
   "metadata": {},
   "source": [
    "变换成两个list 作为双杭表头\n",
    "\n",
    "列表1：数据的名称\n",
    "\n",
    "['LENGTH_FINAL', 'LENGTH_FINAL', 'WIDTH', 'WIDTH', 'WEIGHT', 'WEIGHT']\n",
    "\n",
    "列表2：组号\n",
    "\n",
    "['ID0', 'ID1', 'ID0', 'ID1', 'ID2', 'ID3']\n",
    "\n",
    "因为不同的数据会有略微不同的格式，有的组号放在了左边，有的放在了中间，有的写在了最右边，所以简单的.split('_')操作并不好用"
   ]
  },
  {
   "cell_type": "code",
   "execution_count": 125,
   "metadata": {
    "collapsed": true
   },
   "outputs": [],
   "source": [
    "import re"
   ]
  },
  {
   "cell_type": "code",
   "execution_count": 137,
   "metadata": {
    "collapsed": true
   },
   "outputs": [],
   "source": [
    "pattern = '(.*)(ID\\d)(.*)'\n",
    "matchresult = re.match(pattern, 'WIDTH_ID1')"
   ]
  },
  {
   "cell_type": "code",
   "execution_count": 128,
   "metadata": {
    "collapsed": false
   },
   "outputs": [
    {
     "data": {
      "text/plain": [
       "('WIDTH_', 'ID1', '')"
      ]
     },
     "execution_count": 128,
     "metadata": {},
     "output_type": "execute_result"
    }
   ],
   "source": [
    "matchresult.groups()"
   ]
  },
  {
   "cell_type": "code",
   "execution_count": 147,
   "metadata": {
    "collapsed": false
   },
   "outputs": [
    {
     "name": "stdout",
     "output_type": "stream",
     "text": [
      "measurement: ['LENGTH_FINAL', 'LENGTH_FINAL', 'WIDTH', 'WIDTH', 'WEIGHT', 'WEIGHT']\n",
      "ID: ['ID0', 'ID1', 'ID0', 'ID1', 'ID2', 'ID3']\n"
     ]
    }
   ],
   "source": [
    "results = [re.match(pattern, metric).groups() for metric in metrics]\n",
    "IDs = [result[1] for result in results]\n",
    "measurements = [(result[0].strip('_') + '_' + result[2].strip('_')).strip('_') for result in results]\n",
    "print 'measurement:',measurements\n",
    "print 'ID:',IDs"
   ]
  },
  {
   "cell_type": "markdown",
   "metadata": {},
   "source": [
    "#### Email地址的验证\n",
    "\n",
    "google search\n",
    "\n",
    "regular expression match an email address\n",
    "\n",
    "I found a page http://emailregex.com/"
   ]
  },
  {
   "cell_type": "code",
   "execution_count": 150,
   "metadata": {
    "collapsed": false
   },
   "outputs": [
    {
     "data": {
      "text/plain": [
       "['john@hotmail.com', 'tom3@gmail.com', '32111198@qq.com']"
      ]
     },
     "execution_count": 150,
     "metadata": {},
     "output_type": "execute_result"
    }
   ],
   "source": [
    "emailpattern = r\"(^[a-zA-Z0-9_.+-]+@[a-zA-Z0-9-]+\\.[a-zA-Z0-9-.]+$)\"\n",
    "emails = ['john@hotmail.com', 'tom3@gmail.com', '32111198@qq.com', 't%wan@163.com', 'slayer@99cn']\n",
    "validemails = [email for email in emails if re.match(emailpattern, email)]\n",
    "validemails"
   ]
  },
  {
   "cell_type": "markdown",
   "metadata": {},
   "source": [
    "#### 电话号码的验证\n",
    "https://stackoverflow.com/questions/16699007/regular-expression-to-match-standard-10-digit-phone-number "
   ]
  },
  {
   "cell_type": "markdown",
   "metadata": {},
   "source": [
    "general format\n",
    "^(\\+\\d{1,2}\\s)?\\(?\\d{3}\\)?[\\s.-]\\d{3}[\\s.-]\\d{4}$\n",
    "Matches the following\n",
    "\n",
    "123-456-7890\n",
    "(123) 456-7890\n",
    "123 456 7890\n",
    "123.456.7890\n",
    "+91 (123) 456-7890\n",
    "If you do not want a match on non-US numbers use\n",
    "\n",
    "^(\\+0?1\\s)?\\(?\\d{3}\\)?[\\s.-]\\d{3}[\\s.-]\\d{4}$"
   ]
  },
  {
   "cell_type": "markdown",
   "metadata": {},
   "source": [
    "# 2.5 面向对象编程 Object Oriented Programming"
   ]
  },
  {
   "cell_type": "markdown",
   "metadata": {},
   "source": [
    "## 2.5.1 面向对象技术简介\n",
    "类(Class): 用来描述具有相同的属性和方法的对象的集合。它定义了该集合中每个对象所共有的属性和方法。对象是类的实例。\n",
    "\n",
    "对象：通过类定义的数据结构实例。对象包括两个数据成员（类变量和实例变量）和方法。\n",
    "\n",
    "实例化：创建一个类的实例，类的具体对象。\n",
    "\n",
    "方法：类中定义的函数。\n",
    "\n",
    "继承：进一步细化具体化的，类之间的关系。狗继承于哺乳动物，哺乳动物继承与脊椎动物\n",
    "\n",
    "#### 面向对象编程是一个非常大也是非常重要的学习项目。什么时候需要定义类，构建怎样的类，很多时候需要对项目架构设计有较多的经验，并不只是python语言的问题。这里的目标是让同学对类有基本的理解，能够看懂代码。\n",
    "\n",
    "全面但又很初步的了解python的面向对象编程，学习资料\n",
    "\n",
    "http://yangcongchufang.com/%E9%AB%98%E7%BA%A7python%E7%BC%96%E7%A8%8B%E5%9F%BA%E7%A1%80/python-object-class.html "
   ]
  },
  {
   "cell_type": "markdown",
   "metadata": {},
   "source": [
    "#### 简单的例子"
   ]
  },
  {
   "cell_type": "code",
   "execution_count": 23,
   "metadata": {
    "collapsed": true
   },
   "outputs": [],
   "source": [
    "class Student(object): # 继承自object python基础类\n",
    "    \"\"\"空类Student\"\"\"\n",
    "    pass # 空类"
   ]
  },
  {
   "cell_type": "markdown",
   "metadata": {},
   "source": [
    "#### 实体化并添加数据"
   ]
  },
  {
   "cell_type": "code",
   "execution_count": 21,
   "metadata": {
    "collapsed": false
   },
   "outputs": [
    {
     "name": "stdout",
     "output_type": "stream",
     "text": [
      "<__main__.Student object at 0x0000000003D319B0>\n",
      "<class '__main__.Student'>\n"
     ]
    }
   ],
   "source": [
    "Ming = Student()\n",
    "print Ming # instance, MIng is an object 对象\n",
    "print Ming.__class__ # Ming.__class__ refer to class"
   ]
  },
  {
   "cell_type": "code",
   "execution_count": 29,
   "metadata": {
    "collapsed": false
   },
   "outputs": [
    {
     "name": "stdout",
     "output_type": "stream",
     "text": [
      "['__class__', '__delattr__', '__dict__', '__doc__', '__format__', '__getattribute__', '__hash__', '__init__', '__module__', '__new__', '__reduce__', '__reduce_ex__', '__repr__', '__setattr__', '__sizeof__', '__str__', '__subclasshook__', '__weakref__', 'name', 'print_socre', 'score']\n",
      "Student的类\n",
      "__main__\n",
      "Ming Li 98\n"
     ]
    }
   ],
   "source": [
    "Ming.name = 'Ming Li'\n",
    "Ming.score = 98\n",
    "print dir(Ming)\n",
    "print Ming.__doc__\n",
    "print Ming.__module__\n",
    "print Ming.name, Ming.score"
   ]
  },
  {
   "cell_type": "markdown",
   "metadata": {},
   "source": [
    "#### 方法与数据封装"
   ]
  },
  {
   "cell_type": "code",
   "execution_count": 49,
   "metadata": {
    "collapsed": true
   },
   "outputs": [],
   "source": [
    "class Student(object):\n",
    "    \"\"\"Student的类\"\"\"\n",
    "    \n",
    "    def __init__(self, name, score): # __init__ method，初始化方法，命名不随意\n",
    "        self.name = name\n",
    "        self.score = score\n",
    "        \n",
    "    def print_score(self):\n",
    "        print(\"%s: %s\" % (self.name, self.score))"
   ]
  },
  {
   "cell_type": "code",
   "execution_count": 50,
   "metadata": {
    "collapsed": false
   },
   "outputs": [
    {
     "name": "stdout",
     "output_type": "stream",
     "text": [
      "['__class__', '__delattr__', '__dict__', '__doc__', '__format__', '__getattribute__', '__hash__', '__init__', '__module__', '__new__', '__reduce__', '__reduce_ex__', '__repr__', '__setattr__', '__sizeof__', '__str__', '__subclasshook__', '__weakref__', 'name', 'print_score', 'score']\n",
      "__main__\n",
      "Ming Li: 98\n",
      "Ming Li 98\n"
     ]
    }
   ],
   "source": [
    "Ming = Student('Ming Li', 98)\n",
    "print dir(Ming)\n",
    "print Ming.__module__\n",
    "Ming.print_score()\n",
    "print Ming.name, Ming.score # 外部也可以访问"
   ]
  },
  {
   "cell_type": "markdown",
   "metadata": {},
   "source": [
    "#### 用__表示私有封装，只能内部方法访问"
   ]
  },
  {
   "cell_type": "code",
   "execution_count": 52,
   "metadata": {
    "collapsed": false
   },
   "outputs": [
    {
     "name": "stdout",
     "output_type": "stream",
     "text": [
      "Ming Li: 98\n"
     ]
    },
    {
     "ename": "AttributeError",
     "evalue": "'Student' object has no attribute '__name'",
     "output_type": "error",
     "traceback": [
      "\u001b[1;31m---------------------------------------------------------------------------\u001b[0m",
      "\u001b[1;31mAttributeError\u001b[0m                            Traceback (most recent call last)",
      "\u001b[1;32m<ipython-input-52-b4b23dc33140>\u001b[0m in \u001b[0;36m<module>\u001b[1;34m()\u001b[0m\n\u001b[0;32m     10\u001b[0m \u001b[1;33m\u001b[0m\u001b[0m\n\u001b[0;32m     11\u001b[0m \u001b[0mMing\u001b[0m\u001b[1;33m.\u001b[0m\u001b[0mprint_score\u001b[0m\u001b[1;33m(\u001b[0m\u001b[1;33m)\u001b[0m\u001b[1;33m\u001b[0m\u001b[0m\n\u001b[1;32m---> 12\u001b[1;33m \u001b[1;32mprint\u001b[0m \u001b[0mMing\u001b[0m\u001b[1;33m.\u001b[0m\u001b[0m__name\u001b[0m\u001b[1;33m,\u001b[0m \u001b[0mMing\u001b[0m\u001b[1;33m.\u001b[0m\u001b[0m__score\u001b[0m \u001b[1;31m# 外部无法访问\u001b[0m\u001b[1;33m\u001b[0m\u001b[0m\n\u001b[0m",
      "\u001b[1;31mAttributeError\u001b[0m: 'Student' object has no attribute '__name'"
     ]
    }
   ],
   "source": [
    "class Student(object):\n",
    "    \"\"\"Student的类\"\"\"\n",
    "    \n",
    "    def __init__(self, name, score): # __init__ method，初始化方法，命名不随意\n",
    "        self.__name = name\n",
    "        self.__score = score\n",
    "        \n",
    "    def print_score(self):\n",
    "        print(\"%s: %s\" % (self.__name, self.__score))\n",
    "        \n",
    "Ming.print_score()\n",
    "print Ming.__name, Ming.__score # 外部无法访问"
   ]
  },
  {
   "cell_type": "markdown",
   "metadata": {},
   "source": [
    "#### 类变量和实例变量\n",
    "类变量，在方法之外，全类和所有对象共有，慎用\n",
    "\n",
    "实例变量，只有实例有"
   ]
  },
  {
   "cell_type": "code",
   "execution_count": 66,
   "metadata": {
    "collapsed": false
   },
   "outputs": [
    {
     "name": "stdout",
     "output_type": "stream",
     "text": [
      "2\n",
      "2\n",
      "98\n",
      "2\n"
     ]
    },
    {
     "ename": "AttributeError",
     "evalue": "type object 'Student' has no attribute 'score'",
     "output_type": "error",
     "traceback": [
      "\u001b[1;31m---------------------------------------------------------------------------\u001b[0m",
      "\u001b[1;31mAttributeError\u001b[0m                            Traceback (most recent call last)",
      "\u001b[1;32m<ipython-input-66-bd707e390f15>\u001b[0m in \u001b[0;36m<module>\u001b[1;34m()\u001b[0m\n\u001b[0;32m     16\u001b[0m \u001b[1;32mprint\u001b[0m \u001b[0mMing\u001b[0m\u001b[1;33m.\u001b[0m\u001b[0mscore\u001b[0m\u001b[1;33m\u001b[0m\u001b[0m\n\u001b[0;32m     17\u001b[0m \u001b[1;32mprint\u001b[0m \u001b[0mStudent\u001b[0m\u001b[1;33m.\u001b[0m\u001b[0mstudentcount\u001b[0m \u001b[1;31m#类变量为对象和类共有\u001b[0m\u001b[1;33m\u001b[0m\u001b[0m\n\u001b[1;32m---> 18\u001b[1;33m \u001b[1;32mprint\u001b[0m \u001b[0mStudent\u001b[0m\u001b[1;33m.\u001b[0m\u001b[0mscore\u001b[0m \u001b[1;31m# 不存在\u001b[0m\u001b[1;33m\u001b[0m\u001b[0m\n\u001b[0m",
      "\u001b[1;31mAttributeError\u001b[0m: type object 'Student' has no attribute 'score'"
     ]
    }
   ],
   "source": [
    "class Student(object):\n",
    "    \"\"\"Student的类\"\"\"\n",
    "    studentcount = 0\n",
    "    def __init__(self, name, score): # __init__ method，初始化方法，命名不随意\n",
    "        self.name = name\n",
    "        self.score = score\n",
    "        Student.studentcount += 1\n",
    "        \n",
    "    def print_score(self):\n",
    "        print(\"%s: %s\" % (self.name, self.score))\n",
    "\n",
    "Ming = Student('Ming Li', 98)\n",
    "Ding = Student('Ding Zhang', 91)\n",
    "print Ming.studentcount\n",
    "print Ding.studentcount\n",
    "print Ming.score\n",
    "print Student.studentcount #类变量为对象和类共有 \n",
    "print Student.score # 不存在"
   ]
  },
  {
   "cell_type": "markdown",
   "metadata": {},
   "source": [
    "#### 继承与方法重载"
   ]
  },
  {
   "cell_type": "code",
   "execution_count": 67,
   "metadata": {
    "collapsed": false
   },
   "outputs": [
    {
     "name": "stdout",
     "output_type": "stream",
     "text": [
      "3\n",
      "Lei Xu: 100, 23\n"
     ]
    }
   ],
   "source": [
    "class PhDStudent(Student):\n",
    "    \"\"\"PhDStudent, inherent from Student\"\"\"\n",
    "    def __init__(self, name, score, hindex): # __init__ method，初始化方法，命名不随意\n",
    "        self.name = name\n",
    "        self.score = score\n",
    "        self.hindex = hindex\n",
    "        Student.studentcount += 1\n",
    "    def print_score(self):\n",
    "        print(\"%s: %s, %s\" % (self.name, self.score, self.hindex))\n",
    "\n",
    "Lei = PhDStudent('Lei Xu', 100, 23)\n",
    "print Student.studentcount # 子类也会计入父类的count\n",
    "Lei.print_score()"
   ]
  },
  {
   "cell_type": "markdown",
   "metadata": {},
   "source": [
    "# 2.6 Python Library的使用"
   ]
  },
  {
   "cell_type": "markdown",
   "metadata": {},
   "source": [
    "#### 他山之石 可以攻玉。当你要编程实现一个功能的时候，第一应该想到的是google或者baidu已有的Module，而不是自己Start From Scratch. \n",
    "\n",
    "Anaconda包含了很多Module，大部分数据清理，建模，可视化，机器学习等功能都可以用已经包含在安装包里的模块\n",
    "\n",
    "numpy/scipy - 让你的python能和R或者Matlab一样有数组，矩阵以及各种特殊函数\n",
    "\n",
    "pandas - 表格dataframe\n",
    "\n",
    "sklearn - 大部分统计模型statistical learning\n",
    "\n",
    "pytorch, tensorflow - deep learning\n",
    "\n",
    "opencv2, skimage - 计算机视觉"
   ]
  },
  {
   "cell_type": "code",
   "execution_count": 78,
   "metadata": {
    "collapsed": false
   },
   "outputs": [
    {
     "data": {
      "application/javascript": [
       "/* Put everything inside the global mpl namespace */\n",
       "window.mpl = {};\n",
       "\n",
       "mpl.get_websocket_type = function() {\n",
       "    if (typeof(WebSocket) !== 'undefined') {\n",
       "        return WebSocket;\n",
       "    } else if (typeof(MozWebSocket) !== 'undefined') {\n",
       "        return MozWebSocket;\n",
       "    } else {\n",
       "        alert('Your browser does not have WebSocket support.' +\n",
       "              'Please try Chrome, Safari or Firefox ≥ 6. ' +\n",
       "              'Firefox 4 and 5 are also supported but you ' +\n",
       "              'have to enable WebSockets in about:config.');\n",
       "    };\n",
       "}\n",
       "\n",
       "mpl.figure = function(figure_id, websocket, ondownload, parent_element) {\n",
       "    this.id = figure_id;\n",
       "\n",
       "    this.ws = websocket;\n",
       "\n",
       "    this.supports_binary = (this.ws.binaryType != undefined);\n",
       "\n",
       "    if (!this.supports_binary) {\n",
       "        var warnings = document.getElementById(\"mpl-warnings\");\n",
       "        if (warnings) {\n",
       "            warnings.style.display = 'block';\n",
       "            warnings.textContent = (\n",
       "                \"This browser does not support binary websocket messages. \" +\n",
       "                    \"Performance may be slow.\");\n",
       "        }\n",
       "    }\n",
       "\n",
       "    this.imageObj = new Image();\n",
       "\n",
       "    this.context = undefined;\n",
       "    this.message = undefined;\n",
       "    this.canvas = undefined;\n",
       "    this.rubberband_canvas = undefined;\n",
       "    this.rubberband_context = undefined;\n",
       "    this.format_dropdown = undefined;\n",
       "\n",
       "    this.image_mode = 'full';\n",
       "\n",
       "    this.root = $('<div/>');\n",
       "    this._root_extra_style(this.root)\n",
       "    this.root.attr('style', 'display: inline-block');\n",
       "\n",
       "    $(parent_element).append(this.root);\n",
       "\n",
       "    this._init_header(this);\n",
       "    this._init_canvas(this);\n",
       "    this._init_toolbar(this);\n",
       "\n",
       "    var fig = this;\n",
       "\n",
       "    this.waiting = false;\n",
       "\n",
       "    this.ws.onopen =  function () {\n",
       "            fig.send_message(\"supports_binary\", {value: fig.supports_binary});\n",
       "            fig.send_message(\"send_image_mode\", {});\n",
       "            fig.send_message(\"refresh\", {});\n",
       "        }\n",
       "\n",
       "    this.imageObj.onload = function() {\n",
       "            if (fig.image_mode == 'full') {\n",
       "                // Full images could contain transparency (where diff images\n",
       "                // almost always do), so we need to clear the canvas so that\n",
       "                // there is no ghosting.\n",
       "                fig.context.clearRect(0, 0, fig.canvas.width, fig.canvas.height);\n",
       "            }\n",
       "            fig.context.drawImage(fig.imageObj, 0, 0);\n",
       "        };\n",
       "\n",
       "    this.imageObj.onunload = function() {\n",
       "        this.ws.close();\n",
       "    }\n",
       "\n",
       "    this.ws.onmessage = this._make_on_message_function(this);\n",
       "\n",
       "    this.ondownload = ondownload;\n",
       "}\n",
       "\n",
       "mpl.figure.prototype._init_header = function() {\n",
       "    var titlebar = $(\n",
       "        '<div class=\"ui-dialog-titlebar ui-widget-header ui-corner-all ' +\n",
       "        'ui-helper-clearfix\"/>');\n",
       "    var titletext = $(\n",
       "        '<div class=\"ui-dialog-title\" style=\"width: 100%; ' +\n",
       "        'text-align: center; padding: 3px;\"/>');\n",
       "    titlebar.append(titletext)\n",
       "    this.root.append(titlebar);\n",
       "    this.header = titletext[0];\n",
       "}\n",
       "\n",
       "\n",
       "\n",
       "mpl.figure.prototype._canvas_extra_style = function(canvas_div) {\n",
       "\n",
       "}\n",
       "\n",
       "\n",
       "mpl.figure.prototype._root_extra_style = function(canvas_div) {\n",
       "\n",
       "}\n",
       "\n",
       "mpl.figure.prototype._init_canvas = function() {\n",
       "    var fig = this;\n",
       "\n",
       "    var canvas_div = $('<div/>');\n",
       "\n",
       "    canvas_div.attr('style', 'position: relative; clear: both; outline: 0');\n",
       "\n",
       "    function canvas_keyboard_event(event) {\n",
       "        return fig.key_event(event, event['data']);\n",
       "    }\n",
       "\n",
       "    canvas_div.keydown('key_press', canvas_keyboard_event);\n",
       "    canvas_div.keyup('key_release', canvas_keyboard_event);\n",
       "    this.canvas_div = canvas_div\n",
       "    this._canvas_extra_style(canvas_div)\n",
       "    this.root.append(canvas_div);\n",
       "\n",
       "    var canvas = $('<canvas/>');\n",
       "    canvas.addClass('mpl-canvas');\n",
       "    canvas.attr('style', \"left: 0; top: 0; z-index: 0; outline: 0\")\n",
       "\n",
       "    this.canvas = canvas[0];\n",
       "    this.context = canvas[0].getContext(\"2d\");\n",
       "\n",
       "    var rubberband = $('<canvas/>');\n",
       "    rubberband.attr('style', \"position: absolute; left: 0; top: 0; z-index: 1;\")\n",
       "\n",
       "    var pass_mouse_events = true;\n",
       "\n",
       "    canvas_div.resizable({\n",
       "        start: function(event, ui) {\n",
       "            pass_mouse_events = false;\n",
       "        },\n",
       "        resize: function(event, ui) {\n",
       "            fig.request_resize(ui.size.width, ui.size.height);\n",
       "        },\n",
       "        stop: function(event, ui) {\n",
       "            pass_mouse_events = true;\n",
       "            fig.request_resize(ui.size.width, ui.size.height);\n",
       "        },\n",
       "    });\n",
       "\n",
       "    function mouse_event_fn(event) {\n",
       "        if (pass_mouse_events)\n",
       "            return fig.mouse_event(event, event['data']);\n",
       "    }\n",
       "\n",
       "    rubberband.mousedown('button_press', mouse_event_fn);\n",
       "    rubberband.mouseup('button_release', mouse_event_fn);\n",
       "    // Throttle sequential mouse events to 1 every 20ms.\n",
       "    rubberband.mousemove('motion_notify', mouse_event_fn);\n",
       "\n",
       "    rubberband.mouseenter('figure_enter', mouse_event_fn);\n",
       "    rubberband.mouseleave('figure_leave', mouse_event_fn);\n",
       "\n",
       "    canvas_div.on(\"wheel\", function (event) {\n",
       "        event = event.originalEvent;\n",
       "        event['data'] = 'scroll'\n",
       "        if (event.deltaY < 0) {\n",
       "            event.step = 1;\n",
       "        } else {\n",
       "            event.step = -1;\n",
       "        }\n",
       "        mouse_event_fn(event);\n",
       "    });\n",
       "\n",
       "    canvas_div.append(canvas);\n",
       "    canvas_div.append(rubberband);\n",
       "\n",
       "    this.rubberband = rubberband;\n",
       "    this.rubberband_canvas = rubberband[0];\n",
       "    this.rubberband_context = rubberband[0].getContext(\"2d\");\n",
       "    this.rubberband_context.strokeStyle = \"#000000\";\n",
       "\n",
       "    this._resize_canvas = function(width, height) {\n",
       "        // Keep the size of the canvas, canvas container, and rubber band\n",
       "        // canvas in synch.\n",
       "        canvas_div.css('width', width)\n",
       "        canvas_div.css('height', height)\n",
       "\n",
       "        canvas.attr('width', width);\n",
       "        canvas.attr('height', height);\n",
       "\n",
       "        rubberband.attr('width', width);\n",
       "        rubberband.attr('height', height);\n",
       "    }\n",
       "\n",
       "    // Set the figure to an initial 600x600px, this will subsequently be updated\n",
       "    // upon first draw.\n",
       "    this._resize_canvas(600, 600);\n",
       "\n",
       "    // Disable right mouse context menu.\n",
       "    $(this.rubberband_canvas).bind(\"contextmenu\",function(e){\n",
       "        return false;\n",
       "    });\n",
       "\n",
       "    function set_focus () {\n",
       "        canvas.focus();\n",
       "        canvas_div.focus();\n",
       "    }\n",
       "\n",
       "    window.setTimeout(set_focus, 100);\n",
       "}\n",
       "\n",
       "mpl.figure.prototype._init_toolbar = function() {\n",
       "    var fig = this;\n",
       "\n",
       "    var nav_element = $('<div/>')\n",
       "    nav_element.attr('style', 'width: 100%');\n",
       "    this.root.append(nav_element);\n",
       "\n",
       "    // Define a callback function for later on.\n",
       "    function toolbar_event(event) {\n",
       "        return fig.toolbar_button_onclick(event['data']);\n",
       "    }\n",
       "    function toolbar_mouse_event(event) {\n",
       "        return fig.toolbar_button_onmouseover(event['data']);\n",
       "    }\n",
       "\n",
       "    for(var toolbar_ind in mpl.toolbar_items) {\n",
       "        var name = mpl.toolbar_items[toolbar_ind][0];\n",
       "        var tooltip = mpl.toolbar_items[toolbar_ind][1];\n",
       "        var image = mpl.toolbar_items[toolbar_ind][2];\n",
       "        var method_name = mpl.toolbar_items[toolbar_ind][3];\n",
       "\n",
       "        if (!name) {\n",
       "            // put a spacer in here.\n",
       "            continue;\n",
       "        }\n",
       "        var button = $('<button/>');\n",
       "        button.addClass('ui-button ui-widget ui-state-default ui-corner-all ' +\n",
       "                        'ui-button-icon-only');\n",
       "        button.attr('role', 'button');\n",
       "        button.attr('aria-disabled', 'false');\n",
       "        button.click(method_name, toolbar_event);\n",
       "        button.mouseover(tooltip, toolbar_mouse_event);\n",
       "\n",
       "        var icon_img = $('<span/>');\n",
       "        icon_img.addClass('ui-button-icon-primary ui-icon');\n",
       "        icon_img.addClass(image);\n",
       "        icon_img.addClass('ui-corner-all');\n",
       "\n",
       "        var tooltip_span = $('<span/>');\n",
       "        tooltip_span.addClass('ui-button-text');\n",
       "        tooltip_span.html(tooltip);\n",
       "\n",
       "        button.append(icon_img);\n",
       "        button.append(tooltip_span);\n",
       "\n",
       "        nav_element.append(button);\n",
       "    }\n",
       "\n",
       "    var fmt_picker_span = $('<span/>');\n",
       "\n",
       "    var fmt_picker = $('<select/>');\n",
       "    fmt_picker.addClass('mpl-toolbar-option ui-widget ui-widget-content');\n",
       "    fmt_picker_span.append(fmt_picker);\n",
       "    nav_element.append(fmt_picker_span);\n",
       "    this.format_dropdown = fmt_picker[0];\n",
       "\n",
       "    for (var ind in mpl.extensions) {\n",
       "        var fmt = mpl.extensions[ind];\n",
       "        var option = $(\n",
       "            '<option/>', {selected: fmt === mpl.default_extension}).html(fmt);\n",
       "        fmt_picker.append(option)\n",
       "    }\n",
       "\n",
       "    // Add hover states to the ui-buttons\n",
       "    $( \".ui-button\" ).hover(\n",
       "        function() { $(this).addClass(\"ui-state-hover\");},\n",
       "        function() { $(this).removeClass(\"ui-state-hover\");}\n",
       "    );\n",
       "\n",
       "    var status_bar = $('<span class=\"mpl-message\"/>');\n",
       "    nav_element.append(status_bar);\n",
       "    this.message = status_bar[0];\n",
       "}\n",
       "\n",
       "mpl.figure.prototype.request_resize = function(x_pixels, y_pixels) {\n",
       "    // Request matplotlib to resize the figure. Matplotlib will then trigger a resize in the client,\n",
       "    // which will in turn request a refresh of the image.\n",
       "    this.send_message('resize', {'width': x_pixels, 'height': y_pixels});\n",
       "}\n",
       "\n",
       "mpl.figure.prototype.send_message = function(type, properties) {\n",
       "    properties['type'] = type;\n",
       "    properties['figure_id'] = this.id;\n",
       "    this.ws.send(JSON.stringify(properties));\n",
       "}\n",
       "\n",
       "mpl.figure.prototype.send_draw_message = function() {\n",
       "    if (!this.waiting) {\n",
       "        this.waiting = true;\n",
       "        this.ws.send(JSON.stringify({type: \"draw\", figure_id: this.id}));\n",
       "    }\n",
       "}\n",
       "\n",
       "\n",
       "mpl.figure.prototype.handle_save = function(fig, msg) {\n",
       "    var format_dropdown = fig.format_dropdown;\n",
       "    var format = format_dropdown.options[format_dropdown.selectedIndex].value;\n",
       "    fig.ondownload(fig, format);\n",
       "}\n",
       "\n",
       "\n",
       "mpl.figure.prototype.handle_resize = function(fig, msg) {\n",
       "    var size = msg['size'];\n",
       "    if (size[0] != fig.canvas.width || size[1] != fig.canvas.height) {\n",
       "        fig._resize_canvas(size[0], size[1]);\n",
       "        fig.send_message(\"refresh\", {});\n",
       "    };\n",
       "}\n",
       "\n",
       "mpl.figure.prototype.handle_rubberband = function(fig, msg) {\n",
       "    var x0 = msg['x0'];\n",
       "    var y0 = fig.canvas.height - msg['y0'];\n",
       "    var x1 = msg['x1'];\n",
       "    var y1 = fig.canvas.height - msg['y1'];\n",
       "    x0 = Math.floor(x0) + 0.5;\n",
       "    y0 = Math.floor(y0) + 0.5;\n",
       "    x1 = Math.floor(x1) + 0.5;\n",
       "    y1 = Math.floor(y1) + 0.5;\n",
       "    var min_x = Math.min(x0, x1);\n",
       "    var min_y = Math.min(y0, y1);\n",
       "    var width = Math.abs(x1 - x0);\n",
       "    var height = Math.abs(y1 - y0);\n",
       "\n",
       "    fig.rubberband_context.clearRect(\n",
       "        0, 0, fig.canvas.width, fig.canvas.height);\n",
       "\n",
       "    fig.rubberband_context.strokeRect(min_x, min_y, width, height);\n",
       "}\n",
       "\n",
       "mpl.figure.prototype.handle_figure_label = function(fig, msg) {\n",
       "    // Updates the figure title.\n",
       "    fig.header.textContent = msg['label'];\n",
       "}\n",
       "\n",
       "mpl.figure.prototype.handle_cursor = function(fig, msg) {\n",
       "    var cursor = msg['cursor'];\n",
       "    switch(cursor)\n",
       "    {\n",
       "    case 0:\n",
       "        cursor = 'pointer';\n",
       "        break;\n",
       "    case 1:\n",
       "        cursor = 'default';\n",
       "        break;\n",
       "    case 2:\n",
       "        cursor = 'crosshair';\n",
       "        break;\n",
       "    case 3:\n",
       "        cursor = 'move';\n",
       "        break;\n",
       "    }\n",
       "    fig.rubberband_canvas.style.cursor = cursor;\n",
       "}\n",
       "\n",
       "mpl.figure.prototype.handle_message = function(fig, msg) {\n",
       "    fig.message.textContent = msg['message'];\n",
       "}\n",
       "\n",
       "mpl.figure.prototype.handle_draw = function(fig, msg) {\n",
       "    // Request the server to send over a new figure.\n",
       "    fig.send_draw_message();\n",
       "}\n",
       "\n",
       "mpl.figure.prototype.handle_image_mode = function(fig, msg) {\n",
       "    fig.image_mode = msg['mode'];\n",
       "}\n",
       "\n",
       "mpl.figure.prototype.updated_canvas_event = function() {\n",
       "    // Called whenever the canvas gets updated.\n",
       "    this.send_message(\"ack\", {});\n",
       "}\n",
       "\n",
       "// A function to construct a web socket function for onmessage handling.\n",
       "// Called in the figure constructor.\n",
       "mpl.figure.prototype._make_on_message_function = function(fig) {\n",
       "    return function socket_on_message(evt) {\n",
       "        if (evt.data instanceof Blob) {\n",
       "            /* FIXME: We get \"Resource interpreted as Image but\n",
       "             * transferred with MIME type text/plain:\" errors on\n",
       "             * Chrome.  But how to set the MIME type?  It doesn't seem\n",
       "             * to be part of the websocket stream */\n",
       "            evt.data.type = \"image/png\";\n",
       "\n",
       "            /* Free the memory for the previous frames */\n",
       "            if (fig.imageObj.src) {\n",
       "                (window.URL || window.webkitURL).revokeObjectURL(\n",
       "                    fig.imageObj.src);\n",
       "            }\n",
       "\n",
       "            fig.imageObj.src = (window.URL || window.webkitURL).createObjectURL(\n",
       "                evt.data);\n",
       "            fig.updated_canvas_event();\n",
       "            fig.waiting = false;\n",
       "            return;\n",
       "        }\n",
       "        else if (typeof evt.data === 'string' && evt.data.slice(0, 21) == \"data:image/png;base64\") {\n",
       "            fig.imageObj.src = evt.data;\n",
       "            fig.updated_canvas_event();\n",
       "            fig.waiting = false;\n",
       "            return;\n",
       "        }\n",
       "\n",
       "        var msg = JSON.parse(evt.data);\n",
       "        var msg_type = msg['type'];\n",
       "\n",
       "        // Call the  \"handle_{type}\" callback, which takes\n",
       "        // the figure and JSON message as its only arguments.\n",
       "        try {\n",
       "            var callback = fig[\"handle_\" + msg_type];\n",
       "        } catch (e) {\n",
       "            console.log(\"No handler for the '\" + msg_type + \"' message type: \", msg);\n",
       "            return;\n",
       "        }\n",
       "\n",
       "        if (callback) {\n",
       "            try {\n",
       "                // console.log(\"Handling '\" + msg_type + \"' message: \", msg);\n",
       "                callback(fig, msg);\n",
       "            } catch (e) {\n",
       "                console.log(\"Exception inside the 'handler_\" + msg_type + \"' callback:\", e, e.stack, msg);\n",
       "            }\n",
       "        }\n",
       "    };\n",
       "}\n",
       "\n",
       "// from http://stackoverflow.com/questions/1114465/getting-mouse-location-in-canvas\n",
       "mpl.findpos = function(e) {\n",
       "    //this section is from http://www.quirksmode.org/js/events_properties.html\n",
       "    var targ;\n",
       "    if (!e)\n",
       "        e = window.event;\n",
       "    if (e.target)\n",
       "        targ = e.target;\n",
       "    else if (e.srcElement)\n",
       "        targ = e.srcElement;\n",
       "    if (targ.nodeType == 3) // defeat Safari bug\n",
       "        targ = targ.parentNode;\n",
       "\n",
       "    // jQuery normalizes the pageX and pageY\n",
       "    // pageX,Y are the mouse positions relative to the document\n",
       "    // offset() returns the position of the element relative to the document\n",
       "    var x = e.pageX - $(targ).offset().left;\n",
       "    var y = e.pageY - $(targ).offset().top;\n",
       "\n",
       "    return {\"x\": x, \"y\": y};\n",
       "};\n",
       "\n",
       "/*\n",
       " * return a copy of an object with only non-object keys\n",
       " * we need this to avoid circular references\n",
       " * http://stackoverflow.com/a/24161582/3208463\n",
       " */\n",
       "function simpleKeys (original) {\n",
       "  return Object.keys(original).reduce(function (obj, key) {\n",
       "    if (typeof original[key] !== 'object')\n",
       "        obj[key] = original[key]\n",
       "    return obj;\n",
       "  }, {});\n",
       "}\n",
       "\n",
       "mpl.figure.prototype.mouse_event = function(event, name) {\n",
       "    var canvas_pos = mpl.findpos(event)\n",
       "\n",
       "    if (name === 'button_press')\n",
       "    {\n",
       "        this.canvas.focus();\n",
       "        this.canvas_div.focus();\n",
       "    }\n",
       "\n",
       "    var x = canvas_pos.x;\n",
       "    var y = canvas_pos.y;\n",
       "\n",
       "    this.send_message(name, {x: x, y: y, button: event.button,\n",
       "                             step: event.step,\n",
       "                             guiEvent: simpleKeys(event)});\n",
       "\n",
       "    /* This prevents the web browser from automatically changing to\n",
       "     * the text insertion cursor when the button is pressed.  We want\n",
       "     * to control all of the cursor setting manually through the\n",
       "     * 'cursor' event from matplotlib */\n",
       "    event.preventDefault();\n",
       "    return false;\n",
       "}\n",
       "\n",
       "mpl.figure.prototype._key_event_extra = function(event, name) {\n",
       "    // Handle any extra behaviour associated with a key event\n",
       "}\n",
       "\n",
       "mpl.figure.prototype.key_event = function(event, name) {\n",
       "\n",
       "    // Prevent repeat events\n",
       "    if (name == 'key_press')\n",
       "    {\n",
       "        if (event.which === this._key)\n",
       "            return;\n",
       "        else\n",
       "            this._key = event.which;\n",
       "    }\n",
       "    if (name == 'key_release')\n",
       "        this._key = null;\n",
       "\n",
       "    var value = '';\n",
       "    if (event.ctrlKey && event.which != 17)\n",
       "        value += \"ctrl+\";\n",
       "    if (event.altKey && event.which != 18)\n",
       "        value += \"alt+\";\n",
       "    if (event.shiftKey && event.which != 16)\n",
       "        value += \"shift+\";\n",
       "\n",
       "    value += 'k';\n",
       "    value += event.which.toString();\n",
       "\n",
       "    this._key_event_extra(event, name);\n",
       "\n",
       "    this.send_message(name, {key: value,\n",
       "                             guiEvent: simpleKeys(event)});\n",
       "    return false;\n",
       "}\n",
       "\n",
       "mpl.figure.prototype.toolbar_button_onclick = function(name) {\n",
       "    if (name == 'download') {\n",
       "        this.handle_save(this, null);\n",
       "    } else {\n",
       "        this.send_message(\"toolbar_button\", {name: name});\n",
       "    }\n",
       "};\n",
       "\n",
       "mpl.figure.prototype.toolbar_button_onmouseover = function(tooltip) {\n",
       "    this.message.textContent = tooltip;\n",
       "};\n",
       "mpl.toolbar_items = [[\"Home\", \"Reset original view\", \"fa fa-home icon-home\", \"home\"], [\"Back\", \"Back to  previous view\", \"fa fa-arrow-left icon-arrow-left\", \"back\"], [\"Forward\", \"Forward to next view\", \"fa fa-arrow-right icon-arrow-right\", \"forward\"], [\"\", \"\", \"\", \"\"], [\"Pan\", \"Pan axes with left mouse, zoom with right\", \"fa fa-arrows icon-move\", \"pan\"], [\"Zoom\", \"Zoom to rectangle\", \"fa fa-square-o icon-check-empty\", \"zoom\"], [\"\", \"\", \"\", \"\"], [\"Download\", \"Download plot\", \"fa fa-floppy-o icon-save\", \"download\"]];\n",
       "\n",
       "mpl.extensions = [\"eps\", \"jpeg\", \"pdf\", \"png\", \"ps\", \"raw\", \"svg\", \"tif\"];\n",
       "\n",
       "mpl.default_extension = \"png\";var comm_websocket_adapter = function(comm) {\n",
       "    // Create a \"websocket\"-like object which calls the given IPython comm\n",
       "    // object with the appropriate methods. Currently this is a non binary\n",
       "    // socket, so there is still some room for performance tuning.\n",
       "    var ws = {};\n",
       "\n",
       "    ws.close = function() {\n",
       "        comm.close()\n",
       "    };\n",
       "    ws.send = function(m) {\n",
       "        //console.log('sending', m);\n",
       "        comm.send(m);\n",
       "    };\n",
       "    // Register the callback with on_msg.\n",
       "    comm.on_msg(function(msg) {\n",
       "        //console.log('receiving', msg['content']['data'], msg);\n",
       "        // Pass the mpl event to the overriden (by mpl) onmessage function.\n",
       "        ws.onmessage(msg['content']['data'])\n",
       "    });\n",
       "    return ws;\n",
       "}\n",
       "\n",
       "mpl.mpl_figure_comm = function(comm, msg) {\n",
       "    // This is the function which gets called when the mpl process\n",
       "    // starts-up an IPython Comm through the \"matplotlib\" channel.\n",
       "\n",
       "    var id = msg.content.data.id;\n",
       "    // Get hold of the div created by the display call when the Comm\n",
       "    // socket was opened in Python.\n",
       "    var element = $(\"#\" + id);\n",
       "    var ws_proxy = comm_websocket_adapter(comm)\n",
       "\n",
       "    function ondownload(figure, format) {\n",
       "        window.open(figure.imageObj.src);\n",
       "    }\n",
       "\n",
       "    var fig = new mpl.figure(id, ws_proxy,\n",
       "                           ondownload,\n",
       "                           element.get(0));\n",
       "\n",
       "    // Call onopen now - mpl needs it, as it is assuming we've passed it a real\n",
       "    // web socket which is closed, not our websocket->open comm proxy.\n",
       "    ws_proxy.onopen();\n",
       "\n",
       "    fig.parent_element = element.get(0);\n",
       "    fig.cell_info = mpl.find_output_cell(\"<div id='\" + id + \"'></div>\");\n",
       "    if (!fig.cell_info) {\n",
       "        console.error(\"Failed to find cell for figure\", id, fig);\n",
       "        return;\n",
       "    }\n",
       "\n",
       "    var output_index = fig.cell_info[2]\n",
       "    var cell = fig.cell_info[0];\n",
       "\n",
       "};\n",
       "\n",
       "mpl.figure.prototype.handle_close = function(fig, msg) {\n",
       "    fig.root.unbind('remove')\n",
       "\n",
       "    // Update the output cell to use the data from the current canvas.\n",
       "    fig.push_to_output();\n",
       "    var dataURL = fig.canvas.toDataURL();\n",
       "    // Re-enable the keyboard manager in IPython - without this line, in FF,\n",
       "    // the notebook keyboard shortcuts fail.\n",
       "    IPython.keyboard_manager.enable()\n",
       "    $(fig.parent_element).html('<img src=\"' + dataURL + '\">');\n",
       "    fig.close_ws(fig, msg);\n",
       "}\n",
       "\n",
       "mpl.figure.prototype.close_ws = function(fig, msg){\n",
       "    fig.send_message('closing', msg);\n",
       "    // fig.ws.close()\n",
       "}\n",
       "\n",
       "mpl.figure.prototype.push_to_output = function(remove_interactive) {\n",
       "    // Turn the data on the canvas into data in the output cell.\n",
       "    var dataURL = this.canvas.toDataURL();\n",
       "    this.cell_info[1]['text/html'] = '<img src=\"' + dataURL + '\">';\n",
       "}\n",
       "\n",
       "mpl.figure.prototype.updated_canvas_event = function() {\n",
       "    // Tell IPython that the notebook contents must change.\n",
       "    IPython.notebook.set_dirty(true);\n",
       "    this.send_message(\"ack\", {});\n",
       "    var fig = this;\n",
       "    // Wait a second, then push the new image to the DOM so\n",
       "    // that it is saved nicely (might be nice to debounce this).\n",
       "    setTimeout(function () { fig.push_to_output() }, 1000);\n",
       "}\n",
       "\n",
       "mpl.figure.prototype._init_toolbar = function() {\n",
       "    var fig = this;\n",
       "\n",
       "    var nav_element = $('<div/>')\n",
       "    nav_element.attr('style', 'width: 100%');\n",
       "    this.root.append(nav_element);\n",
       "\n",
       "    // Define a callback function for later on.\n",
       "    function toolbar_event(event) {\n",
       "        return fig.toolbar_button_onclick(event['data']);\n",
       "    }\n",
       "    function toolbar_mouse_event(event) {\n",
       "        return fig.toolbar_button_onmouseover(event['data']);\n",
       "    }\n",
       "\n",
       "    for(var toolbar_ind in mpl.toolbar_items){\n",
       "        var name = mpl.toolbar_items[toolbar_ind][0];\n",
       "        var tooltip = mpl.toolbar_items[toolbar_ind][1];\n",
       "        var image = mpl.toolbar_items[toolbar_ind][2];\n",
       "        var method_name = mpl.toolbar_items[toolbar_ind][3];\n",
       "\n",
       "        if (!name) { continue; };\n",
       "\n",
       "        var button = $('<button class=\"btn btn-default\" href=\"#\" title=\"' + name + '\"><i class=\"fa ' + image + ' fa-lg\"></i></button>');\n",
       "        button.click(method_name, toolbar_event);\n",
       "        button.mouseover(tooltip, toolbar_mouse_event);\n",
       "        nav_element.append(button);\n",
       "    }\n",
       "\n",
       "    // Add the status bar.\n",
       "    var status_bar = $('<span class=\"mpl-message\" style=\"text-align:right; float: right;\"/>');\n",
       "    nav_element.append(status_bar);\n",
       "    this.message = status_bar[0];\n",
       "\n",
       "    // Add the close button to the window.\n",
       "    var buttongrp = $('<div class=\"btn-group inline pull-right\"></div>');\n",
       "    var button = $('<button class=\"btn btn-mini btn-primary\" href=\"#\" title=\"Stop Interaction\"><i class=\"fa fa-power-off icon-remove icon-large\"></i></button>');\n",
       "    button.click(function (evt) { fig.handle_close(fig, {}); } );\n",
       "    button.mouseover('Stop Interaction', toolbar_mouse_event);\n",
       "    buttongrp.append(button);\n",
       "    var titlebar = this.root.find($('.ui-dialog-titlebar'));\n",
       "    titlebar.prepend(buttongrp);\n",
       "}\n",
       "\n",
       "mpl.figure.prototype._root_extra_style = function(el){\n",
       "    var fig = this\n",
       "    el.on(\"remove\", function(){\n",
       "\tfig.close_ws(fig, {});\n",
       "    });\n",
       "}\n",
       "\n",
       "mpl.figure.prototype._canvas_extra_style = function(el){\n",
       "    // this is important to make the div 'focusable\n",
       "    el.attr('tabindex', 0)\n",
       "    // reach out to IPython and tell the keyboard manager to turn it's self\n",
       "    // off when our div gets focus\n",
       "\n",
       "    // location in version 3\n",
       "    if (IPython.notebook.keyboard_manager) {\n",
       "        IPython.notebook.keyboard_manager.register_events(el);\n",
       "    }\n",
       "    else {\n",
       "        // location in version 2\n",
       "        IPython.keyboard_manager.register_events(el);\n",
       "    }\n",
       "\n",
       "}\n",
       "\n",
       "mpl.figure.prototype._key_event_extra = function(event, name) {\n",
       "    var manager = IPython.notebook.keyboard_manager;\n",
       "    if (!manager)\n",
       "        manager = IPython.keyboard_manager;\n",
       "\n",
       "    // Check for shift+enter\n",
       "    if (event.shiftKey && event.which == 13) {\n",
       "        this.canvas_div.blur();\n",
       "        event.shiftKey = false;\n",
       "        // Send a \"J\" for go to next cell\n",
       "        event.which = 74;\n",
       "        event.keyCode = 74;\n",
       "        manager.command_mode();\n",
       "        manager.handle_keydown(event);\n",
       "    }\n",
       "}\n",
       "\n",
       "mpl.figure.prototype.handle_save = function(fig, msg) {\n",
       "    fig.ondownload(fig, null);\n",
       "}\n",
       "\n",
       "\n",
       "mpl.find_output_cell = function(html_output) {\n",
       "    // Return the cell and output element which can be found *uniquely* in the notebook.\n",
       "    // Note - this is a bit hacky, but it is done because the \"notebook_saving.Notebook\"\n",
       "    // IPython event is triggered only after the cells have been serialised, which for\n",
       "    // our purposes (turning an active figure into a static one), is too late.\n",
       "    var cells = IPython.notebook.get_cells();\n",
       "    var ncells = cells.length;\n",
       "    for (var i=0; i<ncells; i++) {\n",
       "        var cell = cells[i];\n",
       "        if (cell.cell_type === 'code'){\n",
       "            for (var j=0; j<cell.output_area.outputs.length; j++) {\n",
       "                var data = cell.output_area.outputs[j];\n",
       "                if (data.data) {\n",
       "                    // IPython >= 3 moved mimebundle to data attribute of output\n",
       "                    data = data.data;\n",
       "                }\n",
       "                if (data['text/html'] == html_output) {\n",
       "                    return [cell, data, j];\n",
       "                }\n",
       "            }\n",
       "        }\n",
       "    }\n",
       "}\n",
       "\n",
       "// Register the function which deals with the matplotlib target/channel.\n",
       "// The kernel may be null if the page has been refreshed.\n",
       "if (IPython.notebook.kernel != null) {\n",
       "    IPython.notebook.kernel.comm_manager.register_target('matplotlib', mpl.mpl_figure_comm);\n",
       "}\n"
      ],
      "text/plain": [
       "<IPython.core.display.Javascript object>"
      ]
     },
     "metadata": {},
     "output_type": "display_data"
    },
    {
     "data": {
      "text/html": [
       "<img src=\"data:image/png;base64,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\">"
      ],
      "text/plain": [
       "<IPython.core.display.HTML object>"
      ]
     },
     "metadata": {},
     "output_type": "display_data"
    }
   ],
   "source": [
    "import matplotlib.pyplot as plt # import绘图包\n",
    "# interactive in notebook\n",
    "%matplotlib notebook \n",
    "plt.plot([1,2,3,4])\n",
    "plt.ylabel('some numbers')\n",
    "plt.show()"
   ]
  },
  {
   "cell_type": "markdown",
   "metadata": {},
   "source": [
    "#### 需要的功能Anaconda没有包括，let us google and install"
   ]
  },
  {
   "cell_type": "code",
   "execution_count": 68,
   "metadata": {
    "collapsed": false
   },
   "outputs": [
    {
     "name": "stdout",
     "output_type": "stream",
     "text": [
      "Collecting wordcloud\n",
      "  Downloading wordcloud-1.3.1.tar.gz (169kB)\n",
      "Requirement already satisfied: matplotlib in c:\\anaconda3\\envs\\python2\\lib\\site-packages (from wordcloud)\n",
      "Requirement already satisfied: numpy>=1.6.1 in c:\\anaconda3\\envs\\python2\\lib\\site-packages (from wordcloud)\n",
      "Requirement already satisfied: pillow in c:\\anaconda3\\envs\\python2\\lib\\site-packages (from wordcloud)\n",
      "Requirement already satisfied: python-dateutil in c:\\anaconda3\\envs\\python2\\lib\\site-packages (from matplotlib->wordcloud)\n",
      "Requirement already satisfied: pytz in c:\\anaconda3\\envs\\python2\\lib\\site-packages (from matplotlib->wordcloud)\n",
      "Requirement already satisfied: cycler in c:\\anaconda3\\envs\\python2\\lib\\site-packages (from matplotlib->wordcloud)\n",
      "Requirement already satisfied: pyparsing!=2.0.4,>=1.5.6 in c:\\anaconda3\\envs\\python2\\lib\\site-packages (from matplotlib->wordcloud)\n",
      "Requirement already satisfied: six>=1.5 in c:\\anaconda3\\envs\\python2\\lib\\site-packages (from python-dateutil->matplotlib->wordcloud)\n",
      "Building wheels for collected packages: wordcloud\n",
      "  Running setup.py bdist_wheel for wordcloud: started\n",
      "  Running setup.py bdist_wheel for wordcloud: finished with status 'done'\n",
      "  Stored in directory: C:\\Users\\xiongxiong\\AppData\\Local\\pip\\Cache\\wheels\\d9\\4c\\ac\\e63c45f2ce09860e9459a410953039c30296e89d9f7234675f\n",
      "Successfully built wordcloud\n",
      "Installing collected packages: wordcloud\n",
      "Successfully installed wordcloud-1.3.1\n"
     ]
    }
   ],
   "source": [
    "!pip install wordcloud"
   ]
  },
  {
   "cell_type": "code",
   "execution_count": 77,
   "metadata": {
    "collapsed": false
   },
   "outputs": [
    {
     "data": {
      "application/javascript": [
       "/* Put everything inside the global mpl namespace */\n",
       "window.mpl = {};\n",
       "\n",
       "mpl.get_websocket_type = function() {\n",
       "    if (typeof(WebSocket) !== 'undefined') {\n",
       "        return WebSocket;\n",
       "    } else if (typeof(MozWebSocket) !== 'undefined') {\n",
       "        return MozWebSocket;\n",
       "    } else {\n",
       "        alert('Your browser does not have WebSocket support.' +\n",
       "              'Please try Chrome, Safari or Firefox ≥ 6. ' +\n",
       "              'Firefox 4 and 5 are also supported but you ' +\n",
       "              'have to enable WebSockets in about:config.');\n",
       "    };\n",
       "}\n",
       "\n",
       "mpl.figure = function(figure_id, websocket, ondownload, parent_element) {\n",
       "    this.id = figure_id;\n",
       "\n",
       "    this.ws = websocket;\n",
       "\n",
       "    this.supports_binary = (this.ws.binaryType != undefined);\n",
       "\n",
       "    if (!this.supports_binary) {\n",
       "        var warnings = document.getElementById(\"mpl-warnings\");\n",
       "        if (warnings) {\n",
       "            warnings.style.display = 'block';\n",
       "            warnings.textContent = (\n",
       "                \"This browser does not support binary websocket messages. \" +\n",
       "                    \"Performance may be slow.\");\n",
       "        }\n",
       "    }\n",
       "\n",
       "    this.imageObj = new Image();\n",
       "\n",
       "    this.context = undefined;\n",
       "    this.message = undefined;\n",
       "    this.canvas = undefined;\n",
       "    this.rubberband_canvas = undefined;\n",
       "    this.rubberband_context = undefined;\n",
       "    this.format_dropdown = undefined;\n",
       "\n",
       "    this.image_mode = 'full';\n",
       "\n",
       "    this.root = $('<div/>');\n",
       "    this._root_extra_style(this.root)\n",
       "    this.root.attr('style', 'display: inline-block');\n",
       "\n",
       "    $(parent_element).append(this.root);\n",
       "\n",
       "    this._init_header(this);\n",
       "    this._init_canvas(this);\n",
       "    this._init_toolbar(this);\n",
       "\n",
       "    var fig = this;\n",
       "\n",
       "    this.waiting = false;\n",
       "\n",
       "    this.ws.onopen =  function () {\n",
       "            fig.send_message(\"supports_binary\", {value: fig.supports_binary});\n",
       "            fig.send_message(\"send_image_mode\", {});\n",
       "            fig.send_message(\"refresh\", {});\n",
       "        }\n",
       "\n",
       "    this.imageObj.onload = function() {\n",
       "            if (fig.image_mode == 'full') {\n",
       "                // Full images could contain transparency (where diff images\n",
       "                // almost always do), so we need to clear the canvas so that\n",
       "                // there is no ghosting.\n",
       "                fig.context.clearRect(0, 0, fig.canvas.width, fig.canvas.height);\n",
       "            }\n",
       "            fig.context.drawImage(fig.imageObj, 0, 0);\n",
       "        };\n",
       "\n",
       "    this.imageObj.onunload = function() {\n",
       "        this.ws.close();\n",
       "    }\n",
       "\n",
       "    this.ws.onmessage = this._make_on_message_function(this);\n",
       "\n",
       "    this.ondownload = ondownload;\n",
       "}\n",
       "\n",
       "mpl.figure.prototype._init_header = function() {\n",
       "    var titlebar = $(\n",
       "        '<div class=\"ui-dialog-titlebar ui-widget-header ui-corner-all ' +\n",
       "        'ui-helper-clearfix\"/>');\n",
       "    var titletext = $(\n",
       "        '<div class=\"ui-dialog-title\" style=\"width: 100%; ' +\n",
       "        'text-align: center; padding: 3px;\"/>');\n",
       "    titlebar.append(titletext)\n",
       "    this.root.append(titlebar);\n",
       "    this.header = titletext[0];\n",
       "}\n",
       "\n",
       "\n",
       "\n",
       "mpl.figure.prototype._canvas_extra_style = function(canvas_div) {\n",
       "\n",
       "}\n",
       "\n",
       "\n",
       "mpl.figure.prototype._root_extra_style = function(canvas_div) {\n",
       "\n",
       "}\n",
       "\n",
       "mpl.figure.prototype._init_canvas = function() {\n",
       "    var fig = this;\n",
       "\n",
       "    var canvas_div = $('<div/>');\n",
       "\n",
       "    canvas_div.attr('style', 'position: relative; clear: both; outline: 0');\n",
       "\n",
       "    function canvas_keyboard_event(event) {\n",
       "        return fig.key_event(event, event['data']);\n",
       "    }\n",
       "\n",
       "    canvas_div.keydown('key_press', canvas_keyboard_event);\n",
       "    canvas_div.keyup('key_release', canvas_keyboard_event);\n",
       "    this.canvas_div = canvas_div\n",
       "    this._canvas_extra_style(canvas_div)\n",
       "    this.root.append(canvas_div);\n",
       "\n",
       "    var canvas = $('<canvas/>');\n",
       "    canvas.addClass('mpl-canvas');\n",
       "    canvas.attr('style', \"left: 0; top: 0; z-index: 0; outline: 0\")\n",
       "\n",
       "    this.canvas = canvas[0];\n",
       "    this.context = canvas[0].getContext(\"2d\");\n",
       "\n",
       "    var rubberband = $('<canvas/>');\n",
       "    rubberband.attr('style', \"position: absolute; left: 0; top: 0; z-index: 1;\")\n",
       "\n",
       "    var pass_mouse_events = true;\n",
       "\n",
       "    canvas_div.resizable({\n",
       "        start: function(event, ui) {\n",
       "            pass_mouse_events = false;\n",
       "        },\n",
       "        resize: function(event, ui) {\n",
       "            fig.request_resize(ui.size.width, ui.size.height);\n",
       "        },\n",
       "        stop: function(event, ui) {\n",
       "            pass_mouse_events = true;\n",
       "            fig.request_resize(ui.size.width, ui.size.height);\n",
       "        },\n",
       "    });\n",
       "\n",
       "    function mouse_event_fn(event) {\n",
       "        if (pass_mouse_events)\n",
       "            return fig.mouse_event(event, event['data']);\n",
       "    }\n",
       "\n",
       "    rubberband.mousedown('button_press', mouse_event_fn);\n",
       "    rubberband.mouseup('button_release', mouse_event_fn);\n",
       "    // Throttle sequential mouse events to 1 every 20ms.\n",
       "    rubberband.mousemove('motion_notify', mouse_event_fn);\n",
       "\n",
       "    rubberband.mouseenter('figure_enter', mouse_event_fn);\n",
       "    rubberband.mouseleave('figure_leave', mouse_event_fn);\n",
       "\n",
       "    canvas_div.on(\"wheel\", function (event) {\n",
       "        event = event.originalEvent;\n",
       "        event['data'] = 'scroll'\n",
       "        if (event.deltaY < 0) {\n",
       "            event.step = 1;\n",
       "        } else {\n",
       "            event.step = -1;\n",
       "        }\n",
       "        mouse_event_fn(event);\n",
       "    });\n",
       "\n",
       "    canvas_div.append(canvas);\n",
       "    canvas_div.append(rubberband);\n",
       "\n",
       "    this.rubberband = rubberband;\n",
       "    this.rubberband_canvas = rubberband[0];\n",
       "    this.rubberband_context = rubberband[0].getContext(\"2d\");\n",
       "    this.rubberband_context.strokeStyle = \"#000000\";\n",
       "\n",
       "    this._resize_canvas = function(width, height) {\n",
       "        // Keep the size of the canvas, canvas container, and rubber band\n",
       "        // canvas in synch.\n",
       "        canvas_div.css('width', width)\n",
       "        canvas_div.css('height', height)\n",
       "\n",
       "        canvas.attr('width', width);\n",
       "        canvas.attr('height', height);\n",
       "\n",
       "        rubberband.attr('width', width);\n",
       "        rubberband.attr('height', height);\n",
       "    }\n",
       "\n",
       "    // Set the figure to an initial 600x600px, this will subsequently be updated\n",
       "    // upon first draw.\n",
       "    this._resize_canvas(600, 600);\n",
       "\n",
       "    // Disable right mouse context menu.\n",
       "    $(this.rubberband_canvas).bind(\"contextmenu\",function(e){\n",
       "        return false;\n",
       "    });\n",
       "\n",
       "    function set_focus () {\n",
       "        canvas.focus();\n",
       "        canvas_div.focus();\n",
       "    }\n",
       "\n",
       "    window.setTimeout(set_focus, 100);\n",
       "}\n",
       "\n",
       "mpl.figure.prototype._init_toolbar = function() {\n",
       "    var fig = this;\n",
       "\n",
       "    var nav_element = $('<div/>')\n",
       "    nav_element.attr('style', 'width: 100%');\n",
       "    this.root.append(nav_element);\n",
       "\n",
       "    // Define a callback function for later on.\n",
       "    function toolbar_event(event) {\n",
       "        return fig.toolbar_button_onclick(event['data']);\n",
       "    }\n",
       "    function toolbar_mouse_event(event) {\n",
       "        return fig.toolbar_button_onmouseover(event['data']);\n",
       "    }\n",
       "\n",
       "    for(var toolbar_ind in mpl.toolbar_items) {\n",
       "        var name = mpl.toolbar_items[toolbar_ind][0];\n",
       "        var tooltip = mpl.toolbar_items[toolbar_ind][1];\n",
       "        var image = mpl.toolbar_items[toolbar_ind][2];\n",
       "        var method_name = mpl.toolbar_items[toolbar_ind][3];\n",
       "\n",
       "        if (!name) {\n",
       "            // put a spacer in here.\n",
       "            continue;\n",
       "        }\n",
       "        var button = $('<button/>');\n",
       "        button.addClass('ui-button ui-widget ui-state-default ui-corner-all ' +\n",
       "                        'ui-button-icon-only');\n",
       "        button.attr('role', 'button');\n",
       "        button.attr('aria-disabled', 'false');\n",
       "        button.click(method_name, toolbar_event);\n",
       "        button.mouseover(tooltip, toolbar_mouse_event);\n",
       "\n",
       "        var icon_img = $('<span/>');\n",
       "        icon_img.addClass('ui-button-icon-primary ui-icon');\n",
       "        icon_img.addClass(image);\n",
       "        icon_img.addClass('ui-corner-all');\n",
       "\n",
       "        var tooltip_span = $('<span/>');\n",
       "        tooltip_span.addClass('ui-button-text');\n",
       "        tooltip_span.html(tooltip);\n",
       "\n",
       "        button.append(icon_img);\n",
       "        button.append(tooltip_span);\n",
       "\n",
       "        nav_element.append(button);\n",
       "    }\n",
       "\n",
       "    var fmt_picker_span = $('<span/>');\n",
       "\n",
       "    var fmt_picker = $('<select/>');\n",
       "    fmt_picker.addClass('mpl-toolbar-option ui-widget ui-widget-content');\n",
       "    fmt_picker_span.append(fmt_picker);\n",
       "    nav_element.append(fmt_picker_span);\n",
       "    this.format_dropdown = fmt_picker[0];\n",
       "\n",
       "    for (var ind in mpl.extensions) {\n",
       "        var fmt = mpl.extensions[ind];\n",
       "        var option = $(\n",
       "            '<option/>', {selected: fmt === mpl.default_extension}).html(fmt);\n",
       "        fmt_picker.append(option)\n",
       "    }\n",
       "\n",
       "    // Add hover states to the ui-buttons\n",
       "    $( \".ui-button\" ).hover(\n",
       "        function() { $(this).addClass(\"ui-state-hover\");},\n",
       "        function() { $(this).removeClass(\"ui-state-hover\");}\n",
       "    );\n",
       "\n",
       "    var status_bar = $('<span class=\"mpl-message\"/>');\n",
       "    nav_element.append(status_bar);\n",
       "    this.message = status_bar[0];\n",
       "}\n",
       "\n",
       "mpl.figure.prototype.request_resize = function(x_pixels, y_pixels) {\n",
       "    // Request matplotlib to resize the figure. Matplotlib will then trigger a resize in the client,\n",
       "    // which will in turn request a refresh of the image.\n",
       "    this.send_message('resize', {'width': x_pixels, 'height': y_pixels});\n",
       "}\n",
       "\n",
       "mpl.figure.prototype.send_message = function(type, properties) {\n",
       "    properties['type'] = type;\n",
       "    properties['figure_id'] = this.id;\n",
       "    this.ws.send(JSON.stringify(properties));\n",
       "}\n",
       "\n",
       "mpl.figure.prototype.send_draw_message = function() {\n",
       "    if (!this.waiting) {\n",
       "        this.waiting = true;\n",
       "        this.ws.send(JSON.stringify({type: \"draw\", figure_id: this.id}));\n",
       "    }\n",
       "}\n",
       "\n",
       "\n",
       "mpl.figure.prototype.handle_save = function(fig, msg) {\n",
       "    var format_dropdown = fig.format_dropdown;\n",
       "    var format = format_dropdown.options[format_dropdown.selectedIndex].value;\n",
       "    fig.ondownload(fig, format);\n",
       "}\n",
       "\n",
       "\n",
       "mpl.figure.prototype.handle_resize = function(fig, msg) {\n",
       "    var size = msg['size'];\n",
       "    if (size[0] != fig.canvas.width || size[1] != fig.canvas.height) {\n",
       "        fig._resize_canvas(size[0], size[1]);\n",
       "        fig.send_message(\"refresh\", {});\n",
       "    };\n",
       "}\n",
       "\n",
       "mpl.figure.prototype.handle_rubberband = function(fig, msg) {\n",
       "    var x0 = msg['x0'];\n",
       "    var y0 = fig.canvas.height - msg['y0'];\n",
       "    var x1 = msg['x1'];\n",
       "    var y1 = fig.canvas.height - msg['y1'];\n",
       "    x0 = Math.floor(x0) + 0.5;\n",
       "    y0 = Math.floor(y0) + 0.5;\n",
       "    x1 = Math.floor(x1) + 0.5;\n",
       "    y1 = Math.floor(y1) + 0.5;\n",
       "    var min_x = Math.min(x0, x1);\n",
       "    var min_y = Math.min(y0, y1);\n",
       "    var width = Math.abs(x1 - x0);\n",
       "    var height = Math.abs(y1 - y0);\n",
       "\n",
       "    fig.rubberband_context.clearRect(\n",
       "        0, 0, fig.canvas.width, fig.canvas.height);\n",
       "\n",
       "    fig.rubberband_context.strokeRect(min_x, min_y, width, height);\n",
       "}\n",
       "\n",
       "mpl.figure.prototype.handle_figure_label = function(fig, msg) {\n",
       "    // Updates the figure title.\n",
       "    fig.header.textContent = msg['label'];\n",
       "}\n",
       "\n",
       "mpl.figure.prototype.handle_cursor = function(fig, msg) {\n",
       "    var cursor = msg['cursor'];\n",
       "    switch(cursor)\n",
       "    {\n",
       "    case 0:\n",
       "        cursor = 'pointer';\n",
       "        break;\n",
       "    case 1:\n",
       "        cursor = 'default';\n",
       "        break;\n",
       "    case 2:\n",
       "        cursor = 'crosshair';\n",
       "        break;\n",
       "    case 3:\n",
       "        cursor = 'move';\n",
       "        break;\n",
       "    }\n",
       "    fig.rubberband_canvas.style.cursor = cursor;\n",
       "}\n",
       "\n",
       "mpl.figure.prototype.handle_message = function(fig, msg) {\n",
       "    fig.message.textContent = msg['message'];\n",
       "}\n",
       "\n",
       "mpl.figure.prototype.handle_draw = function(fig, msg) {\n",
       "    // Request the server to send over a new figure.\n",
       "    fig.send_draw_message();\n",
       "}\n",
       "\n",
       "mpl.figure.prototype.handle_image_mode = function(fig, msg) {\n",
       "    fig.image_mode = msg['mode'];\n",
       "}\n",
       "\n",
       "mpl.figure.prototype.updated_canvas_event = function() {\n",
       "    // Called whenever the canvas gets updated.\n",
       "    this.send_message(\"ack\", {});\n",
       "}\n",
       "\n",
       "// A function to construct a web socket function for onmessage handling.\n",
       "// Called in the figure constructor.\n",
       "mpl.figure.prototype._make_on_message_function = function(fig) {\n",
       "    return function socket_on_message(evt) {\n",
       "        if (evt.data instanceof Blob) {\n",
       "            /* FIXME: We get \"Resource interpreted as Image but\n",
       "             * transferred with MIME type text/plain:\" errors on\n",
       "             * Chrome.  But how to set the MIME type?  It doesn't seem\n",
       "             * to be part of the websocket stream */\n",
       "            evt.data.type = \"image/png\";\n",
       "\n",
       "            /* Free the memory for the previous frames */\n",
       "            if (fig.imageObj.src) {\n",
       "                (window.URL || window.webkitURL).revokeObjectURL(\n",
       "                    fig.imageObj.src);\n",
       "            }\n",
       "\n",
       "            fig.imageObj.src = (window.URL || window.webkitURL).createObjectURL(\n",
       "                evt.data);\n",
       "            fig.updated_canvas_event();\n",
       "            fig.waiting = false;\n",
       "            return;\n",
       "        }\n",
       "        else if (typeof evt.data === 'string' && evt.data.slice(0, 21) == \"data:image/png;base64\") {\n",
       "            fig.imageObj.src = evt.data;\n",
       "            fig.updated_canvas_event();\n",
       "            fig.waiting = false;\n",
       "            return;\n",
       "        }\n",
       "\n",
       "        var msg = JSON.parse(evt.data);\n",
       "        var msg_type = msg['type'];\n",
       "\n",
       "        // Call the  \"handle_{type}\" callback, which takes\n",
       "        // the figure and JSON message as its only arguments.\n",
       "        try {\n",
       "            var callback = fig[\"handle_\" + msg_type];\n",
       "        } catch (e) {\n",
       "            console.log(\"No handler for the '\" + msg_type + \"' message type: \", msg);\n",
       "            return;\n",
       "        }\n",
       "\n",
       "        if (callback) {\n",
       "            try {\n",
       "                // console.log(\"Handling '\" + msg_type + \"' message: \", msg);\n",
       "                callback(fig, msg);\n",
       "            } catch (e) {\n",
       "                console.log(\"Exception inside the 'handler_\" + msg_type + \"' callback:\", e, e.stack, msg);\n",
       "            }\n",
       "        }\n",
       "    };\n",
       "}\n",
       "\n",
       "// from http://stackoverflow.com/questions/1114465/getting-mouse-location-in-canvas\n",
       "mpl.findpos = function(e) {\n",
       "    //this section is from http://www.quirksmode.org/js/events_properties.html\n",
       "    var targ;\n",
       "    if (!e)\n",
       "        e = window.event;\n",
       "    if (e.target)\n",
       "        targ = e.target;\n",
       "    else if (e.srcElement)\n",
       "        targ = e.srcElement;\n",
       "    if (targ.nodeType == 3) // defeat Safari bug\n",
       "        targ = targ.parentNode;\n",
       "\n",
       "    // jQuery normalizes the pageX and pageY\n",
       "    // pageX,Y are the mouse positions relative to the document\n",
       "    // offset() returns the position of the element relative to the document\n",
       "    var x = e.pageX - $(targ).offset().left;\n",
       "    var y = e.pageY - $(targ).offset().top;\n",
       "\n",
       "    return {\"x\": x, \"y\": y};\n",
       "};\n",
       "\n",
       "/*\n",
       " * return a copy of an object with only non-object keys\n",
       " * we need this to avoid circular references\n",
       " * http://stackoverflow.com/a/24161582/3208463\n",
       " */\n",
       "function simpleKeys (original) {\n",
       "  return Object.keys(original).reduce(function (obj, key) {\n",
       "    if (typeof original[key] !== 'object')\n",
       "        obj[key] = original[key]\n",
       "    return obj;\n",
       "  }, {});\n",
       "}\n",
       "\n",
       "mpl.figure.prototype.mouse_event = function(event, name) {\n",
       "    var canvas_pos = mpl.findpos(event)\n",
       "\n",
       "    if (name === 'button_press')\n",
       "    {\n",
       "        this.canvas.focus();\n",
       "        this.canvas_div.focus();\n",
       "    }\n",
       "\n",
       "    var x = canvas_pos.x;\n",
       "    var y = canvas_pos.y;\n",
       "\n",
       "    this.send_message(name, {x: x, y: y, button: event.button,\n",
       "                             step: event.step,\n",
       "                             guiEvent: simpleKeys(event)});\n",
       "\n",
       "    /* This prevents the web browser from automatically changing to\n",
       "     * the text insertion cursor when the button is pressed.  We want\n",
       "     * to control all of the cursor setting manually through the\n",
       "     * 'cursor' event from matplotlib */\n",
       "    event.preventDefault();\n",
       "    return false;\n",
       "}\n",
       "\n",
       "mpl.figure.prototype._key_event_extra = function(event, name) {\n",
       "    // Handle any extra behaviour associated with a key event\n",
       "}\n",
       "\n",
       "mpl.figure.prototype.key_event = function(event, name) {\n",
       "\n",
       "    // Prevent repeat events\n",
       "    if (name == 'key_press')\n",
       "    {\n",
       "        if (event.which === this._key)\n",
       "            return;\n",
       "        else\n",
       "            this._key = event.which;\n",
       "    }\n",
       "    if (name == 'key_release')\n",
       "        this._key = null;\n",
       "\n",
       "    var value = '';\n",
       "    if (event.ctrlKey && event.which != 17)\n",
       "        value += \"ctrl+\";\n",
       "    if (event.altKey && event.which != 18)\n",
       "        value += \"alt+\";\n",
       "    if (event.shiftKey && event.which != 16)\n",
       "        value += \"shift+\";\n",
       "\n",
       "    value += 'k';\n",
       "    value += event.which.toString();\n",
       "\n",
       "    this._key_event_extra(event, name);\n",
       "\n",
       "    this.send_message(name, {key: value,\n",
       "                             guiEvent: simpleKeys(event)});\n",
       "    return false;\n",
       "}\n",
       "\n",
       "mpl.figure.prototype.toolbar_button_onclick = function(name) {\n",
       "    if (name == 'download') {\n",
       "        this.handle_save(this, null);\n",
       "    } else {\n",
       "        this.send_message(\"toolbar_button\", {name: name});\n",
       "    }\n",
       "};\n",
       "\n",
       "mpl.figure.prototype.toolbar_button_onmouseover = function(tooltip) {\n",
       "    this.message.textContent = tooltip;\n",
       "};\n",
       "mpl.toolbar_items = [[\"Home\", \"Reset original view\", \"fa fa-home icon-home\", \"home\"], [\"Back\", \"Back to  previous view\", \"fa fa-arrow-left icon-arrow-left\", \"back\"], [\"Forward\", \"Forward to next view\", \"fa fa-arrow-right icon-arrow-right\", \"forward\"], [\"\", \"\", \"\", \"\"], [\"Pan\", \"Pan axes with left mouse, zoom with right\", \"fa fa-arrows icon-move\", \"pan\"], [\"Zoom\", \"Zoom to rectangle\", \"fa fa-square-o icon-check-empty\", \"zoom\"], [\"\", \"\", \"\", \"\"], [\"Download\", \"Download plot\", \"fa fa-floppy-o icon-save\", \"download\"]];\n",
       "\n",
       "mpl.extensions = [\"eps\", \"jpeg\", \"pdf\", \"png\", \"ps\", \"raw\", \"svg\", \"tif\"];\n",
       "\n",
       "mpl.default_extension = \"png\";var comm_websocket_adapter = function(comm) {\n",
       "    // Create a \"websocket\"-like object which calls the given IPython comm\n",
       "    // object with the appropriate methods. Currently this is a non binary\n",
       "    // socket, so there is still some room for performance tuning.\n",
       "    var ws = {};\n",
       "\n",
       "    ws.close = function() {\n",
       "        comm.close()\n",
       "    };\n",
       "    ws.send = function(m) {\n",
       "        //console.log('sending', m);\n",
       "        comm.send(m);\n",
       "    };\n",
       "    // Register the callback with on_msg.\n",
       "    comm.on_msg(function(msg) {\n",
       "        //console.log('receiving', msg['content']['data'], msg);\n",
       "        // Pass the mpl event to the overriden (by mpl) onmessage function.\n",
       "        ws.onmessage(msg['content']['data'])\n",
       "    });\n",
       "    return ws;\n",
       "}\n",
       "\n",
       "mpl.mpl_figure_comm = function(comm, msg) {\n",
       "    // This is the function which gets called when the mpl process\n",
       "    // starts-up an IPython Comm through the \"matplotlib\" channel.\n",
       "\n",
       "    var id = msg.content.data.id;\n",
       "    // Get hold of the div created by the display call when the Comm\n",
       "    // socket was opened in Python.\n",
       "    var element = $(\"#\" + id);\n",
       "    var ws_proxy = comm_websocket_adapter(comm)\n",
       "\n",
       "    function ondownload(figure, format) {\n",
       "        window.open(figure.imageObj.src);\n",
       "    }\n",
       "\n",
       "    var fig = new mpl.figure(id, ws_proxy,\n",
       "                           ondownload,\n",
       "                           element.get(0));\n",
       "\n",
       "    // Call onopen now - mpl needs it, as it is assuming we've passed it a real\n",
       "    // web socket which is closed, not our websocket->open comm proxy.\n",
       "    ws_proxy.onopen();\n",
       "\n",
       "    fig.parent_element = element.get(0);\n",
       "    fig.cell_info = mpl.find_output_cell(\"<div id='\" + id + \"'></div>\");\n",
       "    if (!fig.cell_info) {\n",
       "        console.error(\"Failed to find cell for figure\", id, fig);\n",
       "        return;\n",
       "    }\n",
       "\n",
       "    var output_index = fig.cell_info[2]\n",
       "    var cell = fig.cell_info[0];\n",
       "\n",
       "};\n",
       "\n",
       "mpl.figure.prototype.handle_close = function(fig, msg) {\n",
       "    fig.root.unbind('remove')\n",
       "\n",
       "    // Update the output cell to use the data from the current canvas.\n",
       "    fig.push_to_output();\n",
       "    var dataURL = fig.canvas.toDataURL();\n",
       "    // Re-enable the keyboard manager in IPython - without this line, in FF,\n",
       "    // the notebook keyboard shortcuts fail.\n",
       "    IPython.keyboard_manager.enable()\n",
       "    $(fig.parent_element).html('<img src=\"' + dataURL + '\">');\n",
       "    fig.close_ws(fig, msg);\n",
       "}\n",
       "\n",
       "mpl.figure.prototype.close_ws = function(fig, msg){\n",
       "    fig.send_message('closing', msg);\n",
       "    // fig.ws.close()\n",
       "}\n",
       "\n",
       "mpl.figure.prototype.push_to_output = function(remove_interactive) {\n",
       "    // Turn the data on the canvas into data in the output cell.\n",
       "    var dataURL = this.canvas.toDataURL();\n",
       "    this.cell_info[1]['text/html'] = '<img src=\"' + dataURL + '\">';\n",
       "}\n",
       "\n",
       "mpl.figure.prototype.updated_canvas_event = function() {\n",
       "    // Tell IPython that the notebook contents must change.\n",
       "    IPython.notebook.set_dirty(true);\n",
       "    this.send_message(\"ack\", {});\n",
       "    var fig = this;\n",
       "    // Wait a second, then push the new image to the DOM so\n",
       "    // that it is saved nicely (might be nice to debounce this).\n",
       "    setTimeout(function () { fig.push_to_output() }, 1000);\n",
       "}\n",
       "\n",
       "mpl.figure.prototype._init_toolbar = function() {\n",
       "    var fig = this;\n",
       "\n",
       "    var nav_element = $('<div/>')\n",
       "    nav_element.attr('style', 'width: 100%');\n",
       "    this.root.append(nav_element);\n",
       "\n",
       "    // Define a callback function for later on.\n",
       "    function toolbar_event(event) {\n",
       "        return fig.toolbar_button_onclick(event['data']);\n",
       "    }\n",
       "    function toolbar_mouse_event(event) {\n",
       "        return fig.toolbar_button_onmouseover(event['data']);\n",
       "    }\n",
       "\n",
       "    for(var toolbar_ind in mpl.toolbar_items){\n",
       "        var name = mpl.toolbar_items[toolbar_ind][0];\n",
       "        var tooltip = mpl.toolbar_items[toolbar_ind][1];\n",
       "        var image = mpl.toolbar_items[toolbar_ind][2];\n",
       "        var method_name = mpl.toolbar_items[toolbar_ind][3];\n",
       "\n",
       "        if (!name) { continue; };\n",
       "\n",
       "        var button = $('<button class=\"btn btn-default\" href=\"#\" title=\"' + name + '\"><i class=\"fa ' + image + ' fa-lg\"></i></button>');\n",
       "        button.click(method_name, toolbar_event);\n",
       "        button.mouseover(tooltip, toolbar_mouse_event);\n",
       "        nav_element.append(button);\n",
       "    }\n",
       "\n",
       "    // Add the status bar.\n",
       "    var status_bar = $('<span class=\"mpl-message\" style=\"text-align:right; float: right;\"/>');\n",
       "    nav_element.append(status_bar);\n",
       "    this.message = status_bar[0];\n",
       "\n",
       "    // Add the close button to the window.\n",
       "    var buttongrp = $('<div class=\"btn-group inline pull-right\"></div>');\n",
       "    var button = $('<button class=\"btn btn-mini btn-primary\" href=\"#\" title=\"Stop Interaction\"><i class=\"fa fa-power-off icon-remove icon-large\"></i></button>');\n",
       "    button.click(function (evt) { fig.handle_close(fig, {}); } );\n",
       "    button.mouseover('Stop Interaction', toolbar_mouse_event);\n",
       "    buttongrp.append(button);\n",
       "    var titlebar = this.root.find($('.ui-dialog-titlebar'));\n",
       "    titlebar.prepend(buttongrp);\n",
       "}\n",
       "\n",
       "mpl.figure.prototype._root_extra_style = function(el){\n",
       "    var fig = this\n",
       "    el.on(\"remove\", function(){\n",
       "\tfig.close_ws(fig, {});\n",
       "    });\n",
       "}\n",
       "\n",
       "mpl.figure.prototype._canvas_extra_style = function(el){\n",
       "    // this is important to make the div 'focusable\n",
       "    el.attr('tabindex', 0)\n",
       "    // reach out to IPython and tell the keyboard manager to turn it's self\n",
       "    // off when our div gets focus\n",
       "\n",
       "    // location in version 3\n",
       "    if (IPython.notebook.keyboard_manager) {\n",
       "        IPython.notebook.keyboard_manager.register_events(el);\n",
       "    }\n",
       "    else {\n",
       "        // location in version 2\n",
       "        IPython.keyboard_manager.register_events(el);\n",
       "    }\n",
       "\n",
       "}\n",
       "\n",
       "mpl.figure.prototype._key_event_extra = function(event, name) {\n",
       "    var manager = IPython.notebook.keyboard_manager;\n",
       "    if (!manager)\n",
       "        manager = IPython.keyboard_manager;\n",
       "\n",
       "    // Check for shift+enter\n",
       "    if (event.shiftKey && event.which == 13) {\n",
       "        this.canvas_div.blur();\n",
       "        event.shiftKey = false;\n",
       "        // Send a \"J\" for go to next cell\n",
       "        event.which = 74;\n",
       "        event.keyCode = 74;\n",
       "        manager.command_mode();\n",
       "        manager.handle_keydown(event);\n",
       "    }\n",
       "}\n",
       "\n",
       "mpl.figure.prototype.handle_save = function(fig, msg) {\n",
       "    fig.ondownload(fig, null);\n",
       "}\n",
       "\n",
       "\n",
       "mpl.find_output_cell = function(html_output) {\n",
       "    // Return the cell and output element which can be found *uniquely* in the notebook.\n",
       "    // Note - this is a bit hacky, but it is done because the \"notebook_saving.Notebook\"\n",
       "    // IPython event is triggered only after the cells have been serialised, which for\n",
       "    // our purposes (turning an active figure into a static one), is too late.\n",
       "    var cells = IPython.notebook.get_cells();\n",
       "    var ncells = cells.length;\n",
       "    for (var i=0; i<ncells; i++) {\n",
       "        var cell = cells[i];\n",
       "        if (cell.cell_type === 'code'){\n",
       "            for (var j=0; j<cell.output_area.outputs.length; j++) {\n",
       "                var data = cell.output_area.outputs[j];\n",
       "                if (data.data) {\n",
       "                    // IPython >= 3 moved mimebundle to data attribute of output\n",
       "                    data = data.data;\n",
       "                }\n",
       "                if (data['text/html'] == html_output) {\n",
       "                    return [cell, data, j];\n",
       "                }\n",
       "            }\n",
       "        }\n",
       "    }\n",
       "}\n",
       "\n",
       "// Register the function which deals with the matplotlib target/channel.\n",
       "// The kernel may be null if the page has been refreshed.\n",
       "if (IPython.notebook.kernel != null) {\n",
       "    IPython.notebook.kernel.comm_manager.register_target('matplotlib', mpl.mpl_figure_comm);\n",
       "}\n"
      ],
      "text/plain": [
       "<IPython.core.display.Javascript object>"
      ]
     },
     "metadata": {},
     "output_type": "display_data"
    },
    {
     "data": {
      "text/html": [
       "<img src=\"data:image/png;base64,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\">"
      ],
      "text/plain": [
       "<IPython.core.display.HTML object>"
      ]
     },
     "metadata": {},
     "output_type": "display_data"
    }
   ],
   "source": [
    "word_string = \"\"\"\n",
    "A dog is man's best friend.\" That common saying may contain some truth, but dogs are not the only animal friend whose companionship people enjoy. For many people, a cat is their best friend. Despite what dog lovers may believe, cats make excellent housepets as they are good companions, they are civilized members of the household, and they are easy to care for\n",
    "Unlike dogs, cats do not bark or make other loud noises. Most cats don't even meow very often. They generally lead a quiet existence. Cats also don't often have \"accidents.\" Mother cats train their kittens to use the litter box, and most cats will use it without fail from that time on. Even stray cats usually understand the concept when shown the box and will use it regularly. Cats do have claws, and owners must make provision for this. A tall scratching post in a favorite cat area of the house will often keep the cat content to leave the furniture alone. As a last resort, of course, cats can be declawed.\n",
    "\"\"\"\n",
    "from wordcloud import WordCloud, STOPWORDS\n",
    "import matplotlib.pyplot as plt\n",
    "\n",
    "#Convert all the required text into a single string here \n",
    "#and store them in word_string\n",
    "\n",
    "#you can specify fonts, stopwords, background color and other options\n",
    "\n",
    "wordcloud = WordCloud( stopwords=STOPWORDS,\n",
    "                          background_color='white',\n",
    "                          width=1200,\n",
    "                          height=1000\n",
    "                         ).generate(word_string)\n",
    "\n",
    "plt.figure(2)\n",
    "plt.imshow(wordcloud)\n",
    "plt.axis('off')\n",
    "plt.show()"
   ]
  },
  {
   "cell_type": "markdown",
   "metadata": {
    "collapsed": true
   },
   "source": [
    "# 2.7 函数式编程"
   ]
  },
  {
   "cell_type": "markdown",
   "metadata": {},
   "source": [
    "### lambda 函数简写"
   ]
  },
  {
   "cell_type": "code",
   "execution_count": 90,
   "metadata": {
    "collapsed": true
   },
   "outputs": [],
   "source": [
    "func1 = lambda x : x % 2\n",
    "### 等效于\n",
    "def func2(x):\n",
    "    return x % 2"
   ]
  },
  {
   "cell_type": "code",
   "execution_count": 89,
   "metadata": {
    "collapsed": false
   },
   "outputs": [
    {
     "data": {
      "text/plain": [
       "0"
      ]
     },
     "execution_count": 89,
     "metadata": {},
     "output_type": "execute_result"
    }
   ],
   "source": [
    "func1(10)"
   ]
  },
  {
   "cell_type": "markdown",
   "metadata": {},
   "source": [
    "### 基本函数：map()、reduce()、filter()"
   ]
  },
  {
   "cell_type": "markdown",
   "metadata": {},
   "source": [
    "#### map(func, iterator)\n",
    "\n",
    "map()实现的功能很简单，就是将第二个参数（iterable）中的每一个元素分别传给第一个参数（func），依次执行函数得到结果，并将结果组成一个新的list对象后进行返回。返回结果永远都是一个list。\n",
    "\n",
    "在传入多个可迭代对象的情况下，map()会依次从所有可迭代对象中依次取一个元素，组成一个元组列表，然后将元组依次传给func；若可迭代对象的长度不一致，则会以None进行补上。"
   ]
  },
  {
   "cell_type": "code",
   "execution_count": 80,
   "metadata": {
    "collapsed": false
   },
   "outputs": [
    {
     "data": {
      "text/plain": [
       "['Hello Tom', 'Hello Jon', 'Hello Aria']"
      ]
     },
     "execution_count": 80,
     "metadata": {},
     "output_type": "execute_result"
    }
   ],
   "source": [
    "def addhellotoleft(inputstring):\n",
    "    return 'Hello ' + inputstring\n",
    "\n",
    "map(addhellotoleft, ['Tom', 'Jon', 'Aria'])"
   ]
  },
  {
   "cell_type": "code",
   "execution_count": 82,
   "metadata": {
    "collapsed": false
   },
   "outputs": [
    {
     "data": {
      "text/plain": [
       "[7, 9, 11]"
      ]
     },
     "execution_count": 82,
     "metadata": {},
     "output_type": "execute_result"
    }
   ],
   "source": [
    "def substract(x, y):\n",
    "    return x-y\n",
    "\n",
    "map(substract, [10,11,12], [3,2,1])"
   ]
  },
  {
   "cell_type": "markdown",
   "metadata": {},
   "source": [
    "#### 课外学习，利用Pool.map并行计算\n",
    "\n",
    "Testfactorial.py，如何比math模块计算阶乘更快\n",
    "\n",
    "https://github.com/alexluliu/python101/tree/master/1/testfactorial.py"
   ]
  },
  {
   "cell_type": "markdown",
   "metadata": {},
   "source": [
    "#### Reduce\n",
    "reduce()函数的功能是对可迭代对象（iterable）中的元素从左到右进行累计运算，最终得到一个数值。第三个参数initializer是初始数值，可以空置，空置为None时就从可迭代对象（iterable）的第二个元素开始，并将第一个元素作为之前的结果。"
   ]
  },
  {
   "cell_type": "code",
   "execution_count": 83,
   "metadata": {
    "collapsed": false
   },
   "outputs": [
    {
     "data": {
      "text/plain": [
       "64"
      ]
     },
     "execution_count": 83,
     "metadata": {},
     "output_type": "execute_result"
    }
   ],
   "source": [
    "def add(x, y):\n",
    "    return x+y\n",
    "\n",
    "reduce(add, [10,11,12, 10,21])"
   ]
  },
  {
   "cell_type": "markdown",
   "metadata": {},
   "source": [
    "#### filter\n",
    "filter()函数的调用形式如下：\n",
    "1\n",
    "filter(func, iterable)\n",
    "filter()有且仅有两个参数，第一个参数是一个函数名，第二个参数是一个可迭代的对象，如列表、元组等。"
   ]
  },
  {
   "cell_type": "code",
   "execution_count": 84,
   "metadata": {
    "collapsed": true
   },
   "outputs": [],
   "source": [
    "mode2 = lambda x : x % 2"
   ]
  },
  {
   "cell_type": "code",
   "execution_count": 85,
   "metadata": {
    "collapsed": false
   },
   "outputs": [
    {
     "data": {
      "text/plain": [
       "[1, 3, 5, 7, 9]"
      ]
     },
     "execution_count": 85,
     "metadata": {},
     "output_type": "execute_result"
    }
   ],
   "source": [
    "filter(mode2, [1,2,3,4,5,6,7,8,9,10])"
   ]
  },
  {
   "cell_type": "code",
   "execution_count": null,
   "metadata": {
    "collapsed": true
   },
   "outputs": [],
   "source": []
  }
 ],
 "metadata": {
  "kernelspec": {
   "display_name": "Python 2",
   "language": "python",
   "name": "python2"
  },
  "language_info": {
   "codemirror_mode": {
    "name": "ipython",
    "version": 2
   },
   "file_extension": ".py",
   "mimetype": "text/x-python",
   "name": "python",
   "nbconvert_exporter": "python",
   "pygments_lexer": "ipython2",
   "version": "2.7.13"
  }
 },
 "nbformat": 4,
 "nbformat_minor": 2
}
