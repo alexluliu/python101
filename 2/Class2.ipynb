{
 "cells": [
  {
   "cell_type": "markdown",
   "metadata": {},
   "source": [
    "# Class 2 Python 进阶"
   ]
  },
  {
   "cell_type": "markdown",
   "metadata": {},
   "source": [
    "# 2.1 List/Dictionary Comprehension 列表字典解析"
   ]
  },
  {
   "cell_type": "markdown",
   "metadata": {},
   "source": [
    "## 2.1.1 列表解析\n",
    "\n",
    "列表解析式是将一个列表（实际上适用于任何可迭代对象（iterable））转换成另一个列表的工具。在转换过程中，可以指定元素必须符合一定的条件，才能添加至新的列表中，这样每个元素都可以按需要进行转换。\n",
    "\n",
    "可以理解为一个简化形式的for 循环\n",
    "\n",
    "基本格式：\n",
    "\n",
    "[表达式0 for var in 可遍历的变量 if 表达式2]\n",
    "\n",
    "所有的列表解析都能通过标准的for if 来完成，主要功能是缩短代码和弱化底层的逻辑结构"
   ]
  },
  {
   "cell_type": "markdown",
   "metadata": {},
   "source": [
    "### 例1. add \"Hello, \" before the string\n",
    "Input: ['Python2.7', 'Cpython', 'Python3.4', 'Perl5.0', 'Lua', 'Python3.6', 'Powershell']"
   ]
  },
  {
   "cell_type": "markdown",
   "metadata": {},
   "source": [
    "#### 普通for 循环"
   ]
  },
  {
   "cell_type": "code",
   "execution_count": 12,
   "metadata": {
    "collapsed": false
   },
   "outputs": [
    {
     "data": {
      "text/plain": [
       "['Hello, Python2.7',\n",
       " 'Hello, Cpython',\n",
       " 'Hello, Python3.4',\n",
       " 'Hello, Perbl5.0',\n",
       " 'Hello, Lua',\n",
       " 'Hello, Python3.6',\n",
       " 'Hello, Powershell']"
      ]
     },
     "execution_count": 12,
     "metadata": {},
     "output_type": "execute_result"
    }
   ],
   "source": [
    "inputstrings =  ['Python2.7', 'Cpython', 'Python3.4', 'Perbl5.0', 'Lua', 'Python3.6', 'Powershell']\n",
    "outputstrings = []\n",
    "for item in inputstrings:\n",
    "    moditem  = \"Hello, \" + item\n",
    "    outputstrings.append(moditem)\n",
    "outputstrings"
   ]
  },
  {
   "cell_type": "markdown",
   "metadata": {},
   "source": [
    "#### 列表解析"
   ]
  },
  {
   "cell_type": "code",
   "execution_count": 13,
   "metadata": {
    "collapsed": false
   },
   "outputs": [
    {
     "data": {
      "text/plain": [
       "['Hello, Python2.7',\n",
       " 'Hello, Cpython',\n",
       " 'Hello, Python3.4',\n",
       " 'Hello, Perbl5.0',\n",
       " 'Hello, Lua',\n",
       " 'Hello, Python3.6',\n",
       " 'Hello, Powershell']"
      ]
     },
     "execution_count": 13,
     "metadata": {},
     "output_type": "execute_result"
    }
   ],
   "source": [
    "inputstrings =  ['Python2.7', 'Cpython', 'Python3.4', 'Perbl5.0', 'Lua', 'Python3.6', 'Powershell']\n",
    "outputstrings = [\"Hello, \" + item for item in inputstrings]\n",
    "outputstrings"
   ]
  },
  {
   "cell_type": "markdown",
   "metadata": {},
   "source": [
    "#### 在列表解析中加入if\n",
    "only keep python related and add \"Hello, \" before the string"
   ]
  },
  {
   "cell_type": "code",
   "execution_count": 14,
   "metadata": {
    "collapsed": false
   },
   "outputs": [
    {
     "data": {
      "text/plain": [
       "['Hello, Python2.7', 'Hello, Cpython', 'Hello, Python3.4', 'Hello, Python3.6']"
      ]
     },
     "execution_count": 14,
     "metadata": {},
     "output_type": "execute_result"
    }
   ],
   "source": [
    "inputstrings =  ['Python2.7', 'Cpython', 'Python3.4', 'Perbl5.0', 'Lua', 'Python3.6', 'Powershell']\n",
    "outputstrings = [\"Hello, \" + item for item in inputstrings if 'python' in item.lower()]\n",
    "outputstrings"
   ]
  },
  {
   "cell_type": "markdown",
   "metadata": {},
   "source": [
    "### 例2. 求0-99的所有被7整除的数，并且求它们的平方和"
   ]
  },
  {
   "cell_type": "markdown",
   "metadata": {},
   "source": [
    "#### for and if"
   ]
  },
  {
   "cell_type": "code",
   "execution_count": 2,
   "metadata": {
    "collapsed": false
   },
   "outputs": [
    {
     "data": {
      "text/plain": [
       "49735"
      ]
     },
     "execution_count": 2,
     "metadata": {},
     "output_type": "execute_result"
    }
   ],
   "source": [
    "n = 100\n",
    "sqs = []\n",
    "for i in range(n):\n",
    "    if i % 7 == 0:\n",
    "        sqs.append(i ** 2)\n",
    "result = sum(sqs)\n",
    "result"
   ]
  },
  {
   "cell_type": "markdown",
   "metadata": {},
   "source": [
    "#### 列表解析"
   ]
  },
  {
   "cell_type": "code",
   "execution_count": 6,
   "metadata": {
    "collapsed": false
   },
   "outputs": [
    {
     "data": {
      "text/plain": [
       "49735"
      ]
     },
     "execution_count": 6,
     "metadata": {},
     "output_type": "execute_result"
    }
   ],
   "source": [
    "n = 100\n",
    "result = sum([i ** 2 for i in range(n) if i % 7 ==0]) # for if inline with reasonable clear logic\n",
    "result"
   ]
  },
  {
   "cell_type": "code",
   "execution_count": 16,
   "metadata": {
    "collapsed": true
   },
   "outputs": [],
   "source": [
    "def nseven1(n):\n",
    "    sqs = []\n",
    "    for i in range(n):\n",
    "        if i % 7 == 0:\n",
    "            sqs.append(i ** 2)\n",
    "    result = sum(sqs)\n",
    "    return result\n",
    "\n",
    "def nseven2(n):\n",
    "    result = sum([i ** 2 for i in range(n) if i % 7 ==0]) # for if inline with reasonable clear logic\n",
    "    result"
   ]
  },
  {
   "cell_type": "markdown",
   "metadata": {},
   "source": [
    "#### 速度比较\n",
    "快一些，不质变"
   ]
  },
  {
   "cell_type": "code",
   "execution_count": 21,
   "metadata": {
    "collapsed": false
   },
   "outputs": [
    {
     "name": "stdout",
     "output_type": "stream",
     "text": [
      "1000 loops, best of 3: 654 µs per loop\n"
     ]
    }
   ],
   "source": [
    "%timeit nseven1(10000)"
   ]
  },
  {
   "cell_type": "code",
   "execution_count": 22,
   "metadata": {
    "collapsed": false
   },
   "outputs": [
    {
     "name": "stdout",
     "output_type": "stream",
     "text": [
      "1000 loops, best of 3: 578 µs per loop\n"
     ]
    }
   ],
   "source": [
    "%timeit nseven2(10000)"
   ]
  },
  {
   "cell_type": "markdown",
   "metadata": {},
   "source": [
    "### 例3. 解除list 嵌套\n",
    "Input: [[1,2], [3,4], [6,7], [10,101]]\n",
    "\n",
    "Output: [1,2,3,4,6,7,10,101]"
   ]
  },
  {
   "cell_type": "code",
   "execution_count": 8,
   "metadata": {
    "collapsed": false
   },
   "outputs": [
    {
     "data": {
      "text/plain": [
       "[1, 2, 3, 4, 6, 7, 10, 101]"
      ]
     },
     "execution_count": 8,
     "metadata": {},
     "output_type": "execute_result"
    }
   ],
   "source": [
    "nestedlist =  [[1,2], [3,4], [6,7], [10,101]]\n",
    "unnestedlist = [item for sublist in nestedlist for item in sublist]\n",
    "unnestedlist"
   ]
  },
  {
   "cell_type": "markdown",
   "metadata": {},
   "source": [
    "## 2.1.2 字典解析"
   ]
  },
  {
   "cell_type": "markdown",
   "metadata": {},
   "source": [
    "### 字典解析和列表解析基本一样，表达式要同时表述key和value\n",
    "\n",
    "[表达式0:表达式1 for var in 可遍历的变量 if 表达式2]"
   ]
  },
  {
   "cell_type": "markdown",
   "metadata": {},
   "source": [
    "### 例1. 把列表的key全部变成大写\n",
    "continentdict = {'China': 'AS', 'Korea': 'AS', 'Canada': 'NA', 'France': 'EU', 'BRAZIL': 'SA', 'Russia': 'EU'}"
   ]
  },
  {
   "cell_type": "code",
   "execution_count": 23,
   "metadata": {
    "collapsed": true
   },
   "outputs": [],
   "source": [
    "continentdict = {'China': 'AS', 'Korea': 'AS', 'Canada': 'NA', 'France': 'EU', 'BRAZIL': 'SA', 'Russia': 'EU'}"
   ]
  },
  {
   "cell_type": "code",
   "execution_count": 24,
   "metadata": {
    "collapsed": false
   },
   "outputs": [
    {
     "data": {
      "text/plain": [
       "{'BRAZIL': 'SA',\n",
       " 'CANADA': 'NA',\n",
       " 'CHINA': 'AS',\n",
       " 'FRANCE': 'EU',\n",
       " 'KOREA': 'AS',\n",
       " 'RUSSIA': 'EU'}"
      ]
     },
     "execution_count": 24,
     "metadata": {},
     "output_type": "execute_result"
    }
   ],
   "source": [
    "continentdictallcap = {key.upper():continentdict[key] for key in continentdict}\n",
    "continentdictallcap"
   ]
  },
  {
   "cell_type": "markdown",
   "metadata": {},
   "source": [
    "# 2.2. 文件IO"
   ]
  },
  {
   "cell_type": "markdown",
   "metadata": {},
   "source": [
    "文件是存储在硬盘上的，python提供了读写文件的功能. \n",
    "#### readonly, default\n",
    "f = open(filepath, 'r')\n",
    "f = open(filepath)\n",
    "#### write only\n",
    "f = open(filepath, 'w')"
   ]
  },
  {
   "cell_type": "markdown",
   "metadata": {},
   "source": [
    "## 2.2.1 读文件"
   ]
  },
  {
   "cell_type": "code",
   "execution_count": 48,
   "metadata": {
    "collapsed": false
   },
   "outputs": [
    {
     "name": "stdout",
     "output_type": "stream",
     "text": [
      "Object file1:  <open file 'fileio1.txt', mode 'r' at 0x0000000003F251E0> \n",
      "\n",
      "You're getting ready to start a new company. What language should you choose to build it?\n",
      "Or to phrase the same question a different way: You are looking for a job, which language should you learn?\n",
      "You might guess from the title of this post that I think the right answer is Python. But why?\n",
      "The answer is that Python is powerful. But what does that mean, exactly? What makes for power in a programming language?\n"
     ]
    }
   ],
   "source": [
    "file1 = open('fileio1.txt', 'r') # this file is under the same directory, otherwise, please use full path\n",
    "# file1 = open(r'C:\\scriptwb\\python course\\2\\fileio1.txt')\n",
    "print 'Object file1: ', file1, '\\n' # file handler object\n",
    "\n",
    "print file1.read()\n",
    "file1.close()"
   ]
  },
  {
   "cell_type": "code",
   "execution_count": 55,
   "metadata": {
    "collapsed": false
   },
   "outputs": [
    {
     "name": "stdout",
     "output_type": "stream",
     "text": [
      "[0] You're getting ready to start a new company. What language should you choose to build it?\n",
      "[1] Or to phrase the same question a different way: You are looking for a job, which language should you learn?\n",
      "[2] You might guess from the title of this post that I think the right answer is Python. But why?\n",
      "[3] The answer is that Python is powerful. But what does that mean, exactly? What makes for power in a programming language?\n"
     ]
    }
   ],
   "source": [
    "file1 = open('fileio1.txt', 'r') # this file is under the same directory, otherwise, please use full path\n",
    "for (linenumber, linecontent) in enumerate(file1):\n",
    "    print '[%d] %s' %(linenumber, linecontent.strip())\n",
    "file1.close()"
   ]
  },
  {
   "cell_type": "markdown",
   "metadata": {},
   "source": [
    "#### 当完成读阶段或者写阶段时务必close文件\n",
    "#### 建议使用with语句，自动完成close文件"
   ]
  },
  {
   "cell_type": "code",
   "execution_count": 54,
   "metadata": {
    "collapsed": false
   },
   "outputs": [
    {
     "name": "stdout",
     "output_type": "stream",
     "text": [
      "[0] You're getting ready to start a new company. What language should you choose to build it?\n",
      "[1] Or to phrase the same question a different way: You are looking for a job, which language should you learn?\n",
      "[2] You might guess from the title of this post that I think the right answer is Python. But why?\n",
      "[3] The answer is that Python is powerful. But what does that mean, exactly? What makes for power in a programming language?\n"
     ]
    }
   ],
   "source": [
    "with open('fileio1.txt', 'r') as file1:\n",
    "    for (linenumber, linecontent) in enumerate(file1):\n",
    "        print '[%d] %s' %(linenumber, linecontent.strip())"
   ]
  },
  {
   "cell_type": "markdown",
   "metadata": {},
   "source": [
    "## 2.2.2 写文件"
   ]
  },
  {
   "cell_type": "code",
   "execution_count": 56,
   "metadata": {
    "collapsed": true
   },
   "outputs": [],
   "source": [
    "continentdict = {'China': 'AS', 'Korea': 'AS', 'Canada': 'NA', 'France': 'EU', 'BRAZIL': 'SA', 'Russia': 'EU'}"
   ]
  },
  {
   "cell_type": "markdown",
   "metadata": {},
   "source": [
    "如果需要把这个字典写入文件\n",
    "\n",
    "filehandler.write(string)"
   ]
  },
  {
   "cell_type": "code",
   "execution_count": 62,
   "metadata": {
    "collapsed": false
   },
   "outputs": [
    {
     "name": "stdout",
     "output_type": "stream",
     "text": [
      "{'Canada': 'NA', 'BRAZIL': 'SA', 'Korea': 'AS', 'France': 'EU', 'China': 'AS', 'Russia': 'EU'}\n"
     ]
    }
   ],
   "source": [
    "with open('continentdict.txt', 'w') as g:\n",
    "    g.write(str(continentdict))\n",
    "# readout and print this file\n",
    "with open('continentdict.txt', 'r') as f:\n",
    "    print f.read()"
   ]
  },
  {
   "cell_type": "markdown",
   "metadata": {},
   "source": [
    "如果我们想写成一个csv表格，表头\n",
    "\n",
    "Country,Continent\n",
    "\n",
    "Canada,NA\n",
    "\n",
    "Brazil,SA\n",
    "\n",
    "...,..."
   ]
  },
  {
   "cell_type": "code",
   "execution_count": 63,
   "metadata": {
    "collapsed": false
   },
   "outputs": [
    {
     "name": "stdout",
     "output_type": "stream",
     "text": [
      "Country,Continent\n",
      "Canada,NA\n",
      "BRAZIL,SA\n",
      "Korea,AS\n",
      "France,EU\n",
      "China,AS\n",
      "Russia,EU\n",
      "\n"
     ]
    }
   ],
   "source": [
    "with open('continentdict.csv', 'w') as g:\n",
    "    g.write('Country,Continent\\n')\n",
    "    for country in continentdict:\n",
    "        g.write('%s,%s\\n'%(country, continentdict[country]))\n",
    "# readout and print this file\n",
    "with open('continentdict.csv', 'r') as f:\n",
    "    print f.read()        "
   ]
  },
  {
   "cell_type": "markdown",
   "metadata": {},
   "source": [
    "#### 不像table? csv是一种通用的表格存储形式，任何数据分析软件的基本能读格式。本质是纯文本文件，逗号作为列分割，回车作为行分割\n",
    "\n",
    "我们可以用excel打开试试\n",
    "\n",
    "我们也可以用python pandas包打开看看 【数据分析的基本扩展包之一】"
   ]
  },
  {
   "cell_type": "code",
   "execution_count": 66,
   "metadata": {
    "collapsed": false
   },
   "outputs": [
    {
     "data": {
      "text/html": [
       "<div>\n",
       "<table border=\"1\" class=\"dataframe\">\n",
       "  <thead>\n",
       "    <tr style=\"text-align: right;\">\n",
       "      <th></th>\n",
       "      <th>Country</th>\n",
       "      <th>Continent</th>\n",
       "    </tr>\n",
       "  </thead>\n",
       "  <tbody>\n",
       "    <tr>\n",
       "      <th>0</th>\n",
       "      <td>Canada</td>\n",
       "      <td>NA</td>\n",
       "    </tr>\n",
       "    <tr>\n",
       "      <th>1</th>\n",
       "      <td>BRAZIL</td>\n",
       "      <td>SA</td>\n",
       "    </tr>\n",
       "    <tr>\n",
       "      <th>2</th>\n",
       "      <td>Korea</td>\n",
       "      <td>AS</td>\n",
       "    </tr>\n",
       "    <tr>\n",
       "      <th>3</th>\n",
       "      <td>France</td>\n",
       "      <td>EU</td>\n",
       "    </tr>\n",
       "    <tr>\n",
       "      <th>4</th>\n",
       "      <td>China</td>\n",
       "      <td>AS</td>\n",
       "    </tr>\n",
       "    <tr>\n",
       "      <th>5</th>\n",
       "      <td>Russia</td>\n",
       "      <td>EU</td>\n",
       "    </tr>\n",
       "  </tbody>\n",
       "</table>\n",
       "</div>"
      ],
      "text/plain": [
       "  Country Continent\n",
       "0  Canada        NA\n",
       "1  BRAZIL        SA\n",
       "2   Korea        AS\n",
       "3  France        EU\n",
       "4   China        AS\n",
       "5  Russia        EU"
      ]
     },
     "execution_count": 66,
     "metadata": {},
     "output_type": "execute_result"
    }
   ],
   "source": [
    "import pandas\n",
    "df = pandas.read_csv('continentdict.csv', keep_default_na=False)\n",
    "df"
   ]
  },
  {
   "cell_type": "markdown",
   "metadata": {},
   "source": [
    "# 2.3. 与操作系统OS的交互"
   ]
  },
  {
   "cell_type": "markdown",
   "metadata": {},
   "source": [
    "## 2.3.1 文件与文件夹\n",
    "\n",
    "这里仅仅举例说明常见的需求，有更进一步的学习需求请查阅\n",
    "https://docs.python.org/2/library/os.html"
   ]
  },
  {
   "cell_type": "code",
   "execution_count": 67,
   "metadata": {
    "collapsed": true
   },
   "outputs": [],
   "source": [
    "# os的基本操作在os包里，基本的python包，无需任何扩展安装\n",
    "import os"
   ]
  },
  {
   "cell_type": "markdown",
   "metadata": {},
   "source": [
    "### 目录操作"
   ]
  },
  {
   "cell_type": "markdown",
   "metadata": {},
   "source": [
    "#### 当前目录"
   ]
  },
  {
   "cell_type": "code",
   "execution_count": 96,
   "metadata": {
    "collapsed": false
   },
   "outputs": [
    {
     "name": "stdout",
     "output_type": "stream",
     "text": [
      "C:\\scriptwb\\python course\\2\n"
     ]
    }
   ],
   "source": [
    "cwd1 = os.getcwd()\n",
    "print cwd1\n",
    "# we store current working directory in cwd1, later we change working directory and use it to change it back"
   ]
  },
  {
   "cell_type": "code",
   "execution_count": 97,
   "metadata": {
    "collapsed": false
   },
   "outputs": [
    {
     "data": {
      "text/plain": [
       "['.ipynb_checkpoints',\n",
       " 'Class2.ipynb',\n",
       " 'continentdict.csv',\n",
       " 'continentdict.txt',\n",
       " 'fileio1.txt']"
      ]
     },
     "execution_count": 97,
     "metadata": {},
     "output_type": "execute_result"
    }
   ],
   "source": [
    "os.listdir(cwd1)"
   ]
  },
  {
   "cell_type": "markdown",
   "metadata": {},
   "source": [
    "#### 查询上一层dir"
   ]
  },
  {
   "cell_type": "code",
   "execution_count": 98,
   "metadata": {
    "collapsed": false
   },
   "outputs": [
    {
     "data": {
      "text/plain": [
       "'C:\\\\scriptwb\\\\python course'"
      ]
     },
     "execution_count": 98,
     "metadata": {},
     "output_type": "execute_result"
    }
   ],
   "source": [
    "parentwd = os.path.dirname(cwd)\n",
    "parentwd"
   ]
  },
  {
   "cell_type": "markdown",
   "metadata": {},
   "source": [
    "#### 返回上一层，再返回来"
   ]
  },
  {
   "cell_type": "code",
   "execution_count": 99,
   "metadata": {
    "collapsed": true
   },
   "outputs": [],
   "source": [
    "os.chdir(parentwd) # changed to upper level"
   ]
  },
  {
   "cell_type": "code",
   "execution_count": 100,
   "metadata": {
    "collapsed": false
   },
   "outputs": [
    {
     "data": {
      "text/plain": [
       "'C:\\\\scriptwb\\\\python course'"
      ]
     },
     "execution_count": 100,
     "metadata": {},
     "output_type": "execute_result"
    }
   ],
   "source": [
    "os.getcwd()"
   ]
  },
  {
   "cell_type": "code",
   "execution_count": 101,
   "metadata": {
    "collapsed": false
   },
   "outputs": [
    {
     "data": {
      "text/plain": [
       "'C:\\\\scriptwb\\\\python course\\\\2'"
      ]
     },
     "execution_count": 101,
     "metadata": {},
     "output_type": "execute_result"
    }
   ],
   "source": [
    "os.chdir(cwd1) # changed back\n",
    "os.getcwd()"
   ]
  },
  {
   "cell_type": "markdown",
   "metadata": {},
   "source": [
    "### 文件查询与操作"
   ]
  },
  {
   "cell_type": "markdown",
   "metadata": {},
   "source": [
    "#### 文件 信息"
   ]
  },
  {
   "cell_type": "code",
   "execution_count": 69,
   "metadata": {
    "collapsed": false
   },
   "outputs": [
    {
     "data": {
      "text/plain": [
       "True"
      ]
     },
     "execution_count": 69,
     "metadata": {},
     "output_type": "execute_result"
    }
   ],
   "source": [
    "os.path.isfile('continentdict.csv')"
   ]
  },
  {
   "cell_type": "code",
   "execution_count": 70,
   "metadata": {
    "collapsed": false
   },
   "outputs": [
    {
     "data": {
      "text/plain": [
       "False"
      ]
     },
     "execution_count": 70,
     "metadata": {},
     "output_type": "execute_result"
    }
   ],
   "source": [
    "os.path.isfile('continentdict.tsv')"
   ]
  },
  {
   "cell_type": "code",
   "execution_count": 72,
   "metadata": {
    "collapsed": false
   },
   "outputs": [
    {
     "name": "stdout",
     "output_type": "stream",
     "text": [
      "continentdict.csv is created at 1509947218.29, last modified at 1509947270.29, full path is C:\\scriptwb\\python course\\2\\continentdict.csv\n"
     ]
    }
   ],
   "source": [
    "filename = 'continentdict.csv'\n",
    "print '%s is created at %s, last modified at %s, full path is %s' %(\n",
    "    filename, os.path.getctime(filename), os.path.getmtime(filename), os.path.abspath(filename))"
   ]
  },
  {
   "cell_type": "markdown",
   "metadata": {},
   "source": [
    "看起来时间是一种特殊格式，人没法阅读。怎么处理？\n",
    "\n",
    "Let us google \"os.path.filectime convert\"\n",
    "\n",
    "第一个结果是stackoverflow的\n",
    "\n",
    "https://stackoverflow.com/questions/19501711/how-can-i-convert-os-path-getctime"
   ]
  },
  {
   "cell_type": "code",
   "execution_count": 73,
   "metadata": {
    "collapsed": false
   },
   "outputs": [
    {
     "data": {
      "text/plain": [
       "'2013-10-19 06:25:38'"
      ]
     },
     "execution_count": 73,
     "metadata": {},
     "output_type": "execute_result"
    }
   ],
   "source": [
    "from datetime import datetime\n",
    "datetime.fromtimestamp(1382189138.4196026).strftime('%Y-%m-%d %H:%M:%S')"
   ]
  },
  {
   "cell_type": "markdown",
   "metadata": {},
   "source": [
    "基于这个回答，我们可以写一个转化函数，从机器能理解的浮点秒数，转化成人能读懂得日期时间"
   ]
  },
  {
   "cell_type": "code",
   "execution_count": 78,
   "metadata": {
    "collapsed": true
   },
   "outputs": [],
   "source": [
    "def converttimestamp(timestamp):\n",
    "    return datetime.fromtimestamp(timestamp).strftime('%Y-%m-%d %H:%M:%S')"
   ]
  },
  {
   "cell_type": "markdown",
   "metadata": {},
   "source": [
    "现在能够正常显示了"
   ]
  },
  {
   "cell_type": "code",
   "execution_count": 79,
   "metadata": {
    "collapsed": false
   },
   "outputs": [
    {
     "name": "stdout",
     "output_type": "stream",
     "text": [
      "continentdict.csv is created at 2017-11-05 21:46:58, last modified at 2017-11-05 21:47:50, full path is C:\\scriptwb\\python course\\2\\continentdict.csv\n"
     ]
    }
   ],
   "source": [
    "filename = 'continentdict.csv'\n",
    "print '%s is created at %s, last modified at %s, full path is %s' %(\n",
    "    filename, converttimestamp(os.path.getctime(filename)), \n",
    "    converttimestamp(os.path.getmtime(filename)), os.path.abspath(filename))"
   ]
  },
  {
   "cell_type": "markdown",
   "metadata": {},
   "source": [
    "#### 拷贝与删除文件"
   ]
  },
  {
   "cell_type": "markdown",
   "metadata": {},
   "source": [
    "Google python copy file\n",
    "\n",
    "We can find this page\n",
    "https://docs.python.org/2/library/shutil.html\n",
    "\n",
    "google python delete file\n",
    "\n",
    "We can find this page\n",
    "https://stackoverflow.com/questions/6996603/how-to-delete-a-file-or-folder "
   ]
  },
  {
   "cell_type": "code",
   "execution_count": 109,
   "metadata": {
    "collapsed": false
   },
   "outputs": [],
   "source": [
    "import shutil\n",
    "shutil.copyfile('continentdict.csv', 'continentdict_copy.csv')"
   ]
  },
  {
   "cell_type": "code",
   "execution_count": 111,
   "metadata": {
    "collapsed": false
   },
   "outputs": [
    {
     "name": "stdout",
     "output_type": "stream",
     "text": [
      "True\n",
      "False\n"
     ]
    }
   ],
   "source": [
    "file2remove = 'continentdict_copy.csv'\n",
    "print os.path.isfile(file2remove)\n",
    "os.remove(file2remove)\n",
    "print os.path.isfile(file2remove)"
   ]
  },
  {
   "cell_type": "markdown",
   "metadata": {},
   "source": [
    "## 2.3.2 OS命令行"
   ]
  },
  {
   "cell_type": "markdown",
   "metadata": {},
   "source": [
    "### 从命令行传递参数，运行python代码"
   ]
  },
  {
   "cell_type": "markdown",
   "metadata": {},
   "source": [
    "命令行基础\n",
    "\n",
    "python code1.py arg1 arg2 arg3 ...\n",
    "\n",
    "python - 操作系统命令\n",
    "\n",
    "code1.py - 操作系统命令 参数0 要运行的代码\n",
    "\n",
    "arg1 代码命令行参数0\n",
    "\n",
    "arg2 代码命令行参数1\n",
    "\n",
    "...\n",
    "\n",
    "####基础模块sys\n",
    "\n",
    "sys.argv是一个list，从操作系统获得[arg0, arg1, arg2...]， arg0通常是python代码名， arg1, arg2...一般是要传给python代码的参数\n",
    "\n",
    "#### 进阶模块 argparse\n",
    "https://docs.python.org/2.7/library/argparse.html"
   ]
  },
  {
   "cell_type": "markdown",
   "metadata": {},
   "source": [
    "#### sumxy from command line\n",
    "命令行demo\n",
    "\n",
    "建立一个sumxy.py文件\n",
    "\n",
    "输入一下内容"
   ]
  },
  {
   "cell_type": "raw",
   "metadata": {},
   "source": [
    "#sumxy.py \n",
    "import sys\n",
    "\n",
    "def sumxy(x, y):\n",
    "    return x + y\n",
    "\n",
    "if __name__ == '__main__':\n",
    "    args = sys.argv[1:]\n",
    "    x = float(args[0])\n",
    "    y = float(args[1])\n",
    "    print sumxy(x, y)"
   ]
  },
  {
   "cell_type": "markdown",
   "metadata": {},
   "source": [
    "打开命令行，输入python sumxy 1 2\n",
    "\n",
    "在jupyter中， ! 开头表示这一行是命令行操作"
   ]
  },
  {
   "cell_type": "code",
   "execution_count": 116,
   "metadata": {
    "collapsed": false
   },
   "outputs": [
    {
     "name": "stdout",
     "output_type": "stream",
     "text": [
      "Class2.ipynb\n",
      "continentdict.csv\n",
      "continentdict.txt\n",
      "fileio1.txt\n",
      "sumxy.py\n",
      "#sumxy.py \n",
      "import sys\n",
      "\n",
      "def sumxy(x, y):\n",
      "    return x + y\n",
      "\n",
      "if __name__ == '__main__':\n",
      "    args = sys.argv[1:]\n",
      "    x = float(args[0])\n",
      "    y = float(args[1])\n",
      "    print sumxy(x, y)\n",
      "3.0\n"
     ]
    }
   ],
   "source": [
    "! ls\n",
    "! type sumxy.py\n",
    "! python sumxy.py 1 2"
   ]
  },
  {
   "cell_type": "markdown",
   "metadata": {},
   "source": [
    "### 从python运行命令行\n",
    "基础\n",
    "\n",
    "os.system(cmd)\n",
    "\n",
    "os.popen(cmd)\n",
    "\n",
    "进阶\n",
    "\n",
    "subprocess module\n",
    "\n",
    "https://docs.python.org/2/library/subprocess.html"
   ]
  },
  {
   "cell_type": "code",
   "execution_count": 122,
   "metadata": {
    "collapsed": false
   },
   "outputs": [
    {
     "name": "stdout",
     "output_type": "stream",
     "text": [
      "3.0\n",
      "\n"
     ]
    }
   ],
   "source": [
    "import os\n",
    "cmdoutput = os.popen('python sumxy.py 1 2').read()\n",
    "print cmdoutput"
   ]
  },
  {
   "cell_type": "markdown",
   "metadata": {},
   "source": [
    "#### 为什么用python运行命令行\n",
    "一个项目的各个部分可能是很多人用不同的语言写的，需要整合在一起. python可以作为胶水语言，写project高层的manamge code，调用python和其他语言写的代码来执行任务。"
   ]
  },
  {
   "cell_type": "markdown",
   "metadata": {},
   "source": [
    "<font size=\"5\" color=\"red\">以下的内容掌握需要较长时间的理解和磨练。往往Python开发工程师也并不需要完全精通这些高级功能。\n",
    "了解概念功能-》 能大概看懂最基础的代码\n",
    "</font>\n",
    "<font size=\"5\" color=\"Blue\">\n",
    "很多功能你不懂细节，记不住代码长什么样，但是并不妨碍你使用它</font>"
   ]
  },
  {
   "cell_type": "markdown",
   "metadata": {},
   "source": [
    "# 2.4 字符串进阶"
   ]
  },
  {
   "cell_type": "markdown",
   "metadata": {},
   "source": [
    "## 2.4.1 正则表达式"
   ]
  },
  {
   "cell_type": "markdown",
   "metadata": {},
   "source": [
    "#### 正则表达式是一套通用的文本检索提取规则，各种编程语言都有正则表达式的模块。学习正则表达式需要大概2-3小时的学习达到运用程度，精通则需要较长时间的练习。\n",
    "\n",
    "中文维基：\n",
    "\n",
    "正则表达式，又称正规表示式、正規表示法、正規運算式、規則運算式、常規表示法（英语：Regular Expression，在代码中常简写为regex、regexp或RE），是计算机科学的一个概念。正则表达式使用单个字符串来描述、匹配一系列符合某个句法规则的字符串。在很多文本编辑器裡，正則表达式通常被用来检索、替换那些符合某个模式的文本。\n",
    "\n",
    "cheatsheet\n",
    "https://www.debuggex.com/cheatsheet/regex/python"
   ]
  },
  {
   "cell_type": "markdown",
   "metadata": {},
   "source": [
    "#### 表头变换\n",
    "metrics是一个数据表的表头，我们这里把它放入了一个list。每个column名看起来每一个代表某组测量数据，ID0和ID1表示组号，去掉组号其他字符表示这个数据的名称。我们希望变换"
   ]
  },
  {
   "cell_type": "code",
   "execution_count": 145,
   "metadata": {
    "collapsed": true
   },
   "outputs": [],
   "source": [
    "metrics = ['LENGTH_ID0_FINAL', 'LENGTH_ID1_FINAL', 'WIDTH_ID0', 'WIDTH_ID1', 'ID2_WEIGHT', 'ID3_WEIGHT']"
   ]
  },
  {
   "cell_type": "markdown",
   "metadata": {},
   "source": [
    "变换成两个list 作为双杭表头\n",
    "\n",
    "列表1：数据的名称\n",
    "\n",
    "['LENGTH_FINAL', 'LENGTH_FINAL', 'WIDTH', 'WIDTH', 'WEIGHT', 'WEIGHT']\n",
    "\n",
    "列表2：组号\n",
    "\n",
    "['ID0', 'ID1', 'ID0', 'ID1', 'ID2', 'ID3']\n",
    "\n",
    "因为不同的数据会有略微不同的格式，有的组号放在了左边，有的放在了中间，有的写在了最右边，所以简单的.split('_')操作并不好用"
   ]
  },
  {
   "cell_type": "code",
   "execution_count": 125,
   "metadata": {
    "collapsed": true
   },
   "outputs": [],
   "source": [
    "import re"
   ]
  },
  {
   "cell_type": "code",
   "execution_count": 137,
   "metadata": {
    "collapsed": false
   },
   "outputs": [],
   "source": [
    "pattern = '(.*)(ID\\d)(.*)'\n",
    "matchresult = re.match(pattern, 'WIDTH_ID1')"
   ]
  },
  {
   "cell_type": "code",
   "execution_count": 128,
   "metadata": {
    "collapsed": false
   },
   "outputs": [
    {
     "data": {
      "text/plain": [
       "('WIDTH_', 'ID1', '')"
      ]
     },
     "execution_count": 128,
     "metadata": {},
     "output_type": "execute_result"
    }
   ],
   "source": [
    "matchresult.groups()"
   ]
  },
  {
   "cell_type": "code",
   "execution_count": 147,
   "metadata": {
    "collapsed": false
   },
   "outputs": [
    {
     "name": "stdout",
     "output_type": "stream",
     "text": [
      "measurement: ['LENGTH_FINAL', 'LENGTH_FINAL', 'WIDTH', 'WIDTH', 'WEIGHT', 'WEIGHT']\n",
      "ID: ['ID0', 'ID1', 'ID0', 'ID1', 'ID2', 'ID3']\n"
     ]
    }
   ],
   "source": [
    "results = [re.match(pattern, metric).groups() for metric in metrics]\n",
    "IDs = [result[1] for result in results]\n",
    "measurements = [(result[0].strip('_') + '_' + result[2].strip('_')).strip('_') for result in results]\n",
    "print 'measurement:',measurements\n",
    "print 'ID:',IDs"
   ]
  },
  {
   "cell_type": "markdown",
   "metadata": {},
   "source": [
    "#### how to decide if email is valid\n",
    "\n",
    "google search\n",
    "\n",
    "regular expression match an email address\n",
    "\n",
    "I found a page http://emailregex.com/"
   ]
  },
  {
   "cell_type": "code",
   "execution_count": 150,
   "metadata": {
    "collapsed": false
   },
   "outputs": [
    {
     "data": {
      "text/plain": [
       "['john@hotmail.com', 'tom3@gmail.com', '32111198@qq.com']"
      ]
     },
     "execution_count": 150,
     "metadata": {},
     "output_type": "execute_result"
    }
   ],
   "source": [
    "emailpattern = r\"(^[a-zA-Z0-9_.+-]+@[a-zA-Z0-9-]+\\.[a-zA-Z0-9-.]+$)\"\n",
    "emails = ['john@hotmail.com', 'tom3@gmail.com', '32111198@qq.com', 't%wan@163.com', 'slayer@99cn']\n",
    "validemails = [email for email in emails if re.match(emailpattern, email)]\n",
    "validemails"
   ]
  },
  {
   "cell_type": "markdown",
   "metadata": {},
   "source": [
    "#### how to valid a phone number\n",
    "https://stackoverflow.com/questions/16699007/regular-expression-to-match-standard-10-digit-phone-number "
   ]
  },
  {
   "cell_type": "raw",
   "metadata": {},
   "source": [
    "general format\n",
    "^(\\+\\d{1,2}\\s)?\\(?\\d{3}\\)?[\\s.-]\\d{3}[\\s.-]\\d{4}$\n",
    "Matches the following\n",
    "\n",
    "123-456-7890\n",
    "(123) 456-7890\n",
    "123 456 7890\n",
    "123.456.7890\n",
    "+91 (123) 456-7890\n",
    "If you do not want a match on non-US numbers use\n",
    "\n",
    "^(\\+0?1\\s)?\\(?\\d{3}\\)?[\\s.-]\\d{3}[\\s.-]\\d{4}$"
   ]
  },
  {
   "cell_type": "code",
   "execution_count": null,
   "metadata": {
    "collapsed": true
   },
   "outputs": [],
   "source": []
  }
 ],
 "metadata": {
  "kernelspec": {
   "display_name": "Python 2",
   "language": "python",
   "name": "python2"
  },
  "language_info": {
   "codemirror_mode": {
    "name": "ipython",
    "version": 2
   },
   "file_extension": ".py",
   "mimetype": "text/x-python",
   "name": "python",
   "nbconvert_exporter": "python",
   "pygments_lexer": "ipython2",
   "version": "2.7.13"
  }
 },
 "nbformat": 4,
 "nbformat_minor": 2
}
