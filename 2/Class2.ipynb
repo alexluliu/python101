{
 "cells": [
  {
   "cell_type": "markdown",
   "metadata": {},
   "source": [
    "# Class 2 Python 进阶"
   ]
  },
  {
   "cell_type": "markdown",
   "metadata": {},
   "source": [
    "# 2.1 List/Dictionary Comprehension 列表字典解析"
   ]
  },
  {
   "cell_type": "markdown",
   "metadata": {},
   "source": [
    "## 2.1.1 列表解析\n",
    "\n",
    "列表解析式是将一个列表（实际上适用于任何可迭代对象（iterable））转换成另一个列表的工具。在转换过程中，可以指定元素必须符合一定的条件，才能添加至新的列表中，这样每个元素都可以按需要进行转换。\n",
    "\n",
    "可以理解为一个简化形式的for 循环\n",
    "\n",
    "基本格式：\n",
    "\n",
    "[表达式0 for var in 可遍历的变量 if 表达式2]\n",
    "\n",
    "所有的列表解析都能通过标准的for if 来完成，主要功能是缩短代码和弱化底层的逻辑结构"
   ]
  },
  {
   "cell_type": "markdown",
   "metadata": {},
   "source": [
    "### 例0 构造一个list，里面包含0-9的平方"
   ]
  },
  {
   "cell_type": "code",
   "execution_count": 10,
   "metadata": {
    "collapsed": false
   },
   "outputs": [
    {
     "data": {
      "text/plain": [
       "[0, 1, 4, 9, 16, 25, 36, 49, 64, 81]"
      ]
     },
     "execution_count": 10,
     "metadata": {},
     "output_type": "execute_result"
    }
   ],
   "source": [
    "# 构造一个list，0-19的平方\n",
    "powerlist = []\n",
    "for i in range(10):\n",
    "    powerlist.append(i ** 2)\n",
    "powerlist"
   ]
  },
  {
   "cell_type": "code",
   "execution_count": 12,
   "metadata": {
    "collapsed": false
   },
   "outputs": [
    {
     "data": {
      "text/plain": [
       "[0, 1, 4, 9, 16, 25, 36, 49, 64, 81]"
      ]
     },
     "execution_count": 12,
     "metadata": {},
     "output_type": "execute_result"
    }
   ],
   "source": [
    "# 构造一个list，0-19的平方\n",
    "powerlist = [i ** 2 for i in range(10)]\n",
    "powerlist"
   ]
  },
  {
   "cell_type": "markdown",
   "metadata": {},
   "source": [
    "### 例1. add \"Hello, \" before the string\n",
    "Input: ['Python2.7', 'Cpython', 'Python3.4', 'Perl5.0', 'Lua', 'Python3.6', 'Powershell']"
   ]
  },
  {
   "cell_type": "markdown",
   "metadata": {},
   "source": [
    "#### 普通for 循环"
   ]
  },
  {
   "cell_type": "code",
   "execution_count": 13,
   "metadata": {
    "collapsed": false
   },
   "outputs": [
    {
     "data": {
      "text/plain": [
       "['Hello, Python2.7',\n",
       " 'Hello, Cpython',\n",
       " 'Hello, Python3.4',\n",
       " 'Hello, Perbl5.0',\n",
       " 'Hello, Lua',\n",
       " 'Hello, Python3.6',\n",
       " 'Hello, Powershell']"
      ]
     },
     "execution_count": 13,
     "metadata": {},
     "output_type": "execute_result"
    }
   ],
   "source": [
    "inputstrings =  ['Python2.7', 'Cpython', 'Python3.4', 'Perbl5.0', 'Lua', 'Python3.6', 'Powershell']\n",
    "outputstrings = []\n",
    "for item in inputstrings:\n",
    "    moditem  = \"Hello, \" + item # 在每个元素前面加 'Hello'\n",
    "    outputstrings.append(moditem) # 加入要生成的list\n",
    "outputstrings"
   ]
  },
  {
   "cell_type": "markdown",
   "metadata": {},
   "source": [
    "#### 列表解析"
   ]
  },
  {
   "cell_type": "code",
   "execution_count": 14,
   "metadata": {
    "collapsed": false
   },
   "outputs": [
    {
     "data": {
      "text/plain": [
       "['Hello, Python2.7',\n",
       " 'Hello, Cpython',\n",
       " 'Hello, Python3.4',\n",
       " 'Hello, Perbl5.0',\n",
       " 'Hello, Lua',\n",
       " 'Hello, Python3.6',\n",
       " 'Hello, Powershell']"
      ]
     },
     "execution_count": 14,
     "metadata": {},
     "output_type": "execute_result"
    }
   ],
   "source": [
    "inputstrings =  ['Python2.7', 'Cpython', 'Python3.4', 'Perbl5.0', 'Lua', 'Python3.6', 'Powershell']\n",
    "outputstrings = [\"Hello, \" + item for item in inputstrings]\n",
    "outputstrings"
   ]
  },
  {
   "cell_type": "markdown",
   "metadata": {},
   "source": [
    "#### 在列表解析中加入if\n",
    "only keep python related and add \"Hello, \" before the string"
   ]
  },
  {
   "cell_type": "code",
   "execution_count": 15,
   "metadata": {
    "collapsed": false
   },
   "outputs": [
    {
     "data": {
      "text/plain": [
       "['Hello, Python2.7', 'Hello, Cpython', 'Hello, Python3.4', 'Hello, Python3.6']"
      ]
     },
     "execution_count": 15,
     "metadata": {},
     "output_type": "execute_result"
    }
   ],
   "source": [
    "inputstrings =  ['Python2.7', 'Cpython', 'Python3.4', 'Perbl5.0', 'Lua', 'Python3.6', 'Powershell']\n",
    "outputstrings = [\"Hello, \" + item for item in inputstrings if 'python' in item.lower()]\n",
    "outputstrings"
   ]
  },
  {
   "cell_type": "markdown",
   "metadata": {},
   "source": [
    "### 例2. 求0-99的所有被7整除的数，并且求它们的平方和"
   ]
  },
  {
   "cell_type": "markdown",
   "metadata": {},
   "source": [
    "#### for and if"
   ]
  },
  {
   "cell_type": "code",
   "execution_count": 16,
   "metadata": {
    "collapsed": false
   },
   "outputs": [
    {
     "data": {
      "text/plain": [
       "49735"
      ]
     },
     "execution_count": 16,
     "metadata": {},
     "output_type": "execute_result"
    }
   ],
   "source": [
    "n = 100\n",
    "sqs = []\n",
    "for i in range(n):\n",
    "    if i % 7 == 0:\n",
    "        sqs.append(i ** 2)\n",
    "result = sum(sqs)\n",
    "result"
   ]
  },
  {
   "cell_type": "markdown",
   "metadata": {},
   "source": [
    "#### 列表解析"
   ]
  },
  {
   "cell_type": "code",
   "execution_count": 17,
   "metadata": {
    "collapsed": false
   },
   "outputs": [
    {
     "data": {
      "text/plain": [
       "49735"
      ]
     },
     "execution_count": 17,
     "metadata": {},
     "output_type": "execute_result"
    }
   ],
   "source": [
    "n = 100\n",
    "result = sum([i ** 2 for i in range(n) if i % 7 ==0]) # for if inline with reasonable clear logic\n",
    "result"
   ]
  },
  {
   "cell_type": "code",
   "execution_count": 18,
   "metadata": {
    "collapsed": true
   },
   "outputs": [],
   "source": [
    "def nseven1(n):\n",
    "    sqs = []\n",
    "    for i in range(n):\n",
    "        if i % 7 == 0:\n",
    "            sqs.append(i ** 2)\n",
    "    result = sum(sqs)\n",
    "    return result\n",
    "\n",
    "def nseven2(n):\n",
    "    result = sum([i ** 2 for i in range(n) if i % 7 ==0]) # for if inline with reasonable clear logic\n",
    "    result"
   ]
  },
  {
   "cell_type": "markdown",
   "metadata": {},
   "source": [
    "#### 速度比较\n",
    "快一些，不质变"
   ]
  },
  {
   "cell_type": "code",
   "execution_count": 19,
   "metadata": {
    "collapsed": false
   },
   "outputs": [
    {
     "name": "stdout",
     "output_type": "stream",
     "text": [
      "The slowest run took 15.03 times longer than the fastest. This could mean that an intermediate result is being cached.\n",
      "100 loops, best of 3: 1.16 ms per loop\n"
     ]
    }
   ],
   "source": [
    "%timeit nseven1(10000)"
   ]
  },
  {
   "cell_type": "code",
   "execution_count": 20,
   "metadata": {
    "collapsed": false
   },
   "outputs": [
    {
     "name": "stdout",
     "output_type": "stream",
     "text": [
      "1000 loops, best of 3: 976 µs per loop\n"
     ]
    }
   ],
   "source": [
    "%timeit nseven2(10000)"
   ]
  },
  {
   "cell_type": "markdown",
   "metadata": {},
   "source": [
    "### 例3. 解除list 嵌套\n",
    "Input: [[1,2], [3,4], [6,7], [10,101]]\n",
    "\n",
    "Output: [1,2,3,4,6,7,10,101]"
   ]
  },
  {
   "cell_type": "code",
   "execution_count": 21,
   "metadata": {
    "collapsed": false
   },
   "outputs": [
    {
     "data": {
      "text/plain": [
       "[1, 2, 3, 4, 6, 7, 10, 101]"
      ]
     },
     "execution_count": 21,
     "metadata": {},
     "output_type": "execute_result"
    }
   ],
   "source": [
    "nestedlist =  [[1,2], [3,4], [6,7], [10,101]]\n",
    "unnestedlist = [item for sublist in nestedlist for item in sublist]\n",
    "unnestedlist"
   ]
  },
  {
   "cell_type": "markdown",
   "metadata": {},
   "source": [
    "## 2.1.2 字典解析"
   ]
  },
  {
   "cell_type": "markdown",
   "metadata": {},
   "source": [
    "### 字典解析和列表解析基本一样，表达式要同时表述key和value\n",
    "\n",
    "{表达式0:表达式1 for var in 可遍历的变量 if 表达式2}"
   ]
  },
  {
   "cell_type": "markdown",
   "metadata": {},
   "source": [
    "### 例1. 把列表的key全部变成大写\n",
    "continentdict = {'China': 'AS', 'Korea': 'AS', 'Canada': 'NA', 'France': 'EU', 'BRAZIL': 'SA', 'Russia': 'EU'}"
   ]
  },
  {
   "cell_type": "code",
   "execution_count": 22,
   "metadata": {
    "collapsed": true
   },
   "outputs": [],
   "source": [
    "continentdict = {'China': 'AS', 'Korea': 'AS', 'Canada': 'NA', 'France': 'EU', 'BRAZIL': 'SA', 'Russia': 'EU'}"
   ]
  },
  {
   "cell_type": "code",
   "execution_count": 23,
   "metadata": {
    "collapsed": false
   },
   "outputs": [
    {
     "data": {
      "text/plain": [
       "{'BRAZIL': 'SA',\n",
       " 'CANADA': 'NA',\n",
       " 'CHINA': 'AS',\n",
       " 'FRANCE': 'EU',\n",
       " 'KOREA': 'AS',\n",
       " 'RUSSIA': 'EU'}"
      ]
     },
     "execution_count": 23,
     "metadata": {},
     "output_type": "execute_result"
    }
   ],
   "source": [
    "continentdictallcap = {key.upper():continentdict[key] for key in continentdict}\n",
    "continentdictallcap"
   ]
  },
  {
   "cell_type": "markdown",
   "metadata": {},
   "source": [
    "# 2.2. 文件IO"
   ]
  },
  {
   "cell_type": "markdown",
   "metadata": {},
   "source": [
    "文件是存储在硬盘上的，python提供了读写文件的功能. \n",
    "#### readonly, default\n",
    "f = open(filepath, 'r')\n",
    "f = open(filepath)\n",
    "#### write only\n",
    "f = open(filepath, 'w')"
   ]
  },
  {
   "cell_type": "markdown",
   "metadata": {},
   "source": [
    "## 2.2.1 读文件"
   ]
  },
  {
   "cell_type": "code",
   "execution_count": 25,
   "metadata": {
    "collapsed": false
   },
   "outputs": [
    {
     "name": "stdout",
     "output_type": "stream",
     "text": [
      "Object file1:  <open file 'fileio1.txt', mode 'r' at 0x000000000610D8A0> \n",
      "\n",
      "You're getting ready to start a new company. What language should you choose to build it?\n",
      "Or to phrase the same question a different way: You are looking for a job, which language should you learn?\n",
      "You might guess from the title of this post that I think the right answer is Python. But why?\n",
      "The answer is that Python is powerful. But what does that mean, exactly? What makes for power in a programming language?\n"
     ]
    }
   ],
   "source": [
    "file1 = open('fileio1.txt', 'r') # this file is under the same directory, otherwise, please use full path\n",
    "# file1 = open(r'C:\\scriptwb\\python course\\2\\fileio1.txt')\n",
    "print 'Object file1: ', file1, '\\n' # file handler object\n",
    "\n",
    "print file1.read()\n",
    "file1.close()"
   ]
  },
  {
   "cell_type": "code",
   "execution_count": 26,
   "metadata": {
    "collapsed": false
   },
   "outputs": [
    {
     "name": "stdout",
     "output_type": "stream",
     "text": [
      "[0] You're getting ready to start a new company. What language should you choose to build it?\n",
      "[1] Or to phrase the same question a different way: You are looking for a job, which language should you learn?\n",
      "[2] You might guess from the title of this post that I think the right answer is Python. But why?\n",
      "[3] The answer is that Python is powerful. But what does that mean, exactly? What makes for power in a programming language?\n"
     ]
    }
   ],
   "source": [
    "file1 = open('fileio1.txt', 'r') # this file is under the same directory, otherwise, please use full path\n",
    "for (linenumber, linecontent) in enumerate(file1):\n",
    "    print '[%d] %s' %(linenumber, linecontent.strip())\n",
    "file1.close()"
   ]
  },
  {
   "cell_type": "markdown",
   "metadata": {},
   "source": [
    "#### 当完成读阶段或者写阶段时务必close文件\n",
    "#### 建议使用with语句，自动完成close文件"
   ]
  },
  {
   "cell_type": "code",
   "execution_count": 27,
   "metadata": {
    "collapsed": false
   },
   "outputs": [
    {
     "name": "stdout",
     "output_type": "stream",
     "text": [
      "[0] You're getting ready to start a new company. What language should you choose to build it?\n",
      "[1] Or to phrase the same question a different way: You are looking for a job, which language should you learn?\n",
      "[2] You might guess from the title of this post that I think the right answer is Python. But why?\n",
      "[3] The answer is that Python is powerful. But what does that mean, exactly? What makes for power in a programming language?\n"
     ]
    }
   ],
   "source": [
    "with open('fileio1.txt', 'r') as file1:\n",
    "    for (linenumber, linecontent) in enumerate(file1):\n",
    "        print '[%d] %s' %(linenumber, linecontent.strip())"
   ]
  },
  {
   "cell_type": "markdown",
   "metadata": {},
   "source": [
    "## 2.2.2 写文件"
   ]
  },
  {
   "cell_type": "code",
   "execution_count": 56,
   "metadata": {
    "collapsed": true
   },
   "outputs": [],
   "source": [
    "continentdict = {'China': 'AS', 'Korea': 'AS', 'Canada': 'NA', 'France': 'EU', 'BRAZIL': 'SA', 'Russia': 'EU'}"
   ]
  },
  {
   "cell_type": "markdown",
   "metadata": {},
   "source": [
    "如果需要把这个字典写入文件\n",
    "\n",
    "filehandler.write(string)"
   ]
  },
  {
   "cell_type": "code",
   "execution_count": 28,
   "metadata": {
    "collapsed": false
   },
   "outputs": [
    {
     "name": "stdout",
     "output_type": "stream",
     "text": [
      "{'Canada': 'NA', 'BRAZIL': 'SA', 'Korea': 'AS', 'France': 'EU', 'China': 'AS', 'Russia': 'EU'}\n"
     ]
    }
   ],
   "source": [
    "with open('continentdict.txt', 'w') as g:\n",
    "    g.write(str(continentdict))\n",
    "# readout and print this file\n",
    "with open('continentdict.txt', 'r') as f:\n",
    "    print f.read()"
   ]
  },
  {
   "cell_type": "markdown",
   "metadata": {},
   "source": [
    "如果我们想写成一个csv表格，表头\n",
    "\n",
    "Country,Continent\n",
    "\n",
    "Canada,NA\n",
    "\n",
    "Brazil,SA\n",
    "\n",
    "...,..."
   ]
  },
  {
   "cell_type": "code",
   "execution_count": 29,
   "metadata": {
    "collapsed": false
   },
   "outputs": [
    {
     "name": "stdout",
     "output_type": "stream",
     "text": [
      "Country,Continent\n",
      "Canada,NA\n",
      "BRAZIL,SA\n",
      "Korea,AS\n",
      "France,EU\n",
      "China,AS\n",
      "Russia,EU\n",
      "\n"
     ]
    }
   ],
   "source": [
    "with open('continentdict.csv', 'w') as g:\n",
    "    g.write('Country,Continent\\n')\n",
    "    for country in continentdict:\n",
    "        g.write('%s,%s\\n'%(country, continentdict[country]))\n",
    "# readout and print this file\n",
    "with open('continentdict.csv', 'r') as f:\n",
    "    print f.read()        "
   ]
  },
  {
   "cell_type": "markdown",
   "metadata": {},
   "source": [
    "#### 不像table? csv是一种通用的表格存储形式，任何数据分析软件的基本能读格式。本质是纯文本文件，逗号作为列分割，回车作为行分割\n",
    "\n",
    "我们可以用excel打开试试\n",
    "\n",
    "我们也可以用python pandas包打开看看 【数据分析的基本扩展包之一】"
   ]
  },
  {
   "cell_type": "code",
   "execution_count": 30,
   "metadata": {
    "collapsed": false
   },
   "outputs": [
    {
     "data": {
      "text/html": [
       "<div>\n",
       "<style>\n",
       "    .dataframe thead tr:only-child th {\n",
       "        text-align: right;\n",
       "    }\n",
       "\n",
       "    .dataframe thead th {\n",
       "        text-align: left;\n",
       "    }\n",
       "\n",
       "    .dataframe tbody tr th {\n",
       "        vertical-align: top;\n",
       "    }\n",
       "</style>\n",
       "<table border=\"1\" class=\"dataframe\">\n",
       "  <thead>\n",
       "    <tr style=\"text-align: right;\">\n",
       "      <th></th>\n",
       "      <th>Country</th>\n",
       "      <th>Continent</th>\n",
       "    </tr>\n",
       "  </thead>\n",
       "  <tbody>\n",
       "    <tr>\n",
       "      <th>0</th>\n",
       "      <td>Canada</td>\n",
       "      <td>NA</td>\n",
       "    </tr>\n",
       "    <tr>\n",
       "      <th>1</th>\n",
       "      <td>BRAZIL</td>\n",
       "      <td>SA</td>\n",
       "    </tr>\n",
       "    <tr>\n",
       "      <th>2</th>\n",
       "      <td>Korea</td>\n",
       "      <td>AS</td>\n",
       "    </tr>\n",
       "    <tr>\n",
       "      <th>3</th>\n",
       "      <td>France</td>\n",
       "      <td>EU</td>\n",
       "    </tr>\n",
       "    <tr>\n",
       "      <th>4</th>\n",
       "      <td>China</td>\n",
       "      <td>AS</td>\n",
       "    </tr>\n",
       "    <tr>\n",
       "      <th>5</th>\n",
       "      <td>Russia</td>\n",
       "      <td>EU</td>\n",
       "    </tr>\n",
       "  </tbody>\n",
       "</table>\n",
       "</div>"
      ],
      "text/plain": [
       "  Country Continent\n",
       "0  Canada        NA\n",
       "1  BRAZIL        SA\n",
       "2   Korea        AS\n",
       "3  France        EU\n",
       "4   China        AS\n",
       "5  Russia        EU"
      ]
     },
     "execution_count": 30,
     "metadata": {},
     "output_type": "execute_result"
    }
   ],
   "source": [
    "import pandas\n",
    "df = pandas.read_csv('continentdict.csv', keep_default_na=False)\n",
    "df"
   ]
  },
  {
   "cell_type": "markdown",
   "metadata": {},
   "source": [
    "# 2.3. 与操作系统OS的交互"
   ]
  },
  {
   "cell_type": "markdown",
   "metadata": {},
   "source": [
    "## 2.3.1 文件与文件夹\n",
    "\n",
    "这里仅仅举例说明常见的需求，有更进一步的学习需求请查阅\n",
    "https://docs.python.org/2/library/os.html"
   ]
  },
  {
   "cell_type": "code",
   "execution_count": 31,
   "metadata": {
    "collapsed": true
   },
   "outputs": [],
   "source": [
    "# os的基本操作在os包里，基本的python包，无需任何扩展安装\n",
    "import os"
   ]
  },
  {
   "cell_type": "markdown",
   "metadata": {},
   "source": [
    "### 目录操作"
   ]
  },
  {
   "cell_type": "markdown",
   "metadata": {},
   "source": [
    "#### 当前目录"
   ]
  },
  {
   "cell_type": "code",
   "execution_count": 32,
   "metadata": {
    "collapsed": false
   },
   "outputs": [
    {
     "name": "stdout",
     "output_type": "stream",
     "text": [
      "C:\\scriptwb\\2\n"
     ]
    }
   ],
   "source": [
    "cwd1 = os.getcwd()\n",
    "print cwd1\n",
    "# we store current working directory in cwd1, later we change working directory and use it to change it back"
   ]
  },
  {
   "cell_type": "code",
   "execution_count": 33,
   "metadata": {
    "collapsed": false
   },
   "outputs": [
    {
     "data": {
      "text/plain": [
       "['.ipynb_checkpoints',\n",
       " 'Class1 Appendix.ipynb',\n",
       " 'Class2.ipynb',\n",
       " 'continentdict.csv',\n",
       " 'continentdict.txt',\n",
       " 'essay.txt',\n",
       " 'factorial.ipynb',\n",
       " 'factorial.py',\n",
       " 'factorial.pyc',\n",
       " 'factorial10.py',\n",
       " 'fileio1.txt',\n",
       " 'Homework2.ipynb',\n",
       " 'revnuetable.csv',\n",
       " 'sumxy.py']"
      ]
     },
     "execution_count": 33,
     "metadata": {},
     "output_type": "execute_result"
    }
   ],
   "source": [
    "os.listdir(cwd1)"
   ]
  },
  {
   "cell_type": "markdown",
   "metadata": {},
   "source": [
    "#### 查询上一层dir"
   ]
  },
  {
   "cell_type": "code",
   "execution_count": 34,
   "metadata": {
    "collapsed": false
   },
   "outputs": [
    {
     "data": {
      "text/plain": [
       "'C:\\\\scriptwb'"
      ]
     },
     "execution_count": 34,
     "metadata": {},
     "output_type": "execute_result"
    }
   ],
   "source": [
    "parentwd = os.path.dirname(cwd1)\n",
    "parentwd"
   ]
  },
  {
   "cell_type": "markdown",
   "metadata": {},
   "source": [
    "#### 返回上一层，再返回来"
   ]
  },
  {
   "cell_type": "code",
   "execution_count": 35,
   "metadata": {
    "collapsed": true
   },
   "outputs": [],
   "source": [
    "os.chdir(parentwd) # changed to upper level"
   ]
  },
  {
   "cell_type": "code",
   "execution_count": 36,
   "metadata": {
    "collapsed": false
   },
   "outputs": [
    {
     "data": {
      "text/plain": [
       "'C:\\\\scriptwb'"
      ]
     },
     "execution_count": 36,
     "metadata": {},
     "output_type": "execute_result"
    }
   ],
   "source": [
    "os.getcwd()"
   ]
  },
  {
   "cell_type": "code",
   "execution_count": 37,
   "metadata": {
    "collapsed": false
   },
   "outputs": [
    {
     "data": {
      "text/plain": [
       "'C:\\\\scriptwb\\\\2'"
      ]
     },
     "execution_count": 37,
     "metadata": {},
     "output_type": "execute_result"
    }
   ],
   "source": [
    "os.chdir(cwd1) # changed back\n",
    "os.getcwd()"
   ]
  },
  {
   "cell_type": "markdown",
   "metadata": {},
   "source": [
    "### 文件查询与操作"
   ]
  },
  {
   "cell_type": "markdown",
   "metadata": {},
   "source": [
    "#### 文件 信息"
   ]
  },
  {
   "cell_type": "code",
   "execution_count": 38,
   "metadata": {
    "collapsed": false
   },
   "outputs": [
    {
     "data": {
      "text/plain": [
       "True"
      ]
     },
     "execution_count": 38,
     "metadata": {},
     "output_type": "execute_result"
    }
   ],
   "source": [
    "os.path.isfile('continentdict.csv')"
   ]
  },
  {
   "cell_type": "code",
   "execution_count": 39,
   "metadata": {
    "collapsed": false
   },
   "outputs": [
    {
     "data": {
      "text/plain": [
       "False"
      ]
     },
     "execution_count": 39,
     "metadata": {},
     "output_type": "execute_result"
    }
   ],
   "source": [
    "os.path.isfile('continentdict.tsv')"
   ]
  },
  {
   "cell_type": "code",
   "execution_count": 40,
   "metadata": {
    "collapsed": false
   },
   "outputs": [
    {
     "name": "stdout",
     "output_type": "stream",
     "text": [
      "continentdict.csv is created at 1510108311.7, last modified at 1510128776.89, full path is C:\\scriptwb\\2\\continentdict.csv\n"
     ]
    }
   ],
   "source": [
    "filename = 'continentdict.csv'\n",
    "print '%s is created at %s, last modified at %s, full path is %s' %(\n",
    "    filename, os.path.getctime(filename), os.path.getmtime(filename), os.path.abspath(filename))"
   ]
  },
  {
   "cell_type": "markdown",
   "metadata": {},
   "source": [
    "看起来时间是一种特殊格式，人没法阅读。怎么处理？\n",
    "\n",
    "Let us google \"os.path.filectime convert\"\n",
    "\n",
    "第一个结果是stackoverflow的\n",
    "\n",
    "https://stackoverflow.com/questions/19501711/how-can-i-convert-os-path-getctime"
   ]
  },
  {
   "cell_type": "code",
   "execution_count": 41,
   "metadata": {
    "collapsed": false
   },
   "outputs": [
    {
     "data": {
      "text/plain": [
       "'2013-10-19 06:25:38'"
      ]
     },
     "execution_count": 41,
     "metadata": {},
     "output_type": "execute_result"
    }
   ],
   "source": [
    "from datetime import datetime\n",
    "datetime.fromtimestamp(1382189138.4196026).strftime('%Y-%m-%d %H:%M:%S')"
   ]
  },
  {
   "cell_type": "markdown",
   "metadata": {},
   "source": [
    "基于这个回答，我们可以写一个转化函数，从机器能理解的浮点秒数，转化成人能读懂得日期时间"
   ]
  },
  {
   "cell_type": "code",
   "execution_count": 42,
   "metadata": {
    "collapsed": true
   },
   "outputs": [],
   "source": [
    "def converttimestamp(timestamp):\n",
    "    return datetime.fromtimestamp(timestamp).strftime('%Y-%m-%d %H:%M:%S')"
   ]
  },
  {
   "cell_type": "markdown",
   "metadata": {},
   "source": [
    "现在能够正常显示了"
   ]
  },
  {
   "cell_type": "code",
   "execution_count": 43,
   "metadata": {
    "collapsed": false
   },
   "outputs": [
    {
     "name": "stdout",
     "output_type": "stream",
     "text": [
      "continentdict.csv is created at 2017-11-07 18:31:51, last modified at 2017-11-08 00:12:56, full path is C:\\scriptwb\\2\\continentdict.csv\n"
     ]
    }
   ],
   "source": [
    "filename = 'continentdict.csv'\n",
    "print '%s is created at %s, last modified at %s, full path is %s' %(\n",
    "    filename, converttimestamp(os.path.getctime(filename)), \n",
    "    converttimestamp(os.path.getmtime(filename)), os.path.abspath(filename))"
   ]
  },
  {
   "cell_type": "markdown",
   "metadata": {},
   "source": [
    "#### 拷贝与删除文件"
   ]
  },
  {
   "cell_type": "markdown",
   "metadata": {},
   "source": [
    "Google python copy file\n",
    "\n",
    "We can find this page\n",
    "https://docs.python.org/2/library/shutil.html\n",
    "\n",
    "google python delete file\n",
    "\n",
    "We can find this page\n",
    "https://stackoverflow.com/questions/6996603/how-to-delete-a-file-or-folder "
   ]
  },
  {
   "cell_type": "code",
   "execution_count": 44,
   "metadata": {
    "collapsed": true
   },
   "outputs": [],
   "source": [
    "import shutil\n",
    "shutil.copyfile('continentdict.csv', 'continentdict_copy.csv')"
   ]
  },
  {
   "cell_type": "code",
   "execution_count": 45,
   "metadata": {
    "collapsed": false
   },
   "outputs": [
    {
     "name": "stdout",
     "output_type": "stream",
     "text": [
      "True\n",
      "False\n"
     ]
    }
   ],
   "source": [
    "file2remove = 'continentdict_copy.csv'\n",
    "print os.path.isfile(file2remove)\n",
    "os.remove(file2remove)\n",
    "print os.path.isfile(file2remove)"
   ]
  },
  {
   "cell_type": "markdown",
   "metadata": {},
   "source": [
    "## 2.3.2 OS命令行"
   ]
  },
  {
   "cell_type": "markdown",
   "metadata": {},
   "source": [
    "### 从命令行传递参数，运行python代码"
   ]
  },
  {
   "cell_type": "markdown",
   "metadata": {},
   "source": [
    "命令行基础\n",
    "\n",
    "python code1.py arg1 arg2 arg3 ...\n",
    "\n",
    "python - 操作系统命令\n",
    "\n",
    "code1.py - 操作系统命令 参数0 要运行的代码\n",
    "\n",
    "arg1 代码命令行参数0\n",
    "\n",
    "arg2 代码命令行参数1\n",
    "\n",
    "...\n",
    "\n",
    "####基础模块sys\n",
    "\n",
    "sys.argv是一个list，从操作系统获得[arg0, arg1, arg2...]， arg0通常是python代码名， arg1, arg2...一般是要传给python代码的参数\n",
    "\n",
    "#### 进阶模块 argparse\n",
    "https://docs.python.org/2.7/library/argparse.html"
   ]
  },
  {
   "cell_type": "markdown",
   "metadata": {},
   "source": [
    "#### sumxy from command line\n",
    "命令行demo\n",
    "\n",
    "建立一个sumxy.py文件\n",
    "\n",
    "输入一下内容"
   ]
  },
  {
   "cell_type": "raw",
   "metadata": {},
   "source": [
    "#sumxy.py \n",
    "import sys\n",
    "\n",
    "def sumxy(x, y):\n",
    "    return x + y\n",
    "\n",
    "if __name__ == '__main__':\n",
    "    args = sys.argv[1:]\n",
    "    x = float(args[0])\n",
    "    y = float(args[1])\n",
    "    print sumxy(x, y)"
   ]
  },
  {
   "cell_type": "markdown",
   "metadata": {},
   "source": [
    "打开命令行，输入python sumxy 1 2\n",
    "\n",
    "在jupyter中， ! 开头表示这一行是命令行操作\n",
    "\n",
    "mac 请用ls"
   ]
  },
  {
   "cell_type": "code",
   "execution_count": 47,
   "metadata": {
    "collapsed": false,
    "scrolled": true
   },
   "outputs": [
    {
     "name": "stdout",
     "output_type": "stream",
     "text": [
      " Volume in drive C is Windows\n",
      " Volume Serial Number is EC3A-B103\n",
      "\n",
      " Directory of C:\\scriptwb\\2\n",
      "\n",
      "11/08/2017  01:27 AM    <DIR>          .\n",
      "11/08/2017  01:27 AM    <DIR>          ..\n",
      "11/07/2017  10:40 PM    <DIR>          .ipynb_checkpoints\n",
      "11/08/2017  12:23 AM             3,205 Class1 Appendix.ipynb\n",
      "11/08/2017  01:27 AM            35,573 Class2.ipynb\n",
      "11/08/2017  01:12 AM                83 continentdict.csv\n",
      "11/08/2017  01:10 AM                94 continentdict.txt\n",
      "11/07/2017  11:52 PM             6,081 essay.txt\n",
      "11/08/2017  12:36 AM             1,410 factorial.ipynb\n",
      "11/08/2017  12:39 AM               391 factorial.py\n",
      "11/08/2017  12:40 AM               520 factorial.pyc\n",
      "11/08/2017  12:41 AM                47 factorial10.py\n",
      "11/06/2017  09:59 PM               412 fileio1.txt\n",
      "11/07/2017  11:53 PM             1,635 Homework2.ipynb\n",
      "11/07/2017  10:53 PM               164 revnuetable.csv\n",
      "11/06/2017  09:59 PM               176 sumxy.py\n",
      "              13 File(s)         49,791 bytes\n",
      "               3 Dir(s)  52,021,227,520 bytes free\n",
      "#sumxy.py \n",
      "import sys\n",
      "\n",
      "def sumxy(x, y):\n",
      "    return x + y\n",
      "\n",
      "if __name__ == '__main__':\n",
      "    args = sys.argv[1:]\n",
      "    x = float(args[0])\n",
      "    y = float(args[1])\n",
      "    print sumxy(x, y)\n",
      "3.0\n"
     ]
    }
   ],
   "source": [
    "! dir\n",
    "! type sumxy.py\n",
    "! python sumxy.py 1 2"
   ]
  },
  {
   "cell_type": "markdown",
   "metadata": {},
   "source": [
    "### 从python运行命令行\n",
    "基础\n",
    "\n",
    "os.system(cmd)\n",
    "\n",
    "os.popen(cmd)\n",
    "\n",
    "进阶\n",
    "\n",
    "subprocess module\n",
    "\n",
    "https://docs.python.org/2/library/subprocess.html"
   ]
  },
  {
   "cell_type": "code",
   "execution_count": 102,
   "metadata": {
    "collapsed": false
   },
   "outputs": [
    {
     "name": "stdout",
     "output_type": "stream",
     "text": [
      "3.0\n",
      "\n"
     ]
    }
   ],
   "source": [
    "import os\n",
    "cmdoutput = os.popen('python sumxy.py 1 2').read()\n",
    "print cmdoutput"
   ]
  },
  {
   "cell_type": "markdown",
   "metadata": {},
   "source": [
    "#### 为什么用python运行命令行\n",
    "一个项目的各个部分可能是很多人用不同的语言写的，需要整合在一起. python可以作为胶水语言，写project高层的manamge code，调用python和其他语言写的代码来执行任务。"
   ]
  },
  {
   "cell_type": "markdown",
   "metadata": {},
   "source": [
    "<font size=\"5\" color=\"red\">以下的内容掌握需要较长时间的理解和磨练。往往Python开发工程师也并不需要完全精通这些高级功能。\n",
    "作为一门基础课，有必要给大家科普这些内容。在这里大家的学习目标是了解概念功能，能大概看懂最基础的代码，不必苛求理解细节。\n",
    "</font>\n",
    "<font size=\"5\" color=\"Blue\">\n",
    "很多功能你不懂细节，记不住代码长什么样，但是并不妨碍你使用它</font>"
   ]
  },
  {
   "cell_type": "markdown",
   "metadata": {},
   "source": [
    "# 2.4 字符串进阶"
   ]
  },
  {
   "cell_type": "markdown",
   "metadata": {},
   "source": [
    "## 2.4.1 正则表达式"
   ]
  },
  {
   "cell_type": "markdown",
   "metadata": {},
   "source": [
    "#### 正则表达式是一套通用的文本检索提取规则，各种编程语言都有正则表达式的模块。学习正则表达式需要大概2-3小时的学习达到运用程度，精通则需要较长时间的练习。\n",
    "\n",
    "正则表达式，又称正规表示式、正規表示法、正規運算式、規則運算式、常規表示法（英语：Regular Expression，在代码中常简写为regex、regexp或RE），是计算机科学的一个概念。正则表达式使用单个字符串来描述、匹配一系列符合某个句法规则的字符串。在很多文本编辑器裡，正則表达式通常被用来检索、替换那些符合某个模式的文本。\n",
    "\n",
    "cheatsheet\n",
    "https://www.debuggex.com/cheatsheet/regex/python\n",
    "\n",
    "Pattern怎么写是个不小的问题，这里不要求大家掌握，参考cheatsheet和google"
   ]
  },
  {
   "cell_type": "code",
   "execution_count": 105,
   "metadata": {
    "collapsed": false
   },
   "outputs": [
    {
     "name": "stdout",
     "output_type": "stream",
     "text": [
      "not matching\n"
     ]
    }
   ],
   "source": [
    "import re\n",
    "pattern = '[a-z][0-5]+'\n",
    "res = re.match(pattern, 'c660')\n",
    "if res:\n",
    "    print res.group()\n",
    "else:\n",
    "    print 'not matching'"
   ]
  },
  {
   "cell_type": "markdown",
   "metadata": {},
   "source": [
    "#### 表头变换\n",
    "metrics是一个数据表的表头，我们这里把它放入了一个list。每个column名看起来每一个代表某组测量数据，ID0和ID1表示组号，去掉组号其他字符表示这个数据的名称。我们希望变换"
   ]
  },
  {
   "cell_type": "code",
   "execution_count": 106,
   "metadata": {
    "collapsed": true
   },
   "outputs": [],
   "source": [
    "metrics = ['LENGTH_ID0_FINAL', 'LENGTH_ID1_FINAL', 'WIDTH_ID0', 'WIDTH_ID1', 'ID2_WEIGHT', 'ID3_WEIGHT']"
   ]
  },
  {
   "cell_type": "markdown",
   "metadata": {},
   "source": [
    "变换成两个list 作为双杭表头\n",
    "\n",
    "列表1：数据的名称\n",
    "\n",
    "['LENGTH_FINAL', 'LENGTH_FINAL', 'WIDTH', 'WIDTH', 'WEIGHT', 'WEIGHT']\n",
    "\n",
    "列表2：组号\n",
    "\n",
    "['ID0', 'ID1', 'ID0', 'ID1', 'ID2', 'ID3']\n",
    "\n",
    "因为不同的数据会有略微不同的格式，有的组号放在了左边，有的放在了中间，有的写在了最右边，所以简单的.split('_')操作并不好用"
   ]
  },
  {
   "cell_type": "code",
   "execution_count": 107,
   "metadata": {
    "collapsed": true
   },
   "outputs": [],
   "source": [
    "import re"
   ]
  },
  {
   "cell_type": "code",
   "execution_count": 108,
   "metadata": {
    "collapsed": true
   },
   "outputs": [],
   "source": [
    "pattern = '(.*)(ID\\d)(.*)'\n",
    "matchresult = re.match(pattern, 'WIDTH_ID1')"
   ]
  },
  {
   "cell_type": "code",
   "execution_count": 109,
   "metadata": {
    "collapsed": false
   },
   "outputs": [
    {
     "data": {
      "text/plain": [
       "('WIDTH_', 'ID1', '')"
      ]
     },
     "execution_count": 109,
     "metadata": {},
     "output_type": "execute_result"
    }
   ],
   "source": [
    "matchresult.groups()"
   ]
  },
  {
   "cell_type": "code",
   "execution_count": 110,
   "metadata": {
    "collapsed": false
   },
   "outputs": [
    {
     "name": "stdout",
     "output_type": "stream",
     "text": [
      "[('LENGTH_', 'ID0', '_FINAL'), ('LENGTH_', 'ID1', '_FINAL'), ('WIDTH_', 'ID0', ''), ('WIDTH_', 'ID1', ''), ('', 'ID2', '_WEIGHT'), ('', 'ID3', '_WEIGHT')]\n",
      "measurement: ['LENGTH_FINAL', 'LENGTH_FINAL', 'WIDTH', 'WIDTH', 'WEIGHT', 'WEIGHT']\n",
      "ID: ['ID0', 'ID1', 'ID0', 'ID1', 'ID2', 'ID3']\n"
     ]
    }
   ],
   "source": [
    "results = [re.match(pattern, metric).groups() for metric in metrics]\n",
    "print results\n",
    "IDs = [result[1] for result in results]\n",
    "measurements = [(result[0].strip('_') + '_' + result[2].strip('_')).strip('_') for result in results]\n",
    "print 'measurement:',measurements\n",
    "print 'ID:',IDs"
   ]
  },
  {
   "cell_type": "markdown",
   "metadata": {},
   "source": [
    "#### Email地址的验证\n",
    "\n",
    "google search\n",
    "\n",
    "regular expression match an email address\n",
    "\n",
    "I found a page http://emailregex.com/"
   ]
  },
  {
   "cell_type": "code",
   "execution_count": 111,
   "metadata": {
    "collapsed": false
   },
   "outputs": [
    {
     "data": {
      "text/plain": [
       "['john@hotmail.com', 'tom3@gmail.com', '32111198@qq.com']"
      ]
     },
     "execution_count": 111,
     "metadata": {},
     "output_type": "execute_result"
    }
   ],
   "source": [
    "emailpattern = r\"(^[a-zA-Z0-9_.+-]+@[a-zA-Z0-9-]+\\.[a-zA-Z0-9-.]+$)\"\n",
    "emails = ['john@hotmail.com', 'tom3@gmail.com', '32111198@qq.com', 't%wan@163.com', 'slayer@99cn']\n",
    "validemails = [email for email in emails if re.match(emailpattern, email)]\n",
    "validemails"
   ]
  },
  {
   "cell_type": "markdown",
   "metadata": {},
   "source": [
    "#### 电话号码的验证\n",
    "https://stackoverflow.com/questions/16699007/regular-expression-to-match-standard-10-digit-phone-number "
   ]
  },
  {
   "cell_type": "markdown",
   "metadata": {},
   "source": [
    "general format\n",
    "^(\\+\\d{1,2}\\s)?\\(?\\d{3}\\)?[\\s.-]\\d{3}[\\s.-]\\d{4}$\n",
    "Matches the following\n",
    "\n",
    "123-456-7890\n",
    "(123) 456-7890\n",
    "123 456 7890\n",
    "123.456.7890\n",
    "+91 (123) 456-7890\n",
    "If you do not want a match on non-US numbers use\n",
    "\n",
    "^(\\+0?1\\s)?\\(?\\d{3}\\)?[\\s.-]\\d{3}[\\s.-]\\d{4}$"
   ]
  },
  {
   "cell_type": "markdown",
   "metadata": {},
   "source": [
    "# 2.5 面向对象编程 Object Oriented Programming"
   ]
  },
  {
   "cell_type": "markdown",
   "metadata": {},
   "source": [
    "## 2.5.1 面向对象技术简介\n",
    "类(Class): 用来描述具有相同的属性和方法的对象的集合。它定义了该集合中每个对象所共有的属性和方法。对象是类的实例。\n",
    "\n",
    "对象：通过类定义的数据结构实例。对象包括两个数据成员（类变量和实例变量）和方法。\n",
    "\n",
    "实例化：创建一个类的实例，类的具体对象。\n",
    "\n",
    "方法：类中定义的函数。\n",
    "\n",
    "继承：进一步细化具体化的，类之间的关系。狗继承于哺乳动物，哺乳动物继承与脊椎动物\n",
    "\n",
    "#### 面向对象编程是一个非常大也是非常重要的学习项目。什么时候需要定义类，构建怎样的类，很多时候需要对项目架构设计有较多的经验，并不只是python语言的问题。这里的目标是让同学对类有基本的理解，能够看懂代码。\n",
    "\n",
    "全面但又很初步的了解python的面向对象编程，学习资料\n",
    "\n",
    "http://yangcongchufang.com/%E9%AB%98%E7%BA%A7python%E7%BC%96%E7%A8%8B%E5%9F%BA%E7%A1%80/python-object-class.html "
   ]
  },
  {
   "cell_type": "markdown",
   "metadata": {},
   "source": [
    "#### 简单的例子"
   ]
  },
  {
   "cell_type": "code",
   "execution_count": 112,
   "metadata": {
    "collapsed": true
   },
   "outputs": [],
   "source": [
    "class Student(object): # 继承自object python基础类\n",
    "    \"\"\"空类Student\"\"\"\n",
    "    pass # 空类"
   ]
  },
  {
   "cell_type": "markdown",
   "metadata": {},
   "source": [
    "#### 实体化并添加数据"
   ]
  },
  {
   "cell_type": "code",
   "execution_count": 113,
   "metadata": {
    "collapsed": false
   },
   "outputs": [
    {
     "name": "stdout",
     "output_type": "stream",
     "text": [
      "<__main__.Student object at 0x0000000007227C88>\n",
      "<class '__main__.Student'>\n"
     ]
    }
   ],
   "source": [
    "Ming = Student()\n",
    "print Ming # instance, MIng is an object 对象\n",
    "print Ming.__class__ # Ming.__class__ refer to class"
   ]
  },
  {
   "cell_type": "markdown",
   "metadata": {},
   "source": [
    "#### 自由添加对象数据"
   ]
  },
  {
   "cell_type": "code",
   "execution_count": 114,
   "metadata": {
    "collapsed": false
   },
   "outputs": [
    {
     "name": "stdout",
     "output_type": "stream",
     "text": [
      "['__class__', '__delattr__', '__dict__', '__doc__', '__format__', '__getattribute__', '__hash__', '__init__', '__module__', '__new__', '__reduce__', '__reduce_ex__', '__repr__', '__setattr__', '__sizeof__', '__str__', '__subclasshook__', '__weakref__', 'name', 'score']\n",
      "空类Student\n",
      "__main__\n",
      "Ming Li 98\n"
     ]
    }
   ],
   "source": [
    "Ming.name = 'Ming Li'\n",
    "Ming.score = 98\n",
    "print dir(Ming)\n",
    "print Ming.__doc__\n",
    "print Ming.__module__\n",
    "print Ming.name, Ming.score"
   ]
  },
  {
   "cell_type": "markdown",
   "metadata": {},
   "source": [
    "#### 方法与数据封装"
   ]
  },
  {
   "cell_type": "code",
   "execution_count": 115,
   "metadata": {
    "collapsed": true
   },
   "outputs": [],
   "source": [
    "class Student(object):\n",
    "    \"\"\"Student的类\"\"\"\n",
    "    \n",
    "    def __init__(self, name, score): # __init__ method，初始化方法，命名不随意\n",
    "        self.name = name\n",
    "        self.score = score\n",
    "        \n",
    "    def print_score(self):\n",
    "        print(\"%s: %s\" % (self.name, self.score))"
   ]
  },
  {
   "cell_type": "code",
   "execution_count": 116,
   "metadata": {
    "collapsed": false
   },
   "outputs": [
    {
     "name": "stdout",
     "output_type": "stream",
     "text": [
      "['__class__', '__delattr__', '__dict__', '__doc__', '__format__', '__getattribute__', '__hash__', '__init__', '__module__', '__new__', '__reduce__', '__reduce_ex__', '__repr__', '__setattr__', '__sizeof__', '__str__', '__subclasshook__', '__weakref__', 'name', 'print_score', 'score']\n",
      "__main__\n",
      "Ming Li: 98\n",
      "Ming Li 98\n"
     ]
    }
   ],
   "source": [
    "Ming = Student('Ming Li', 98)\n",
    "print dir(Ming)\n",
    "print Ming.__module__\n",
    "Ming.print_score()\n",
    "print Ming.name, Ming.score # 外部也可以访问"
   ]
  },
  {
   "cell_type": "markdown",
   "metadata": {},
   "source": [
    "#### 用__表示私有封装，只能内部方法访问"
   ]
  },
  {
   "cell_type": "code",
   "execution_count": 117,
   "metadata": {
    "collapsed": false
   },
   "outputs": [
    {
     "name": "stdout",
     "output_type": "stream",
     "text": [
      "Ming Li: 98\n"
     ]
    },
    {
     "ename": "AttributeError",
     "evalue": "'Student' object has no attribute '__name'",
     "output_type": "error",
     "traceback": [
      "\u001b[1;31m---------------------------------------------------------------------------\u001b[0m",
      "\u001b[1;31mAttributeError\u001b[0m                            Traceback (most recent call last)",
      "\u001b[1;32m<ipython-input-117-b4b23dc33140>\u001b[0m in \u001b[0;36m<module>\u001b[1;34m()\u001b[0m\n\u001b[0;32m     10\u001b[0m \u001b[1;33m\u001b[0m\u001b[0m\n\u001b[0;32m     11\u001b[0m \u001b[0mMing\u001b[0m\u001b[1;33m.\u001b[0m\u001b[0mprint_score\u001b[0m\u001b[1;33m(\u001b[0m\u001b[1;33m)\u001b[0m\u001b[1;33m\u001b[0m\u001b[0m\n\u001b[1;32m---> 12\u001b[1;33m \u001b[1;32mprint\u001b[0m \u001b[0mMing\u001b[0m\u001b[1;33m.\u001b[0m\u001b[0m__name\u001b[0m\u001b[1;33m,\u001b[0m \u001b[0mMing\u001b[0m\u001b[1;33m.\u001b[0m\u001b[0m__score\u001b[0m \u001b[1;31m# 外部无法访问\u001b[0m\u001b[1;33m\u001b[0m\u001b[0m\n\u001b[0m",
      "\u001b[1;31mAttributeError\u001b[0m: 'Student' object has no attribute '__name'"
     ]
    }
   ],
   "source": [
    "class Student(object):\n",
    "    \"\"\"Student的类\"\"\"\n",
    "    \n",
    "    def __init__(self, name, score): # __init__ method，初始化方法，命名不随意\n",
    "        self.__name = name\n",
    "        self.__score = score\n",
    "        \n",
    "    def print_score(self):\n",
    "        print(\"%s: %s\" % (self.__name, self.__score))\n",
    "        \n",
    "Ming.print_score()\n",
    "print Ming.__name, Ming.__score # 外部无法访问"
   ]
  },
  {
   "cell_type": "markdown",
   "metadata": {},
   "source": [
    "#### 类变量和实例变量\n",
    "类变量，在方法之外，全类和所有对象共有，慎用\n",
    "\n",
    "实例变量，只有实例有"
   ]
  },
  {
   "cell_type": "code",
   "execution_count": 118,
   "metadata": {
    "collapsed": false
   },
   "outputs": [
    {
     "name": "stdout",
     "output_type": "stream",
     "text": [
      "2\n",
      "2\n",
      "98\n",
      "2\n"
     ]
    },
    {
     "ename": "AttributeError",
     "evalue": "type object 'Student' has no attribute 'score'",
     "output_type": "error",
     "traceback": [
      "\u001b[1;31m---------------------------------------------------------------------------\u001b[0m",
      "\u001b[1;31mAttributeError\u001b[0m                            Traceback (most recent call last)",
      "\u001b[1;32m<ipython-input-118-bd707e390f15>\u001b[0m in \u001b[0;36m<module>\u001b[1;34m()\u001b[0m\n\u001b[0;32m     16\u001b[0m \u001b[1;32mprint\u001b[0m \u001b[0mMing\u001b[0m\u001b[1;33m.\u001b[0m\u001b[0mscore\u001b[0m\u001b[1;33m\u001b[0m\u001b[0m\n\u001b[0;32m     17\u001b[0m \u001b[1;32mprint\u001b[0m \u001b[0mStudent\u001b[0m\u001b[1;33m.\u001b[0m\u001b[0mstudentcount\u001b[0m \u001b[1;31m#类变量为对象和类共有\u001b[0m\u001b[1;33m\u001b[0m\u001b[0m\n\u001b[1;32m---> 18\u001b[1;33m \u001b[1;32mprint\u001b[0m \u001b[0mStudent\u001b[0m\u001b[1;33m.\u001b[0m\u001b[0mscore\u001b[0m \u001b[1;31m# 不存在\u001b[0m\u001b[1;33m\u001b[0m\u001b[0m\n\u001b[0m",
      "\u001b[1;31mAttributeError\u001b[0m: type object 'Student' has no attribute 'score'"
     ]
    }
   ],
   "source": [
    "class Student(object):\n",
    "    \"\"\"Student的类\"\"\"\n",
    "    studentcount = 0\n",
    "    def __init__(self, name, score): # __init__ method，初始化方法，命名不随意\n",
    "        self.name = name\n",
    "        self.score = score\n",
    "        Student.studentcount += 1\n",
    "        \n",
    "    def print_score(self):\n",
    "        print(\"%s: %s\" % (self.name, self.score))\n",
    "\n",
    "Ming = Student('Ming Li', 98)\n",
    "Ding = Student('Ding Zhang', 91)\n",
    "print Ming.studentcount\n",
    "print Ding.studentcount\n",
    "print Ming.score\n",
    "print Student.studentcount #类变量为对象和类共有 \n",
    "print Student.score # 不存在"
   ]
  },
  {
   "cell_type": "markdown",
   "metadata": {},
   "source": [
    "#### 继承与方法重载"
   ]
  },
  {
   "cell_type": "code",
   "execution_count": 119,
   "metadata": {
    "collapsed": false
   },
   "outputs": [
    {
     "name": "stdout",
     "output_type": "stream",
     "text": [
      "3\n",
      "Lei Xu: 100, 23\n"
     ]
    }
   ],
   "source": [
    "class PhDStudent(Student):\n",
    "    \"\"\"PhDStudent, inherent from Student\"\"\"\n",
    "    def __init__(self, name, score, hindex): # __init__ method，初始化方法，命名不随意\n",
    "        self.name = name\n",
    "        self.score = score\n",
    "        self.hindex = hindex\n",
    "        Student.studentcount += 1\n",
    "    def print_score(self):\n",
    "        print(\"%s: %s, %s\" % (self.name, self.score, self.hindex))\n",
    "\n",
    "Lei = PhDStudent('Lei Xu', 100, 23)\n",
    "print Student.studentcount # 子类也会计入父类的count\n",
    "Lei.print_score()"
   ]
  },
  {
   "cell_type": "markdown",
   "metadata": {},
   "source": [
    "# 2.6 Python Library的使用"
   ]
  },
  {
   "cell_type": "markdown",
   "metadata": {},
   "source": [
    "#### 他山之石 可以攻玉。当你要编程实现一个功能的时候，第一应该想到的是google或者baidu已有的Module，而不是自己Start From Scratch. \n",
    "\n",
    "Anaconda包含了很多Module，大部分数据清理，建模，可视化，机器学习等功能都可以用已经包含在安装包里的模块\n",
    "\n",
    "numpy/scipy - 让你的python能和R或者Matlab一样有数组，矩阵以及各种特殊函数\n",
    "\n",
    "pandas - 表格dataframe\n",
    "\n",
    "sklearn - 大部分统计模型statistical learning\n",
    "\n",
    "pytorch, tensorflow - deep learning\n",
    "\n",
    "opencv2, skimage - 计算机视觉"
   ]
  },
  {
   "cell_type": "code",
   "execution_count": 120,
   "metadata": {
    "collapsed": false
   },
   "outputs": [
    {
     "data": {
      "application/javascript": [
       "/* Put everything inside the global mpl namespace */\n",
       "window.mpl = {};\n",
       "\n",
       "mpl.get_websocket_type = function() {\n",
       "    if (typeof(WebSocket) !== 'undefined') {\n",
       "        return WebSocket;\n",
       "    } else if (typeof(MozWebSocket) !== 'undefined') {\n",
       "        return MozWebSocket;\n",
       "    } else {\n",
       "        alert('Your browser does not have WebSocket support.' +\n",
       "              'Please try Chrome, Safari or Firefox ≥ 6. ' +\n",
       "              'Firefox 4 and 5 are also supported but you ' +\n",
       "              'have to enable WebSockets in about:config.');\n",
       "    };\n",
       "}\n",
       "\n",
       "mpl.figure = function(figure_id, websocket, ondownload, parent_element) {\n",
       "    this.id = figure_id;\n",
       "\n",
       "    this.ws = websocket;\n",
       "\n",
       "    this.supports_binary = (this.ws.binaryType != undefined);\n",
       "\n",
       "    if (!this.supports_binary) {\n",
       "        var warnings = document.getElementById(\"mpl-warnings\");\n",
       "        if (warnings) {\n",
       "            warnings.style.display = 'block';\n",
       "            warnings.textContent = (\n",
       "                \"This browser does not support binary websocket messages. \" +\n",
       "                    \"Performance may be slow.\");\n",
       "        }\n",
       "    }\n",
       "\n",
       "    this.imageObj = new Image();\n",
       "\n",
       "    this.context = undefined;\n",
       "    this.message = undefined;\n",
       "    this.canvas = undefined;\n",
       "    this.rubberband_canvas = undefined;\n",
       "    this.rubberband_context = undefined;\n",
       "    this.format_dropdown = undefined;\n",
       "\n",
       "    this.image_mode = 'full';\n",
       "\n",
       "    this.root = $('<div/>');\n",
       "    this._root_extra_style(this.root)\n",
       "    this.root.attr('style', 'display: inline-block');\n",
       "\n",
       "    $(parent_element).append(this.root);\n",
       "\n",
       "    this._init_header(this);\n",
       "    this._init_canvas(this);\n",
       "    this._init_toolbar(this);\n",
       "\n",
       "    var fig = this;\n",
       "\n",
       "    this.waiting = false;\n",
       "\n",
       "    this.ws.onopen =  function () {\n",
       "            fig.send_message(\"supports_binary\", {value: fig.supports_binary});\n",
       "            fig.send_message(\"send_image_mode\", {});\n",
       "            fig.send_message(\"refresh\", {});\n",
       "        }\n",
       "\n",
       "    this.imageObj.onload = function() {\n",
       "            if (fig.image_mode == 'full') {\n",
       "                // Full images could contain transparency (where diff images\n",
       "                // almost always do), so we need to clear the canvas so that\n",
       "                // there is no ghosting.\n",
       "                fig.context.clearRect(0, 0, fig.canvas.width, fig.canvas.height);\n",
       "            }\n",
       "            fig.context.drawImage(fig.imageObj, 0, 0);\n",
       "        };\n",
       "\n",
       "    this.imageObj.onunload = function() {\n",
       "        this.ws.close();\n",
       "    }\n",
       "\n",
       "    this.ws.onmessage = this._make_on_message_function(this);\n",
       "\n",
       "    this.ondownload = ondownload;\n",
       "}\n",
       "\n",
       "mpl.figure.prototype._init_header = function() {\n",
       "    var titlebar = $(\n",
       "        '<div class=\"ui-dialog-titlebar ui-widget-header ui-corner-all ' +\n",
       "        'ui-helper-clearfix\"/>');\n",
       "    var titletext = $(\n",
       "        '<div class=\"ui-dialog-title\" style=\"width: 100%; ' +\n",
       "        'text-align: center; padding: 3px;\"/>');\n",
       "    titlebar.append(titletext)\n",
       "    this.root.append(titlebar);\n",
       "    this.header = titletext[0];\n",
       "}\n",
       "\n",
       "\n",
       "\n",
       "mpl.figure.prototype._canvas_extra_style = function(canvas_div) {\n",
       "\n",
       "}\n",
       "\n",
       "\n",
       "mpl.figure.prototype._root_extra_style = function(canvas_div) {\n",
       "\n",
       "}\n",
       "\n",
       "mpl.figure.prototype._init_canvas = function() {\n",
       "    var fig = this;\n",
       "\n",
       "    var canvas_div = $('<div/>');\n",
       "\n",
       "    canvas_div.attr('style', 'position: relative; clear: both; outline: 0');\n",
       "\n",
       "    function canvas_keyboard_event(event) {\n",
       "        return fig.key_event(event, event['data']);\n",
       "    }\n",
       "\n",
       "    canvas_div.keydown('key_press', canvas_keyboard_event);\n",
       "    canvas_div.keyup('key_release', canvas_keyboard_event);\n",
       "    this.canvas_div = canvas_div\n",
       "    this._canvas_extra_style(canvas_div)\n",
       "    this.root.append(canvas_div);\n",
       "\n",
       "    var canvas = $('<canvas/>');\n",
       "    canvas.addClass('mpl-canvas');\n",
       "    canvas.attr('style', \"left: 0; top: 0; z-index: 0; outline: 0\")\n",
       "\n",
       "    this.canvas = canvas[0];\n",
       "    this.context = canvas[0].getContext(\"2d\");\n",
       "\n",
       "    var rubberband = $('<canvas/>');\n",
       "    rubberband.attr('style', \"position: absolute; left: 0; top: 0; z-index: 1;\")\n",
       "\n",
       "    var pass_mouse_events = true;\n",
       "\n",
       "    canvas_div.resizable({\n",
       "        start: function(event, ui) {\n",
       "            pass_mouse_events = false;\n",
       "        },\n",
       "        resize: function(event, ui) {\n",
       "            fig.request_resize(ui.size.width, ui.size.height);\n",
       "        },\n",
       "        stop: function(event, ui) {\n",
       "            pass_mouse_events = true;\n",
       "            fig.request_resize(ui.size.width, ui.size.height);\n",
       "        },\n",
       "    });\n",
       "\n",
       "    function mouse_event_fn(event) {\n",
       "        if (pass_mouse_events)\n",
       "            return fig.mouse_event(event, event['data']);\n",
       "    }\n",
       "\n",
       "    rubberband.mousedown('button_press', mouse_event_fn);\n",
       "    rubberband.mouseup('button_release', mouse_event_fn);\n",
       "    // Throttle sequential mouse events to 1 every 20ms.\n",
       "    rubberband.mousemove('motion_notify', mouse_event_fn);\n",
       "\n",
       "    rubberband.mouseenter('figure_enter', mouse_event_fn);\n",
       "    rubberband.mouseleave('figure_leave', mouse_event_fn);\n",
       "\n",
       "    canvas_div.on(\"wheel\", function (event) {\n",
       "        event = event.originalEvent;\n",
       "        event['data'] = 'scroll'\n",
       "        if (event.deltaY < 0) {\n",
       "            event.step = 1;\n",
       "        } else {\n",
       "            event.step = -1;\n",
       "        }\n",
       "        mouse_event_fn(event);\n",
       "    });\n",
       "\n",
       "    canvas_div.append(canvas);\n",
       "    canvas_div.append(rubberband);\n",
       "\n",
       "    this.rubberband = rubberband;\n",
       "    this.rubberband_canvas = rubberband[0];\n",
       "    this.rubberband_context = rubberband[0].getContext(\"2d\");\n",
       "    this.rubberband_context.strokeStyle = \"#000000\";\n",
       "\n",
       "    this._resize_canvas = function(width, height) {\n",
       "        // Keep the size of the canvas, canvas container, and rubber band\n",
       "        // canvas in synch.\n",
       "        canvas_div.css('width', width)\n",
       "        canvas_div.css('height', height)\n",
       "\n",
       "        canvas.attr('width', width);\n",
       "        canvas.attr('height', height);\n",
       "\n",
       "        rubberband.attr('width', width);\n",
       "        rubberband.attr('height', height);\n",
       "    }\n",
       "\n",
       "    // Set the figure to an initial 600x600px, this will subsequently be updated\n",
       "    // upon first draw.\n",
       "    this._resize_canvas(600, 600);\n",
       "\n",
       "    // Disable right mouse context menu.\n",
       "    $(this.rubberband_canvas).bind(\"contextmenu\",function(e){\n",
       "        return false;\n",
       "    });\n",
       "\n",
       "    function set_focus () {\n",
       "        canvas.focus();\n",
       "        canvas_div.focus();\n",
       "    }\n",
       "\n",
       "    window.setTimeout(set_focus, 100);\n",
       "}\n",
       "\n",
       "mpl.figure.prototype._init_toolbar = function() {\n",
       "    var fig = this;\n",
       "\n",
       "    var nav_element = $('<div/>')\n",
       "    nav_element.attr('style', 'width: 100%');\n",
       "    this.root.append(nav_element);\n",
       "\n",
       "    // Define a callback function for later on.\n",
       "    function toolbar_event(event) {\n",
       "        return fig.toolbar_button_onclick(event['data']);\n",
       "    }\n",
       "    function toolbar_mouse_event(event) {\n",
       "        return fig.toolbar_button_onmouseover(event['data']);\n",
       "    }\n",
       "\n",
       "    for(var toolbar_ind in mpl.toolbar_items) {\n",
       "        var name = mpl.toolbar_items[toolbar_ind][0];\n",
       "        var tooltip = mpl.toolbar_items[toolbar_ind][1];\n",
       "        var image = mpl.toolbar_items[toolbar_ind][2];\n",
       "        var method_name = mpl.toolbar_items[toolbar_ind][3];\n",
       "\n",
       "        if (!name) {\n",
       "            // put a spacer in here.\n",
       "            continue;\n",
       "        }\n",
       "        var button = $('<button/>');\n",
       "        button.addClass('ui-button ui-widget ui-state-default ui-corner-all ' +\n",
       "                        'ui-button-icon-only');\n",
       "        button.attr('role', 'button');\n",
       "        button.attr('aria-disabled', 'false');\n",
       "        button.click(method_name, toolbar_event);\n",
       "        button.mouseover(tooltip, toolbar_mouse_event);\n",
       "\n",
       "        var icon_img = $('<span/>');\n",
       "        icon_img.addClass('ui-button-icon-primary ui-icon');\n",
       "        icon_img.addClass(image);\n",
       "        icon_img.addClass('ui-corner-all');\n",
       "\n",
       "        var tooltip_span = $('<span/>');\n",
       "        tooltip_span.addClass('ui-button-text');\n",
       "        tooltip_span.html(tooltip);\n",
       "\n",
       "        button.append(icon_img);\n",
       "        button.append(tooltip_span);\n",
       "\n",
       "        nav_element.append(button);\n",
       "    }\n",
       "\n",
       "    var fmt_picker_span = $('<span/>');\n",
       "\n",
       "    var fmt_picker = $('<select/>');\n",
       "    fmt_picker.addClass('mpl-toolbar-option ui-widget ui-widget-content');\n",
       "    fmt_picker_span.append(fmt_picker);\n",
       "    nav_element.append(fmt_picker_span);\n",
       "    this.format_dropdown = fmt_picker[0];\n",
       "\n",
       "    for (var ind in mpl.extensions) {\n",
       "        var fmt = mpl.extensions[ind];\n",
       "        var option = $(\n",
       "            '<option/>', {selected: fmt === mpl.default_extension}).html(fmt);\n",
       "        fmt_picker.append(option)\n",
       "    }\n",
       "\n",
       "    // Add hover states to the ui-buttons\n",
       "    $( \".ui-button\" ).hover(\n",
       "        function() { $(this).addClass(\"ui-state-hover\");},\n",
       "        function() { $(this).removeClass(\"ui-state-hover\");}\n",
       "    );\n",
       "\n",
       "    var status_bar = $('<span class=\"mpl-message\"/>');\n",
       "    nav_element.append(status_bar);\n",
       "    this.message = status_bar[0];\n",
       "}\n",
       "\n",
       "mpl.figure.prototype.request_resize = function(x_pixels, y_pixels) {\n",
       "    // Request matplotlib to resize the figure. Matplotlib will then trigger a resize in the client,\n",
       "    // which will in turn request a refresh of the image.\n",
       "    this.send_message('resize', {'width': x_pixels, 'height': y_pixels});\n",
       "}\n",
       "\n",
       "mpl.figure.prototype.send_message = function(type, properties) {\n",
       "    properties['type'] = type;\n",
       "    properties['figure_id'] = this.id;\n",
       "    this.ws.send(JSON.stringify(properties));\n",
       "}\n",
       "\n",
       "mpl.figure.prototype.send_draw_message = function() {\n",
       "    if (!this.waiting) {\n",
       "        this.waiting = true;\n",
       "        this.ws.send(JSON.stringify({type: \"draw\", figure_id: this.id}));\n",
       "    }\n",
       "}\n",
       "\n",
       "\n",
       "mpl.figure.prototype.handle_save = function(fig, msg) {\n",
       "    var format_dropdown = fig.format_dropdown;\n",
       "    var format = format_dropdown.options[format_dropdown.selectedIndex].value;\n",
       "    fig.ondownload(fig, format);\n",
       "}\n",
       "\n",
       "\n",
       "mpl.figure.prototype.handle_resize = function(fig, msg) {\n",
       "    var size = msg['size'];\n",
       "    if (size[0] != fig.canvas.width || size[1] != fig.canvas.height) {\n",
       "        fig._resize_canvas(size[0], size[1]);\n",
       "        fig.send_message(\"refresh\", {});\n",
       "    };\n",
       "}\n",
       "\n",
       "mpl.figure.prototype.handle_rubberband = function(fig, msg) {\n",
       "    var x0 = msg['x0'];\n",
       "    var y0 = fig.canvas.height - msg['y0'];\n",
       "    var x1 = msg['x1'];\n",
       "    var y1 = fig.canvas.height - msg['y1'];\n",
       "    x0 = Math.floor(x0) + 0.5;\n",
       "    y0 = Math.floor(y0) + 0.5;\n",
       "    x1 = Math.floor(x1) + 0.5;\n",
       "    y1 = Math.floor(y1) + 0.5;\n",
       "    var min_x = Math.min(x0, x1);\n",
       "    var min_y = Math.min(y0, y1);\n",
       "    var width = Math.abs(x1 - x0);\n",
       "    var height = Math.abs(y1 - y0);\n",
       "\n",
       "    fig.rubberband_context.clearRect(\n",
       "        0, 0, fig.canvas.width, fig.canvas.height);\n",
       "\n",
       "    fig.rubberband_context.strokeRect(min_x, min_y, width, height);\n",
       "}\n",
       "\n",
       "mpl.figure.prototype.handle_figure_label = function(fig, msg) {\n",
       "    // Updates the figure title.\n",
       "    fig.header.textContent = msg['label'];\n",
       "}\n",
       "\n",
       "mpl.figure.prototype.handle_cursor = function(fig, msg) {\n",
       "    var cursor = msg['cursor'];\n",
       "    switch(cursor)\n",
       "    {\n",
       "    case 0:\n",
       "        cursor = 'pointer';\n",
       "        break;\n",
       "    case 1:\n",
       "        cursor = 'default';\n",
       "        break;\n",
       "    case 2:\n",
       "        cursor = 'crosshair';\n",
       "        break;\n",
       "    case 3:\n",
       "        cursor = 'move';\n",
       "        break;\n",
       "    }\n",
       "    fig.rubberband_canvas.style.cursor = cursor;\n",
       "}\n",
       "\n",
       "mpl.figure.prototype.handle_message = function(fig, msg) {\n",
       "    fig.message.textContent = msg['message'];\n",
       "}\n",
       "\n",
       "mpl.figure.prototype.handle_draw = function(fig, msg) {\n",
       "    // Request the server to send over a new figure.\n",
       "    fig.send_draw_message();\n",
       "}\n",
       "\n",
       "mpl.figure.prototype.handle_image_mode = function(fig, msg) {\n",
       "    fig.image_mode = msg['mode'];\n",
       "}\n",
       "\n",
       "mpl.figure.prototype.updated_canvas_event = function() {\n",
       "    // Called whenever the canvas gets updated.\n",
       "    this.send_message(\"ack\", {});\n",
       "}\n",
       "\n",
       "// A function to construct a web socket function for onmessage handling.\n",
       "// Called in the figure constructor.\n",
       "mpl.figure.prototype._make_on_message_function = function(fig) {\n",
       "    return function socket_on_message(evt) {\n",
       "        if (evt.data instanceof Blob) {\n",
       "            /* FIXME: We get \"Resource interpreted as Image but\n",
       "             * transferred with MIME type text/plain:\" errors on\n",
       "             * Chrome.  But how to set the MIME type?  It doesn't seem\n",
       "             * to be part of the websocket stream */\n",
       "            evt.data.type = \"image/png\";\n",
       "\n",
       "            /* Free the memory for the previous frames */\n",
       "            if (fig.imageObj.src) {\n",
       "                (window.URL || window.webkitURL).revokeObjectURL(\n",
       "                    fig.imageObj.src);\n",
       "            }\n",
       "\n",
       "            fig.imageObj.src = (window.URL || window.webkitURL).createObjectURL(\n",
       "                evt.data);\n",
       "            fig.updated_canvas_event();\n",
       "            fig.waiting = false;\n",
       "            return;\n",
       "        }\n",
       "        else if (typeof evt.data === 'string' && evt.data.slice(0, 21) == \"data:image/png;base64\") {\n",
       "            fig.imageObj.src = evt.data;\n",
       "            fig.updated_canvas_event();\n",
       "            fig.waiting = false;\n",
       "            return;\n",
       "        }\n",
       "\n",
       "        var msg = JSON.parse(evt.data);\n",
       "        var msg_type = msg['type'];\n",
       "\n",
       "        // Call the  \"handle_{type}\" callback, which takes\n",
       "        // the figure and JSON message as its only arguments.\n",
       "        try {\n",
       "            var callback = fig[\"handle_\" + msg_type];\n",
       "        } catch (e) {\n",
       "            console.log(\"No handler for the '\" + msg_type + \"' message type: \", msg);\n",
       "            return;\n",
       "        }\n",
       "\n",
       "        if (callback) {\n",
       "            try {\n",
       "                // console.log(\"Handling '\" + msg_type + \"' message: \", msg);\n",
       "                callback(fig, msg);\n",
       "            } catch (e) {\n",
       "                console.log(\"Exception inside the 'handler_\" + msg_type + \"' callback:\", e, e.stack, msg);\n",
       "            }\n",
       "        }\n",
       "    };\n",
       "}\n",
       "\n",
       "// from http://stackoverflow.com/questions/1114465/getting-mouse-location-in-canvas\n",
       "mpl.findpos = function(e) {\n",
       "    //this section is from http://www.quirksmode.org/js/events_properties.html\n",
       "    var targ;\n",
       "    if (!e)\n",
       "        e = window.event;\n",
       "    if (e.target)\n",
       "        targ = e.target;\n",
       "    else if (e.srcElement)\n",
       "        targ = e.srcElement;\n",
       "    if (targ.nodeType == 3) // defeat Safari bug\n",
       "        targ = targ.parentNode;\n",
       "\n",
       "    // jQuery normalizes the pageX and pageY\n",
       "    // pageX,Y are the mouse positions relative to the document\n",
       "    // offset() returns the position of the element relative to the document\n",
       "    var x = e.pageX - $(targ).offset().left;\n",
       "    var y = e.pageY - $(targ).offset().top;\n",
       "\n",
       "    return {\"x\": x, \"y\": y};\n",
       "};\n",
       "\n",
       "/*\n",
       " * return a copy of an object with only non-object keys\n",
       " * we need this to avoid circular references\n",
       " * http://stackoverflow.com/a/24161582/3208463\n",
       " */\n",
       "function simpleKeys (original) {\n",
       "  return Object.keys(original).reduce(function (obj, key) {\n",
       "    if (typeof original[key] !== 'object')\n",
       "        obj[key] = original[key]\n",
       "    return obj;\n",
       "  }, {});\n",
       "}\n",
       "\n",
       "mpl.figure.prototype.mouse_event = function(event, name) {\n",
       "    var canvas_pos = mpl.findpos(event)\n",
       "\n",
       "    if (name === 'button_press')\n",
       "    {\n",
       "        this.canvas.focus();\n",
       "        this.canvas_div.focus();\n",
       "    }\n",
       "\n",
       "    var x = canvas_pos.x;\n",
       "    var y = canvas_pos.y;\n",
       "\n",
       "    this.send_message(name, {x: x, y: y, button: event.button,\n",
       "                             step: event.step,\n",
       "                             guiEvent: simpleKeys(event)});\n",
       "\n",
       "    /* This prevents the web browser from automatically changing to\n",
       "     * the text insertion cursor when the button is pressed.  We want\n",
       "     * to control all of the cursor setting manually through the\n",
       "     * 'cursor' event from matplotlib */\n",
       "    event.preventDefault();\n",
       "    return false;\n",
       "}\n",
       "\n",
       "mpl.figure.prototype._key_event_extra = function(event, name) {\n",
       "    // Handle any extra behaviour associated with a key event\n",
       "}\n",
       "\n",
       "mpl.figure.prototype.key_event = function(event, name) {\n",
       "\n",
       "    // Prevent repeat events\n",
       "    if (name == 'key_press')\n",
       "    {\n",
       "        if (event.which === this._key)\n",
       "            return;\n",
       "        else\n",
       "            this._key = event.which;\n",
       "    }\n",
       "    if (name == 'key_release')\n",
       "        this._key = null;\n",
       "\n",
       "    var value = '';\n",
       "    if (event.ctrlKey && event.which != 17)\n",
       "        value += \"ctrl+\";\n",
       "    if (event.altKey && event.which != 18)\n",
       "        value += \"alt+\";\n",
       "    if (event.shiftKey && event.which != 16)\n",
       "        value += \"shift+\";\n",
       "\n",
       "    value += 'k';\n",
       "    value += event.which.toString();\n",
       "\n",
       "    this._key_event_extra(event, name);\n",
       "\n",
       "    this.send_message(name, {key: value,\n",
       "                             guiEvent: simpleKeys(event)});\n",
       "    return false;\n",
       "}\n",
       "\n",
       "mpl.figure.prototype.toolbar_button_onclick = function(name) {\n",
       "    if (name == 'download') {\n",
       "        this.handle_save(this, null);\n",
       "    } else {\n",
       "        this.send_message(\"toolbar_button\", {name: name});\n",
       "    }\n",
       "};\n",
       "\n",
       "mpl.figure.prototype.toolbar_button_onmouseover = function(tooltip) {\n",
       "    this.message.textContent = tooltip;\n",
       "};\n",
       "mpl.toolbar_items = [[\"Home\", \"Reset original view\", \"fa fa-home icon-home\", \"home\"], [\"Back\", \"Back to  previous view\", \"fa fa-arrow-left icon-arrow-left\", \"back\"], [\"Forward\", \"Forward to next view\", \"fa fa-arrow-right icon-arrow-right\", \"forward\"], [\"\", \"\", \"\", \"\"], [\"Pan\", \"Pan axes with left mouse, zoom with right\", \"fa fa-arrows icon-move\", \"pan\"], [\"Zoom\", \"Zoom to rectangle\", \"fa fa-square-o icon-check-empty\", \"zoom\"], [\"\", \"\", \"\", \"\"], [\"Download\", \"Download plot\", \"fa fa-floppy-o icon-save\", \"download\"]];\n",
       "\n",
       "mpl.extensions = [\"eps\", \"jpeg\", \"pdf\", \"png\", \"ps\", \"raw\", \"svg\", \"tif\"];\n",
       "\n",
       "mpl.default_extension = \"png\";var comm_websocket_adapter = function(comm) {\n",
       "    // Create a \"websocket\"-like object which calls the given IPython comm\n",
       "    // object with the appropriate methods. Currently this is a non binary\n",
       "    // socket, so there is still some room for performance tuning.\n",
       "    var ws = {};\n",
       "\n",
       "    ws.close = function() {\n",
       "        comm.close()\n",
       "    };\n",
       "    ws.send = function(m) {\n",
       "        //console.log('sending', m);\n",
       "        comm.send(m);\n",
       "    };\n",
       "    // Register the callback with on_msg.\n",
       "    comm.on_msg(function(msg) {\n",
       "        //console.log('receiving', msg['content']['data'], msg);\n",
       "        // Pass the mpl event to the overriden (by mpl) onmessage function.\n",
       "        ws.onmessage(msg['content']['data'])\n",
       "    });\n",
       "    return ws;\n",
       "}\n",
       "\n",
       "mpl.mpl_figure_comm = function(comm, msg) {\n",
       "    // This is the function which gets called when the mpl process\n",
       "    // starts-up an IPython Comm through the \"matplotlib\" channel.\n",
       "\n",
       "    var id = msg.content.data.id;\n",
       "    // Get hold of the div created by the display call when the Comm\n",
       "    // socket was opened in Python.\n",
       "    var element = $(\"#\" + id);\n",
       "    var ws_proxy = comm_websocket_adapter(comm)\n",
       "\n",
       "    function ondownload(figure, format) {\n",
       "        window.open(figure.imageObj.src);\n",
       "    }\n",
       "\n",
       "    var fig = new mpl.figure(id, ws_proxy,\n",
       "                           ondownload,\n",
       "                           element.get(0));\n",
       "\n",
       "    // Call onopen now - mpl needs it, as it is assuming we've passed it a real\n",
       "    // web socket which is closed, not our websocket->open comm proxy.\n",
       "    ws_proxy.onopen();\n",
       "\n",
       "    fig.parent_element = element.get(0);\n",
       "    fig.cell_info = mpl.find_output_cell(\"<div id='\" + id + \"'></div>\");\n",
       "    if (!fig.cell_info) {\n",
       "        console.error(\"Failed to find cell for figure\", id, fig);\n",
       "        return;\n",
       "    }\n",
       "\n",
       "    var output_index = fig.cell_info[2]\n",
       "    var cell = fig.cell_info[0];\n",
       "\n",
       "};\n",
       "\n",
       "mpl.figure.prototype.handle_close = function(fig, msg) {\n",
       "    fig.root.unbind('remove')\n",
       "\n",
       "    // Update the output cell to use the data from the current canvas.\n",
       "    fig.push_to_output();\n",
       "    var dataURL = fig.canvas.toDataURL();\n",
       "    // Re-enable the keyboard manager in IPython - without this line, in FF,\n",
       "    // the notebook keyboard shortcuts fail.\n",
       "    IPython.keyboard_manager.enable()\n",
       "    $(fig.parent_element).html('<img src=\"' + dataURL + '\">');\n",
       "    fig.close_ws(fig, msg);\n",
       "}\n",
       "\n",
       "mpl.figure.prototype.close_ws = function(fig, msg){\n",
       "    fig.send_message('closing', msg);\n",
       "    // fig.ws.close()\n",
       "}\n",
       "\n",
       "mpl.figure.prototype.push_to_output = function(remove_interactive) {\n",
       "    // Turn the data on the canvas into data in the output cell.\n",
       "    var dataURL = this.canvas.toDataURL();\n",
       "    this.cell_info[1]['text/html'] = '<img src=\"' + dataURL + '\">';\n",
       "}\n",
       "\n",
       "mpl.figure.prototype.updated_canvas_event = function() {\n",
       "    // Tell IPython that the notebook contents must change.\n",
       "    IPython.notebook.set_dirty(true);\n",
       "    this.send_message(\"ack\", {});\n",
       "    var fig = this;\n",
       "    // Wait a second, then push the new image to the DOM so\n",
       "    // that it is saved nicely (might be nice to debounce this).\n",
       "    setTimeout(function () { fig.push_to_output() }, 1000);\n",
       "}\n",
       "\n",
       "mpl.figure.prototype._init_toolbar = function() {\n",
       "    var fig = this;\n",
       "\n",
       "    var nav_element = $('<div/>')\n",
       "    nav_element.attr('style', 'width: 100%');\n",
       "    this.root.append(nav_element);\n",
       "\n",
       "    // Define a callback function for later on.\n",
       "    function toolbar_event(event) {\n",
       "        return fig.toolbar_button_onclick(event['data']);\n",
       "    }\n",
       "    function toolbar_mouse_event(event) {\n",
       "        return fig.toolbar_button_onmouseover(event['data']);\n",
       "    }\n",
       "\n",
       "    for(var toolbar_ind in mpl.toolbar_items){\n",
       "        var name = mpl.toolbar_items[toolbar_ind][0];\n",
       "        var tooltip = mpl.toolbar_items[toolbar_ind][1];\n",
       "        var image = mpl.toolbar_items[toolbar_ind][2];\n",
       "        var method_name = mpl.toolbar_items[toolbar_ind][3];\n",
       "\n",
       "        if (!name) { continue; };\n",
       "\n",
       "        var button = $('<button class=\"btn btn-default\" href=\"#\" title=\"' + name + '\"><i class=\"fa ' + image + ' fa-lg\"></i></button>');\n",
       "        button.click(method_name, toolbar_event);\n",
       "        button.mouseover(tooltip, toolbar_mouse_event);\n",
       "        nav_element.append(button);\n",
       "    }\n",
       "\n",
       "    // Add the status bar.\n",
       "    var status_bar = $('<span class=\"mpl-message\" style=\"text-align:right; float: right;\"/>');\n",
       "    nav_element.append(status_bar);\n",
       "    this.message = status_bar[0];\n",
       "\n",
       "    // Add the close button to the window.\n",
       "    var buttongrp = $('<div class=\"btn-group inline pull-right\"></div>');\n",
       "    var button = $('<button class=\"btn btn-mini btn-primary\" href=\"#\" title=\"Stop Interaction\"><i class=\"fa fa-power-off icon-remove icon-large\"></i></button>');\n",
       "    button.click(function (evt) { fig.handle_close(fig, {}); } );\n",
       "    button.mouseover('Stop Interaction', toolbar_mouse_event);\n",
       "    buttongrp.append(button);\n",
       "    var titlebar = this.root.find($('.ui-dialog-titlebar'));\n",
       "    titlebar.prepend(buttongrp);\n",
       "}\n",
       "\n",
       "mpl.figure.prototype._root_extra_style = function(el){\n",
       "    var fig = this\n",
       "    el.on(\"remove\", function(){\n",
       "\tfig.close_ws(fig, {});\n",
       "    });\n",
       "}\n",
       "\n",
       "mpl.figure.prototype._canvas_extra_style = function(el){\n",
       "    // this is important to make the div 'focusable\n",
       "    el.attr('tabindex', 0)\n",
       "    // reach out to IPython and tell the keyboard manager to turn it's self\n",
       "    // off when our div gets focus\n",
       "\n",
       "    // location in version 3\n",
       "    if (IPython.notebook.keyboard_manager) {\n",
       "        IPython.notebook.keyboard_manager.register_events(el);\n",
       "    }\n",
       "    else {\n",
       "        // location in version 2\n",
       "        IPython.keyboard_manager.register_events(el);\n",
       "    }\n",
       "\n",
       "}\n",
       "\n",
       "mpl.figure.prototype._key_event_extra = function(event, name) {\n",
       "    var manager = IPython.notebook.keyboard_manager;\n",
       "    if (!manager)\n",
       "        manager = IPython.keyboard_manager;\n",
       "\n",
       "    // Check for shift+enter\n",
       "    if (event.shiftKey && event.which == 13) {\n",
       "        this.canvas_div.blur();\n",
       "        event.shiftKey = false;\n",
       "        // Send a \"J\" for go to next cell\n",
       "        event.which = 74;\n",
       "        event.keyCode = 74;\n",
       "        manager.command_mode();\n",
       "        manager.handle_keydown(event);\n",
       "    }\n",
       "}\n",
       "\n",
       "mpl.figure.prototype.handle_save = function(fig, msg) {\n",
       "    fig.ondownload(fig, null);\n",
       "}\n",
       "\n",
       "\n",
       "mpl.find_output_cell = function(html_output) {\n",
       "    // Return the cell and output element which can be found *uniquely* in the notebook.\n",
       "    // Note - this is a bit hacky, but it is done because the \"notebook_saving.Notebook\"\n",
       "    // IPython event is triggered only after the cells have been serialised, which for\n",
       "    // our purposes (turning an active figure into a static one), is too late.\n",
       "    var cells = IPython.notebook.get_cells();\n",
       "    var ncells = cells.length;\n",
       "    for (var i=0; i<ncells; i++) {\n",
       "        var cell = cells[i];\n",
       "        if (cell.cell_type === 'code'){\n",
       "            for (var j=0; j<cell.output_area.outputs.length; j++) {\n",
       "                var data = cell.output_area.outputs[j];\n",
       "                if (data.data) {\n",
       "                    // IPython >= 3 moved mimebundle to data attribute of output\n",
       "                    data = data.data;\n",
       "                }\n",
       "                if (data['text/html'] == html_output) {\n",
       "                    return [cell, data, j];\n",
       "                }\n",
       "            }\n",
       "        }\n",
       "    }\n",
       "}\n",
       "\n",
       "// Register the function which deals with the matplotlib target/channel.\n",
       "// The kernel may be null if the page has been refreshed.\n",
       "if (IPython.notebook.kernel != null) {\n",
       "    IPython.notebook.kernel.comm_manager.register_target('matplotlib', mpl.mpl_figure_comm);\n",
       "}\n"
      ],
      "text/plain": [
       "<IPython.core.display.Javascript object>"
      ]
     },
     "metadata": {},
     "output_type": "display_data"
    },
    {
     "data": {
      "text/html": [
       "<img src=\"data:image/png;base64,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\">"
      ],
      "text/plain": [
       "<IPython.core.display.HTML object>"
      ]
     },
     "metadata": {},
     "output_type": "display_data"
    }
   ],
   "source": [
    "import matplotlib.pyplot as plt # import绘图包\n",
    "# interactive in notebook\n",
    "%matplotlib notebook \n",
    "plt.plot([1,2,3,4])\n",
    "plt.ylabel('some numbers')\n",
    "plt.show()"
   ]
  },
  {
   "cell_type": "markdown",
   "metadata": {},
   "source": [
    "#### 需要的功能Anaconda没有包括，let us google and install"
   ]
  },
  {
   "cell_type": "code",
   "execution_count": 121,
   "metadata": {
    "collapsed": false
   },
   "outputs": [
    {
     "name": "stdout",
     "output_type": "stream",
     "text": [
      "Requirement already satisfied: wordcloud in c:\\anaconda3\\envs\\python2\\lib\\site-packages\n",
      "Requirement already satisfied: numpy>=1.6.1 in c:\\anaconda3\\envs\\python2\\lib\\site-packages (from wordcloud)\n",
      "Requirement already satisfied: matplotlib in c:\\anaconda3\\envs\\python2\\lib\\site-packages (from wordcloud)\n",
      "Requirement already satisfied: pillow in c:\\anaconda3\\envs\\python2\\lib\\site-packages (from wordcloud)\n",
      "Requirement already satisfied: python-dateutil in c:\\anaconda3\\envs\\python2\\lib\\site-packages (from matplotlib->wordcloud)\n",
      "Requirement already satisfied: pytz in c:\\anaconda3\\envs\\python2\\lib\\site-packages (from matplotlib->wordcloud)\n",
      "Requirement already satisfied: cycler in c:\\anaconda3\\envs\\python2\\lib\\site-packages (from matplotlib->wordcloud)\n",
      "Requirement already satisfied: pyparsing!=2.0.4,>=1.5.6 in c:\\anaconda3\\envs\\python2\\lib\\site-packages (from matplotlib->wordcloud)\n",
      "Requirement already satisfied: six>=1.5 in c:\\anaconda3\\envs\\python2\\lib\\site-packages (from python-dateutil->matplotlib->wordcloud)\n"
     ]
    }
   ],
   "source": [
    "!pip install wordcloud"
   ]
  },
  {
   "cell_type": "code",
   "execution_count": 122,
   "metadata": {
    "collapsed": false
   },
   "outputs": [
    {
     "data": {
      "application/javascript": [
       "/* Put everything inside the global mpl namespace */\n",
       "window.mpl = {};\n",
       "\n",
       "mpl.get_websocket_type = function() {\n",
       "    if (typeof(WebSocket) !== 'undefined') {\n",
       "        return WebSocket;\n",
       "    } else if (typeof(MozWebSocket) !== 'undefined') {\n",
       "        return MozWebSocket;\n",
       "    } else {\n",
       "        alert('Your browser does not have WebSocket support.' +\n",
       "              'Please try Chrome, Safari or Firefox ≥ 6. ' +\n",
       "              'Firefox 4 and 5 are also supported but you ' +\n",
       "              'have to enable WebSockets in about:config.');\n",
       "    };\n",
       "}\n",
       "\n",
       "mpl.figure = function(figure_id, websocket, ondownload, parent_element) {\n",
       "    this.id = figure_id;\n",
       "\n",
       "    this.ws = websocket;\n",
       "\n",
       "    this.supports_binary = (this.ws.binaryType != undefined);\n",
       "\n",
       "    if (!this.supports_binary) {\n",
       "        var warnings = document.getElementById(\"mpl-warnings\");\n",
       "        if (warnings) {\n",
       "            warnings.style.display = 'block';\n",
       "            warnings.textContent = (\n",
       "                \"This browser does not support binary websocket messages. \" +\n",
       "                    \"Performance may be slow.\");\n",
       "        }\n",
       "    }\n",
       "\n",
       "    this.imageObj = new Image();\n",
       "\n",
       "    this.context = undefined;\n",
       "    this.message = undefined;\n",
       "    this.canvas = undefined;\n",
       "    this.rubberband_canvas = undefined;\n",
       "    this.rubberband_context = undefined;\n",
       "    this.format_dropdown = undefined;\n",
       "\n",
       "    this.image_mode = 'full';\n",
       "\n",
       "    this.root = $('<div/>');\n",
       "    this._root_extra_style(this.root)\n",
       "    this.root.attr('style', 'display: inline-block');\n",
       "\n",
       "    $(parent_element).append(this.root);\n",
       "\n",
       "    this._init_header(this);\n",
       "    this._init_canvas(this);\n",
       "    this._init_toolbar(this);\n",
       "\n",
       "    var fig = this;\n",
       "\n",
       "    this.waiting = false;\n",
       "\n",
       "    this.ws.onopen =  function () {\n",
       "            fig.send_message(\"supports_binary\", {value: fig.supports_binary});\n",
       "            fig.send_message(\"send_image_mode\", {});\n",
       "            fig.send_message(\"refresh\", {});\n",
       "        }\n",
       "\n",
       "    this.imageObj.onload = function() {\n",
       "            if (fig.image_mode == 'full') {\n",
       "                // Full images could contain transparency (where diff images\n",
       "                // almost always do), so we need to clear the canvas so that\n",
       "                // there is no ghosting.\n",
       "                fig.context.clearRect(0, 0, fig.canvas.width, fig.canvas.height);\n",
       "            }\n",
       "            fig.context.drawImage(fig.imageObj, 0, 0);\n",
       "        };\n",
       "\n",
       "    this.imageObj.onunload = function() {\n",
       "        this.ws.close();\n",
       "    }\n",
       "\n",
       "    this.ws.onmessage = this._make_on_message_function(this);\n",
       "\n",
       "    this.ondownload = ondownload;\n",
       "}\n",
       "\n",
       "mpl.figure.prototype._init_header = function() {\n",
       "    var titlebar = $(\n",
       "        '<div class=\"ui-dialog-titlebar ui-widget-header ui-corner-all ' +\n",
       "        'ui-helper-clearfix\"/>');\n",
       "    var titletext = $(\n",
       "        '<div class=\"ui-dialog-title\" style=\"width: 100%; ' +\n",
       "        'text-align: center; padding: 3px;\"/>');\n",
       "    titlebar.append(titletext)\n",
       "    this.root.append(titlebar);\n",
       "    this.header = titletext[0];\n",
       "}\n",
       "\n",
       "\n",
       "\n",
       "mpl.figure.prototype._canvas_extra_style = function(canvas_div) {\n",
       "\n",
       "}\n",
       "\n",
       "\n",
       "mpl.figure.prototype._root_extra_style = function(canvas_div) {\n",
       "\n",
       "}\n",
       "\n",
       "mpl.figure.prototype._init_canvas = function() {\n",
       "    var fig = this;\n",
       "\n",
       "    var canvas_div = $('<div/>');\n",
       "\n",
       "    canvas_div.attr('style', 'position: relative; clear: both; outline: 0');\n",
       "\n",
       "    function canvas_keyboard_event(event) {\n",
       "        return fig.key_event(event, event['data']);\n",
       "    }\n",
       "\n",
       "    canvas_div.keydown('key_press', canvas_keyboard_event);\n",
       "    canvas_div.keyup('key_release', canvas_keyboard_event);\n",
       "    this.canvas_div = canvas_div\n",
       "    this._canvas_extra_style(canvas_div)\n",
       "    this.root.append(canvas_div);\n",
       "\n",
       "    var canvas = $('<canvas/>');\n",
       "    canvas.addClass('mpl-canvas');\n",
       "    canvas.attr('style', \"left: 0; top: 0; z-index: 0; outline: 0\")\n",
       "\n",
       "    this.canvas = canvas[0];\n",
       "    this.context = canvas[0].getContext(\"2d\");\n",
       "\n",
       "    var rubberband = $('<canvas/>');\n",
       "    rubberband.attr('style', \"position: absolute; left: 0; top: 0; z-index: 1;\")\n",
       "\n",
       "    var pass_mouse_events = true;\n",
       "\n",
       "    canvas_div.resizable({\n",
       "        start: function(event, ui) {\n",
       "            pass_mouse_events = false;\n",
       "        },\n",
       "        resize: function(event, ui) {\n",
       "            fig.request_resize(ui.size.width, ui.size.height);\n",
       "        },\n",
       "        stop: function(event, ui) {\n",
       "            pass_mouse_events = true;\n",
       "            fig.request_resize(ui.size.width, ui.size.height);\n",
       "        },\n",
       "    });\n",
       "\n",
       "    function mouse_event_fn(event) {\n",
       "        if (pass_mouse_events)\n",
       "            return fig.mouse_event(event, event['data']);\n",
       "    }\n",
       "\n",
       "    rubberband.mousedown('button_press', mouse_event_fn);\n",
       "    rubberband.mouseup('button_release', mouse_event_fn);\n",
       "    // Throttle sequential mouse events to 1 every 20ms.\n",
       "    rubberband.mousemove('motion_notify', mouse_event_fn);\n",
       "\n",
       "    rubberband.mouseenter('figure_enter', mouse_event_fn);\n",
       "    rubberband.mouseleave('figure_leave', mouse_event_fn);\n",
       "\n",
       "    canvas_div.on(\"wheel\", function (event) {\n",
       "        event = event.originalEvent;\n",
       "        event['data'] = 'scroll'\n",
       "        if (event.deltaY < 0) {\n",
       "            event.step = 1;\n",
       "        } else {\n",
       "            event.step = -1;\n",
       "        }\n",
       "        mouse_event_fn(event);\n",
       "    });\n",
       "\n",
       "    canvas_div.append(canvas);\n",
       "    canvas_div.append(rubberband);\n",
       "\n",
       "    this.rubberband = rubberband;\n",
       "    this.rubberband_canvas = rubberband[0];\n",
       "    this.rubberband_context = rubberband[0].getContext(\"2d\");\n",
       "    this.rubberband_context.strokeStyle = \"#000000\";\n",
       "\n",
       "    this._resize_canvas = function(width, height) {\n",
       "        // Keep the size of the canvas, canvas container, and rubber band\n",
       "        // canvas in synch.\n",
       "        canvas_div.css('width', width)\n",
       "        canvas_div.css('height', height)\n",
       "\n",
       "        canvas.attr('width', width);\n",
       "        canvas.attr('height', height);\n",
       "\n",
       "        rubberband.attr('width', width);\n",
       "        rubberband.attr('height', height);\n",
       "    }\n",
       "\n",
       "    // Set the figure to an initial 600x600px, this will subsequently be updated\n",
       "    // upon first draw.\n",
       "    this._resize_canvas(600, 600);\n",
       "\n",
       "    // Disable right mouse context menu.\n",
       "    $(this.rubberband_canvas).bind(\"contextmenu\",function(e){\n",
       "        return false;\n",
       "    });\n",
       "\n",
       "    function set_focus () {\n",
       "        canvas.focus();\n",
       "        canvas_div.focus();\n",
       "    }\n",
       "\n",
       "    window.setTimeout(set_focus, 100);\n",
       "}\n",
       "\n",
       "mpl.figure.prototype._init_toolbar = function() {\n",
       "    var fig = this;\n",
       "\n",
       "    var nav_element = $('<div/>')\n",
       "    nav_element.attr('style', 'width: 100%');\n",
       "    this.root.append(nav_element);\n",
       "\n",
       "    // Define a callback function for later on.\n",
       "    function toolbar_event(event) {\n",
       "        return fig.toolbar_button_onclick(event['data']);\n",
       "    }\n",
       "    function toolbar_mouse_event(event) {\n",
       "        return fig.toolbar_button_onmouseover(event['data']);\n",
       "    }\n",
       "\n",
       "    for(var toolbar_ind in mpl.toolbar_items) {\n",
       "        var name = mpl.toolbar_items[toolbar_ind][0];\n",
       "        var tooltip = mpl.toolbar_items[toolbar_ind][1];\n",
       "        var image = mpl.toolbar_items[toolbar_ind][2];\n",
       "        var method_name = mpl.toolbar_items[toolbar_ind][3];\n",
       "\n",
       "        if (!name) {\n",
       "            // put a spacer in here.\n",
       "            continue;\n",
       "        }\n",
       "        var button = $('<button/>');\n",
       "        button.addClass('ui-button ui-widget ui-state-default ui-corner-all ' +\n",
       "                        'ui-button-icon-only');\n",
       "        button.attr('role', 'button');\n",
       "        button.attr('aria-disabled', 'false');\n",
       "        button.click(method_name, toolbar_event);\n",
       "        button.mouseover(tooltip, toolbar_mouse_event);\n",
       "\n",
       "        var icon_img = $('<span/>');\n",
       "        icon_img.addClass('ui-button-icon-primary ui-icon');\n",
       "        icon_img.addClass(image);\n",
       "        icon_img.addClass('ui-corner-all');\n",
       "\n",
       "        var tooltip_span = $('<span/>');\n",
       "        tooltip_span.addClass('ui-button-text');\n",
       "        tooltip_span.html(tooltip);\n",
       "\n",
       "        button.append(icon_img);\n",
       "        button.append(tooltip_span);\n",
       "\n",
       "        nav_element.append(button);\n",
       "    }\n",
       "\n",
       "    var fmt_picker_span = $('<span/>');\n",
       "\n",
       "    var fmt_picker = $('<select/>');\n",
       "    fmt_picker.addClass('mpl-toolbar-option ui-widget ui-widget-content');\n",
       "    fmt_picker_span.append(fmt_picker);\n",
       "    nav_element.append(fmt_picker_span);\n",
       "    this.format_dropdown = fmt_picker[0];\n",
       "\n",
       "    for (var ind in mpl.extensions) {\n",
       "        var fmt = mpl.extensions[ind];\n",
       "        var option = $(\n",
       "            '<option/>', {selected: fmt === mpl.default_extension}).html(fmt);\n",
       "        fmt_picker.append(option)\n",
       "    }\n",
       "\n",
       "    // Add hover states to the ui-buttons\n",
       "    $( \".ui-button\" ).hover(\n",
       "        function() { $(this).addClass(\"ui-state-hover\");},\n",
       "        function() { $(this).removeClass(\"ui-state-hover\");}\n",
       "    );\n",
       "\n",
       "    var status_bar = $('<span class=\"mpl-message\"/>');\n",
       "    nav_element.append(status_bar);\n",
       "    this.message = status_bar[0];\n",
       "}\n",
       "\n",
       "mpl.figure.prototype.request_resize = function(x_pixels, y_pixels) {\n",
       "    // Request matplotlib to resize the figure. Matplotlib will then trigger a resize in the client,\n",
       "    // which will in turn request a refresh of the image.\n",
       "    this.send_message('resize', {'width': x_pixels, 'height': y_pixels});\n",
       "}\n",
       "\n",
       "mpl.figure.prototype.send_message = function(type, properties) {\n",
       "    properties['type'] = type;\n",
       "    properties['figure_id'] = this.id;\n",
       "    this.ws.send(JSON.stringify(properties));\n",
       "}\n",
       "\n",
       "mpl.figure.prototype.send_draw_message = function() {\n",
       "    if (!this.waiting) {\n",
       "        this.waiting = true;\n",
       "        this.ws.send(JSON.stringify({type: \"draw\", figure_id: this.id}));\n",
       "    }\n",
       "}\n",
       "\n",
       "\n",
       "mpl.figure.prototype.handle_save = function(fig, msg) {\n",
       "    var format_dropdown = fig.format_dropdown;\n",
       "    var format = format_dropdown.options[format_dropdown.selectedIndex].value;\n",
       "    fig.ondownload(fig, format);\n",
       "}\n",
       "\n",
       "\n",
       "mpl.figure.prototype.handle_resize = function(fig, msg) {\n",
       "    var size = msg['size'];\n",
       "    if (size[0] != fig.canvas.width || size[1] != fig.canvas.height) {\n",
       "        fig._resize_canvas(size[0], size[1]);\n",
       "        fig.send_message(\"refresh\", {});\n",
       "    };\n",
       "}\n",
       "\n",
       "mpl.figure.prototype.handle_rubberband = function(fig, msg) {\n",
       "    var x0 = msg['x0'];\n",
       "    var y0 = fig.canvas.height - msg['y0'];\n",
       "    var x1 = msg['x1'];\n",
       "    var y1 = fig.canvas.height - msg['y1'];\n",
       "    x0 = Math.floor(x0) + 0.5;\n",
       "    y0 = Math.floor(y0) + 0.5;\n",
       "    x1 = Math.floor(x1) + 0.5;\n",
       "    y1 = Math.floor(y1) + 0.5;\n",
       "    var min_x = Math.min(x0, x1);\n",
       "    var min_y = Math.min(y0, y1);\n",
       "    var width = Math.abs(x1 - x0);\n",
       "    var height = Math.abs(y1 - y0);\n",
       "\n",
       "    fig.rubberband_context.clearRect(\n",
       "        0, 0, fig.canvas.width, fig.canvas.height);\n",
       "\n",
       "    fig.rubberband_context.strokeRect(min_x, min_y, width, height);\n",
       "}\n",
       "\n",
       "mpl.figure.prototype.handle_figure_label = function(fig, msg) {\n",
       "    // Updates the figure title.\n",
       "    fig.header.textContent = msg['label'];\n",
       "}\n",
       "\n",
       "mpl.figure.prototype.handle_cursor = function(fig, msg) {\n",
       "    var cursor = msg['cursor'];\n",
       "    switch(cursor)\n",
       "    {\n",
       "    case 0:\n",
       "        cursor = 'pointer';\n",
       "        break;\n",
       "    case 1:\n",
       "        cursor = 'default';\n",
       "        break;\n",
       "    case 2:\n",
       "        cursor = 'crosshair';\n",
       "        break;\n",
       "    case 3:\n",
       "        cursor = 'move';\n",
       "        break;\n",
       "    }\n",
       "    fig.rubberband_canvas.style.cursor = cursor;\n",
       "}\n",
       "\n",
       "mpl.figure.prototype.handle_message = function(fig, msg) {\n",
       "    fig.message.textContent = msg['message'];\n",
       "}\n",
       "\n",
       "mpl.figure.prototype.handle_draw = function(fig, msg) {\n",
       "    // Request the server to send over a new figure.\n",
       "    fig.send_draw_message();\n",
       "}\n",
       "\n",
       "mpl.figure.prototype.handle_image_mode = function(fig, msg) {\n",
       "    fig.image_mode = msg['mode'];\n",
       "}\n",
       "\n",
       "mpl.figure.prototype.updated_canvas_event = function() {\n",
       "    // Called whenever the canvas gets updated.\n",
       "    this.send_message(\"ack\", {});\n",
       "}\n",
       "\n",
       "// A function to construct a web socket function for onmessage handling.\n",
       "// Called in the figure constructor.\n",
       "mpl.figure.prototype._make_on_message_function = function(fig) {\n",
       "    return function socket_on_message(evt) {\n",
       "        if (evt.data instanceof Blob) {\n",
       "            /* FIXME: We get \"Resource interpreted as Image but\n",
       "             * transferred with MIME type text/plain:\" errors on\n",
       "             * Chrome.  But how to set the MIME type?  It doesn't seem\n",
       "             * to be part of the websocket stream */\n",
       "            evt.data.type = \"image/png\";\n",
       "\n",
       "            /* Free the memory for the previous frames */\n",
       "            if (fig.imageObj.src) {\n",
       "                (window.URL || window.webkitURL).revokeObjectURL(\n",
       "                    fig.imageObj.src);\n",
       "            }\n",
       "\n",
       "            fig.imageObj.src = (window.URL || window.webkitURL).createObjectURL(\n",
       "                evt.data);\n",
       "            fig.updated_canvas_event();\n",
       "            fig.waiting = false;\n",
       "            return;\n",
       "        }\n",
       "        else if (typeof evt.data === 'string' && evt.data.slice(0, 21) == \"data:image/png;base64\") {\n",
       "            fig.imageObj.src = evt.data;\n",
       "            fig.updated_canvas_event();\n",
       "            fig.waiting = false;\n",
       "            return;\n",
       "        }\n",
       "\n",
       "        var msg = JSON.parse(evt.data);\n",
       "        var msg_type = msg['type'];\n",
       "\n",
       "        // Call the  \"handle_{type}\" callback, which takes\n",
       "        // the figure and JSON message as its only arguments.\n",
       "        try {\n",
       "            var callback = fig[\"handle_\" + msg_type];\n",
       "        } catch (e) {\n",
       "            console.log(\"No handler for the '\" + msg_type + \"' message type: \", msg);\n",
       "            return;\n",
       "        }\n",
       "\n",
       "        if (callback) {\n",
       "            try {\n",
       "                // console.log(\"Handling '\" + msg_type + \"' message: \", msg);\n",
       "                callback(fig, msg);\n",
       "            } catch (e) {\n",
       "                console.log(\"Exception inside the 'handler_\" + msg_type + \"' callback:\", e, e.stack, msg);\n",
       "            }\n",
       "        }\n",
       "    };\n",
       "}\n",
       "\n",
       "// from http://stackoverflow.com/questions/1114465/getting-mouse-location-in-canvas\n",
       "mpl.findpos = function(e) {\n",
       "    //this section is from http://www.quirksmode.org/js/events_properties.html\n",
       "    var targ;\n",
       "    if (!e)\n",
       "        e = window.event;\n",
       "    if (e.target)\n",
       "        targ = e.target;\n",
       "    else if (e.srcElement)\n",
       "        targ = e.srcElement;\n",
       "    if (targ.nodeType == 3) // defeat Safari bug\n",
       "        targ = targ.parentNode;\n",
       "\n",
       "    // jQuery normalizes the pageX and pageY\n",
       "    // pageX,Y are the mouse positions relative to the document\n",
       "    // offset() returns the position of the element relative to the document\n",
       "    var x = e.pageX - $(targ).offset().left;\n",
       "    var y = e.pageY - $(targ).offset().top;\n",
       "\n",
       "    return {\"x\": x, \"y\": y};\n",
       "};\n",
       "\n",
       "/*\n",
       " * return a copy of an object with only non-object keys\n",
       " * we need this to avoid circular references\n",
       " * http://stackoverflow.com/a/24161582/3208463\n",
       " */\n",
       "function simpleKeys (original) {\n",
       "  return Object.keys(original).reduce(function (obj, key) {\n",
       "    if (typeof original[key] !== 'object')\n",
       "        obj[key] = original[key]\n",
       "    return obj;\n",
       "  }, {});\n",
       "}\n",
       "\n",
       "mpl.figure.prototype.mouse_event = function(event, name) {\n",
       "    var canvas_pos = mpl.findpos(event)\n",
       "\n",
       "    if (name === 'button_press')\n",
       "    {\n",
       "        this.canvas.focus();\n",
       "        this.canvas_div.focus();\n",
       "    }\n",
       "\n",
       "    var x = canvas_pos.x;\n",
       "    var y = canvas_pos.y;\n",
       "\n",
       "    this.send_message(name, {x: x, y: y, button: event.button,\n",
       "                             step: event.step,\n",
       "                             guiEvent: simpleKeys(event)});\n",
       "\n",
       "    /* This prevents the web browser from automatically changing to\n",
       "     * the text insertion cursor when the button is pressed.  We want\n",
       "     * to control all of the cursor setting manually through the\n",
       "     * 'cursor' event from matplotlib */\n",
       "    event.preventDefault();\n",
       "    return false;\n",
       "}\n",
       "\n",
       "mpl.figure.prototype._key_event_extra = function(event, name) {\n",
       "    // Handle any extra behaviour associated with a key event\n",
       "}\n",
       "\n",
       "mpl.figure.prototype.key_event = function(event, name) {\n",
       "\n",
       "    // Prevent repeat events\n",
       "    if (name == 'key_press')\n",
       "    {\n",
       "        if (event.which === this._key)\n",
       "            return;\n",
       "        else\n",
       "            this._key = event.which;\n",
       "    }\n",
       "    if (name == 'key_release')\n",
       "        this._key = null;\n",
       "\n",
       "    var value = '';\n",
       "    if (event.ctrlKey && event.which != 17)\n",
       "        value += \"ctrl+\";\n",
       "    if (event.altKey && event.which != 18)\n",
       "        value += \"alt+\";\n",
       "    if (event.shiftKey && event.which != 16)\n",
       "        value += \"shift+\";\n",
       "\n",
       "    value += 'k';\n",
       "    value += event.which.toString();\n",
       "\n",
       "    this._key_event_extra(event, name);\n",
       "\n",
       "    this.send_message(name, {key: value,\n",
       "                             guiEvent: simpleKeys(event)});\n",
       "    return false;\n",
       "}\n",
       "\n",
       "mpl.figure.prototype.toolbar_button_onclick = function(name) {\n",
       "    if (name == 'download') {\n",
       "        this.handle_save(this, null);\n",
       "    } else {\n",
       "        this.send_message(\"toolbar_button\", {name: name});\n",
       "    }\n",
       "};\n",
       "\n",
       "mpl.figure.prototype.toolbar_button_onmouseover = function(tooltip) {\n",
       "    this.message.textContent = tooltip;\n",
       "};\n",
       "mpl.toolbar_items = [[\"Home\", \"Reset original view\", \"fa fa-home icon-home\", \"home\"], [\"Back\", \"Back to  previous view\", \"fa fa-arrow-left icon-arrow-left\", \"back\"], [\"Forward\", \"Forward to next view\", \"fa fa-arrow-right icon-arrow-right\", \"forward\"], [\"\", \"\", \"\", \"\"], [\"Pan\", \"Pan axes with left mouse, zoom with right\", \"fa fa-arrows icon-move\", \"pan\"], [\"Zoom\", \"Zoom to rectangle\", \"fa fa-square-o icon-check-empty\", \"zoom\"], [\"\", \"\", \"\", \"\"], [\"Download\", \"Download plot\", \"fa fa-floppy-o icon-save\", \"download\"]];\n",
       "\n",
       "mpl.extensions = [\"eps\", \"jpeg\", \"pdf\", \"png\", \"ps\", \"raw\", \"svg\", \"tif\"];\n",
       "\n",
       "mpl.default_extension = \"png\";var comm_websocket_adapter = function(comm) {\n",
       "    // Create a \"websocket\"-like object which calls the given IPython comm\n",
       "    // object with the appropriate methods. Currently this is a non binary\n",
       "    // socket, so there is still some room for performance tuning.\n",
       "    var ws = {};\n",
       "\n",
       "    ws.close = function() {\n",
       "        comm.close()\n",
       "    };\n",
       "    ws.send = function(m) {\n",
       "        //console.log('sending', m);\n",
       "        comm.send(m);\n",
       "    };\n",
       "    // Register the callback with on_msg.\n",
       "    comm.on_msg(function(msg) {\n",
       "        //console.log('receiving', msg['content']['data'], msg);\n",
       "        // Pass the mpl event to the overriden (by mpl) onmessage function.\n",
       "        ws.onmessage(msg['content']['data'])\n",
       "    });\n",
       "    return ws;\n",
       "}\n",
       "\n",
       "mpl.mpl_figure_comm = function(comm, msg) {\n",
       "    // This is the function which gets called when the mpl process\n",
       "    // starts-up an IPython Comm through the \"matplotlib\" channel.\n",
       "\n",
       "    var id = msg.content.data.id;\n",
       "    // Get hold of the div created by the display call when the Comm\n",
       "    // socket was opened in Python.\n",
       "    var element = $(\"#\" + id);\n",
       "    var ws_proxy = comm_websocket_adapter(comm)\n",
       "\n",
       "    function ondownload(figure, format) {\n",
       "        window.open(figure.imageObj.src);\n",
       "    }\n",
       "\n",
       "    var fig = new mpl.figure(id, ws_proxy,\n",
       "                           ondownload,\n",
       "                           element.get(0));\n",
       "\n",
       "    // Call onopen now - mpl needs it, as it is assuming we've passed it a real\n",
       "    // web socket which is closed, not our websocket->open comm proxy.\n",
       "    ws_proxy.onopen();\n",
       "\n",
       "    fig.parent_element = element.get(0);\n",
       "    fig.cell_info = mpl.find_output_cell(\"<div id='\" + id + \"'></div>\");\n",
       "    if (!fig.cell_info) {\n",
       "        console.error(\"Failed to find cell for figure\", id, fig);\n",
       "        return;\n",
       "    }\n",
       "\n",
       "    var output_index = fig.cell_info[2]\n",
       "    var cell = fig.cell_info[0];\n",
       "\n",
       "};\n",
       "\n",
       "mpl.figure.prototype.handle_close = function(fig, msg) {\n",
       "    fig.root.unbind('remove')\n",
       "\n",
       "    // Update the output cell to use the data from the current canvas.\n",
       "    fig.push_to_output();\n",
       "    var dataURL = fig.canvas.toDataURL();\n",
       "    // Re-enable the keyboard manager in IPython - without this line, in FF,\n",
       "    // the notebook keyboard shortcuts fail.\n",
       "    IPython.keyboard_manager.enable()\n",
       "    $(fig.parent_element).html('<img src=\"' + dataURL + '\">');\n",
       "    fig.close_ws(fig, msg);\n",
       "}\n",
       "\n",
       "mpl.figure.prototype.close_ws = function(fig, msg){\n",
       "    fig.send_message('closing', msg);\n",
       "    // fig.ws.close()\n",
       "}\n",
       "\n",
       "mpl.figure.prototype.push_to_output = function(remove_interactive) {\n",
       "    // Turn the data on the canvas into data in the output cell.\n",
       "    var dataURL = this.canvas.toDataURL();\n",
       "    this.cell_info[1]['text/html'] = '<img src=\"' + dataURL + '\">';\n",
       "}\n",
       "\n",
       "mpl.figure.prototype.updated_canvas_event = function() {\n",
       "    // Tell IPython that the notebook contents must change.\n",
       "    IPython.notebook.set_dirty(true);\n",
       "    this.send_message(\"ack\", {});\n",
       "    var fig = this;\n",
       "    // Wait a second, then push the new image to the DOM so\n",
       "    // that it is saved nicely (might be nice to debounce this).\n",
       "    setTimeout(function () { fig.push_to_output() }, 1000);\n",
       "}\n",
       "\n",
       "mpl.figure.prototype._init_toolbar = function() {\n",
       "    var fig = this;\n",
       "\n",
       "    var nav_element = $('<div/>')\n",
       "    nav_element.attr('style', 'width: 100%');\n",
       "    this.root.append(nav_element);\n",
       "\n",
       "    // Define a callback function for later on.\n",
       "    function toolbar_event(event) {\n",
       "        return fig.toolbar_button_onclick(event['data']);\n",
       "    }\n",
       "    function toolbar_mouse_event(event) {\n",
       "        return fig.toolbar_button_onmouseover(event['data']);\n",
       "    }\n",
       "\n",
       "    for(var toolbar_ind in mpl.toolbar_items){\n",
       "        var name = mpl.toolbar_items[toolbar_ind][0];\n",
       "        var tooltip = mpl.toolbar_items[toolbar_ind][1];\n",
       "        var image = mpl.toolbar_items[toolbar_ind][2];\n",
       "        var method_name = mpl.toolbar_items[toolbar_ind][3];\n",
       "\n",
       "        if (!name) { continue; };\n",
       "\n",
       "        var button = $('<button class=\"btn btn-default\" href=\"#\" title=\"' + name + '\"><i class=\"fa ' + image + ' fa-lg\"></i></button>');\n",
       "        button.click(method_name, toolbar_event);\n",
       "        button.mouseover(tooltip, toolbar_mouse_event);\n",
       "        nav_element.append(button);\n",
       "    }\n",
       "\n",
       "    // Add the status bar.\n",
       "    var status_bar = $('<span class=\"mpl-message\" style=\"text-align:right; float: right;\"/>');\n",
       "    nav_element.append(status_bar);\n",
       "    this.message = status_bar[0];\n",
       "\n",
       "    // Add the close button to the window.\n",
       "    var buttongrp = $('<div class=\"btn-group inline pull-right\"></div>');\n",
       "    var button = $('<button class=\"btn btn-mini btn-primary\" href=\"#\" title=\"Stop Interaction\"><i class=\"fa fa-power-off icon-remove icon-large\"></i></button>');\n",
       "    button.click(function (evt) { fig.handle_close(fig, {}); } );\n",
       "    button.mouseover('Stop Interaction', toolbar_mouse_event);\n",
       "    buttongrp.append(button);\n",
       "    var titlebar = this.root.find($('.ui-dialog-titlebar'));\n",
       "    titlebar.prepend(buttongrp);\n",
       "}\n",
       "\n",
       "mpl.figure.prototype._root_extra_style = function(el){\n",
       "    var fig = this\n",
       "    el.on(\"remove\", function(){\n",
       "\tfig.close_ws(fig, {});\n",
       "    });\n",
       "}\n",
       "\n",
       "mpl.figure.prototype._canvas_extra_style = function(el){\n",
       "    // this is important to make the div 'focusable\n",
       "    el.attr('tabindex', 0)\n",
       "    // reach out to IPython and tell the keyboard manager to turn it's self\n",
       "    // off when our div gets focus\n",
       "\n",
       "    // location in version 3\n",
       "    if (IPython.notebook.keyboard_manager) {\n",
       "        IPython.notebook.keyboard_manager.register_events(el);\n",
       "    }\n",
       "    else {\n",
       "        // location in version 2\n",
       "        IPython.keyboard_manager.register_events(el);\n",
       "    }\n",
       "\n",
       "}\n",
       "\n",
       "mpl.figure.prototype._key_event_extra = function(event, name) {\n",
       "    var manager = IPython.notebook.keyboard_manager;\n",
       "    if (!manager)\n",
       "        manager = IPython.keyboard_manager;\n",
       "\n",
       "    // Check for shift+enter\n",
       "    if (event.shiftKey && event.which == 13) {\n",
       "        this.canvas_div.blur();\n",
       "        event.shiftKey = false;\n",
       "        // Send a \"J\" for go to next cell\n",
       "        event.which = 74;\n",
       "        event.keyCode = 74;\n",
       "        manager.command_mode();\n",
       "        manager.handle_keydown(event);\n",
       "    }\n",
       "}\n",
       "\n",
       "mpl.figure.prototype.handle_save = function(fig, msg) {\n",
       "    fig.ondownload(fig, null);\n",
       "}\n",
       "\n",
       "\n",
       "mpl.find_output_cell = function(html_output) {\n",
       "    // Return the cell and output element which can be found *uniquely* in the notebook.\n",
       "    // Note - this is a bit hacky, but it is done because the \"notebook_saving.Notebook\"\n",
       "    // IPython event is triggered only after the cells have been serialised, which for\n",
       "    // our purposes (turning an active figure into a static one), is too late.\n",
       "    var cells = IPython.notebook.get_cells();\n",
       "    var ncells = cells.length;\n",
       "    for (var i=0; i<ncells; i++) {\n",
       "        var cell = cells[i];\n",
       "        if (cell.cell_type === 'code'){\n",
       "            for (var j=0; j<cell.output_area.outputs.length; j++) {\n",
       "                var data = cell.output_area.outputs[j];\n",
       "                if (data.data) {\n",
       "                    // IPython >= 3 moved mimebundle to data attribute of output\n",
       "                    data = data.data;\n",
       "                }\n",
       "                if (data['text/html'] == html_output) {\n",
       "                    return [cell, data, j];\n",
       "                }\n",
       "            }\n",
       "        }\n",
       "    }\n",
       "}\n",
       "\n",
       "// Register the function which deals with the matplotlib target/channel.\n",
       "// The kernel may be null if the page has been refreshed.\n",
       "if (IPython.notebook.kernel != null) {\n",
       "    IPython.notebook.kernel.comm_manager.register_target('matplotlib', mpl.mpl_figure_comm);\n",
       "}\n"
      ],
      "text/plain": [
       "<IPython.core.display.Javascript object>"
      ]
     },
     "metadata": {},
     "output_type": "display_data"
    },
    {
     "data": {
      "text/html": [
       "<img src=\"data:image/png;base64,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\">"
      ],
      "text/plain": [
       "<IPython.core.display.HTML object>"
      ]
     },
     "metadata": {},
     "output_type": "display_data"
    }
   ],
   "source": [
    "word_string = \"\"\"\n",
    "A dog is man's best friend.\" That common saying may contain some truth, but dogs are not the only animal friend whose companionship people enjoy. For many people, a cat is their best friend. Despite what dog lovers may believe, cats make excellent housepets as they are good companions, they are civilized members of the household, and they are easy to care for\n",
    "Unlike dogs, cats do not bark or make other loud noises. Most cats don't even meow very often. They generally lead a quiet existence. Cats also don't often have \"accidents.\" Mother cats train their kittens to use the litter box, and most cats will use it without fail from that time on. Even stray cats usually understand the concept when shown the box and will use it regularly. Cats do have claws, and owners must make provision for this. A tall scratching post in a favorite cat area of the house will often keep the cat content to leave the furniture alone. As a last resort, of course, cats can be declawed.\n",
    "\"\"\"\n",
    "from wordcloud import WordCloud, STOPWORDS\n",
    "import matplotlib.pyplot as plt\n",
    "\n",
    "#Convert all the required text into a single string here \n",
    "#and store them in word_string\n",
    "\n",
    "#you can specify fonts, stopwords, background color and other options\n",
    "\n",
    "wordcloud = WordCloud( stopwords=STOPWORDS,\n",
    "                          background_color='white',\n",
    "                          width=1200,\n",
    "                          height=1000\n",
    "                         ).generate(word_string)\n",
    "\n",
    "plt.figure(2)\n",
    "plt.imshow(wordcloud)\n",
    "plt.axis('off')\n",
    "plt.show()"
   ]
  },
  {
   "cell_type": "markdown",
   "metadata": {
    "collapsed": true
   },
   "source": [
    "# 2.7 函数式编程"
   ]
  },
  {
   "cell_type": "markdown",
   "metadata": {},
   "source": [
    "### lambda 函数简写"
   ]
  },
  {
   "cell_type": "code",
   "execution_count": 123,
   "metadata": {
    "collapsed": true
   },
   "outputs": [],
   "source": [
    "func1 = lambda x : x % 2\n",
    "### 等效于\n",
    "def func2(x):\n",
    "    return x % 2"
   ]
  },
  {
   "cell_type": "code",
   "execution_count": 126,
   "metadata": {
    "collapsed": false
   },
   "outputs": [
    {
     "data": {
      "text/plain": [
       "0"
      ]
     },
     "execution_count": 126,
     "metadata": {},
     "output_type": "execute_result"
    }
   ],
   "source": [
    "func1(10)"
   ]
  },
  {
   "cell_type": "markdown",
   "metadata": {},
   "source": [
    "### 基本函数：map()、reduce()、filter()"
   ]
  },
  {
   "cell_type": "markdown",
   "metadata": {},
   "source": [
    "#### map(func, iterator)\n",
    "\n",
    "map()实现的功能很简单，就是将第二个参数（iterable）中的每一个元素分别传给第一个参数（func），依次执行函数得到结果，并将结果组成一个新的list对象后进行返回。返回结果永远都是一个list。\n",
    "\n",
    "在传入多个可迭代对象的情况下，map()会依次从所有可迭代对象中依次取一个元素，组成一个元组列表，然后将元组依次传给func；若可迭代对象的长度不一致，则会以None进行补上。"
   ]
  },
  {
   "cell_type": "code",
   "execution_count": 127,
   "metadata": {
    "collapsed": false
   },
   "outputs": [
    {
     "data": {
      "text/plain": [
       "['Hello Tom', 'Hello Jon', 'Hello Aria']"
      ]
     },
     "execution_count": 127,
     "metadata": {},
     "output_type": "execute_result"
    }
   ],
   "source": [
    "def addhellotoleft(inputstring):\n",
    "    return 'Hello ' + inputstring\n",
    "\n",
    "map(addhellotoleft, ['Tom', 'Jon', 'Aria'])"
   ]
  },
  {
   "cell_type": "code",
   "execution_count": 128,
   "metadata": {
    "collapsed": false
   },
   "outputs": [
    {
     "data": {
      "text/plain": [
       "[7, 9, 11]"
      ]
     },
     "execution_count": 128,
     "metadata": {},
     "output_type": "execute_result"
    }
   ],
   "source": [
    "def substract(x, y):\n",
    "    return x-y\n",
    "\n",
    "map(substract, [10,11,12], [3,2,1])"
   ]
  },
  {
   "cell_type": "markdown",
   "metadata": {},
   "source": [
    "#### 课外学习，利用Pool.map并行计算\n",
    "\n",
    "Testfactorial.py，如何比math模块计算阶乘更快\n",
    "\n",
    "https://github.com/alexluliu/python101/tree/master/1/testfactorial.py"
   ]
  },
  {
   "cell_type": "markdown",
   "metadata": {},
   "source": [
    "#### Reduce\n",
    "reduce()函数的功能是对可迭代对象（iterable）中的元素从左到右进行累计运算，最终得到一个数值。第三个参数initializer是初始数值，可以空置，空置为None时就从可迭代对象（iterable）的第二个元素开始，并将第一个元素作为之前的结果。"
   ]
  },
  {
   "cell_type": "code",
   "execution_count": 129,
   "metadata": {
    "collapsed": false
   },
   "outputs": [
    {
     "data": {
      "text/plain": [
       "64"
      ]
     },
     "execution_count": 129,
     "metadata": {},
     "output_type": "execute_result"
    }
   ],
   "source": [
    "def add(x, y):\n",
    "    return x+y\n",
    "\n",
    "reduce(add, [10,11,12, 10,21])"
   ]
  },
  {
   "cell_type": "markdown",
   "metadata": {},
   "source": [
    "#### filter\n",
    "filter()函数的调用形式如下：\n",
    "1\n",
    "filter(func, iterable)\n",
    "filter()有且仅有两个参数，第一个参数是一个函数名，第二个参数是一个可迭代的对象，如列表、元组等。"
   ]
  },
  {
   "cell_type": "code",
   "execution_count": 130,
   "metadata": {
    "collapsed": true
   },
   "outputs": [],
   "source": [
    "mode2 = lambda x : x % 2"
   ]
  },
  {
   "cell_type": "code",
   "execution_count": 131,
   "metadata": {
    "collapsed": false
   },
   "outputs": [
    {
     "data": {
      "text/plain": [
       "[1, 3, 5, 7, 9]"
      ]
     },
     "execution_count": 131,
     "metadata": {},
     "output_type": "execute_result"
    }
   ],
   "source": [
    "filter(mode2, [1,2,3,4,5,6,7,8,9,10])"
   ]
  },
  {
   "cell_type": "code",
   "execution_count": null,
   "metadata": {
    "collapsed": true
   },
   "outputs": [],
   "source": []
  }
 ],
 "metadata": {
  "kernelspec": {
   "display_name": "Python 2",
   "language": "python",
   "name": "python2"
  },
  "language_info": {
   "codemirror_mode": {
    "name": "ipython",
    "version": 2
   },
   "file_extension": ".py",
   "mimetype": "text/x-python",
   "name": "python",
   "nbconvert_exporter": "python",
   "pygments_lexer": "ipython2",
   "version": "2.7.13"
  }
 },
 "nbformat": 4,
 "nbformat_minor": 2
}
